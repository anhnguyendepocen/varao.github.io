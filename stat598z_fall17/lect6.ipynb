{
 "cells": [
  {
   "cell_type": "markdown",
   "metadata": {
    "slideshow": {
     "slide_type": "slide"
    }
   },
   "source": [
    "## Lecture 6 and 7: Functions in R\n",
    "\n",
    "### STAT598z: Intro. to computing for statistics\n",
    "\n",
    "\n",
    "***\n",
    "\n",
    "\n",
    "\n",
    "\n",
    "### Vinayak Rao\n",
    "\n",
    "#### Department of Statistics, Purdue University"
   ]
  },
  {
   "cell_type": "code",
   "execution_count": null,
   "metadata": {
    "collapsed": true,
    "slideshow": {
     "slide_type": "skip"
    }
   },
   "outputs": [],
   "source": [
    "options(repr.plot.width=3, repr.plot.height=3)"
   ]
  },
  {
   "cell_type": "markdown",
   "metadata": {
    "slideshow": {
     "slide_type": "slide"
    }
   },
   "source": [
    "## Why functions?\n",
    "R comes with its own suite of built-in functions\n",
    "\n",
    "+ An important part of learning R is learning the vocabulary,\n",
    "e.g. http://adv-r.had.co.nz/Vocabulary.html\n",
    "\n",
    "Non-trivial applications require you build your own functions"
   ]
  },
  {
   "cell_type": "markdown",
   "metadata": {
    "slideshow": {
     "slide_type": "fragment"
    }
   },
   "source": [
    "+ Reuse the same set of commands\n",
    "+ Apply the same commands to different inputs\n",
    "+ Cleaner, more modular code\n",
    "+ Easier testing/debugging"
   ]
  },
  {
   "cell_type": "markdown",
   "metadata": {
    "slideshow": {
     "slide_type": "slide"
    }
   },
   "source": [
    "## Creating functions\n",
    "Create functions using function :\n",
    "``` R\n",
    "my_func <- function( formal_arguments ) body\n",
    "```\n",
    "\n",
    "The above statement creates a function called `my_func`\n",
    "\n",
    "**formal_arguments**: \n",
    " comma separated names\n",
    "+ describe inputs `my_func` expects\n",
    " \n",
    "**function_body**:\n",
    " a statement or a block\n",
    "+ describes what `my_func` does with inputs\n"
   ]
  },
  {
   "cell_type": "markdown",
   "metadata": {
    "slideshow": {
     "slide_type": "slide"
    }
   },
   "source": [
    "### An example function"
   ]
  },
  {
   "cell_type": "code",
   "execution_count": null,
   "metadata": {
    "collapsed": true,
    "slideshow": {
     "slide_type": "-"
    }
   },
   "outputs": [],
   "source": [
    "normalize_mtrx <- function( ip_mat, row ) {\n",
    "# Normalizes rows to add up to one if row = TRUE\n",
    "# Else normalizes columns\n",
    "  if(row) { # We want the rows to add up to one\n",
    "    rslt <- ip_mat / rowSums(ip_mat)\n",
    "  } else { # We want the columns to add up to one\n",
    "    rslt <- t( t(ip_mat) / colSums(ip_mat))\n",
    "  }\n",
    "  return(rslt) # Works even without this\n",
    "} "
   ]
  },
  {
   "cell_type": "code",
   "execution_count": null,
   "metadata": {
    "collapsed": true,
    "slideshow": {
     "slide_type": "subslide"
    }
   },
   "outputs": [],
   "source": [
    "mtrx <- matrix(runif(9), nrow=3); mtrx"
   ]
  },
  {
   "cell_type": "code",
   "execution_count": null,
   "metadata": {
    "collapsed": true,
    "slideshow": {
     "slide_type": "fragment"
    }
   },
   "outputs": [],
   "source": [
    "n_mtrx <- normalize_mtrx(row = TRUE, ip_mat = mtrx); n_mtrx"
   ]
  },
  {
   "cell_type": "code",
   "execution_count": null,
   "metadata": {
    "collapsed": true,
    "slideshow": {
     "slide_type": "fragment"
    }
   },
   "outputs": [],
   "source": [
    "n_mtrx <- normalize_mtrx(TRUE, mtrx) "
   ]
  },
  {
   "cell_type": "code",
   "execution_count": null,
   "metadata": {
    "collapsed": true,
    "slideshow": {
     "slide_type": "fragment"
    }
   },
   "outputs": [],
   "source": [
    "n_mtrx <- normalize_mtrx(TRUE, ip = mtrx) # Partial matching"
   ]
  },
  {
   "cell_type": "markdown",
   "metadata": {
    "slideshow": {
     "slide_type": "subslide"
    }
   },
   "source": [
    "`normalize_mtrx` is an object:"
   ]
  },
  {
   "cell_type": "code",
   "execution_count": null,
   "metadata": {
    "collapsed": false
   },
   "outputs": [],
   "source": [
    "typeof(normalize_mtrx)"
   ]
  },
  {
   "cell_type": "code",
   "execution_count": null,
   "metadata": {
    "collapsed": false
   },
   "outputs": [],
   "source": [
    "class(normalize_mtrx)"
   ]
  },
  {
   "cell_type": "code",
   "execution_count": null,
   "metadata": {
    "collapsed": false
   },
   "outputs": [],
   "source": [
    "str(normalize_mtrx)"
   ]
  },
  {
   "cell_type": "markdown",
   "metadata": {},
   "source": [
    "Expects a matrix and boolean input, and returns a matrix"
   ]
  },
  {
   "cell_type": "markdown",
   "metadata": {
    "collapsed": true,
    "slideshow": {
     "slide_type": "subslide"
    }
   },
   "source": [
    "A function can accept/return any object:\n",
    "+ this includes other functions\n",
    "+ multiple return values can be organized into vectors/lists/dataframes"
   ]
  },
  {
   "cell_type": "markdown",
   "metadata": {
    "slideshow": {
     "slide_type": "subslide"
    }
   },
   "source": [
    "Can add some defaults and checks"
   ]
  },
  {
   "cell_type": "code",
   "execution_count": null,
   "metadata": {
    "collapsed": false
   },
   "outputs": [],
   "source": [
    "normalize_mtrx <- function( ip_mat, row = TRUE ) {\n",
    "  # Normalizes columns to add up to one if row = FALSE\n",
    "  # If row = TRUE or row not specified, normalizes columns\n",
    "  if(!is.matrix(ip_mat)) {\n",
    "    warning(\"Expecting a matrix as input\");\n",
    "    return(NULL)\n",
    "  }\n",
    "  # You can define objects inside a function\n",
    "  # You can even define other functions\n",
    "  rslt <- if(row) ip_mat / rowSums(ip_mat) else\n",
    "            t( t(ip_mat) / colSums(ip_mat))\n",
    "}"
   ]
  },
  {
   "cell_type": "code",
   "execution_count": null,
   "metadata": {
    "collapsed": true
   },
   "outputs": [],
   "source": [
    "n_mtrx <- normalize_mtrx(mtrx)"
   ]
  },
  {
   "cell_type": "code",
   "execution_count": null,
   "metadata": {
    "collapsed": false,
    "slideshow": {
     "slide_type": "subslide"
    }
   },
   "outputs": [],
   "source": [
    "abc <- 2; xyz <- 3; my_add(abc,xyz)"
   ]
  },
  {
   "cell_type": "code",
   "execution_count": null,
   "metadata": {
    "collapsed": true,
    "slideshow": {
     "slide_type": "-"
    }
   },
   "outputs": [],
   "source": [
    "my_add <- function(x,y) {return(x+y)}"
   ]
  },
  {
   "cell_type": "code",
   "execution_count": null,
   "metadata": {
    "collapsed": true,
    "slideshow": {
     "slide_type": "fragment"
    }
   },
   "outputs": [],
   "source": [
    "my_mul <- function(x,y) x*y"
   ]
  },
  {
   "cell_type": "code",
   "execution_count": null,
   "metadata": {
    "collapsed": true,
    "slideshow": {
     "slide_type": "fragment"
    }
   },
   "outputs": [],
   "source": [
    "my_gen <- function(ip_fun, x) function(z) ip_fun(x,z)"
   ]
  },
  {
   "cell_type": "code",
   "execution_count": null,
   "metadata": {
    "collapsed": true,
    "slideshow": {
     "slide_type": "fragment"
    }
   },
   "outputs": [],
   "source": [
    "inc3 <- my_gen(my_add,3)"
   ]
  },
  {
   "cell_type": "code",
   "execution_count": null,
   "metadata": {
    "collapsed": true,
    "slideshow": {
     "slide_type": "fragment"
    }
   },
   "outputs": [],
   "source": [
    "inc3(5)"
   ]
  },
  {
   "cell_type": "markdown",
   "metadata": {
    "slideshow": {
     "slide_type": "slide"
    }
   },
   "source": [
    "## Argument matching\n",
    "Proceeds by a three-pass process\n",
    "+ Exact matching on tags\n",
    "+ Partial matching on tags: multiple matches gives error\n",
    "+ Positional matching\n",
    "\n",
    "Any remaining unmatched arguments triggers an error"
   ]
  },
  {
   "cell_type": "code",
   "execution_count": null,
   "metadata": {
    "collapsed": false,
    "slideshow": {
     "slide_type": "-"
    }
   },
   "outputs": [],
   "source": [
    "mean(,TRUE,x=c(1:10,NA)) # From Advanced R, Hadley Wickham"
   ]
  },
  {
   "cell_type": "markdown",
   "metadata": {
    "slideshow": {
     "slide_type": "slide"
    }
   },
   "source": [
    " ## Arguments via ‘...’\n",
    "‘...’ allows any number of arguments\n",
    "\n",
    "Useful when passing arguments to other functions:\n",
    "\n",
    "``` R\n",
    " pick_func <- function (two_arg, ...) {\n",
    "   # Function w/ 2 arguments\n",
    "   if(two_arg) two_arg_fun(...) else  \n",
    "   # Function w/ 3 arguments\n",
    "     three_arg_fun(...)          \n",
    " }\n",
    " ```"
   ]
  },
  {
   "cell_type": "markdown",
   "metadata": {
    "slideshow": {
     "slide_type": "subslide"
    }
   },
   "source": [
    "Example: Recursive addition via functional programming"
   ]
  },
  {
   "cell_type": "code",
   "execution_count": null,
   "metadata": {
    "collapsed": true
   },
   "outputs": [],
   "source": [
    "recurse_sum <- function(x = TRUE, ...) # Cute but inefficient\n",
    "                   if(isTRUE(x)) 0 else x + recurse_sum(...)"
   ]
  },
  {
   "cell_type": "code",
   "execution_count": null,
   "metadata": {
    "collapsed": false,
    "slideshow": {
     "slide_type": "fragment"
    }
   },
   "outputs": [],
   "source": [
    "recurse_sum(1,2,3,5,6,7) # Don’t include TRUE in the input!"
   ]
  },
  {
   "cell_type": "markdown",
   "metadata": {
    "slideshow": {
     "slide_type": "-"
    }
   },
   "source": [
    "Note the use of isTRUE() above"
   ]
  },
  {
   "cell_type": "markdown",
   "metadata": {
    "slideshow": {
     "slide_type": "slide"
    }
   },
   "source": [
    "## Scoping rules\n",
    "\n",
    "We saw a function `recurse_sum()` that called itself\n",
    "\n",
    "This raises a few questions:\n",
    "+ what objects are visible to a function?\n",
    "+ what happens when a function makes assignments?"
   ]
  },
  {
   "cell_type": "markdown",
   "metadata": {
    "collapsed": true,
    "slideshow": {
     "slide_type": "fragment"
    }
   },
   "source": [
    "R decides this by following a set of scoping rules\n",
    "\n",
    "R follows what is called *lexical scoping*"
   ]
  },
  {
   "cell_type": "markdown",
   "metadata": {
    "slideshow": {
     "slide_type": "subslide"
    }
   },
   "source": [
    "Function objects have attributes\n",
    "\n",
    "+ **formals**: its arguments\n",
    "+ **body**: its code\n",
    "+ **environment**: what objects exist"
   ]
  },
  {
   "cell_type": "code",
   "execution_count": null,
   "metadata": {
    "collapsed": true,
    "slideshow": {
     "slide_type": "fragment"
    }
   },
   "outputs": [],
   "source": [
    "body(recurse_sum)"
   ]
  },
  {
   "cell_type": "code",
   "execution_count": null,
   "metadata": {
    "collapsed": true,
    "slideshow": {
     "slide_type": "fragment"
    }
   },
   "outputs": [],
   "source": [
    "formals(recurse_sum)"
   ]
  },
  {
   "cell_type": "code",
   "execution_count": null,
   "metadata": {
    "collapsed": true,
    "slideshow": {
     "slide_type": "fragment"
    }
   },
   "outputs": [],
   "source": [
    "environment(recurse_sum)"
   ]
  },
  {
   "cell_type": "markdown",
   "metadata": {
    "collapsed": true,
    "slideshow": {
     "slide_type": "fragment"
    }
   },
   "source": [
    "`environment`: data-structure that binds names to values\n",
    "\n",
    "Determines scoping rules in R"
   ]
  },
  {
   "cell_type": "markdown",
   "metadata": {
    "slideshow": {
     "slide_type": "subslide"
    }
   },
   "source": [
    "### Environments in R\n",
    "An environment is a kind of named list of symbol-value pairs"
   ]
  },
  {
   "cell_type": "code",
   "execution_count": null,
   "metadata": {
    "collapsed": true
   },
   "outputs": [],
   "source": [
    "x <- 5; env <- environment(); env"
   ]
  },
  {
   "cell_type": "code",
   "execution_count": null,
   "metadata": {
    "collapsed": true
   },
   "outputs": [],
   "source": [
    "env$x"
   ]
  },
  {
   "cell_type": "code",
   "execution_count": null,
   "metadata": {
    "collapsed": true,
    "slideshow": {
     "slide_type": "fragment"
    }
   },
   "outputs": [],
   "source": [
    "func1 <- function() {my_local <- 1; environment()}"
   ]
  },
  {
   "cell_type": "code",
   "execution_count": null,
   "metadata": {
    "collapsed": true
   },
   "outputs": [],
   "source": [
    "(local_env <- func1())"
   ]
  },
  {
   "cell_type": "code",
   "execution_count": null,
   "metadata": {
    "collapsed": true,
    "slideshow": {
     "slide_type": "-"
    }
   },
   "outputs": [],
   "source": [
    "local_env$my_local"
   ]
  },
  {
   "cell_type": "code",
   "execution_count": null,
   "metadata": {
    "collapsed": true
   },
   "outputs": [],
   "source": [
    "parent.env(local_env) # Each environment has a parent environment"
   ]
  },
  {
   "cell_type": "markdown",
   "metadata": {
    "slideshow": {
     "slide_type": "subslide"
    }
   },
   "source": [
    "Lexical scoping:\n",
    "+ To evaluate a symbol R checks current environment\n",
    "+ If not present, move to parent environment and repeat\n",
    "+ Value of the variable at the time of calling is used\n",
    "+ Assignments are made in current environment (but see `<<-`, the super-assignment operator)"
   ]
  },
  {
   "cell_type": "markdown",
   "metadata": {
    "slideshow": {
     "slide_type": "fragment"
    }
   },
   "source": [
    "Here, environments are those at time of definition"
   ]
  },
  {
   "cell_type": "markdown",
   "metadata": {
    "slideshow": {
     "slide_type": "fragment"
    }
   },
   "source": [
    "Where the function is defined (rather than how it is called)\n",
    "determines which variables to use"
   ]
  },
  {
   "cell_type": "markdown",
   "metadata": {
    "slideshow": {
     "slide_type": "fragment"
    }
   },
   "source": [
    "Values of these variables at the time of calling are used"
   ]
  },
  {
   "cell_type": "markdown",
   "metadata": {
    "slideshow": {
     "slide_type": "slide"
    }
   },
   "source": [
    "### Scoping in R"
   ]
  },
  {
   "cell_type": "code",
   "execution_count": null,
   "metadata": {
    "collapsed": true
   },
   "outputs": [],
   "source": [
    "x <- 5 \n",
    "func1 <- function(x) {x + 1}"
   ]
  },
  {
   "cell_type": "code",
   "execution_count": null,
   "metadata": {
    "collapsed": false
   },
   "outputs": [],
   "source": [
    "func1(1)"
   ]
  },
  {
   "cell_type": "code",
   "execution_count": null,
   "metadata": {
    "collapsed": true,
    "slideshow": {
     "slide_type": "subslide"
    }
   },
   "outputs": [],
   "source": [
    "x <- 5; func2 <- function() {x + 1}"
   ]
  },
  {
   "cell_type": "code",
   "execution_count": null,
   "metadata": {
    "collapsed": true
   },
   "outputs": [],
   "source": [
    "func2()"
   ]
  },
  {
   "cell_type": "code",
   "execution_count": null,
   "metadata": {
    "collapsed": false,
    "slideshow": {
     "slide_type": "fragment"
    }
   },
   "outputs": [],
   "source": [
    "x <- 10; func2() # use new x or x at the time of definition?"
   ]
  },
  {
   "cell_type": "code",
   "execution_count": null,
   "metadata": {
    "collapsed": false,
    "slideshow": {
     "slide_type": "subslide"
    }
   },
   "outputs": [],
   "source": [
    "x <- 1; y <- 10\n",
    "func3 <- function() {x <- x + 1; y <<- y + 1; environment()}\n",
    "env <- func3()"
   ]
  },
  {
   "cell_type": "code",
   "execution_count": null,
   "metadata": {
    "collapsed": false,
    "slideshow": {
     "slide_type": "-"
    }
   },
   "outputs": [],
   "source": [
    "c(x, y, env$x)"
   ]
  },
  {
   "cell_type": "code",
   "execution_count": null,
   "metadata": {
    "collapsed": true,
    "slideshow": {
     "slide_type": "subslide"
    }
   },
   "outputs": [],
   "source": [
    "func1 <- function(x) {x + 1}\n",
    "func4 <- function(x) {func1(x)}"
   ]
  },
  {
   "cell_type": "code",
   "execution_count": null,
   "metadata": {
    "collapsed": false,
    "slideshow": {
     "slide_type": "-"
    }
   },
   "outputs": [],
   "source": [
    "func4(2)"
   ]
  },
  {
   "cell_type": "code",
   "execution_count": null,
   "metadata": {
    "collapsed": true,
    "slideshow": {
     "slide_type": "subslide"
    }
   },
   "outputs": [],
   "source": [
    "x <- 5; func2 <- function() {x + 1}\n",
    "func5 <- function(x) {func2()}"
   ]
  },
  {
   "cell_type": "code",
   "execution_count": null,
   "metadata": {
    "collapsed": false,
    "slideshow": {
     "slide_type": "-"
    }
   },
   "outputs": [],
   "source": [
    "func5(2) # func2 uses x from calling or global environment?"
   ]
  },
  {
   "cell_type": "markdown",
   "metadata": {
    "slideshow": {
     "slide_type": "slide"
    }
   },
   "source": [
    "## Scoping in R\n",
    "For more on scoping, see (Advanced R, Hadley Wickham)\n",
    "\n",
    "The bottomline\n",
    "+ Avoid using global variables\n",
    "+ Always define and use clear interfaces to functions\n",
    "+ *Warning*: we're always implicitly using global objects in R"
   ]
  },
  {
   "cell_type": "markdown",
   "metadata": {
    "collapsed": true
   },
   "source": [
    "```R\n",
    "’+’ <- function(x,y) x*y #Open new RStudio session!\n",
    "2 + 10\n",
    "    ```"
   ]
  },
  {
   "cell_type": "markdown",
   "metadata": {
    "slideshow": {
     "slide_type": "subslide"
    }
   },
   "source": [
    "Lazy evaluation: R evaluates arguments only when needed\n",
    "\n",
    "Can also cause confusion"
   ]
  },
  {
   "cell_type": "code",
   "execution_count": null,
   "metadata": {
    "collapsed": true,
    "slideshow": {
     "slide_type": "fragment"
    }
   },
   "outputs": [],
   "source": [
    "func <- function(x,y) if(x) 2*x else x + 2*y"
   ]
  },
  {
   "cell_type": "code",
   "execution_count": null,
   "metadata": {
    "collapsed": false,
    "slideshow": {
     "slide_type": "fragment"
    }
   },
   "outputs": [],
   "source": [
    "func(1, {print(\"Hello\"); 5})"
   ]
  },
  {
   "cell_type": "code",
   "execution_count": null,
   "metadata": {
    "collapsed": true,
    "slideshow": {
     "slide_type": "fragment"
    }
   },
   "outputs": [],
   "source": [
    "func(0, {print(”Hello”); 5})"
   ]
  },
  {
   "cell_type": "markdown",
   "metadata": {
    "slideshow": {
     "slide_type": "slide"
    }
   },
   "source": [
    "### Some comments on the homework\n",
    "\n",
    "functions: modular blocks of code that map input arguments\n",
    "to output (and sometimes have side-effects e.g. plotting)\n",
    "\n",
    "Should not use global variables!\n",
    "+ Except in very special situations, this is just laziness\n",
    "+ Will eventually cause you trouble (and cost you points)"
   ]
  },
  {
   "cell_type": "markdown",
   "metadata": {
    "slideshow": {
     "slide_type": "subslide"
    }
   },
   "source": [
    "Functions should produce same output for same input,\n",
    "irrespective of values of non-input variables\n",
    "\n",
    "Some exceptions are functions\n",
    "+ that are random (but see `set.seed()`)\n",
    "+ that read files, accept user input\n",
    "+ that read date/time/local system information"
   ]
  },
  {
   "cell_type": "markdown",
   "metadata": {
    "slideshow": {
     "slide_type": "subslide"
    }
   },
   "source": [
    "```R\n",
    "my_func <- function(mf_arg1, mf_arg2) {\n",
    "  # Stuff not involving information other than\n",
    "  # mf_arg's\n",
    "}\n",
    "```\n",
    "+ Give your function an informative name\n",
    "+ Needn’t prefix all local variables, but helps against typos\n",
    "+ Arguments are placeholders for actual supplied inputs"
   ]
  },
  {
   "cell_type": "markdown",
   "metadata": {
    "slideshow": {
     "slide_type": "subslide"
    }
   },
   "source": [
    "If you’re going to change R datasets, make local copies\n",
    "\n",
    "Bad:\n",
    "```R\n",
    "USArrests['Indiana'] <- USArrests['Indiana'] + 1\n",
    "# What happens next time you run your script?\n",
    "# What if you want the original value?\n",
    "```\n",
    "Good:\n",
    "```R\n",
    "my_USArrests <- USArrests\n",
    "my_USArrests['Indiana'] <- USArrests['Indiana'] + 1\n",
    "```"
   ]
  },
  {
   "cell_type": "markdown",
   "metadata": {
    "slideshow": {
     "slide_type": "subslide"
    }
   },
   "source": [
    "**Bad**: Hacking away at the console and later trying to\n",
    "reconstruct how you got your output\n",
    "\n",
    "**Good**: Work with a text file in the editor\n",
    "+ This allows you to see the structure of your program\n",
    "+ Encourages use of functions\n",
    "+ Encourages comments\n",
    "+ Maybe start by thinking of your plan of attack, write down a skeleton of your program and then fill it in?\n",
    "+ Bad idea to dive into details without a broader plan"
   ]
  },
  {
   "cell_type": "markdown",
   "metadata": {
    "slideshow": {
     "slide_type": "subslide"
    }
   },
   "source": [
    "Use the console to explore outcome of one line, check\n",
    "help/syntax, but once successful, add line to editor"
   ]
  },
  {
   "cell_type": "markdown",
   "metadata": {
    "slideshow": {
     "slide_type": "subslide"
    }
   },
   "source": [
    "### RStudio shortcuts\n",
    "\n",
    "While working at the editor, `<Ctrl><Enter>`\n",
    "+ executes selected lines\n",
    "+ executes current line if none are selected"
   ]
  },
  {
   "cell_type": "markdown",
   "metadata": {
    "slideshow": {
     "slide_type": "fragment"
    }
   },
   "source": [
    "`<Ctrl><Shift><Enter>`:  executes all lines"
   ]
  },
  {
   "cell_type": "markdown",
   "metadata": {
    "slideshow": {
     "slide_type": "fragment"
    }
   },
   "source": [
    "`<Ctrl><1> and <Ctrl><2>`: Move cursor to editor or console"
   ]
  },
  {
   "cell_type": "markdown",
   "metadata": {
    "slideshow": {
     "slide_type": "fragment"
    }
   },
   "source": [
    "Also `<Tab>` autocompletes, `<Up>` moves through command\n",
    "history, and `<Ctrl><Up>` autocompletes from command history"
   ]
  },
  {
   "cell_type": "markdown",
   "metadata": {
    "slideshow": {
     "slide_type": "subslide"
    }
   },
   "source": [
    "For more: \n",
    "\n",
    "+ `<ALT><SHIFT><k>` (Tools>Keyboard Shortcuts Help)\n",
    "+ https://support.rstudio.com/hc/en-us/articles/200711853-Keyboard-Shortcuts"
   ]
  },
  {
   "cell_type": "markdown",
   "metadata": {
    "slideshow": {
     "slide_type": "subslide"
    }
   },
   "source": [
    "Ideally, instead of submitting a script, wrap it up in a function\n",
    "Assigning variables won’t mangle someone else’s namespace\n",
    "```R \n",
    "# Homework 1A\n",
    "Lots of variable assignments\n",
    "result <- ...\n",
    "```"
   ]
  },
  {
   "cell_type": "markdown",
   "metadata": {
    "slideshow": {
     "slide_type": "fragment"
    }
   },
   "source": [
    "Better:\n",
    "```R\n",
    "homework_1a <- function(ip_data) {\n",
    "  # Helpful comment\n",
    "  Lots of variable assignments\n",
    "  result <- ...\n",
    "}\n",
    "homework_1a(USArrests)\n",
    "```"
   ]
  }
 ],
 "metadata": {
  "anaconda-cloud": {},
  "celltoolbar": "Slideshow",
  "kernelspec": {
   "display_name": "R",
   "language": "R",
   "name": "ir"
  },
  "language_info": {
   "codemirror_mode": "r",
   "file_extension": ".r",
   "mimetype": "text/x-r-source",
   "name": "R",
   "pygments_lexer": "r",
   "version": "3.3.2"
  },
  "livereveal": {
   "max-width": 1620,
   "scroll": true,
   "start_slideshow_at": "selected",
   "theme": "sky"
  }
 },
 "nbformat": 4,
 "nbformat_minor": 2
}
