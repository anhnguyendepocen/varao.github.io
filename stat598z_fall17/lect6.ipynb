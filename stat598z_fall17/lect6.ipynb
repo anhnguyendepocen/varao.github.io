{
 "cells": [
  {
   "cell_type": "markdown",
   "metadata": {
    "slideshow": {
     "slide_type": "slide"
    }
   },
   "source": [
    "## Lecture 6: Functions in R\n",
    "\n",
    "### STAT598z: Intro. to computing for statistics\n",
    "\n",
    "\n",
    "***\n",
    "\n",
    "\n",
    "\n",
    "\n",
    "### Vinayak Rao\n",
    "\n",
    "#### Department of Statistics, Purdue University"
   ]
  },
  {
   "cell_type": "code",
   "execution_count": null,
   "metadata": {
    "collapsed": true,
    "slideshow": {
     "slide_type": "skip"
    }
   },
   "outputs": [],
   "source": [
    "options(repr.plot.width=3, repr.plot.height=3)"
   ]
  },
  {
   "cell_type": "markdown",
   "metadata": {
    "slideshow": {
     "slide_type": "slide"
    }
   },
   "source": [
    "## Why functions?\n",
    "R comes with its own suite of built-in functions\n",
    "\n",
    "+ An important part of learning R is learning the vocabulary,\n",
    "e.g. http://adv-r.had.co.nz/Vocabulary.html\n",
    "\n",
    "Non-trivial applications require you build your own functions"
   ]
  },
  {
   "cell_type": "markdown",
   "metadata": {
    "slideshow": {
     "slide_type": "fragment"
    }
   },
   "source": [
    "+ Reuse the same set of commands\n",
    "+ Apply the same commands to different inputs\n",
    "+ Cleaner, more modular code\n",
    "+ Easier testing/debugging"
   ]
  },
  {
   "cell_type": "markdown",
   "metadata": {
    "slideshow": {
     "slide_type": "slide"
    }
   },
   "source": [
    "## Creating functions\n",
    "Create functions using function :\n",
    "``` R\n",
    "my_func <- function( formal_arguments ) body\n",
    "```\n",
    "\n",
    "The above statement creates a function called `my_func`\n",
    "\n",
    "**formal_arguments**: \n",
    " comma separated names\n",
    "+ describe inputs `my_func` expects\n",
    " \n",
    "**function_body**:\n",
    " a statement or a block\n",
    "+ describes what `my_func` does with inputs\n"
   ]
  },
  {
   "cell_type": "markdown",
   "metadata": {
    "slideshow": {
     "slide_type": "slide"
    }
   },
   "source": [
    "### An example function"
   ]
  },
  {
   "cell_type": "code",
   "execution_count": 14,
   "metadata": {
    "collapsed": true,
    "slideshow": {
     "slide_type": "-"
    }
   },
   "outputs": [],
   "source": [
    "normalize_mtrx <- function( ip_mat, row ) {\n",
    "# Normalizes rows to add up to one if row = TRUE\n",
    "# Else normalizes columns\n",
    "  if(row) { # We want the rows to add up to one\n",
    "    rslt <- ip_mat / rowSums(ip_mat)\n",
    "  } else { # We want the columns to add up to one\n",
    "    rslt <- t( t(ip_mat) / colSums(ip_mat))\n",
    "  }\n",
    "  return(rslt) # Works even without this\n",
    "} "
   ]
  },
  {
   "cell_type": "code",
   "execution_count": 16,
   "metadata": {
    "collapsed": true,
    "slideshow": {
     "slide_type": "fragment"
    }
   },
   "outputs": [
    {
     "data": {
      "text/html": [
       "<table>\n",
       "<tbody>\n",
       "\t<tr><td>0.5402174 </td><td>0.3724657 </td><td>0.04671717</td></tr>\n",
       "\t<tr><td>0.9010301 </td><td>0.6113577 </td><td>0.38717808</td></tr>\n",
       "\t<tr><td>0.7919748 </td><td>0.7380485 </td><td>0.68962744</td></tr>\n",
       "</tbody>\n",
       "</table>\n"
      ],
      "text/latex": [
       "\\begin{tabular}{lll}\n",
       "\t 0.5402174  & 0.3724657  & 0.04671717\\\\\n",
       "\t 0.9010301  & 0.6113577  & 0.38717808\\\\\n",
       "\t 0.7919748  & 0.7380485  & 0.68962744\\\\\n",
       "\\end{tabular}\n"
      ],
      "text/markdown": [
       "\n",
       "| 0.5402174  | 0.3724657  | 0.04671717 | \n",
       "| 0.9010301  | 0.6113577  | 0.38717808 | \n",
       "| 0.7919748  | 0.7380485  | 0.68962744 | \n",
       "\n",
       "\n"
      ],
      "text/plain": [
       "     [,1]      [,2]      [,3]      \n",
       "[1,] 0.5402174 0.3724657 0.04671717\n",
       "[2,] 0.9010301 0.6113577 0.38717808\n",
       "[3,] 0.7919748 0.7380485 0.68962744"
      ]
     },
     "metadata": {},
     "output_type": "display_data"
    }
   ],
   "source": [
    "mtrx <- matrix(runif(9), nrow=3); mtrx"
   ]
  },
  {
   "cell_type": "code",
   "execution_count": 20,
   "metadata": {
    "collapsed": true,
    "slideshow": {
     "slide_type": "subslide"
    }
   },
   "outputs": [
    {
     "data": {
      "text/html": [
       "<table>\n",
       "<tbody>\n",
       "\t<tr><td>0.5630782 </td><td>0.3882276 </td><td>0.04869414</td></tr>\n",
       "\t<tr><td>0.4743347 </td><td>0.3218408 </td><td>0.20382451</td></tr>\n",
       "\t<tr><td>0.3568015 </td><td>0.3325066 </td><td>0.31069187</td></tr>\n",
       "</tbody>\n",
       "</table>\n"
      ],
      "text/latex": [
       "\\begin{tabular}{lll}\n",
       "\t 0.5630782  & 0.3882276  & 0.04869414\\\\\n",
       "\t 0.4743347  & 0.3218408  & 0.20382451\\\\\n",
       "\t 0.3568015  & 0.3325066  & 0.31069187\\\\\n",
       "\\end{tabular}\n"
      ],
      "text/markdown": [
       "\n",
       "| 0.5630782  | 0.3882276  | 0.04869414 | \n",
       "| 0.4743347  | 0.3218408  | 0.20382451 | \n",
       "| 0.3568015  | 0.3325066  | 0.31069187 | \n",
       "\n",
       "\n"
      ],
      "text/plain": [
       "     [,1]      [,2]      [,3]      \n",
       "[1,] 0.5630782 0.3882276 0.04869414\n",
       "[2,] 0.4743347 0.3218408 0.20382451\n",
       "[3,] 0.3568015 0.3325066 0.31069187"
      ]
     },
     "metadata": {},
     "output_type": "display_data"
    }
   ],
   "source": [
    "n_mtrx <- normalize_mtrx(row = TRUE, ip_mat = mtrx); n_mtrx"
   ]
  },
  {
   "cell_type": "code",
   "execution_count": 21,
   "metadata": {
    "collapsed": true,
    "slideshow": {
     "slide_type": "fragment"
    }
   },
   "outputs": [
    {
     "name": "stderr",
     "output_type": "stream",
     "text": [
      "Warning message in if (row) {:\n",
      "“the condition has length > 1 and only the first element will be used”"
     ]
    },
    {
     "ename": "ERROR",
     "evalue": "Error in rowSums(ip_mat): 'x' must be an array of at least two dimensions\n",
     "output_type": "error",
     "traceback": [
      "Error in rowSums(ip_mat): 'x' must be an array of at least two dimensions\nTraceback:\n",
      "1. normalize_mtrx(TRUE, mtrx)",
      "2. rowSums(ip_mat)   # at line 5 of file <text>",
      "3. stop(\"'x' must be an array of at least two dimensions\")"
     ]
    }
   ],
   "source": [
    "n_mtrx <- normalize_mtrx(TRUE, mtrx) "
   ]
  },
  {
   "cell_type": "code",
   "execution_count": null,
   "metadata": {
    "collapsed": true,
    "slideshow": {
     "slide_type": "fragment"
    }
   },
   "outputs": [],
   "source": [
    "n_mtrx <- normalize_mtrx(TRUE, ip = mtrx) # Partial matching"
   ]
  },
  {
   "cell_type": "markdown",
   "metadata": {
    "slideshow": {
     "slide_type": "subslide"
    }
   },
   "source": [
    "`normalize_mtrx` is an object:"
   ]
  },
  {
   "cell_type": "code",
   "execution_count": null,
   "metadata": {
    "collapsed": false
   },
   "outputs": [],
   "source": [
    "typeof(normalize_mtrx)"
   ]
  },
  {
   "cell_type": "code",
   "execution_count": null,
   "metadata": {
    "collapsed": false
   },
   "outputs": [],
   "source": [
    "class(normalize_mtrx)"
   ]
  },
  {
   "cell_type": "code",
   "execution_count": null,
   "metadata": {
    "collapsed": false
   },
   "outputs": [],
   "source": [
    "str(normalize_mtrx)"
   ]
  },
  {
   "cell_type": "markdown",
   "metadata": {},
   "source": [
    "Expects a matrix and boolean input, and returns a matrix"
   ]
  },
  {
   "cell_type": "markdown",
   "metadata": {
    "collapsed": true,
    "slideshow": {
     "slide_type": "subslide"
    }
   },
   "source": [
    "A function can accept/return any object:\n",
    "+ this includes other functions\n",
    "+ multiple return values can be organized into vectors/lists/dataframes"
   ]
  },
  {
   "cell_type": "markdown",
   "metadata": {
    "slideshow": {
     "slide_type": "subslide"
    }
   },
   "source": [
    "Can add some defaults and checks"
   ]
  },
  {
   "cell_type": "code",
   "execution_count": null,
   "metadata": {
    "collapsed": false
   },
   "outputs": [],
   "source": [
    "normalize_mtrx <- function( ip_mat, row = TRUE ) {\n",
    "# Normalizes columns to add up to one if row = FALSE\n",
    "# If row = TRUE or row not specified, normalizes columns\n",
    "if(!is.matrix(ip_mat)) {\n",
    "warning(\"Expecting a matrix as input\");\n",
    "return(NULL)\n",
    "}\n",
    "# You can define objects inside a function\n",
    "# You can even define other functions\n",
    "rslt <- if(row) ip_mat / rowSums(ip_mat) else\n",
    "t( t(ip_mat) / colSums(ip_mat))\n",
    "}"
   ]
  },
  {
   "cell_type": "code",
   "execution_count": null,
   "metadata": {
    "collapsed": true
   },
   "outputs": [],
   "source": [
    "n_mtrx <- normalize_mtrx(mtrx)"
   ]
  },
  {
   "cell_type": "code",
   "execution_count": 12,
   "metadata": {
    "collapsed": false,
    "slideshow": {
     "slide_type": "subslide"
    }
   },
   "outputs": [
    {
     "name": "stdout",
     "output_type": "stream",
     "text": [
      "[1] \"Hello\"\n"
     ]
    },
    {
     "data": {
      "text/html": [
       "23"
      ],
      "text/latex": [
       "23"
      ],
      "text/markdown": [
       "23"
      ],
      "text/plain": [
       "[1] 23"
      ]
     },
     "metadata": {},
     "output_type": "display_data"
    }
   ],
   "source": [
    "abc <- 2; xyz <- 3; my_add(abc,xyz)"
   ]
  },
  {
   "cell_type": "code",
   "execution_count": 13,
   "metadata": {
    "collapsed": true,
    "slideshow": {
     "slide_type": "-"
    }
   },
   "outputs": [],
   "source": [
    "my_add <- function(x,y) {print(\"Hello\"); return(10*x+y)}"
   ]
  },
  {
   "cell_type": "code",
   "execution_count": null,
   "metadata": {
    "collapsed": true,
    "slideshow": {
     "slide_type": "fragment"
    }
   },
   "outputs": [],
   "source": [
    "my_mul <- function(x,y) x*y"
   ]
  },
  {
   "cell_type": "code",
   "execution_count": null,
   "metadata": {
    "collapsed": true,
    "slideshow": {
     "slide_type": "fragment"
    }
   },
   "outputs": [],
   "source": [
    "my_gen <- function(ip_fun, x) function(z) ip_fun(x,z)"
   ]
  },
  {
   "cell_type": "code",
   "execution_count": null,
   "metadata": {
    "collapsed": true,
    "slideshow": {
     "slide_type": "fragment"
    }
   },
   "outputs": [],
   "source": [
    "inc3 <- my_gen(my_add,3)"
   ]
  },
  {
   "cell_type": "code",
   "execution_count": null,
   "metadata": {
    "collapsed": true,
    "slideshow": {
     "slide_type": "fragment"
    }
   },
   "outputs": [],
   "source": [
    "inc3(5)"
   ]
  },
  {
   "cell_type": "markdown",
   "metadata": {
    "slideshow": {
     "slide_type": "slide"
    }
   },
   "source": [
    "## Argument matching\n",
    "Proceeds by a three-pass process\n",
    "+ Exact matching on tags\n",
    "+ Partial matching on tags: multiple matches gives error\n",
    "+ Positional matching\n",
    "\n",
    "Any remaining unmatched arguments triggers an error"
   ]
  },
  {
   "cell_type": "code",
   "execution_count": null,
   "metadata": {
    "collapsed": false,
    "slideshow": {
     "slide_type": "-"
    }
   },
   "outputs": [],
   "source": [
    "mean(,TRUE,x=c(1:10,NA)) # From Advanced R, Hadley Wickham"
   ]
  },
  {
   "cell_type": "markdown",
   "metadata": {
    "slideshow": {
     "slide_type": "slide"
    }
   },
   "source": [
    " ## Arguments via ‘...’\n",
    "‘...’ allows any number of arguments\n",
    "\n",
    "Useful when passing arguments to other functions:\n",
    "\n",
    "``` R\n",
    " pick_func <- function (two_arg, ...) {\n",
    "   # Function w/ 2 arguments\n",
    "   if(two_arg) two_arg_fun(...) else  \n",
    "   # Function w/ 3 arguments\n",
    "     three_arg_fun(...)          \n",
    " }\n",
    " ```"
   ]
  },
  {
   "cell_type": "markdown",
   "metadata": {
    "slideshow": {
     "slide_type": "subslide"
    }
   },
   "source": [
    "Example: Recursive addition like in functional programming"
   ]
  },
  {
   "cell_type": "code",
   "execution_count": null,
   "metadata": {
    "collapsed": true
   },
   "outputs": [],
   "source": [
    "recurse_sum <- function(x = TRUE, ...) # Cute but inefficient\n",
    "                   if(isTRUE(x)) 0 else x + recurse_sum(...)"
   ]
  },
  {
   "cell_type": "code",
   "execution_count": null,
   "metadata": {
    "collapsed": false
   },
   "outputs": [],
   "source": [
    "recurse_sum(1,2,3,5,6,7) # Don’t include TRUE in the input!"
   ]
  },
  {
   "cell_type": "markdown",
   "metadata": {
    "slideshow": {
     "slide_type": "-"
    }
   },
   "source": [
    "Note the use of isTRUE() above"
   ]
  },
  {
   "cell_type": "markdown",
   "metadata": {
    "slideshow": {
     "slide_type": "slide"
    }
   },
   "source": [
    "## Scoping rules\n",
    "\n",
    "We saw a function `recurse_sum()` that called itself\n",
    "\n",
    "This raises a few questions:\n",
    "+ what objects are visible to a function?\n",
    "+ what happens when a function makes assignments?"
   ]
  },
  {
   "cell_type": "markdown",
   "metadata": {
    "collapsed": true,
    "slideshow": {
     "slide_type": "fragment"
    }
   },
   "source": [
    "R decides this by following a set of scoping rules\n",
    "\n",
    "R follows what is called *lexical scoping*"
   ]
  },
  {
   "cell_type": "markdown",
   "metadata": {
    "slideshow": {
     "slide_type": "subslide"
    }
   },
   "source": [
    "Function objects have attributes\n",
    "\n",
    "+ **formals**: its arguments\n",
    "+ **body**: its code\n",
    "+ **environment**: what objects exist"
   ]
  },
  {
   "cell_type": "code",
   "execution_count": null,
   "metadata": {
    "collapsed": true,
    "slideshow": {
     "slide_type": "fragment"
    }
   },
   "outputs": [],
   "source": [
    "body(recurse_sum)"
   ]
  },
  {
   "cell_type": "code",
   "execution_count": null,
   "metadata": {
    "collapsed": true,
    "slideshow": {
     "slide_type": "fragment"
    }
   },
   "outputs": [],
   "source": [
    " formals(recurse_sum)"
   ]
  },
  {
   "cell_type": "code",
   "execution_count": null,
   "metadata": {
    "collapsed": true,
    "slideshow": {
     "slide_type": "fragment"
    }
   },
   "outputs": [],
   "source": [
    "environment(recurse_sum)"
   ]
  },
  {
   "cell_type": "markdown",
   "metadata": {
    "collapsed": true,
    "slideshow": {
     "slide_type": "fragment"
    }
   },
   "source": [
    "`environment`: data-structure that binds names to values\n",
    "\n",
    "Determines scoping rules in R"
   ]
  },
  {
   "cell_type": "markdown",
   "metadata": {
    "slideshow": {
     "slide_type": "subslide"
    }
   },
   "source": [
    "### Environments in R\n",
    "An environment is a kind of named list of symbol-value pairs"
   ]
  },
  {
   "cell_type": "code",
   "execution_count": null,
   "metadata": {
    "collapsed": false
   },
   "outputs": [],
   "source": [
    "x <- 5; env <- environment(); env"
   ]
  },
  {
   "cell_type": "code",
   "execution_count": null,
   "metadata": {
    "collapsed": true
   },
   "outputs": [],
   "source": [
    "env$x"
   ]
  },
  {
   "cell_type": "code",
   "execution_count": null,
   "metadata": {
    "collapsed": true,
    "slideshow": {
     "slide_type": "fragment"
    }
   },
   "outputs": [],
   "source": [
    "func1 <- function() {my_local <- 1; environment()}"
   ]
  },
  {
   "cell_type": "code",
   "execution_count": null,
   "metadata": {
    "collapsed": true
   },
   "outputs": [],
   "source": [
    "func1()"
   ]
  },
  {
   "cell_type": "code",
   "execution_count": null,
   "metadata": {
    "collapsed": true,
    "slideshow": {
     "slide_type": "fragment"
    }
   },
   "outputs": [],
   "source": [
    "local_env <- func1()"
   ]
  },
  {
   "cell_type": "code",
   "execution_count": null,
   "metadata": {
    "collapsed": true,
    "slideshow": {
     "slide_type": "-"
    }
   },
   "outputs": [],
   "source": [
    "local_env$my_local"
   ]
  },
  {
   "cell_type": "code",
   "execution_count": null,
   "metadata": {
    "collapsed": true
   },
   "outputs": [],
   "source": [
    "parent.env(local_env) # Each environment has a parent environment"
   ]
  },
  {
   "cell_type": "markdown",
   "metadata": {
    "slideshow": {
     "slide_type": "subslide"
    }
   },
   "source": [
    "Lexical scoping:\n",
    "+ To evaluate a symbol R checks current environment\n",
    "+ If not present, move to parent environment and repeat\n",
    "+ Value of the variable at the time of calling is used\n",
    "+ Assignments are made in current environment (but see `<<-`, the super-assignment operator)"
   ]
  },
  {
   "cell_type": "markdown",
   "metadata": {
    "slideshow": {
     "slide_type": "fragment"
    }
   },
   "source": [
    "Here, environments are those at time of definition"
   ]
  },
  {
   "cell_type": "markdown",
   "metadata": {
    "slideshow": {
     "slide_type": "fragment"
    }
   },
   "source": [
    "Where the function is defined (rather than how it is called)\n",
    "determines which variables to use"
   ]
  },
  {
   "cell_type": "markdown",
   "metadata": {
    "slideshow": {
     "slide_type": "fragment"
    }
   },
   "source": [
    "Values of these variables at the time of calling are used"
   ]
  },
  {
   "cell_type": "markdown",
   "metadata": {
    "slideshow": {
     "slide_type": "slide"
    }
   },
   "source": [
    "### Scoping in R"
   ]
  },
  {
   "cell_type": "code",
   "execution_count": null,
   "metadata": {
    "collapsed": false
   },
   "outputs": [],
   "source": [
    "x <- 5; y <- 6\n",
    "func1 <- function(x) {x + 1}\n",
    "func1(1)"
   ]
  },
  {
   "cell_type": "code",
   "execution_count": null,
   "metadata": {
    "collapsed": false,
    "slideshow": {
     "slide_type": "subslide"
    }
   },
   "outputs": [],
   "source": [
    "func2 <- function() {x + 1}\n",
    "func2()\n",
    "x <- 10; func2() # use new x or x at the time of definition?"
   ]
  },
  {
   "cell_type": "code",
   "execution_count": null,
   "metadata": {
    "collapsed": false,
    "slideshow": {
     "slide_type": "subslide"
    }
   },
   "outputs": [],
   "source": [
    "func3 <- function() {x <- x + 1; y <<- y + 1; environment()}\n",
    "env <- func3()\n",
    "c(x, y, env$x)"
   ]
  },
  {
   "cell_type": "code",
   "execution_count": null,
   "metadata": {
    "collapsed": false,
    "slideshow": {
     "slide_type": "subslide"
    }
   },
   "outputs": [],
   "source": [
    "func4 <- function(x) {func1(x)}\n",
    "func4(2)"
   ]
  },
  {
   "cell_type": "code",
   "execution_count": null,
   "metadata": {
    "collapsed": false,
    "slideshow": {
     "slide_type": "subslide"
    }
   },
   "outputs": [],
   "source": [
    "func5 <- function(x) {func2()}\n",
    "func5(2) # func2 uses x from calling or global environment?"
   ]
  },
  {
   "cell_type": "markdown",
   "metadata": {
    "slideshow": {
     "slide_type": "slide"
    }
   },
   "source": [
    "## Scoping in R\n",
    "For more on scoping, see (Advanced R, Hadley Wickham)\n",
    "The bottomline\n",
    "+ Avoid using global variables\n",
    "+ Always define and use clear interfaces to functions\n",
    "+ Warning: you are always implicitly using global objects in R"
   ]
  },
  {
   "cell_type": "code",
   "execution_count": null,
   "metadata": {
    "collapsed": true
   },
   "outputs": [],
   "source": [
    "’+’ <- function(x,y) x*y # Open a new RStudio session!\n",
    "2 + 10"
   ]
  },
  {
   "cell_type": "markdown",
   "metadata": {
    "slideshow": {
     "slide_type": "subslide"
    }
   },
   "source": [
    "Lazy evaluation: R evaluates arguments only when needed\n",
    "\n",
    "Can also cause confusion"
   ]
  },
  {
   "cell_type": "code",
   "execution_count": null,
   "metadata": {
    "collapsed": true,
    "slideshow": {
     "slide_type": "fragment"
    }
   },
   "outputs": [],
   "source": [
    "func <- function(x,y) if(x) 2*x else x + 2*y"
   ]
  },
  {
   "cell_type": "code",
   "execution_count": null,
   "metadata": {
    "collapsed": true,
    "slideshow": {
     "slide_type": "fragment"
    }
   },
   "outputs": [],
   "source": [
    "func(1, {print(”Hello”); 5})"
   ]
  },
  {
   "cell_type": "code",
   "execution_count": null,
   "metadata": {
    "collapsed": true,
    "slideshow": {
     "slide_type": "fragment"
    }
   },
   "outputs": [],
   "source": [
    "func(0, {print(”Hello”); 5})"
   ]
  }
 ],
 "metadata": {
  "anaconda-cloud": {},
  "celltoolbar": "Slideshow",
  "kernelspec": {
   "display_name": "R",
   "language": "R",
   "name": "ir"
  },
  "language_info": {
   "codemirror_mode": "r",
   "file_extension": ".r",
   "mimetype": "text/x-r-source",
   "name": "R",
   "pygments_lexer": "r",
   "version": "3.3.2"
  },
  "livereveal": {
   "max-width": 1620,
   "scroll": true,
   "start_slideshow_at": "selected",
   "theme": "sky"
  }
 },
 "nbformat": 4,
 "nbformat_minor": 2
}
