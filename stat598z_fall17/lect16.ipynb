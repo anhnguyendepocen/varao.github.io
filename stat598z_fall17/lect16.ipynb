{
 "cells": [
  {
   "cell_type": "markdown",
   "metadata": {
    "slideshow": {
     "slide_type": "slide"
    }
   },
   "source": [
    "## Lect. 16: Object-oriented programming in R\n",
    "\n",
    "### STAT598z: Intro. to computing for statistics\n",
    "\n",
    "\n",
    "***\n",
    "\n",
    "\n",
    "\n",
    "\n",
    "### Vinayak Rao\n",
    "\n",
    "#### Department of Statistics, Purdue University"
   ]
  },
  {
   "cell_type": "code",
   "execution_count": null,
   "metadata": {
    "collapsed": true,
    "slideshow": {
     "slide_type": "skip"
    }
   },
   "outputs": [],
   "source": [
    "options(repr.plot.width=5, repr.plot.height=3)"
   ]
  },
  {
   "cell_type": "markdown",
   "metadata": {
    "slideshow": {
     "slide_type": "slide"
    }
   },
   "source": [
    "functions: an abstraction to encourage modular code:\n",
    "+ Reusables block of code\n",
    "+ Define operations to apply to any input"
   ]
  },
  {
   "cell_type": "markdown",
   "metadata": {
    "slideshow": {
     "slide_type": "fragment"
    }
   },
   "source": [
    "Object-oriented programming is another kind of abstraction"
   ]
  },
  {
   "cell_type": "markdown",
   "metadata": {
    "slideshow": {
     "slide_type": "subslide"
    }
   },
   "source": [
    "Object-oriented programming is another kind of abstraction:\n",
    "\n",
    "+ *Encapsulation*: Pack data and functions into classes\n",
    "+ *Polymorphism*: Same functions act differently across classes\n",
    "+ *Inheritence*: Write child classes without copying parent classes"
   ]
  },
  {
   "cell_type": "markdown",
   "metadata": {
    "collapsed": false,
    "slideshow": {
     "slide_type": "subslide"
    }
   },
   "source": [
    "### Components of OOP:\n",
    "\n",
    "**Classes**: A template for an object (e.g. `purdue` )\n",
    "+ Defines ‘properties’ of objects (e.g. `name`, `puid` )\n",
    "\n",
    "**Objects** An instance of a class (e.g. `varao` )\n",
    "+ Values assigned to properties ( `name = ‘vinayak’` )\n",
    "\n",
    "**Methods** Functions aware of properties of the object\n",
    "+ (e.g. `isFaculty()` )"
   ]
  },
  {
   "cell_type": "markdown",
   "metadata": {
    "collapsed": false,
    "slideshow": {
     "slide_type": "slide"
    }
   },
   "source": [
    "### Why object oriented programming (OOP)?"
   ]
  },
  {
   "cell_type": "markdown",
   "metadata": {},
   "source": [
    "1) Useful to group variables together\n",
    "+ An object is basically a list, with the `class` attribute set\n",
    "+ A *constructor* creates objects of a class"
   ]
  },
  {
   "cell_type": "code",
   "execution_count": null,
   "metadata": {
    "collapsed": false,
    "slideshow": {
     "slide_type": "fragment"
    }
   },
   "outputs": [],
   "source": [
    "new_purdue <- function(name, puid, employee ) {\n",
    "  obj <- list(name = name, puid = puid, employee = employee)\n",
    "  class(obj) <- 'purdue'; return(obj)\n",
    "}\n",
    "varao <- new_purdue('Vinayak', 1234, 'faculty' )"
   ]
  },
  {
   "cell_type": "markdown",
   "metadata": {
    "collapsed": false,
    "slideshow": {
     "slide_type": "subslide"
    }
   },
   "source": [
    "### Why object oriented programming (OOP)?"
   ]
  },
  {
   "cell_type": "markdown",
   "metadata": {
    "collapsed": false,
    "slideshow": {
     "slide_type": "-"
    }
   },
   "source": [
    "2) Tying methods to objects:\n",
    "+ Increase capability of software without increasing complexity for user (*Chambers*): e.g. `print` vs `printMatrix`\n",
    "+ Protects users from implementation details. User only needs to know an interface, and doesn’t care about insides.\n",
    "(E.g. `varao$employee ==’faculty’` vs `isFaculty(varao)` )"
   ]
  },
  {
   "cell_type": "markdown",
   "metadata": {
    "slideshow": {
     "slide_type": "slide"
    }
   },
   "source": [
    "###  Object oriented (OO) systems in R\n",
    "R has three OO systems:\n",
    "+ S3: most common OO system in R\n",
    "+ S4: like S3, but more formal\n",
    "+ Reference classes (RC): new, and like OO in other languages\n",
    "\n",
    "We will concentrate on S3"
   ]
  },
  {
   "cell_type": "markdown",
   "metadata": {
    "slideshow": {
     "slide_type": "subslide"
    }
   },
   "source": [
    "Suppose `varao` is an object of class `purdue`\n",
    "\n",
    "Can write a function `print.purdue()` and call when needed\n",
    "\n",
    "Simpler/clearer to just use `print()`"
   ]
  },
  {
   "cell_type": "markdown",
   "metadata": {
    "slideshow": {
     "slide_type": "subslide"
    }
   },
   "source": [
    "### Two OO paradigms:\n",
    "\n",
    "*Methods in classes*\n",
    "+ Would look like `varao.print()`\n",
    "+ C++, python, java, (also the RC system in R)\n",
    "+ methods are ‘attached’ to objects"
   ]
  },
  {
   "cell_type": "markdown",
   "metadata": {
    "slideshow": {
     "slide_type": "fragment"
    }
   },
   "source": [
    "*Generic functions*\n",
    "+ Would look like `print(varao)`\n",
    "+ The S3 and S4 systems in R\n",
    "+ Define method `print.purdue()` but call `print()`\n",
    "+ `print` is a **generic** function that **dispatches** methods"
   ]
  },
  {
   "cell_type": "markdown",
   "metadata": {
    "slideshow": {
     "slide_type": "slide"
    }
   },
   "source": [
    "In most OOP languages, methods belong to objects\n",
    "\n",
    "In R, methods belong to generic functions\n",
    "\n",
    "+ uses `UseMethod()` to call method based on object class"
   ]
  },
  {
   "cell_type": "markdown",
   "metadata": {},
   "source": [
    "`methods` gives you all methods associated with a generic"
   ]
  },
  {
   "cell_type": "code",
   "execution_count": null,
   "metadata": {
    "collapsed": true
   },
   "outputs": [],
   "source": [
    "methods(print)"
   ]
  },
  {
   "cell_type": "code",
   "execution_count": null,
   "metadata": {
    "collapsed": true
   },
   "outputs": [],
   "source": [
    "methods('[')"
   ]
  },
  {
   "cell_type": "markdown",
   "metadata": {
    "slideshow": {
     "slide_type": "subslide"
    }
   },
   "source": [
    "Can also give all methods associated with a class"
   ]
  },
  {
   "cell_type": "code",
   "execution_count": null,
   "metadata": {
    "collapsed": true
   },
   "outputs": [],
   "source": [
    "methods(class= 'matrix')"
   ]
  },
  {
   "cell_type": "markdown",
   "metadata": {
    "slideshow": {
     "slide_type": "subslide"
    }
   },
   "source": [
    "`ftype()` can tell generics from methods"
   ]
  },
  {
   "cell_type": "code",
   "execution_count": null,
   "metadata": {
    "collapsed": false,
    "slideshow": {
     "slide_type": "-"
    }
   },
   "outputs": [],
   "source": [
    "library('pryr')\n",
    "ftype(print)\n",
    "ftype(print.data.frame)"
   ]
  },
  {
   "cell_type": "markdown",
   "metadata": {
    "slideshow": {
     "slide_type": "slide"
    }
   },
   "source": [
    "Why do we need language support for OOP?\n",
    "\n",
    "Can’t we just modify if conditions inside print ?\n",
    "+ Don’t want to have to change R code for e.g. print\n",
    "\n",
    "R’s OOP support allows\n",
    "+ extending functionality without touching existing code\n",
    "+ fewer bugs"
   ]
  },
  {
   "cell_type": "markdown",
   "metadata": {
    "slideshow": {
     "slide_type": "slide"
    }
   },
   "source": [
    "### The S3 system\n",
    "S3 can be viewed as a naming convention:\n",
    "+ methods look like `generic.class()`\n",
    "+ e.g. `print.table` accessed via the generic `print`\n",
    "\n",
    "`print(varao)` will\n",
    "+ look for `print.purdue()`\n",
    "+ If no such function, will call `print.default()`"
   ]
  },
  {
   "cell_type": "code",
   "execution_count": null,
   "metadata": {
    "collapsed": false,
    "slideshow": {
     "slide_type": "subslide"
    }
   },
   "outputs": [],
   "source": [
    "print(varao)"
   ]
  },
  {
   "cell_type": "code",
   "execution_count": null,
   "metadata": {
    "collapsed": false,
    "slideshow": {
     "slide_type": "subslide"
    }
   },
   "outputs": [],
   "source": [
    "print.purdue <- function(x) {\n",
    "  cat(x$name, ' (PUID:' , x$puid,') is ', x$employee, ' at Purdue\\n' )\n",
    "}\n",
    "print(varao)"
   ]
  },
  {
   "cell_type": "markdown",
   "metadata": {
    "slideshow": {
     "slide_type": "slide"
    }
   },
   "source": [
    "**Inheritence**\n",
    "+ An object need not be assigned to just one class\n",
    "+ Classes are from most to least specific"
   ]
  },
  {
   "cell_type": "code",
   "execution_count": null,
   "metadata": {
    "collapsed": true
   },
   "outputs": [],
   "source": [
    "ab12 <- list(name = 'Alice' , puid = '12345' ,\n",
    "             employee = 'TA' , gpa = 3.8)\n",
    "class(ab12) <- c('grad' , 'purdue')"
   ]
  },
  {
   "cell_type": "code",
   "execution_count": null,
   "metadata": {
    "collapsed": false
   },
   "outputs": [],
   "source": [
    "inherits(ab12, 'purdue' )"
   ]
  },
  {
   "cell_type": "code",
   "execution_count": null,
   "metadata": {
    "collapsed": true,
    "slideshow": {
     "slide_type": "subslide"
    }
   },
   "outputs": [],
   "source": [
    "gpa.grad <- function(x) print(x$gpa)\n",
    "gpa(ab12) # We don ' t have a generic yet!"
   ]
  },
  {
   "cell_type": "code",
   "execution_count": null,
   "metadata": {
    "collapsed": false
   },
   "outputs": [],
   "source": [
    "print(ab12)"
   ]
  },
  {
   "cell_type": "markdown",
   "metadata": {
    "slideshow": {
     "slide_type": "subslide"
    }
   },
   "source": [
    "Can also reuse methods using `NextMethod()`"
   ]
  },
  {
   "cell_type": "code",
   "execution_count": null,
   "metadata": {
    "collapsed": true,
    "slideshow": {
     "slide_type": "-"
    }
   },
   "outputs": [],
   "source": [
    "print.grad <- function(x) {\n",
    "  NextMethod(print)\n",
    "  cat( ' \\n Has GPA ' , x$gpa)\n",
    "}"
   ]
  },
  {
   "cell_type": "code",
   "execution_count": null,
   "metadata": {
    "collapsed": false
   },
   "outputs": [],
   "source": [
    "print(ab12)"
   ]
  },
  {
   "cell_type": "markdown",
   "metadata": {
    "slideshow": {
     "slide_type": "subslide"
    }
   },
   "source": [
    "### Writing generic functions\n",
    "We’ve seen how to write methods\n",
    "\n",
    "To write a generic use `UseMethod()`\n",
    "\n",
    "`gpa <- function(x) UseMethod('gpa')`\n",
    "\n",
    "Essentially creates vector:\n",
    "\n",
    "`paste0(‘gpa.’,c(class(x), default)`\n",
    "\n",
    "Searches from left to right for function that exists\n",
    "\n",
    "If it finds one, calls it, else returns error"
   ]
  },
  {
   "cell_type": "markdown",
   "metadata": {
    "slideshow": {
     "slide_type": "subslide"
    }
   },
   "source": [
    "### Example\n",
    "\n",
    "Imagine a vector that you wanted to always view backwards\n",
    "\n",
    "+ A stack where new jobs are added to the top\n",
    "\n",
    "You want to hide from the user that it’s stored forwards"
   ]
  },
  {
   "cell_type": "code",
   "execution_count": 1,
   "metadata": {
    "collapsed": false,
    "slideshow": {
     "slide_type": "subslide"
    }
   },
   "outputs": [
    {
     "name": "stdout",
     "output_type": "stream",
     "text": [
      "[1] \"right turn\"   \"cross street\" \"climb stairs\"\n",
      "attr(,\"class\")\n",
      "[1] \"stack\"\n"
     ]
    }
   ],
   "source": [
    "my_path <- c('right turn', 'cross street', 'climb stairs')\n",
    "class(my_path) <- 'stack'\n",
    "print(my_path)"
   ]
  },
  {
   "cell_type": "code",
   "execution_count": 6,
   "metadata": {
    "collapsed": false,
    "slideshow": {
     "slide_type": "fragment"
    }
   },
   "outputs": [
    {
     "name": "stdout",
     "output_type": "stream",
     "text": [
      "[1] \"right turn\"   \"cross street\" \"climb stairs\"\n"
     ]
    }
   ],
   "source": [
    "print.stack <- function(x) print(rev(x))\n",
    "print(my_path) # Are you surprised this works?"
   ]
  },
  {
   "cell_type": "code",
   "execution_count": 12,
   "metadata": {
    "collapsed": false,
    "slideshow": {
     "slide_type": "subslide"
    }
   },
   "outputs": [],
   "source": [
    "'[.stack' <- function(x,i) {\n",
    "  class(x) <- NULL   # why do we need this?\n",
    "  x[length(x)+1-i]\n",
    "}\n",
    "# warning: this messes up your previous print function"
   ]
  },
  {
   "cell_type": "code",
   "execution_count": 10,
   "metadata": {
    "collapsed": false
   },
   "outputs": [
    {
     "data": {
      "text/html": [
       "'climb stairs'"
      ],
      "text/latex": [
       "'climb stairs'"
      ],
      "text/markdown": [
       "'climb stairs'"
      ],
      "text/plain": [
       "[1] \"climb stairs\""
      ]
     },
     "metadata": {},
     "output_type": "display_data"
    }
   ],
   "source": [
    "my_path[1]"
   ]
  },
  {
   "cell_type": "markdown",
   "metadata": {
    "collapsed": false,
    "slideshow": {
     "slide_type": "slide"
    }
   },
   "source": [
    "### Object oriented programming\n",
    "\n",
    "A powerful way to organize software\n",
    "\n",
    "Allows you to build on existing software without changing it\n",
    "\n",
    "Can avoid a bewildering set of new names for a generic task\n",
    "\n",
    "S3 is a very informal system with no real checks\n",
    "\n",
    "Can assign any class to any object\n",
    "\n",
    "Can cause trouble if you’re not careful"
   ]
  }
 ],
 "metadata": {
  "anaconda-cloud": {},
  "celltoolbar": "Slideshow",
  "kernelspec": {
   "display_name": "R",
   "language": "R",
   "name": "ir"
  },
  "language_info": {
   "codemirror_mode": "r",
   "file_extension": ".r",
   "mimetype": "text/x-r-source",
   "name": "R",
   "pygments_lexer": "r",
   "version": "3.3.2"
  },
  "livereveal": {
   "max-width": 1620,
   "scroll": true,
   "start_slideshow_at": "selected",
   "theme": "sky"
  }
 },
 "nbformat": 4,
 "nbformat_minor": 2
}
