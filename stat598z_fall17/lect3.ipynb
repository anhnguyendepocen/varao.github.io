{
 "cells": [
  {
   "cell_type": "markdown",
   "metadata": {
    "slideshow": {
     "slide_type": "slide"
    }
   },
   "source": [
    "## LECTURE 3: DATA STRUCTURES IN R  (contd)\n",
    "\n",
    "### STAT598z: Intro. to computing for statistics\n",
    "\n",
    "\n",
    "***\n",
    "\n",
    "\n",
    "\n",
    "\n",
    "### Vinayak Rao\n",
    "\n",
    "#### Department of Statistics, Purdue University"
   ]
  },
  {
   "cell_type": "code",
   "execution_count": 1,
   "metadata": {
    "collapsed": true,
    "slideshow": {
     "slide_type": "skip"
    }
   },
   "outputs": [],
   "source": [
    "options(repr.plot.width=3, repr.plot.height=3)"
   ]
  },
  {
   "cell_type": "markdown",
   "metadata": {
    "slideshow": {
     "id": "footer",
     "slide_type": "slide"
    }
   },
   "source": [
    "##  SOME USEFUL R FUNCTIONS\n",
    "\n",
    "    seq(), seq_len(), min(), max(), length(), range(),\n",
    "    any(), all()\n",
    "    \n",
    "\n",
    "Comparison operators:\n",
    "     \n",
    "     <, <=, >, >=, ==, !=\n",
    "\n",
    "Logical operators: \n",
    "\n",
    "    && , ||, !, & , |, xor()"
   ]
  },
  {
   "cell_type": "markdown",
   "metadata": {
    "slideshow": {
     "id": "footer",
     "slide_type": "subslide"
    }
   },
   "source": [
    "More on coercion:\n",
    "\n",
    "    is.logical(),is.integer(),is.double(),is.character()\n",
    "    as.logical(),as.integer(),as.double(),as.character()\n"
   ]
  },
  {
   "cell_type": "markdown",
   "metadata": {
    "slideshow": {
     "slide_type": "fragment"
    }
   },
   "source": [
    "Coercion often happens implicitly in function calls:"
   ]
  },
  {
   "cell_type": "code",
   "execution_count": 2,
   "metadata": {
    "collapsed": false,
    "slideshow": {
     "slide_type": "-"
    }
   },
   "outputs": [
    {
     "data": {
      "text/html": [
       "2"
      ],
      "text/latex": [
       "2"
      ],
      "text/markdown": [
       "2"
      ],
      "text/plain": [
       "[1] 2"
      ]
     },
     "metadata": {},
     "output_type": "display_data"
    }
   ],
   "source": [
    "sum(rnorm(10) > 0)"
   ]
  },
  {
   "cell_type": "markdown",
   "metadata": {
    "slideshow": {
     "slide_type": "slide"
    }
   },
   "source": [
    "## Lists (generic vectors) in R\n",
    "\n",
    "Elements of a list can be any R object (including other lists)\n",
    "\n",
    "Lists are created using list() :"
   ]
  },
  {
   "cell_type": "code",
   "execution_count": 3,
   "metadata": {
    "collapsed": false
   },
   "outputs": [
    {
     "data": {
      "text/html": [
       "4"
      ],
      "text/latex": [
       "4"
      ],
      "text/markdown": [
       "4"
      ],
      "text/plain": [
       "[1] 4"
      ]
     },
     "metadata": {},
     "output_type": "display_data"
    }
   ],
   "source": [
    "car <- list(\"Ford\", \"Mustang\", 1999, TRUE); length(car)"
   ]
  },
  {
   "cell_type": "code",
   "execution_count": null,
   "metadata": {
    "collapsed": true
   },
   "outputs": [],
   "source": []
  },
  {
   "cell_type": "markdown",
   "metadata": {
    "slideshow": {
     "slide_type": "subslide"
    }
   },
   "source": [
    "Can have nested lists:"
   ]
  },
  {
   "cell_type": "code",
   "execution_count": 45,
   "metadata": {
    "collapsed": false
   },
   "outputs": [],
   "source": [
    "# car, house, cat and sofa are other lists\n",
    "house <- \"Apartment\"; \n",
    "cat   <- list(\"Calico\", \"Flopsy\", 3L); \n",
    "sofa  <- \"Red\" \n",
    "possessions <- list(car, house, cat, sofa, \"3000USD\")"
   ]
  },
  {
   "cell_type": "markdown",
   "metadata": {
    "slideshow": {
     "slide_type": "fragment"
    }
   },
   "source": [
    " Or lists containing functions:"
   ]
  },
  {
   "cell_type": "code",
   "execution_count": 5,
   "metadata": {
    "collapsed": false,
    "slideshow": {
     "slide_type": "-"
    }
   },
   "outputs": [],
   "source": [
    "mean_list <- list(mean, \"Calculates mean of input\");"
   ]
  },
  {
   "cell_type": "markdown",
   "metadata": {
    "slideshow": {
     "slide_type": "slide"
    }
   },
   "source": [
    "### Lists in R\n",
    "Elements of a list can be anything (including other lists)\n",
    "\n",
    "Lists are vectors (but not \"atomic vectors\")\n",
    "\n",
    "See: `is.vector(), is.list(), is.atomic()`"
   ]
  },
  {
   "cell_type": "code",
   "execution_count": null,
   "metadata": {
    "collapsed": false,
    "slideshow": {
     "slide_type": "fragment"
    }
   },
   "outputs": [],
   "source": []
  },
  {
   "cell_type": "markdown",
   "metadata": {
    "slideshow": {
     "slide_type": "-"
    }
   },
   "source": [
    "What does concatenating lists do? E.g. `c(car, house)`"
   ]
  },
  {
   "cell_type": "markdown",
   "metadata": {
    "slideshow": {
     "slide_type": "fragment"
    }
   },
   "source": [
    "What does concatenating a list with a vector do?"
   ]
  },
  {
   "cell_type": "markdown",
   "metadata": {
    "slideshow": {
     "slide_type": "fragment"
    }
   },
   "source": [
    "What does `unlist()` do?"
   ]
  },
  {
   "cell_type": "markdown",
   "metadata": {
    "slideshow": {
     "slide_type": "slide"
    }
   },
   "source": [
    "### The str() function\n",
    "Just as with vectors, can apply `typeof()` and `class()`"
   ]
  },
  {
   "cell_type": "markdown",
   "metadata": {},
   "source": [
    "Another very useful function is `str()`\n",
    "\n",
    "Provides a summary of the R object"
   ]
  },
  {
   "cell_type": "code",
   "execution_count": 43,
   "metadata": {
    "collapsed": true
   },
   "outputs": [
    {
     "name": "stdout",
     "output_type": "stream",
     "text": [
      "List of 4\n",
      " $ Manufacturer: chr \"Ford\"\n",
      " $ Make        : chr \"Mustang\"\n",
      " $ Year        : num 1999\n",
      " $ Petrol      : logi TRUE\n"
     ]
    }
   ],
   "source": [
    "str(car)"
   ]
  },
  {
   "cell_type": "code",
   "execution_count": 7,
   "metadata": {
    "collapsed": false,
    "slideshow": {
     "slide_type": "fragment"
    }
   },
   "outputs": [
    {
     "name": "stdout",
     "output_type": "stream",
     "text": [
      " chr [1:3] \"Alice\" \"Bob\" \"Carol\"\n"
     ]
    }
   ],
   "source": [
    "people <- c(\"Alice\", \"Bob\", \"Carol\")\n",
    "str(people)"
   ]
  },
  {
   "cell_type": "markdown",
   "metadata": {
    "slideshow": {
     "slide_type": "slide"
    }
   },
   "source": [
    "### Indexing elements of a list\n",
    "\n",
    "Use brackets `[]` and double brackets `[[]]`\n",
    "\n",
    "Brackets `[]` return a sublist of indexed elements"
   ]
  },
  {
   "cell_type": "code",
   "execution_count": 44,
   "metadata": {
    "collapsed": true,
    "slideshow": {
     "slide_type": "fragment"
    }
   },
   "outputs": [
    {
     "data": {
      "text/html": [
       "<strong>$Manufacturer</strong> = 'Ford'"
      ],
      "text/latex": [
       "\\textbf{\\$Manufacturer} = 'Ford'"
      ],
      "text/markdown": [
       "**$Manufacturer** = 'Ford'"
      ],
      "text/plain": [
       "$Manufacturer\n",
       "[1] \"Ford\"\n"
      ]
     },
     "metadata": {},
     "output_type": "display_data"
    }
   ],
   "source": [
    "car[1]"
   ]
  },
  {
   "cell_type": "code",
   "execution_count": 9,
   "metadata": {
    "collapsed": true,
    "slideshow": {
     "slide_type": "fragment"
    }
   },
   "outputs": [
    {
     "data": {
      "text/html": [
       "'list'"
      ],
      "text/latex": [
       "'list'"
      ],
      "text/markdown": [
       "'list'"
      ],
      "text/plain": [
       "[1] \"list\""
      ]
     },
     "metadata": {},
     "output_type": "display_data"
    }
   ],
   "source": [
    "typeof(car[1])"
   ]
  },
  {
   "cell_type": "markdown",
   "metadata": {
    "slideshow": {
     "slide_type": "fragment"
    }
   },
   "source": [
    "Double brackets `[[]]` return element of list"
   ]
  },
  {
   "cell_type": "code",
   "execution_count": 10,
   "metadata": {
    "collapsed": false,
    "slideshow": {
     "slide_type": "-"
    }
   },
   "outputs": [
    {
     "data": {
      "text/html": [
       "'Ford'"
      ],
      "text/latex": [
       "'Ford'"
      ],
      "text/markdown": [
       "'Ford'"
      ],
      "text/plain": [
       "[1] \"Ford\""
      ]
     },
     "metadata": {},
     "output_type": "display_data"
    }
   ],
   "source": [
    "car[[1]]"
   ]
  },
  {
   "cell_type": "code",
   "execution_count": 11,
   "metadata": {
    "collapsed": false,
    "slideshow": {
     "slide_type": "fragment"
    }
   },
   "outputs": [
    {
     "data": {
      "text/html": [
       "'character'"
      ],
      "text/latex": [
       "'character'"
      ],
      "text/markdown": [
       "'character'"
      ],
      "text/plain": [
       "[1] \"character\""
      ]
     },
     "metadata": {},
     "output_type": "display_data"
    }
   ],
   "source": [
    "typeof(car[[1]])"
   ]
  },
  {
   "cell_type": "markdown",
   "metadata": {
    "slideshow": {
     "slide_type": "subslide"
    }
   },
   "source": [
    "Vector in double brackets recursively indexes list"
   ]
  },
  {
   "cell_type": "code",
   "execution_count": 12,
   "metadata": {
    "collapsed": false,
    "slideshow": {
     "slide_type": "-"
    }
   },
   "outputs": [
    {
     "data": {
      "text/html": [
       "'Ford'"
      ],
      "text/latex": [
       "'Ford'"
      ],
      "text/markdown": [
       "'Ford'"
      ],
      "text/plain": [
       "[1] \"Ford\""
      ]
     },
     "metadata": {},
     "output_type": "display_data"
    }
   ],
   "source": [
    "possessions[[1]][[1]] "
   ]
  },
  {
   "cell_type": "code",
   "execution_count": 13,
   "metadata": {
    "collapsed": false,
    "slideshow": {
     "slide_type": "-"
    }
   },
   "outputs": [
    {
     "data": {
      "text/html": [
       "'Ford'"
      ],
      "text/latex": [
       "'Ford'"
      ],
      "text/markdown": [
       "'Ford'"
      ],
      "text/plain": [
       "[1] \"Ford\""
      ]
     },
     "metadata": {},
     "output_type": "display_data"
    }
   ],
   "source": [
    "possessions[[c(1,1)]]"
   ]
  },
  {
   "cell_type": "markdown",
   "metadata": {
    "slideshow": {
     "slide_type": "slide"
    }
   },
   "source": [
    "### Named  lists\n",
    "Can assign names to elements of a list"
   ]
  },
  {
   "cell_type": "code",
   "execution_count": 14,
   "metadata": {
    "collapsed": true
   },
   "outputs": [],
   "source": [
    "names(car) <- c(\"Manufacturer\", \"Make\", \"Year\", \"Gasoline\")"
   ]
  },
  {
   "cell_type": "code",
   "execution_count": 15,
   "metadata": {
    "collapsed": true
   },
   "outputs": [
    {
     "data": {
      "text/html": [
       "<dl>\n",
       "\t<dt>$Manufacturer</dt>\n",
       "\t\t<dd>'Ford'</dd>\n",
       "\t<dt>$Make</dt>\n",
       "\t\t<dd>'Mustang'</dd>\n",
       "\t<dt>$Year</dt>\n",
       "\t\t<dd>1999</dd>\n",
       "\t<dt>$Gasoline</dt>\n",
       "\t\t<dd>TRUE</dd>\n",
       "</dl>\n"
      ],
      "text/latex": [
       "\\begin{description}\n",
       "\\item[\\$Manufacturer] 'Ford'\n",
       "\\item[\\$Make] 'Mustang'\n",
       "\\item[\\$Year] 1999\n",
       "\\item[\\$Gasoline] TRUE\n",
       "\\end{description}\n"
      ],
      "text/markdown": [
       "$Manufacturer\n",
       ":   'Ford'\n",
       "$Make\n",
       ":   'Mustang'\n",
       "$Year\n",
       ":   1999\n",
       "$Gasoline\n",
       ":   TRUE\n",
       "\n",
       "\n"
      ],
      "text/plain": [
       "$Manufacturer\n",
       "[1] \"Ford\"\n",
       "\n",
       "$Make\n",
       "[1] \"Mustang\"\n",
       "\n",
       "$Year\n",
       "[1] 1999\n",
       "\n",
       "$Gasoline\n",
       "[1] TRUE\n"
      ]
     },
     "metadata": {},
     "output_type": "display_data"
    }
   ],
   "source": [
    "car"
   ]
  },
  {
   "cell_type": "markdown",
   "metadata": {
    "slideshow": {
     "slide_type": "fragment"
    }
   },
   "source": [
    "Equivalently, on definition"
   ]
  },
  {
   "cell_type": "code",
   "execution_count": 16,
   "metadata": {
    "collapsed": true,
    "slideshow": {
     "slide_type": "-"
    }
   },
   "outputs": [],
   "source": [
    " car <- list(\"Manufacturer\" = \"Ford\", \"Make\" = \"Mustang\", \n",
    "             \"Year\" = 1999, \"Gasoline\" = TRUE )"
   ]
  },
  {
   "cell_type": "markdown",
   "metadata": {
    "slideshow": {
     "slide_type": "fragment"
    }
   },
   "source": [
    "See also `setNames()`"
   ]
  },
  {
   "cell_type": "markdown",
   "metadata": {
    "slideshow": {
     "slide_type": "slide"
    }
   },
   "source": [
    "### Accessing elements using names"
   ]
  },
  {
   "cell_type": "code",
   "execution_count": 17,
   "metadata": {
    "collapsed": true
   },
   "outputs": [
    {
     "data": {
      "text/html": [
       "<dl>\n",
       "\t<dt>$Manufacturer</dt>\n",
       "\t\t<dd>'Ford'</dd>\n",
       "\t<dt>$Make</dt>\n",
       "\t\t<dd>'Mustang'</dd>\n",
       "</dl>\n"
      ],
      "text/latex": [
       "\\begin{description}\n",
       "\\item[\\$Manufacturer] 'Ford'\n",
       "\\item[\\$Make] 'Mustang'\n",
       "\\end{description}\n"
      ],
      "text/markdown": [
       "$Manufacturer\n",
       ":   'Ford'\n",
       "$Make\n",
       ":   'Mustang'\n",
       "\n",
       "\n"
      ],
      "text/plain": [
       "$Manufacturer\n",
       "[1] \"Ford\"\n",
       "\n",
       "$Make\n",
       "[1] \"Mustang\"\n"
      ]
     },
     "metadata": {},
     "output_type": "display_data"
    }
   ],
   "source": [
    "car[c(\"Manufacturer\", \"Make\")]  # A two-element sublist"
   ]
  },
  {
   "cell_type": "code",
   "execution_count": 18,
   "metadata": {
    "collapsed": false,
    "slideshow": {
     "slide_type": "fragment"
    }
   },
   "outputs": [
    {
     "data": {
      "text/html": [
       "1999"
      ],
      "text/latex": [
       "1999"
      ],
      "text/markdown": [
       "1999"
      ],
      "text/plain": [
       "[1] 1999"
      ]
     },
     "metadata": {},
     "output_type": "display_data"
    }
   ],
   "source": [
    "car[[\"Year\"]]   # A length-one vector"
   ]
  },
  {
   "cell_type": "code",
   "execution_count": 19,
   "metadata": {
    "collapsed": false,
    "slideshow": {
     "slide_type": "fragment"
    }
   },
   "outputs": [
    {
     "data": {
      "text/html": [
       "1999"
      ],
      "text/latex": [
       "1999"
      ],
      "text/markdown": [
       "1999"
      ],
      "text/plain": [
       "[1] 1999"
      ]
     },
     "metadata": {},
     "output_type": "display_data"
    }
   ],
   "source": [
    "car$Year   # Shorthand notation"
   ]
  },
  {
   "cell_type": "code",
   "execution_count": 20,
   "metadata": {
    "collapsed": false,
    "slideshow": {
     "slide_type": "fragment"
    }
   },
   "outputs": [
    {
     "data": {
      "text/plain": [
       "NULL"
      ]
     },
     "metadata": {},
     "output_type": "display_data"
    }
   ],
   "source": [
    "car$year   # R is case-sensitive!"
   ]
  },
  {
   "cell_type": "markdown",
   "metadata": {
    "slideshow": {
     "slide_type": "slide"
    }
   },
   "source": [
    "### Names\n",
    "The names() function can get/set names of elements of a list"
   ]
  },
  {
   "cell_type": "code",
   "execution_count": 21,
   "metadata": {
    "collapsed": false,
    "slideshow": {
     "slide_type": "fragment"
    }
   },
   "outputs": [
    {
     "data": {
      "text/html": [
       "<ol class=list-inline>\n",
       "\t<li>'Manufacturer'</li>\n",
       "\t<li>'Make'</li>\n",
       "\t<li>'Year'</li>\n",
       "\t<li>'Gasoline'</li>\n",
       "</ol>\n"
      ],
      "text/latex": [
       "\\begin{enumerate*}\n",
       "\\item 'Manufacturer'\n",
       "\\item 'Make'\n",
       "\\item 'Year'\n",
       "\\item 'Gasoline'\n",
       "\\end{enumerate*}\n"
      ],
      "text/markdown": [
       "1. 'Manufacturer'\n",
       "2. 'Make'\n",
       "3. 'Year'\n",
       "4. 'Gasoline'\n",
       "\n",
       "\n"
      ],
      "text/plain": [
       "[1] \"Manufacturer\" \"Make\"         \"Year\"         \"Gasoline\"    "
      ]
     },
     "metadata": {},
     "output_type": "display_data"
    }
   ],
   "source": [
    "names(car)   # Returns a character vector"
   ]
  },
  {
   "cell_type": "code",
   "execution_count": 22,
   "metadata": {
    "collapsed": false,
    "scrolled": true,
    "slideshow": {
     "slide_type": "fragment"
    }
   },
   "outputs": [
    {
     "data": {
      "text/html": [
       "<ol class=list-inline>\n",
       "\t<li>'Manufacturer'</li>\n",
       "\t<li>'Make'</li>\n",
       "\t<li>'Year'</li>\n",
       "\t<li>'Petrol'</li>\n",
       "</ol>\n"
      ],
      "text/latex": [
       "\\begin{enumerate*}\n",
       "\\item 'Manufacturer'\n",
       "\\item 'Make'\n",
       "\\item 'Year'\n",
       "\\item 'Petrol'\n",
       "\\end{enumerate*}\n"
      ],
      "text/markdown": [
       "1. 'Manufacturer'\n",
       "2. 'Make'\n",
       "3. 'Year'\n",
       "4. 'Petrol'\n",
       "\n",
       "\n"
      ],
      "text/plain": [
       "[1] \"Manufacturer\" \"Make\"         \"Year\"         \"Petrol\"      "
      ]
     },
     "metadata": {},
     "output_type": "display_data"
    }
   ],
   "source": [
    "names(car)[4] <- \"Petrol\"; names(car)"
   ]
  },
  {
   "cell_type": "markdown",
   "metadata": {
    "slideshow": {
     "slide_type": "fragment"
    }
   },
   "source": [
    "Names need not be unique or complete\n",
    "\n",
    "Can remove names using `unname()`"
   ]
  },
  {
   "cell_type": "markdown",
   "metadata": {
    "slideshow": {
     "slide_type": "fragment"
    }
   },
   "source": [
    "Can also assign names to atomic vectors"
   ]
  },
  {
   "cell_type": "markdown",
   "metadata": {
    "slideshow": {
     "slide_type": "slide"
    }
   },
   "source": [
    "### Object attributes\n",
    "\n",
    "`names()` is an instance of an object attribute\n",
    "\n",
    "These store useful information about the object"
   ]
  },
  {
   "cell_type": "markdown",
   "metadata": {
    "slideshow": {
     "slide_type": "fragment"
    }
   },
   "source": [
    "Get/set attributes using `attributes()`"
   ]
  },
  {
   "cell_type": "code",
   "execution_count": 23,
   "metadata": {
    "collapsed": false,
    "slideshow": {
     "slide_type": "fragment"
    }
   },
   "outputs": [
    {
     "data": {
      "text/html": [
       "<strong>$names</strong> = <ol class=list-inline>\n",
       "\t<li>'Manufacturer'</li>\n",
       "\t<li>'Make'</li>\n",
       "\t<li>'Year'</li>\n",
       "\t<li>'Petrol'</li>\n",
       "</ol>\n"
      ],
      "text/latex": [
       "\\textbf{\\$names} = \\begin{enumerate*}\n",
       "\\item 'Manufacturer'\n",
       "\\item 'Make'\n",
       "\\item 'Year'\n",
       "\\item 'Petrol'\n",
       "\\end{enumerate*}\n"
      ],
      "text/markdown": [
       "**$names** = 1. 'Manufacturer'\n",
       "2. 'Make'\n",
       "3. 'Year'\n",
       "4. 'Petrol'\n",
       "\n",
       "\n"
      ],
      "text/plain": [
       "$names\n",
       "[1] \"Manufacturer\" \"Make\"         \"Year\"         \"Petrol\"      \n"
      ]
     },
     "metadata": {},
     "output_type": "display_data"
    }
   ],
   "source": [
    "attributes(car)"
   ]
  },
  {
   "cell_type": "markdown",
   "metadata": {
    "slideshow": {
     "slide_type": "fragment"
    }
   },
   "source": [
    "Get/set individual attributes using `attr()`"
   ]
  },
  {
   "cell_type": "markdown",
   "metadata": {
    "slideshow": {
     "slide_type": "slide"
    }
   },
   "source": [
    "### Object attributes\n",
    "\n",
    "Other common attributes: `class`, `dim` and `dimnames`\n",
    "\n",
    "Many have specific accessor functions e.g. `class()` or `dim()`"
   ]
  },
  {
   "cell_type": "markdown",
   "metadata": {
    "slideshow": {
     "slide_type": "-"
    }
   },
   "source": [
    "You can create your own\n",
    "\n",
    "+ Warning: careful about the effect of functions on attributes"
   ]
  },
  {
   "cell_type": "markdown",
   "metadata": {
    "slideshow": {
     "slide_type": "slide"
    }
   },
   "source": [
    "### Matrices and arrays\n",
    "Are two- and higher-dimensional collections of objects\n",
    "\n",
    "These have an appropriate `dim` attribute"
   ]
  },
  {
   "cell_type": "code",
   "execution_count": 24,
   "metadata": {
    "collapsed": true
   },
   "outputs": [],
   "source": [
    "my_mat <- 1 : 6  # vector  "
   ]
  },
  {
   "cell_type": "code",
   "execution_count": 25,
   "metadata": {
    "collapsed": false,
    "slideshow": {
     "slide_type": "-"
    }
   },
   "outputs": [
    {
     "name": "stdout",
     "output_type": "stream",
     "text": [
      "     [,1] [,2] [,3]\n",
      "[1,]    1    3    5\n",
      "[2,]    2    4    6\n"
     ]
    }
   ],
   "source": [
    "dim(my_mat) <- c(2,3) # 2 rows and 3 columns\n",
    "print(my_mat)"
   ]
  },
  {
   "cell_type": "markdown",
   "metadata": {},
   "source": [
    "Equivalently "
   ]
  },
  {
   "cell_type": "code",
   "execution_count": 47,
   "metadata": {
    "collapsed": true
   },
   "outputs": [],
   "source": [
    "my_mat <- matrix(1 : 6, nrow = 2, ncol = 3) # ncol is redundant"
   ]
  },
  {
   "cell_type": "markdown",
   "metadata": {
    "slideshow": {
     "slide_type": "subslide"
    }
   },
   "source": [
    "Arrays work similarly"
   ]
  },
  {
   "cell_type": "code",
   "execution_count": 27,
   "metadata": {
    "collapsed": false
   },
   "outputs": [
    {
     "name": "stdout",
     "output_type": "stream",
     "text": [
      ", , 1\n",
      "\n",
      "     [,1] [,2]\n",
      "[1,]    1    3\n",
      "[2,]    2    4\n",
      "\n",
      ", , 2\n",
      "\n",
      "     [,1] [,2]\n",
      "[1,]    5    7\n",
      "[2,]    6    8\n",
      "\n"
     ]
    }
   ],
   "source": [
    "my_arr <- array(1 : 8, c(2,2,2)); print(my_arr)"
   ]
  },
  {
   "cell_type": "markdown",
   "metadata": {
    "slideshow": {
     "slide_type": "subslide"
    }
   },
   "source": [
    "### Matrices and arrays\n",
    "Useful functions include\n",
    "+ ` typeof(), class(), str() `\n",
    "+ ` dim(), nrow(), ncol() `\n",
    "+ ` is.matrix(), as.matrix(), ... `\n",
    "+ ` dimnames(), rownames(), colnames()`"
   ]
  },
  {
   "cell_type": "code",
   "execution_count": 48,
   "metadata": {
    "collapsed": false,
    "slideshow": {
     "slide_type": "fragment"
    }
   },
   "outputs": [
    {
     "name": "stdout",
     "output_type": "stream",
     "text": [
      "   c1 c2 c3\n",
      "r1  1  3  5\n",
      "r2  2  4  6\n"
     ]
    }
   ],
   "source": [
    "dimnames(my_mat) <- list(c(\"r1\", \"r2\"), c(\"c1\", \"c2\", \"c3\"))\n",
    "print(my_mat)"
   ]
  },
  {
   "cell_type": "markdown",
   "metadata": {
    "slideshow": {
     "slide_type": "slide"
    }
   },
   "source": [
    "A vector/list is NOT an 1-d matrix (no dim attribute)"
   ]
  },
  {
   "cell_type": "code",
   "execution_count": null,
   "metadata": {
    "collapsed": false
   },
   "outputs": [],
   "source": [
    "is.matrix(1 : 6)"
   ]
  },
  {
   "cell_type": "markdown",
   "metadata": {
    "slideshow": {
     "slide_type": "fragment"
    }
   },
   "source": [
    "Use ` drop() ` to eliminate empty dimensions"
   ]
  },
  {
   "cell_type": "code",
   "execution_count": null,
   "metadata": {
    "collapsed": true
   },
   "outputs": [],
   "source": [
    "my_mat <- array(1 : 6, c(2,3,1)) # dim(my_mat) is (2,3,1) "
   ]
  },
  {
   "cell_type": "code",
   "execution_count": null,
   "metadata": {
    "collapsed": true,
    "slideshow": {
     "slide_type": "-"
    }
   },
   "outputs": [],
   "source": [
    "my_mat <- drop(my_mat) # dim is now (2,3) "
   ]
  },
  {
   "cell_type": "markdown",
   "metadata": {
    "slideshow": {
     "slide_type": "slide"
    }
   },
   "source": [
    "### Indexing matrices and arrays"
   ]
  },
  {
   "cell_type": "code",
   "execution_count": null,
   "metadata": {
    "collapsed": false
   },
   "outputs": [],
   "source": [
    "my_mat[2,1]   # Again, use square brackets"
   ]
  },
  {
   "cell_type": "markdown",
   "metadata": {
    "slideshow": {
     "slide_type": "fragment"
    }
   },
   "source": [
    "Excluding an index returns the entire dimension"
   ]
  },
  {
   "cell_type": "code",
   "execution_count": null,
   "metadata": {
    "collapsed": false
   },
   "outputs": [],
   "source": [
    "print(my_mat[2,])"
   ]
  },
  {
   "cell_type": "code",
   "execution_count": null,
   "metadata": {
    "collapsed": false
   },
   "outputs": [],
   "source": [
    "my_arr[1,,1] # slice along dim 2, with dims 1, 3 equal to 1"
   ]
  },
  {
   "cell_type": "markdown",
   "metadata": {
    "slideshow": {
     "slide_type": "fragment"
    }
   },
   "source": [
    "Usual ideas from indexing vectors still apply"
   ]
  },
  {
   "cell_type": "code",
   "execution_count": null,
   "metadata": {
    "collapsed": false,
    "slideshow": {
     "slide_type": "-"
    }
   },
   "outputs": [],
   "source": [
    "print(my_mat[,c(2,3)])"
   ]
  },
  {
   "cell_type": "markdown",
   "metadata": {
    "slideshow": {
     "slide_type": "slide"
    }
   },
   "source": [
    "### Column-major order\n",
    "We saw how to create a matrix from an array"
   ]
  },
  {
   "cell_type": "code",
   "execution_count": null,
   "metadata": {
    "collapsed": true
   },
   "outputs": [],
   "source": [
    "my_mat <- matrix(1 : 6, nrow = 3, ncol = 2); print(my_mat)"
   ]
  },
  {
   "cell_type": "markdown",
   "metadata": {
    "slideshow": {
     "slide_type": "fragment"
    }
   },
   "source": [
    "In R matrices are stored in column-major order\n",
    "(like Fortran , and unlike C and Python )"
   ]
  },
  {
   "cell_type": "code",
   "execution_count": 51,
   "metadata": {
    "collapsed": false
   },
   "outputs": [
    {
     "name": "stdout",
     "output_type": "stream",
     "text": [
      "[1] 1 2 3 4 5 6\n"
     ]
    }
   ],
   "source": [
    "print(my_mat[1 : 6])"
   ]
  },
  {
   "cell_type": "markdown",
   "metadata": {
    "slideshow": {
     "slide_type": "slide"
    }
   },
   "source": [
    "### Recycling\n",
    "Column-major order explains recycling to fill larger matrices"
   ]
  },
  {
   "cell_type": "code",
   "execution_count": 52,
   "metadata": {
    "collapsed": true
   },
   "outputs": [],
   "source": [
    "ones <- matrix(1, nrow = 3, ncol = 3)"
   ]
  },
  {
   "cell_type": "code",
   "execution_count": null,
   "metadata": {
    "collapsed": true,
    "slideshow": {
     "slide_type": "fragment"
    }
   },
   "outputs": [],
   "source": [
    "my_seq <- matrix(c(1,2,3), nrow = 3, ncol = 3)"
   ]
  },
  {
   "cell_type": "code",
   "execution_count": null,
   "metadata": {
    "collapsed": true
   },
   "outputs": [],
   "source": [
    "ones + my_seq"
   ]
  },
  {
   "cell_type": "code",
   "execution_count": null,
   "metadata": {
    "collapsed": true
   },
   "outputs": [],
   "source": []
  }
 ],
 "metadata": {
  "anaconda-cloud": {},
  "celltoolbar": "Slideshow",
  "kernelspec": {
   "display_name": "R",
   "language": "R",
   "name": "ir"
  },
  "language_info": {
   "codemirror_mode": "r",
   "file_extension": ".r",
   "mimetype": "text/x-r-source",
   "name": "R",
   "pygments_lexer": "r",
   "version": "3.3.2"
  },
  "livereveal": {
   "max-width": 1620,
   "scroll": true,
   "start_slideshow_at": "selected",
   "theme": "sky"
  }
 },
 "nbformat": 4,
 "nbformat_minor": 2
}
