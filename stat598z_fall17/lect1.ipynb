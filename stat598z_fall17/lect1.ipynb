{
 "cells": [
  {
   "cell_type": "markdown",
   "metadata": {
    "slideshow": {
     "slide_type": "slide"
    }
   },
   "source": [
    "# Lecture 1: Introduction\n",
    "\n",
    "### STAT598z: Intro. to computing for statistics\n",
    "\n",
    "\n",
    "***\n",
    "\n",
    "\n",
    "## Vinayak Rao\n",
    "\n",
    "### Department of Statistics, Purdue University\n",
    "---"
   ]
  },
  {
   "cell_type": "code",
   "execution_count": 1,
   "metadata": {
    "collapsed": true,
    "slideshow": {
     "slide_type": "skip"
    }
   },
   "outputs": [],
   "source": [
    "options(repr.plot.width=5, repr.plot.height=4)"
   ]
  },
  {
   "cell_type": "markdown",
   "metadata": {
    "slideshow": {
     "id": "footer",
     "slide_type": "slide"
    }
   },
   "source": [
    "# Logistics\n",
    "\n",
    "+ **Class** Tue/Thu 1030-1145, Math Building 215\n",
    "+ **Class email** purduestat598z@gmail.com\n",
    "+ **Website** https://varao.github.io/stat598z_fall17/main.html \n",
    "+ **Piazza** https://piazza.com/class/ixqh6ogobyf59l\n",
    "+ **Instructor** Vinayak Rao\n",
    "  - If you email me, include STAT598z in the subject\n",
    "  - E.g. <font color=\"tomato\">\"STAT598z: My dog ate my homework\"</font> \n",
    "+ **Office** Math212\n",
    "+ **Office Hours** 1230 - 1330 Tuesdays or by appointment\n",
    "+ **TA** [Boqian Zhang](http://www.stat.purdue.edu/people/graduate_students/)\n",
    "+ **Office Hours** Wednesday 1330-1430"
   ]
  },
  {
   "cell_type": "markdown",
   "metadata": {
    "slideshow": {
     "slide_type": "slide"
    }
   },
   "source": [
    "![Alt text](emerg.png)"
   ]
  },
  {
   "cell_type": "markdown",
   "metadata": {
    "slideshow": {
     "slide_type": "slide"
    }
   },
   "source": [
    "## Comp. statistics vs stat. computing\n",
    "\n",
    "[_Computational statistics or statistical computing, is that the\n",
    "question?_, Lauro, C. , Comp Stat and Data Analysis 23 (1996)](http://econpapers.repec.org/article/eeecsdana/v_3a23_3ay_3a1996_3ai_3a1_3ap_3a191-193.htm)\n",
    "\n",
    "**Statistical Computing**: Application of Comp. Sci. to Statistics\n",
    "\n",
    "+ Tools: programming, software, data structures and their\n",
    "manipulation, hardware (GPUs, parallel architectures)\n",
    "+ E.g. Releasing software/ sharing analysis\n",
    "\n",
    "**Computational statistics**: Design of algorithms for implementing statistical methods on computers\n",
    "\n",
    "+ Statistical methodology\n",
    "+ E.g. writing a paper for a statistics journal?"
   ]
  },
  {
   "cell_type": "markdown",
   "metadata": {
    "slideshow": {
     "slide_type": "subslide"
    }
   },
   "source": [
    "This course: more of former\n",
    "\n",
    "STAT545: more of the latter"
   ]
  },
  {
   "cell_type": "markdown",
   "metadata": {
    "slideshow": {
     "slide_type": "slide"
    }
   },
   "source": [
    "## Goals of the course\n",
    "\n",
    "Broadly: to learn programming for Statistics/Data Science\n",
    "+ No programming background required.\n",
    "+ Perhaps not the best class for those already good at this\n",
    "\n",
    "Our focus will be on\n",
    "+ the R programming language\n",
    "+ _statistical_ rather than _general-purpose_ computing\n",
    "+ R for reproducible research rather than ad hoc analysis"
   ]
  },
  {
   "cell_type": "markdown",
   "metadata": {
    "slideshow": {
     "slide_type": "slide"
    }
   },
   "source": [
    "## Topics covered (tentative)\n",
    "\n",
    "+ R fundamentals (data-structures, commands, flow control)\n",
    "+ R packages\n",
    "+ R plotting ( ggplot2 )\n",
    "+ Debugging with R\n",
    "+ Writing efficient R code\n",
    "+ R Markdown and dynamic documents\n",
    "+ Object-oriented programming\n",
    "+ Functional programming"
   ]
  },
  {
   "cell_type": "markdown",
   "metadata": {
    "slideshow": {
     "slide_type": "subslide"
    }
   },
   "source": [
    "### Advanced topics (depending on how things progress):\n",
    "+ Interactive applications with R shiny\n",
    "+ Introduction to R internals\n",
    "+ Programming with Stan\n",
    "+ Introduction to C -programming, and its R interface"
   ]
  },
  {
   "cell_type": "markdown",
   "metadata": {
    "slideshow": {
     "slide_type": "slide"
    }
   },
   "source": [
    "## Textbooks\n",
    "\n",
    "+ _“The Art of R Programming: A Tour of Statistical Software.\n",
    "Design”_, Norman Matloff\n",
    "\n",
    "+ _“R for Data Science”_, Garrett Grolemund \n",
    "and Hadley Wickham.  ([Amazon]( http://amzn.to/2aHLAQ1) but also available [free](http://r4ds.had.co.nz))\n",
    "\n",
    "Also useful:\n",
    "+ _“Software for Data Analysis”_, John M. Chambers\n",
    "+ _“An Introduction to R”_ ( The R [manual](http://cran.r-project.org/manuals.html) )\n",
    "+ _“Advanced R”_, Hadley Wickham"
   ]
  },
  {
   "cell_type": "markdown",
   "metadata": {
    "slideshow": {
     "slide_type": "slide"
    }
   },
   "source": [
    "# Grading\n",
    "\n",
    "+ **Homework**: 25%\n",
    "+ **Midterm I**: 25%\n",
    "+ **Midterm II**: 25%\n",
    "+ **Project**: 20%\n",
    "+ **Class participation**: 5%"
   ]
  },
  {
   "cell_type": "markdown",
   "metadata": {
    "slideshow": {
     "slide_type": "slide"
    }
   },
   "source": [
    "## Homework\n",
    "\n",
    "\n",
    "\n",
    "(Approximately) weekly assignments\n",
    "\n",
    "Will involve reading, writing and programming\n",
    "\n",
    "Are vital to doing well in the exams\n",
    "\n",
    "Late homework will not be accepted\n",
    "\n",
    "One (worst) homework will be dropped"
   ]
  },
  {
   "cell_type": "markdown",
   "metadata": {
    "slideshow": {
     "slide_type": "fragment"
    }
   },
   "source": [
    "You may discuss problems with other sudents, but must:\n",
    "+ write your own solution independently\n",
    "+ name students you had significant discussions with\n",
    "\n",
    "[Purdue's guide on academic integrity](http://www.purdue.edu/odos/osrr/academic-integrity/index.html)"
   ]
  },
  {
   "cell_type": "markdown",
   "metadata": {
    "slideshow": {
     "slide_type": "slide"
    }
   },
   "source": [
    "## Programming\n",
    "\n",
    "Central to modern statistics/data analysis.\n",
    "We want:\n",
    "- computers to do what we don’t want to do ourselves\n",
    "- computers to do what we actually want them to do\n"
   ]
  },
  {
   "cell_type": "markdown",
   "metadata": {
    "slideshow": {
     "slide_type": "fragment"
    }
   },
   "source": [
    "\n",
    "Programming involves:\n",
    "- **Correctness**: getting computers to do what we want\n",
    "- **Efficiency**: low compute and (more imp.) human time\n",
    "- **Clarity**: Donald Knuth: “treat a program as ... addressed to human beings rather than to a computer”\n",
    " + Especially important with messy data"
   ]
  },
  {
   "cell_type": "markdown",
   "metadata": {
    "slideshow": {
     "slide_type": "slide"
    }
   },
   "source": [
    "## The R programming language\n",
    "\n",
    "A programming language and environment for statistics\n",
    "\n",
    "A GNU project available as Free software.\n",
    "\n",
    "(“Think free as in free speech, not free beer”: Richard Stallman)\n"
   ]
  },
  {
   "cell_type": "markdown",
   "metadata": {
    "slideshow": {
     "slide_type": "fragment"
    }
   },
   "source": [
    "You can (and should):\n",
    "- Install R (available at http://cran.r-project.org/ )\n",
    "- Look at the R source code\n",
    "- Modify the R source code (if you’re feeling brave)\n",
    "\n",
    "You will:\n",
    "- Write clear, efficient and (hopefully) useful R code"
   ]
  },
  {
   "cell_type": "markdown",
   "metadata": {
    "slideshow": {
     "slide_type": "slide"
    }
   },
   "source": [
    "## A brief history of R\n",
    "\n",
    "Based on Bell Labs’ S language by John Chambers\n",
    "\n",
    "Started by Ihaka and Gentleman at the Univ.of Auckland\n",
    "[_R: A Language for Data Analysis and Graphics_](http://biostat.mc.vanderbilt.edu/wiki/pub/Main/JeffreyHorner/JCGSR.pdf),  (1996)\n",
    "\n",
    "A high-level interpreted language with convenient features for\n",
    "loading, manipulating and plotting data\n",
    "\n",
    "A huge collection of user-contributed packages to perform a\n",
    "wide variety of tasks\n",
    "\n",
    "Widely used in academia, and increasingly popular in industry"
   ]
  },
  {
   "cell_type": "markdown",
   "metadata": {
    "slideshow": {
     "slide_type": "slide"
    }
   },
   "source": [
    "## The R command prompt\n",
    "\n",
    "Starting R begins a new session\n",
    "\n",
    "R presents you with a command prompt or console\n",
    "\n",
    "Can interact with R through the console:\n",
    "+ Enter command\n",
    "+ R processes command and prints output\n",
    "+ The command q() ends the session"
   ]
  },
  {
   "cell_type": "code",
   "execution_count": 1,
   "metadata": {
    "collapsed": false
   },
   "outputs": [
    {
     "data": {
      "text/html": [
       "4"
      ],
      "text/latex": [
       "4"
      ],
      "text/markdown": [
       "4"
      ],
      "text/plain": [
       "[1] 4"
      ]
     },
     "metadata": {},
     "output_type": "display_data"
    }
   ],
   "source": [
    "1 + 3"
   ]
  },
  {
   "cell_type": "code",
   "execution_count": 4,
   "metadata": {
    "collapsed": false
   },
   "outputs": [
    {
     "data": {
      "text/html": [
       "<ol class=list-inline>\n",
       "\t<li>3.8421373479265</li>\n",
       "\t<li>3.2994556424234</li>\n",
       "\t<li>8.04069039166816</li>\n",
       "</ol>\n"
      ],
      "text/latex": [
       "\\begin{enumerate*}\n",
       "\\item 3.8421373479265\n",
       "\\item 3.2994556424234\n",
       "\\item 8.04069039166816\n",
       "\\end{enumerate*}\n"
      ],
      "text/markdown": [
       "1. 3.8421373479265\n",
       "2. 3.2994556424234\n",
       "3. 8.04069039166816\n",
       "\n",
       "\n"
      ],
      "text/plain": [
       "[1] 3.842137 3.299456 8.040690"
      ]
     },
     "metadata": {},
     "output_type": "display_data"
    }
   ],
   "source": [
    "x <- rgamma(3,2,1); x # Generate Gamma(2,1) variables"
   ]
  },
  {
   "cell_type": "code",
   "execution_count": 1,
   "metadata": {
    "collapsed": true,
    "slideshow": {
     "slide_type": "subslide"
    }
   },
   "outputs": [
    {
     "data": {
      "image/png": "[encoded data removed]",
      "text/plain": [
       "plot without title"
      ]
     },
     "metadata": {},
     "output_type": "display_data"
    }
   ],
   "source": [
    "x <- rnorm(1000)\n",
    "plot(x+(1:1000)/100)"
   ]
  },
  {
   "cell_type": "markdown",
   "metadata": {
    "slideshow": {
     "slide_type": "slide"
    }
   },
   "source": [
    "### RStudio\n",
    "\n",
    "_RStudio_ provides a more convenient Integrated Development\n",
    "\n",
    "Environment (IDE) to interact with R\n",
    "\n",
    "Layout includes\n",
    "- an editor\n",
    "- a console\n",
    "- workspace/history tabs\n",
    "- tabs for plots/packages/files etc\n",
    "    \n",
    "Convenient user interface: point-and-click, autocomplete, help etc.\n",
    "    \n",
    "You should install RStudio Desktop (available at rstudio.org )"
   ]
  },
  {
   "cell_type": "markdown",
   "metadata": {
    "slideshow": {
     "slide_type": "subslide"
    }
   },
   "source": [
    "## [RStudio demo]"
   ]
  },
  {
   "cell_type": "markdown",
   "metadata": {
    "slideshow": {
     "slide_type": "slide"
    }
   },
   "source": [
    "## R Scripting\n",
    "While we often use R interactively, it is useful to do this\n",
    "through scripts\n",
    "+ Fewer errors\n",
    "+ Better reproducibility\n",
    "+ Can reuse useful sequences of operations\n",
    "+ Can build increasingly complicated sequence of operations\n",
    "\n",
    "Ultimately, R is a full-fledged programming language for\n",
    "statistical computing: Treat it as such!"
   ]
  },
  {
   "cell_type": "markdown",
   "metadata": {
    "slideshow": {
     "slide_type": "slide"
    }
   },
   "source": [
    "## R scripting guidelines\n",
    "Filenames should end with .R (e.g. denoise.R )\n",
    "\n",
    "Scripts should have explanatory comments\n",
    "\n",
    "Variables should have informative names\n",
    "\n",
    "Scripts should be indented appropriately\n",
    "\n",
    "See R style-guides from:\n",
    "+ [Google](https://google.github.io/styleguide/Rguide.xml)\n",
    "+ [Hadley Wickham](http://stat405.had.co.nz/r-style.html)"
   ]
  },
  {
   "cell_type": "markdown",
   "metadata": {
    "slideshow": {
     "slide_type": "slide"
    }
   },
   "source": [
    "## Learning R\n",
    "We will look up a few useful R packages (e.g. ggplot, plyr )\n",
    "\n",
    "The next part of the course aims to:\n",
    "+ Write clean, efficient and idiomatic R\n",
    "+ Understand why things done the way they are\n",
    "+ Be comfortable manipulating and presenting data"
   ]
  },
  {
   "cell_type": "markdown",
   "metadata": {
    "slideshow": {
     "slide_type": "slide"
    }
   },
   "source": [
    "## Dynamic documents and R Markdown\n",
    "Take the idea of reproducible code to reproducible documents\n",
    "\n",
    "Instead of working with R commands, work with an entire report\n",
    "\n",
    "Report includes description of you problem, data and algorithm as well as embedded code and results\n",
    "\n",
    "You can automatically “compile” the report, which will rerun your code, regenerate your results and form a new report\n",
    "\n",
    "Allows collaborators to regenerate report on their computer\n",
    "\n",
    "This is how we will be submitting homeworks"
   ]
  },
  {
   "cell_type": "markdown",
   "metadata": {
    "slideshow": {
     "slide_type": "subslide"
    }
   },
   "source": [
    "### Jupyter  notebook\n",
    "\n",
    "Another nice system for dynamics notebooks is Jupyter notebook\n",
    "\n",
    "Formerly called ipython notebooks, is still python based, but now supports more languages:\n",
    "+ Ju(lia)Py(thon)R\n",
    "\n",
    "I made these slides using Jupyter\n",
    "\n",
    "You can try installing it if you 're prepared to deal with setting up python/python libraries\n",
    "\n",
    "+ Pros: you can play around with these slides\n",
    "+ Cons: I think RMarkdown and knitr is a bit  more useful for serious data science"
   ]
  },
  {
   "cell_type": "markdown",
   "metadata": {
    "slideshow": {
     "slide_type": "slide"
    }
   },
   "source": [
    "#### To do \n",
    "+ Install R and RStudio\n",
    "\n",
    "#### Reading/Viewing:\n",
    "+ [A New York Times article](http://www.nytimes.com/2009/01/07/technology/business-computing/07program.html?_r=0)\n",
    "+ Sections 1 to 5 of:\n",
    "[A (very) short introduction to R, Torfs and Brauer](http://cran.r-project.org/doc/contrib/Torfs+Brauer-Short-R-Intro.pdf)\n",
    "+ R : the good, the bad and the ugly, John Cook ([youtube](https://www.youtube.com/watch?v=6S9r_YbqHy8))\n",
    "+ [Nature article on dynamic documents](http://www.nature.com/news/interactive-notebooks-sharing-the-code-1.16261)"
   ]
  }
 ],
 "metadata": {
  "anaconda-cloud": {},
  "celltoolbar": "Slideshow",
  "kernelspec": {
   "display_name": "R",
   "language": "R",
   "name": "ir"
  },
  "language_info": {
   "codemirror_mode": "r",
   "file_extension": ".r",
   "mimetype": "text/x-r-source",
   "name": "R",
   "pygments_lexer": "r",
   "version": "3.3.2"
  },
  "livereveal": {
   "max-width": 1620,
   "scroll": true,
   "start_slideshow_at": "selected",
   "theme": "sky"
  }
 },
 "nbformat": 4,
 "nbformat_minor": 2
}
