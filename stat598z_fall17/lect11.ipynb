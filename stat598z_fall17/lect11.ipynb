{
 "cells": [
  {
   "cell_type": "markdown",
   "metadata": {
    "slideshow": {
     "slide_type": "slide"
    }
   },
   "source": [
    "## Lecture 11: Least squares and regularization\n",
    "\n",
    "### STAT598z: Intro. to computing for statistics\n",
    "\n",
    "\n",
    "***\n",
    "\n",
    "\n",
    "\n",
    "\n",
    "### Vinayak Rao\n",
    "\n",
    "#### Department of Statistics, Purdue University"
   ]
  },
  {
   "cell_type": "code",
   "execution_count": 1,
   "metadata": {
    "collapsed": true,
    "slideshow": {
     "slide_type": "skip"
    }
   },
   "outputs": [],
   "source": [
    "options(repr.plot.width=4, repr.plot.height=3)"
   ]
  },
  {
   "cell_type": "markdown",
   "metadata": {
    "slideshow": {
     "slide_type": "slide"
    }
   },
   "source": [
    "### Ordinary least squares regression\n",
    "\n",
    "Consider linear regression: $ y =  x^{T} w + \\varepsilon$\n",
    "![Alt text](./figures/reg1.png)"
   ]
  },
  {
   "cell_type": "markdown",
   "metadata": {
    "slideshow": {
     "slide_type": "subslide"
    }
   },
   "source": [
    "In vector notation:\n",
    "$$ y =  X^{\\top} w + \\varepsilon, \\quad y\\in\\Re^n, X \\in \\Re^{n\\times p} $$\n",
    "![Alt text](./figures/reg2.png)"
   ]
  },
  {
   "cell_type": "markdown",
   "metadata": {
    "slideshow": {
     "slide_type": "fragment"
    }
   },
   "source": [
    "$ \\hat{{w}} \n",
    "= \\text{arg min}\\ \\|{y} - {X}^{\\top} w\\|^2\n",
    "= \\text{arg min} \\sum_{i=1}^n (y_i - x_i^{\\top} w)^2$\n"
   ]
  },
  {
   "cell_type": "markdown",
   "metadata": {
    "slideshow": {
     "slide_type": "slide"
    }
   },
   "source": [
    "The problem:\n",
    "$$ \\hat{{w}} \n",
    "= \\text{arg min}\\ \\|{y} - {X}^{\\top} w\\|^2\n",
    "= \\text{arg min} \\sum_{i=1}^n (y_i - x_i^{\\top} w)^2$$\n"
   ]
  },
  {
   "cell_type": "markdown",
   "metadata": {
    "slideshow": {
     "slide_type": "-"
    }
   },
   "source": [
    "The solution:\n",
    "$$ \\hat{w} \n",
    "=  \\left(X{X}^{\\top}\\right)^{-1}Xy\n",
    "$$"
   ]
  },
  {
   "cell_type": "markdown",
   "metadata": {
    "slideshow": {
     "slide_type": "fragment"
    }
   },
   "source": [
    "In 1-dim, this just gives the (normalized) correlation\n",
    "$$ \\hat{{w}} = \\sum_{i=1}^n x_iy_i / \\sum_{i=1}^n x_i^2\n",
    "$$"
   ]
  },
  {
   "cell_type": "markdown",
   "metadata": {
    "slideshow": {
     "slide_type": "fragment"
    }
   },
   "source": [
    "For a new input $x^*$, we predict $y^* = {x^*}^{\\top}\\hat{w}$"
   ]
  },
  {
   "cell_type": "markdown",
   "metadata": {
    "slideshow": {
     "slide_type": "subslide"
    }
   },
   "source": [
    "$$ \\hat{w} \n",
    "=  \\left(X{X}^{\\top}\\right)^{-1}Xy\n",
    "$$"
   ]
  },
  {
   "cell_type": "markdown",
   "metadata": {},
   "source": [
    "<table> \n",
    "<tr> \n",
    "<td> $XX^{\\top}$ </td>\n",
    "<td> $Xy$ </td>\n",
    "</tr>\n",
    "<tr> \n",
    "<td> <img src=\"./figures/reg3.png\" /> </td>\n",
    "<td> <img src=\"./figures/reg4.png\" /> </td>\n",
    "</tr>\n",
    "</table>"
   ]
  },
  {
   "cell_type": "markdown",
   "metadata": {
    "slideshow": {
     "slide_type": "fragment"
    }
   },
   "source": [
    " Do not invert $XX^{\\top}$ using `solve(X %*% t(X))`!"
   ]
  },
  {
   "cell_type": "markdown",
   "metadata": {
    "slideshow": {
     "slide_type": "fragment"
    }
   },
   "source": [
    "Directly solve for $w$ using `solve(X %*% t(X), X %*% y)`"
   ]
  },
  {
   "cell_type": "markdown",
   "metadata": {
    "slideshow": {
     "slide_type": "subslide"
    }
   },
   "source": [
    "### Programming style\n",
    "Good programming style makes your life easier\n",
    "\n",
    "Have informative variable/function names\n",
    "\n",
    "Break your code into smaller functions and test individually.\n",
    "\n",
    "Much better to build up from a set of bug-free components\n",
    "than to write down a big function and then debug.\n",
    "+ Much easier to deal with modular code\n",
    "+ Build your own library of functions/wrappers"
   ]
  },
  {
   "cell_type": "markdown",
   "metadata": {
    "slideshow": {
     "slide_type": "subslide"
    }
   },
   "source": [
    "### Tracking down errors\n",
    "Try to read the error message\n",
    "\n",
    "Can be confusing, but is informative compared to e.g. Latex\n",
    "(gibberish) or C (usually ‘segmentation faults’)\n",
    "\n",
    "`\"can’t find the object my_obj\"`\n",
    "\n",
    "Have you set variable/loaded package?"
   ]
  },
  {
   "cell_type": "markdown",
   "metadata": {
    "slideshow": {
     "slide_type": "subslide"
    }
   },
   "source": [
    "Have you set variable/loaded package? A common error:\n",
    "\n",
    "` for(i in 1:10) a[i] <- i # First declare a! `"
   ]
  },
  {
   "cell_type": "markdown",
   "metadata": {
    "slideshow": {
     "slide_type": "fragment"
    }
   },
   "source": [
    "Have you set variable/loaded package? A common error:\n",
    "\n",
    "` for(i in 1:10) a[i] <- i # First declare a! `"
   ]
  },
  {
   "cell_type": "markdown",
   "metadata": {
    "slideshow": {
     "slide_type": "fragment"
    }
   },
   "source": [
    "`\"Error: Incompatible lengths ...\"`\n",
    "\n",
    "What are the lengths?\n",
    "\n",
    "`missing value where TRUE/FALSE needed`\n",
    "\n",
    "What is the argument to if/ while ?"
   ]
  },
  {
   "cell_type": "markdown",
   "metadata": {
    "slideshow": {
     "slide_type": "slide"
    }
   },
   "source": [
    "### Tracking down errors\n",
    "R always tell you where the error was detected\n",
    "\n",
    "The actual cause can be much earlier than R indicates.\n",
    "\n",
    "(In general, bad idea to write many lines of code without\n",
    "checking syntax a few times along)\n",
    "\n",
    "A Google search often leads to a solution on stackexchange\n",
    "(be sure to remove variable names specific to your code)"
   ]
  },
  {
   "cell_type": "markdown",
   "metadata": {
    "slideshow": {
     "slide_type": "slide"
    }
   },
   "source": [
    "### ‘Rubber-ducking’\n",
    "(ericlippert.com/2014/03/05/how-to-debug-small-programs/)\n",
    "\n",
    "+ You should be able to explain in simple words why each line is correct (not necessarily to a rubber duck though)\n",
    "\n",
    "For each line know what input and predicted outputs are"
   ]
  },
  {
   "cell_type": "markdown",
   "metadata": {
    "slideshow": {
     "slide_type": "subslide"
    }
   },
   "source": [
    "While debugging code, intersperse `if`’s and `print`’s.\n",
    "```R \n",
    "if(prob > 1 || prob < 0) {\n",
    "print ”NOOO!!! Invalid probability”\n",
    "stop();\n",
    "}\n",
    "```\n",
    "+ compare expected with produced values\n",
    "\n",
    "The `stopifnot` functions are also useful:\n",
    "```R\n",
    "stopifnot(prob > 0, prob < 1)\n",
    "```"
   ]
  },
  {
   "cell_type": "markdown",
   "metadata": {
    "slideshow": {
     "slide_type": "slide"
    }
   },
   "source": [
    "### Minimal working example\n",
    "If you can’t track it down by inspection or want to email me:\n",
    "+ Create a Minimal Working Example (MWE)\n",
    "\n",
    "A third person should:\n",
    "+ be able to reproduce error by cutting and pasting your code\n",
    "+ not have to worry about unnecessary details\n",
    "\n",
    "Do not send me your entire code, saying ”Help”\n",
    "\n",
    "Do not send me just the error message, saying ”Help”"
   ]
  },
  {
   "cell_type": "markdown",
   "metadata": {
    "slideshow": {
     "slide_type": "subslide"
    }
   },
   "source": [
    "Remove all unnecessary code after error (easy)\n",
    "\n",
    "Remove all unnecessary code before error (harder):\n",
    "\n",
    "+ Remove unecessary variables/functions/packages\n",
    "+ Remove unnecessary layers in ggplot()\n",
    "+ If offending line is wrapped in a for/while loop, remove that\n",
    "+ If error involves a long vector, try to minimize its length\n",
    "+ Remove unnecessary columns in dataframes\n",
    "+ If random numbers are involved, set.seed()\n",
    "\n",
    "Most class errors I’ve seen can be reduced to one assignment\n",
    "and one command"
   ]
  },
  {
   "cell_type": "markdown",
   "metadata": {
    "slideshow": {
     "slide_type": "subslide"
    }
   },
   "source": [
    "A good set of guidelines: http://stackoverflow.com/help/mcve\n",
    "\n",
    "Write a minimal program:\n",
    "\n",
    "+ *Restart from scratch*: Starting from an empty files, add as few\n",
    "lines as possible to get your error\n",
    "+ *Divide-and-conquer*: Remove parts of program line by line till the error \n",
    "disappears, and add the last line back"
   ]
  },
  {
   "cell_type": "markdown",
   "metadata": {
    "slideshow": {
     "slide_type": "subslide"
    }
   },
   "source": [
    "Ask a specific question\n",
    "\n",
    "*\"My code (see attached) gives an error\"*: This is a story, not a\n",
    "question\n",
    "\n",
    "*“Why does my code (see attached) gives an error?”*: Unhelpful\n",
    "question deserves unhelpful answer “Maybe your code is wrong”\n",
    "\n",
    "Asking a specific question is halfway towards fixing your bug\n",
    "\n",
    "Also convinces me that you thought about it"
   ]
  }
 ],
 "metadata": {
  "anaconda-cloud": {},
  "celltoolbar": "Slideshow",
  "kernelspec": {
   "display_name": "R",
   "language": "R",
   "name": "ir"
  },
  "language_info": {
   "codemirror_mode": "r",
   "file_extension": ".r",
   "mimetype": "text/x-r-source",
   "name": "R",
   "pygments_lexer": "r",
   "version": "3.3.2"
  },
  "livereveal": {
   "max-width": 1620,
   "scroll": true,
   "start_slideshow_at": "selected",
   "theme": "sky"
  }
 },
 "nbformat": 4,
 "nbformat_minor": 2
}
