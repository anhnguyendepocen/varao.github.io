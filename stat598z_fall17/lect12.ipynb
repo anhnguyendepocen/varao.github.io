{
 "cells": [
  {
   "cell_type": "markdown",
   "metadata": {
    "slideshow": {
     "slide_type": "slide"
    }
   },
   "source": [
    "## Lecture 12: Homework and exam review\n",
    "\n",
    "### STAT598z: Intro. to computing for statistics\n",
    "\n",
    "\n",
    "***\n",
    "\n",
    "\n",
    "\n",
    "\n",
    "### Vinayak Rao\n",
    "\n",
    "#### Department of Statistics, Purdue University"
   ]
  },
  {
   "cell_type": "code",
   "execution_count": null,
   "metadata": {
    "collapsed": true,
    "slideshow": {
     "slide_type": "skip"
    }
   },
   "outputs": [],
   "source": [
    "options(repr.plot.width=4, repr.plot.height=3)"
   ]
  },
  {
   "cell_type": "markdown",
   "metadata": {
    "slideshow": {
     "slide_type": "slide"
    }
   },
   "source": [
    "### Homework 2A"
   ]
  },
  {
   "cell_type": "code",
   "execution_count": null,
   "metadata": {
    "collapsed": true
   },
   "outputs": [],
   "source": [
    "trunc_norm <- function(mn, stdv, low, up, num ) {\n",
    "  trnc <- numeric(num)\n",
    "  count <- 0\n",
    "  while(count < num) {\n",
    "    nrm        <- rnorm(num,mn,stdv)\n",
    "    valid      <- (nrm > low) & (nrm < up)\n",
    "    num_valid  <- sum(valid)\n",
    "    lrange     <- count + 1\n",
    "    urange     <- count+num_valid\n",
    "     \n",
    "    trnc[lrange:urange] <- nrm[valid]\n",
    "    count <- urange\n",
    "  }\n",
    "  return(trnc[1:num])\n",
    "}"
   ]
  },
  {
   "cell_type": "markdown",
   "metadata": {
    "slideshow": {
     "slide_type": "subslide"
    }
   },
   "source": [
    "### Homework 2B"
   ]
  },
  {
   "cell_type": "code",
   "execution_count": null,
   "metadata": {
    "collapsed": true
   },
   "outputs": [],
   "source": [
    "my_mat <- matrix(rnorm(60000),ncol=6)\n",
    "my_mat[my_mat < 0] <- 0\n",
    "prob_mat <- my_mat / rowSums(my_mat)"
   ]
  },
  {
   "cell_type": "markdown",
   "metadata": {
    "slideshow": {
     "slide_type": "fragment"
    }
   },
   "source": [
    "\n",
    "What about rows that are all negative?\n",
    "• Remove NaN s?\n",
    "• Add a small offset?\n",
    "• Remove them?"
   ]
  },
  {
   "cell_type": "code",
   "execution_count": null,
   "metadata": {
    "collapsed": false,
    "slideshow": {
     "slide_type": "subslide"
    }
   },
   "outputs": [],
   "source": [
    "my_mat <- matrix(rnorm(60000),ncol=6)\n",
    "my_mat[my_mat < 0] <- 0\n",
    "my_norm <- rowSums(my_mat)\n",
    "sel_row <- my_norm > 0\n",
    "prob_mat <- my_mat[sel_row,] / my_norm[sel_row]"
   ]
  },
  {
   "cell_type": "code",
   "execution_count": null,
   "metadata": {
    "collapsed": true,
    "slideshow": {
     "slide_type": "subslide"
    }
   },
   "outputs": [],
   "source": [
    "ent <- -rowSums(prob_mat * ifelse(prob_mat > 0, log(prob_mat),0))"
   ]
  },
  {
   "cell_type": "code",
   "execution_count": null,
   "metadata": {
    "collapsed": false,
    "slideshow": {
     "slide_type": "fragment"
    }
   },
   "outputs": [],
   "source": [
    "prob_mat[which.max(ent),]"
   ]
  },
  {
   "cell_type": "markdown",
   "metadata": {
    "slideshow": {
     "slide_type": "fragment"
    }
   },
   "source": [
    "Can do it without special functions, but be careful about floats"
   ]
  },
  {
   "cell_type": "markdown",
   "metadata": {
    "slideshow": {
     "slide_type": "slide"
    }
   },
   "source": [
    "### Homework 3"
   ]
  },
  {
   "cell_type": "code",
   "execution_count": null,
   "metadata": {
    "collapsed": true,
    "slideshow": {
     "slide_type": "fragment"
    }
   },
   "outputs": [],
   "source": [
    "library('ggplot2')\n",
    "state_map <- map_data('state'); state_map$InfoValue <- NA\n",
    "str(state_map)"
   ]
  },
  {
   "cell_type": "code",
   "execution_count": null,
   "metadata": {
    "collapsed": false,
    "slideshow": {
     "slide_type": "fragment"
    }
   },
   "outputs": [],
   "source": [
    "state_info <- as.data.frame(state.x77)\n",
    "str(state_info)\n",
    "head(state_info)"
   ]
  },
  {
   "cell_type": "code",
   "execution_count": null,
   "metadata": {
    "collapsed": false,
    "slideshow": {
     "slide_type": "fragment"
    }
   },
   "outputs": [],
   "source": [
    "for(nm in rownames(state_info)) { # Buggy!\n",
    "  state_map$InfoValue[state_map$region == tolower(nm)] <-\n",
    "    state_info$Murder[nm]\n",
    "}\n",
    "head(state_map)"
   ]
  },
  {
   "cell_type": "markdown",
   "metadata": {
    "slideshow": {
     "slide_type": "subslide"
    }
   },
   "source": [
    "Confusing R quirk: selecting a column with `$` loses the rownames!"
   ]
  },
  {
   "cell_type": "code",
   "execution_count": null,
   "metadata": {
    "collapsed": true,
    "slideshow": {
     "slide_type": "fragment"
    }
   },
   "outputs": [],
   "source": [
    "for(nm in rownames(state_info)) {\n",
    "  state_map$InfoValue[state_map$region == tolower(nm)] <-\n",
    "  state_info[nm, 'Murder']\n",
    "}"
   ]
  },
  {
   "cell_type": "code",
   "execution_count": null,
   "metadata": {
    "collapsed": false
   },
   "outputs": [],
   "source": [
    "head(state_map)"
   ]
  },
  {
   "cell_type": "markdown",
   "metadata": {
    "slideshow": {
     "slide_type": "subslide"
    }
   },
   "source": [
    "Were all states considered?"
   ]
  },
  {
   "cell_type": "code",
   "execution_count": null,
   "metadata": {
    "collapsed": false,
    "slideshow": {
     "slide_type": "fragment"
    }
   },
   "outputs": [],
   "source": [
    "head(state_map[is.na(state_map$InfoValue),])"
   ]
  },
  {
   "cell_type": "markdown",
   "metadata": {
    "slideshow": {
     "slide_type": "subslide"
    }
   },
   "source": [
    "Less efficient, less clean, but still valid\n",
    "```\n",
    "  state_info <- as.data.frame(state.x77)\n",
    "  rownames(state_info) <- \n",
    "      tolower(rownames(state_info))\n",
    "  for(rw in 1:nrow(state_map)) {\n",
    "    rw_state <- state_map$region[rw]\n",
    "    state_map$InfoValue[rw] \n",
    "       <- state_info[rw_state, 'Murder' ]\n",
    "  }\n",
    "  ```\n",
    "Were all states covered? (Exercise)"
   ]
  },
  {
   "cell_type": "markdown",
   "metadata": {
    "slideshow": {
     "slide_type": "slide"
    }
   },
   "source": [
    "Make functions for repeated operations"
   ]
  },
  {
   "cell_type": "code",
   "execution_count": null,
   "metadata": {
    "collapsed": false
   },
   "outputs": [],
   "source": [
    "AddInfoValue <- function(info_type) {\n",
    "  state_map <- map_data('state')\n",
    "  state_map[,c( 'InfoValue', 'InfoType')] <- NA\n",
    "  for(nm in rownames(state_info)) {\n",
    "    rw_indx <- state_map$region == tolower(nm)\n",
    "    state_map$InfoValue[rw_indx] <- state_info[nm,info_type]\n",
    "    state_map$InfoType[rw_indx]  <- info_type\n",
    "  }\n",
    "  state_map <- state_map[!is.na(state_map$InfoValue),]\n",
    "}"
   ]
  },
  {
   "cell_type": "code",
   "execution_count": null,
   "metadata": {
    "collapsed": true,
    "slideshow": {
     "slide_type": "fragment"
    }
   },
   "outputs": [],
   "source": [
    "info_frame <- rbind(AddInfoValue( 'Life Exp'),\n",
    "                    AddInfoValue('HS Grad' ))"
   ]
  },
  {
   "cell_type": "code",
   "execution_count": null,
   "metadata": {
    "collapsed": false
   },
   "outputs": [],
   "source": [
    "tail(info_frame)"
   ]
  },
  {
   "cell_type": "code",
   "execution_count": null,
   "metadata": {
    "collapsed": false,
    "slideshow": {
     "slide_type": "slide"
    }
   },
   "outputs": [],
   "source": [
    "ggplot()+geom_map(map = info_frame, map_id=info_frame$region,\n",
    "        data = info_frame, aes(fill=InfoValue)) +\n",
    "expand_limits(x = info_frame$long, y = info_frame$lat) +\n",
    "facet_grid(.~InfoType)"
   ]
  },
  {
   "cell_type": "markdown",
   "metadata": {
    "slideshow": {
     "slide_type": "slide"
    }
   },
   "source": [
    "We want to add mean latitude and longitude"
   ]
  },
  {
   "cell_type": "code",
   "execution_count": null,
   "metadata": {
    "collapsed": true,
    "slideshow": {
     "slide_type": "subslide"
    }
   },
   "outputs": [],
   "source": [
    "AddMeanLatLong <- function() {\n",
    "  state_map  <- map_data('state')\n",
    "  state_info <- as.data.frame(state.x77)\n",
    "  state_info[,c('Lat', 'Long')] <- NA\n",
    "  for(nm in rownames(state_info)) {\n",
    "    rw_indx <- state_map$region == tolower(nm)\n",
    "    state_info[nm, 'Lat']  <- mean(state_map$lat[rw_indx])\n",
    "    state_info[nm, 'Long'] <- mean(state_map$long[rw_indx])\n",
    "  }\n",
    "  state_info <- state_info[!is.na(state_info$Lat),]\n",
    "}"
   ]
  },
  {
   "cell_type": "code",
   "execution_count": null,
   "metadata": {
    "collapsed": true,
    "slideshow": {
     "slide_type": "subslide"
    }
   },
   "outputs": [],
   "source": [
    "p <- ggplot() + geom_map(map = state_map, map_id=state_map$region,\n",
    "             data = state_map, aes(fill=InfoValue)) +\n",
    "             expand_limits(x = state_map$long, y = state_map$lat)\n",
    "info_frame <- AddMeanLatLong()\n",
    "p1 <- p + geom_point(data = info_frame, aes(x=Long,y=Lat,size=Murder))"
   ]
  },
  {
   "cell_type": "markdown",
   "metadata": {
    "slideshow": {
     "slide_type": "slide"
    }
   },
   "source": [
    "Maybe add one more function?"
   ]
  },
  {
   "cell_type": "code",
   "execution_count": null,
   "metadata": {
    "collapsed": true,
    "slideshow": {
     "slide_type": "fragment"
    }
   },
   "outputs": [],
   "source": [
    "getMeanLatLong <- function(ip_map, state) {\n",
    "# Expects lowercase states as input\n",
    "  rw_indx <- ip_map$region == state\n",
    "     c(Lat = mean(state_map$lat[rw_indx]),\n",
    "       Long = mean(state_map$long[rw_indx]))\n",
    "}\n",
    "AddMeanLatLong <- function(ip_map) {\n",
    "  state_info <- as.data.frame(state.x77)\n",
    "  state_info[,c( 'Lat' , 'Long' )] <- NA\n",
    "  for(nm in rownames(USArrests))\n",
    "    state_info[nm, c( 'Lat' , 'Long' )] <-\n",
    "      getMeanLatLong(ip_map, tolower(nm))\n",
    "  state_info <- state_info[!is.na(state_info$Lat),]\n",
    "}"
   ]
  },
  {
   "cell_type": "markdown",
   "metadata": {
    "slideshow": {
     "slide_type": "slide"
    }
   },
   "source": [
    "### apply functions\n",
    "In the final part I asked you to replace the for loop with sapply"
   ]
  },
  {
   "cell_type": "markdown",
   "metadata": {},
   "source": [
    "```R\n",
    "my_func <- function(mf_ip) {\n",
    "# Stuff\n",
    "}\n",
    "my_arr <- rnorm(100)\n",
    "new_arr <- array(0, length(my_arr))\n",
    "for(i in 1:length(my_arr) {\n",
    "new_arr[i] <- my_func(my_arr[i]) # For some function my_func\n",
    "}\n",
    "```"
   ]
  },
  {
   "cell_type": "markdown",
   "metadata": {
    "slideshow": {
     "slide_type": "fragment"
    }
   },
   "source": [
    "Cleaner:\n",
    "```R\n",
    " new_arr <- sapply(my_arr, my_func)\n",
    " ```"
   ]
  },
  {
   "cell_type": "markdown",
   "metadata": {
    "slideshow": {
     "slide_type": "subslide"
    }
   },
   "source": [
    "### apply functions\n",
    "\n",
    "Note: \\*apply functions do not vectorize loops\n",
    "\n",
    "They just hide them for convenience, clarity and to avoid bugs\n",
    "\n",
    "When possible, vectorize code:\n",
    "\n",
    "Bad:\n",
    "``` R\n",
    "my_arr <- 1:10\n",
    "sapply(my_arr, sqrt)\n",
    "```\n",
    "Good:\n",
    "``` R\n",
    "my_arr <- 1:10\n",
    "sqrt(my_arr) # Cleaner and faster\n",
    "```"
   ]
  },
  {
   "cell_type": "markdown",
   "metadata": {
    "slideshow": {
     "slide_type": "subslide"
    }
   },
   "source": [
    "`lapply,sapply,vapply` etc: hard to remember which does what\n",
    "\n",
    "`plyr` package provides simpler interface"
   ]
  }
 ],
 "metadata": {
  "anaconda-cloud": {},
  "celltoolbar": "Slideshow",
  "kernelspec": {
   "display_name": "R",
   "language": "R",
   "name": "ir"
  },
  "language_info": {
   "codemirror_mode": "r",
   "file_extension": ".r",
   "mimetype": "text/x-r-source",
   "name": "R",
   "pygments_lexer": "r",
   "version": "3.3.2"
  },
  "livereveal": {
   "max-width": 1620,
   "scroll": true,
   "start_slideshow_at": "selected",
   "theme": "sky"
  }
 },
 "nbformat": 4,
 "nbformat_minor": 2
}
