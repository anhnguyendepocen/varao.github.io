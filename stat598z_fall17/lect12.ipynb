{
 "cells": [
  {
   "cell_type": "markdown",
   "metadata": {
    "slideshow": {
     "slide_type": "slide"
    }
   },
   "source": [
    "## Lecture 12: Homework and exam review\n",
    "\n",
    "### STAT598z: Intro. to computing for statistics\n",
    "\n",
    "\n",
    "***\n",
    "\n",
    "\n",
    "\n",
    "\n",
    "### Vinayak Rao\n",
    "\n",
    "#### Department of Statistics, Purdue University"
   ]
  },
  {
   "cell_type": "code",
   "execution_count": 3,
   "metadata": {
    "collapsed": true,
    "slideshow": {
     "slide_type": "skip"
    }
   },
   "outputs": [],
   "source": [
    "options(repr.plot.width=4, repr.plot.height=3)"
   ]
  },
  {
   "cell_type": "markdown",
   "metadata": {
    "slideshow": {
     "slide_type": "slide"
    }
   },
   "source": [
    "### Homework 2A"
   ]
  },
  {
   "cell_type": "code",
   "execution_count": 4,
   "metadata": {
    "collapsed": true
   },
   "outputs": [],
   "source": [
    "trunc_norm <- function(mn, stdv, low, up, num ,sz ) {\n",
    "  trnc <- numeric(num)\n",
    "  count <- 0\n",
    "  while(count < num) {\n",
    "    nrm        <- rnorm(sz,mn,stdv)\n",
    "    valid      <- (nrm > low) & (nrm < up)\n",
    "    num_valid  <- sum(valid)\n",
    "    lrange     <- count + 1\n",
    "    urange     <- count+num_valid\n",
    "     \n",
    "    trnc[lrange:urange] <- nrm[valid]\n",
    "    count <- urange\n",
    "  }\n",
    "  return(trnc[1:num])\n",
    "}"
   ]
  },
  {
   "cell_type": "markdown",
   "metadata": {
    "slideshow": {
     "slide_type": "subslide"
    }
   },
   "source": [
    "### Homework 2B"
   ]
  },
  {
   "cell_type": "code",
   "execution_count": null,
   "metadata": {
    "collapsed": true
   },
   "outputs": [],
   "source": [
    "my_mat <- matrix(rnorm(60000,1),ncol=6)\n",
    "my_mat[my_mat < 0] <- 0\n",
    "prob_mat <- my_mat / rowSums(my_mat)"
   ]
  },
  {
   "cell_type": "markdown",
   "metadata": {
    "slideshow": {
     "slide_type": "fragment"
    }
   },
   "source": [
    "\n",
    "What about rows that are all negative?\n",
    "+ Remove NaN s?\n",
    "+ Add a small offset?\n",
    "+ Remove them?"
   ]
  },
  {
   "cell_type": "code",
   "execution_count": 5,
   "metadata": {
    "collapsed": false,
    "slideshow": {
     "slide_type": "subslide"
    }
   },
   "outputs": [],
   "source": [
    "my_mat <- matrix(rnorm(60000),ncol=6)\n",
    "my_mat[my_mat < 0] <- 0\n",
    "my_norm <- rowSums(my_mat)\n",
    "sel_row <- my_norm > 0\n",
    "prob_mat <- my_mat[sel_row,] / my_norm[sel_row]"
   ]
  },
  {
   "cell_type": "code",
   "execution_count": 7,
   "metadata": {
    "collapsed": true,
    "slideshow": {
     "slide_type": "subslide"
    }
   },
   "outputs": [],
   "source": [
    "ent <- -rowSums(prob_mat * ifelse(prob_mat > 0, \n",
    "                                  log(prob_mat),0))"
   ]
  },
  {
   "cell_type": "code",
   "execution_count": 10,
   "metadata": {
    "collapsed": false,
    "slideshow": {
     "slide_type": "fragment"
    }
   },
   "outputs": [
    {
     "data": {
      "text/html": [
       "<ol class=list-inline>\n",
       "\t<li>0.112919635273703</li>\n",
       "\t<li>0.215889072783522</li>\n",
       "\t<li>0.174690205637807</li>\n",
       "\t<li>0.118528626607003</li>\n",
       "\t<li>0.20763946125896</li>\n",
       "\t<li>0.170332998439005</li>\n",
       "</ol>\n"
      ],
      "text/latex": [
       "\\begin{enumerate*}\n",
       "\\item 0.112919635273703\n",
       "\\item 0.215889072783522\n",
       "\\item 0.174690205637807\n",
       "\\item 0.118528626607003\n",
       "\\item 0.20763946125896\n",
       "\\item 0.170332998439005\n",
       "\\end{enumerate*}\n"
      ],
      "text/markdown": [
       "1. 0.112919635273703\n",
       "2. 0.215889072783522\n",
       "3. 0.174690205637807\n",
       "4. 0.118528626607003\n",
       "5. 0.20763946125896\n",
       "6. 0.170332998439005\n",
       "\n",
       "\n"
      ],
      "text/plain": [
       "[1] 0.1129196 0.2158891 0.1746902 0.1185286 0.2076395 0.1703330"
      ]
     },
     "metadata": {},
     "output_type": "display_data"
    }
   ],
   "source": [
    "prob_mat[which.max(ent),]"
   ]
  },
  {
   "cell_type": "markdown",
   "metadata": {
    "slideshow": {
     "slide_type": "fragment"
    }
   },
   "source": [
    "Can do it without special functions, but be careful about floats"
   ]
  },
  {
   "cell_type": "markdown",
   "metadata": {
    "slideshow": {
     "slide_type": "slide"
    }
   },
   "source": [
    "### Homework 3"
   ]
  },
  {
   "cell_type": "code",
   "execution_count": 18,
   "metadata": {
    "collapsed": true,
    "slideshow": {
     "slide_type": "fragment"
    }
   },
   "outputs": [
    {
     "name": "stdout",
     "output_type": "stream",
     "text": [
      "'data.frame':\t15537 obs. of  7 variables:\n",
      " $ long     : num  -87.5 -87.5 -87.5 -87.5 -87.6 ...\n",
      " $ lat      : num  30.4 30.4 30.4 30.3 30.3 ...\n",
      " $ group    : num  1 1 1 1 1 1 1 1 1 1 ...\n",
      " $ order    : int  1 2 3 4 5 6 7 8 9 10 ...\n",
      " $ region   : chr  \"alabama\" \"alabama\" \"alabama\" \"alabama\" ...\n",
      " $ subregion: chr  NA NA NA NA ...\n",
      " $ InfoValue: logi  NA NA NA NA NA NA ...\n"
     ]
    }
   ],
   "source": [
    "library('ggplot2')\n",
    "state_map <- map_data('state'); state_map$InfoValue <- NA\n",
    "str(state_map)"
   ]
  },
  {
   "cell_type": "code",
   "execution_count": 17,
   "metadata": {
    "collapsed": true,
    "slideshow": {
     "slide_type": "fragment"
    }
   },
   "outputs": [
    {
     "data": {
      "text/html": [
       "<table>\n",
       "<thead><tr><th></th><th scope=col>Population</th><th scope=col>Income</th><th scope=col>Illiteracy</th><th scope=col>Life Exp</th><th scope=col>Murder</th><th scope=col>HS Grad</th><th scope=col>Frost</th><th scope=col>Area</th></tr></thead>\n",
       "<tbody>\n",
       "\t<tr><th scope=row>Alabama</th><td> 3615 </td><td>3624  </td><td>2.1   </td><td>69.05 </td><td>15.1  </td><td>41.3  </td><td> 20   </td><td> 50708</td></tr>\n",
       "\t<tr><th scope=row>Alaska</th><td>  365 </td><td>6315  </td><td>1.5   </td><td>69.31 </td><td>11.3  </td><td>66.7  </td><td>152   </td><td>566432</td></tr>\n",
       "\t<tr><th scope=row>Arizona</th><td> 2212 </td><td>4530  </td><td>1.8   </td><td>70.55 </td><td> 7.8  </td><td>58.1  </td><td> 15   </td><td>113417</td></tr>\n",
       "\t<tr><th scope=row>Arkansas</th><td> 2110 </td><td>3378  </td><td>1.9   </td><td>70.66 </td><td>10.1  </td><td>39.9  </td><td> 65   </td><td> 51945</td></tr>\n",
       "\t<tr><th scope=row>California</th><td>21198 </td><td>5114  </td><td>1.1   </td><td>71.71 </td><td>10.3  </td><td>62.6  </td><td> 20   </td><td>156361</td></tr>\n",
       "\t<tr><th scope=row>Colorado</th><td> 2541 </td><td>4884  </td><td>0.7   </td><td>72.06 </td><td> 6.8  </td><td>63.9  </td><td>166   </td><td>103766</td></tr>\n",
       "</tbody>\n",
       "</table>\n"
      ],
      "text/latex": [
       "\\begin{tabular}{r|llllllll}\n",
       "  & Population & Income & Illiteracy & Life Exp & Murder & HS Grad & Frost & Area\\\\\n",
       "\\hline\n",
       "\tAlabama &  3615  & 3624   & 2.1    & 69.05  & 15.1   & 41.3   &  20    &  50708\\\\\n",
       "\tAlaska &   365  & 6315   & 1.5    & 69.31  & 11.3   & 66.7   & 152    & 566432\\\\\n",
       "\tArizona &  2212  & 4530   & 1.8    & 70.55  &  7.8   & 58.1   &  15    & 113417\\\\\n",
       "\tArkansas &  2110  & 3378   & 1.9    & 70.66  & 10.1   & 39.9   &  65    &  51945\\\\\n",
       "\tCalifornia & 21198  & 5114   & 1.1    & 71.71  & 10.3   & 62.6   &  20    & 156361\\\\\n",
       "\tColorado &  2541  & 4884   & 0.7    & 72.06  &  6.8   & 63.9   & 166    & 103766\\\\\n",
       "\\end{tabular}\n"
      ],
      "text/markdown": [
       "\n",
       "| <!--/--> | Population | Income | Illiteracy | Life Exp | Murder | HS Grad | Frost | Area | \n",
       "|---|---|---|---|---|---|\n",
       "| Alabama |  3615  | 3624   | 2.1    | 69.05  | 15.1   | 41.3   |  20    |  50708 | \n",
       "| Alaska |   365  | 6315   | 1.5    | 69.31  | 11.3   | 66.7   | 152    | 566432 | \n",
       "| Arizona |  2212  | 4530   | 1.8    | 70.55  |  7.8   | 58.1   |  15    | 113417 | \n",
       "| Arkansas |  2110  | 3378   | 1.9    | 70.66  | 10.1   | 39.9   |  65    |  51945 | \n",
       "| California | 21198  | 5114   | 1.1    | 71.71  | 10.3   | 62.6   |  20    | 156361 | \n",
       "| Colorado |  2541  | 4884   | 0.7    | 72.06  |  6.8   | 63.9   | 166    | 103766 | \n",
       "\n",
       "\n"
      ],
      "text/plain": [
       "           Population Income Illiteracy Life Exp Murder HS Grad Frost Area  \n",
       "Alabama     3615      3624   2.1        69.05    15.1   41.3     20    50708\n",
       "Alaska       365      6315   1.5        69.31    11.3   66.7    152   566432\n",
       "Arizona     2212      4530   1.8        70.55     7.8   58.1     15   113417\n",
       "Arkansas    2110      3378   1.9        70.66    10.1   39.9     65    51945\n",
       "California 21198      5114   1.1        71.71    10.3   62.6     20   156361\n",
       "Colorado    2541      4884   0.7        72.06     6.8   63.9    166   103766"
      ]
     },
     "metadata": {},
     "output_type": "display_data"
    }
   ],
   "source": [
    "state_info <- as.data.frame(state.x77)\n",
    "#str(state_info)\n",
    "(head(state_info))"
   ]
  },
  {
   "cell_type": "code",
   "execution_count": 19,
   "metadata": {
    "collapsed": true,
    "slideshow": {
     "slide_type": "fragment"
    }
   },
   "outputs": [
    {
     "data": {
      "text/html": [
       "<table>\n",
       "<thead><tr><th scope=col>long</th><th scope=col>lat</th><th scope=col>group</th><th scope=col>order</th><th scope=col>region</th><th scope=col>subregion</th><th scope=col>InfoValue</th></tr></thead>\n",
       "<tbody>\n",
       "\t<tr><td>-87.46201</td><td>30.38968 </td><td>1        </td><td>1        </td><td>alabama  </td><td>NA       </td><td>NA       </td></tr>\n",
       "\t<tr><td>-87.48493</td><td>30.37249 </td><td>1        </td><td>2        </td><td>alabama  </td><td>NA       </td><td>NA       </td></tr>\n",
       "\t<tr><td>-87.52503</td><td>30.37249 </td><td>1        </td><td>3        </td><td>alabama  </td><td>NA       </td><td>NA       </td></tr>\n",
       "\t<tr><td>-87.53076</td><td>30.33239 </td><td>1        </td><td>4        </td><td>alabama  </td><td>NA       </td><td>NA       </td></tr>\n",
       "\t<tr><td>-87.57087</td><td>30.32665 </td><td>1        </td><td>5        </td><td>alabama  </td><td>NA       </td><td>NA       </td></tr>\n",
       "\t<tr><td>-87.58806</td><td>30.32665 </td><td>1        </td><td>6        </td><td>alabama  </td><td>NA       </td><td>NA       </td></tr>\n",
       "</tbody>\n",
       "</table>\n"
      ],
      "text/latex": [
       "\\begin{tabular}{r|lllllll}\n",
       " long & lat & group & order & region & subregion & InfoValue\\\\\n",
       "\\hline\n",
       "\t -87.46201 & 30.38968  & 1         & 1         & alabama   & NA        & NA       \\\\\n",
       "\t -87.48493 & 30.37249  & 1         & 2         & alabama   & NA        & NA       \\\\\n",
       "\t -87.52503 & 30.37249  & 1         & 3         & alabama   & NA        & NA       \\\\\n",
       "\t -87.53076 & 30.33239  & 1         & 4         & alabama   & NA        & NA       \\\\\n",
       "\t -87.57087 & 30.32665  & 1         & 5         & alabama   & NA        & NA       \\\\\n",
       "\t -87.58806 & 30.32665  & 1         & 6         & alabama   & NA        & NA       \\\\\n",
       "\\end{tabular}\n"
      ],
      "text/markdown": [
       "\n",
       "long | lat | group | order | region | subregion | InfoValue | \n",
       "|---|---|---|---|---|---|\n",
       "| -87.46201 | 30.38968  | 1         | 1         | alabama   | NA        | NA        | \n",
       "| -87.48493 | 30.37249  | 1         | 2         | alabama   | NA        | NA        | \n",
       "| -87.52503 | 30.37249  | 1         | 3         | alabama   | NA        | NA        | \n",
       "| -87.53076 | 30.33239  | 1         | 4         | alabama   | NA        | NA        | \n",
       "| -87.57087 | 30.32665  | 1         | 5         | alabama   | NA        | NA        | \n",
       "| -87.58806 | 30.32665  | 1         | 6         | alabama   | NA        | NA        | \n",
       "\n",
       "\n"
      ],
      "text/plain": [
       "  long      lat      group order region  subregion InfoValue\n",
       "1 -87.46201 30.38968 1     1     alabama NA        NA       \n",
       "2 -87.48493 30.37249 1     2     alabama NA        NA       \n",
       "3 -87.52503 30.37249 1     3     alabama NA        NA       \n",
       "4 -87.53076 30.33239 1     4     alabama NA        NA       \n",
       "5 -87.57087 30.32665 1     5     alabama NA        NA       \n",
       "6 -87.58806 30.32665 1     6     alabama NA        NA       "
      ]
     },
     "metadata": {},
     "output_type": "display_data"
    }
   ],
   "source": [
    "for(nm in rownames(state_info)) { # Buggy!\n",
    "  state_map$InfoValue[state_map$region == tolower(nm)] <-\n",
    "    state_info$Murder[nm]\n",
    "}\n",
    "head(state_map)"
   ]
  },
  {
   "cell_type": "markdown",
   "metadata": {
    "slideshow": {
     "slide_type": "subslide"
    }
   },
   "source": [
    "Confusing R quirk: selecting a column with `$` loses the rownames!"
   ]
  },
  {
   "cell_type": "code",
   "execution_count": 20,
   "metadata": {
    "collapsed": true,
    "slideshow": {
     "slide_type": "fragment"
    }
   },
   "outputs": [],
   "source": [
    "for(nm in rownames(state_info)) {\n",
    "  state_map$InfoValue[state_map$region == tolower(nm)] <-\n",
    "  state_info[nm, 'Murder']\n",
    "}"
   ]
  },
  {
   "cell_type": "code",
   "execution_count": 21,
   "metadata": {
    "collapsed": true
   },
   "outputs": [
    {
     "data": {
      "text/html": [
       "<table>\n",
       "<thead><tr><th scope=col>long</th><th scope=col>lat</th><th scope=col>group</th><th scope=col>order</th><th scope=col>region</th><th scope=col>subregion</th><th scope=col>InfoValue</th></tr></thead>\n",
       "<tbody>\n",
       "\t<tr><td>-87.46201</td><td>30.38968 </td><td>1        </td><td>1        </td><td>alabama  </td><td>NA       </td><td>15.1     </td></tr>\n",
       "\t<tr><td>-87.48493</td><td>30.37249 </td><td>1        </td><td>2        </td><td>alabama  </td><td>NA       </td><td>15.1     </td></tr>\n",
       "\t<tr><td>-87.52503</td><td>30.37249 </td><td>1        </td><td>3        </td><td>alabama  </td><td>NA       </td><td>15.1     </td></tr>\n",
       "\t<tr><td>-87.53076</td><td>30.33239 </td><td>1        </td><td>4        </td><td>alabama  </td><td>NA       </td><td>15.1     </td></tr>\n",
       "\t<tr><td>-87.57087</td><td>30.32665 </td><td>1        </td><td>5        </td><td>alabama  </td><td>NA       </td><td>15.1     </td></tr>\n",
       "\t<tr><td>-87.58806</td><td>30.32665 </td><td>1        </td><td>6        </td><td>alabama  </td><td>NA       </td><td>15.1     </td></tr>\n",
       "</tbody>\n",
       "</table>\n"
      ],
      "text/latex": [
       "\\begin{tabular}{r|lllllll}\n",
       " long & lat & group & order & region & subregion & InfoValue\\\\\n",
       "\\hline\n",
       "\t -87.46201 & 30.38968  & 1         & 1         & alabama   & NA        & 15.1     \\\\\n",
       "\t -87.48493 & 30.37249  & 1         & 2         & alabama   & NA        & 15.1     \\\\\n",
       "\t -87.52503 & 30.37249  & 1         & 3         & alabama   & NA        & 15.1     \\\\\n",
       "\t -87.53076 & 30.33239  & 1         & 4         & alabama   & NA        & 15.1     \\\\\n",
       "\t -87.57087 & 30.32665  & 1         & 5         & alabama   & NA        & 15.1     \\\\\n",
       "\t -87.58806 & 30.32665  & 1         & 6         & alabama   & NA        & 15.1     \\\\\n",
       "\\end{tabular}\n"
      ],
      "text/markdown": [
       "\n",
       "long | lat | group | order | region | subregion | InfoValue | \n",
       "|---|---|---|---|---|---|\n",
       "| -87.46201 | 30.38968  | 1         | 1         | alabama   | NA        | 15.1      | \n",
       "| -87.48493 | 30.37249  | 1         | 2         | alabama   | NA        | 15.1      | \n",
       "| -87.52503 | 30.37249  | 1         | 3         | alabama   | NA        | 15.1      | \n",
       "| -87.53076 | 30.33239  | 1         | 4         | alabama   | NA        | 15.1      | \n",
       "| -87.57087 | 30.32665  | 1         | 5         | alabama   | NA        | 15.1      | \n",
       "| -87.58806 | 30.32665  | 1         | 6         | alabama   | NA        | 15.1      | \n",
       "\n",
       "\n"
      ],
      "text/plain": [
       "  long      lat      group order region  subregion InfoValue\n",
       "1 -87.46201 30.38968 1     1     alabama NA        15.1     \n",
       "2 -87.48493 30.37249 1     2     alabama NA        15.1     \n",
       "3 -87.52503 30.37249 1     3     alabama NA        15.1     \n",
       "4 -87.53076 30.33239 1     4     alabama NA        15.1     \n",
       "5 -87.57087 30.32665 1     5     alabama NA        15.1     \n",
       "6 -87.58806 30.32665 1     6     alabama NA        15.1     "
      ]
     },
     "metadata": {},
     "output_type": "display_data"
    }
   ],
   "source": [
    "head(state_map)"
   ]
  },
  {
   "cell_type": "markdown",
   "metadata": {
    "slideshow": {
     "slide_type": "subslide"
    }
   },
   "source": [
    "Were all states considered?"
   ]
  },
  {
   "cell_type": "code",
   "execution_count": 27,
   "metadata": {
    "collapsed": false,
    "slideshow": {
     "slide_type": "fragment"
    }
   },
   "outputs": [
    {
     "data": {
      "text/html": [
       "<table>\n",
       "<thead><tr><th scope=col>long</th><th scope=col>lat</th><th scope=col>group</th><th scope=col>order</th><th scope=col>region</th><th scope=col>subregion</th><th scope=col>InfoValue</th></tr></thead>\n",
       "<tbody>\n",
       "\t<tr><td>-87.46201</td><td>30.38968 </td><td>1        </td><td>1        </td><td>alabama  </td><td>NA       </td><td>15.1     </td></tr>\n",
       "\t<tr><td>-87.48493</td><td>30.37249 </td><td>1        </td><td>2        </td><td>alabama  </td><td>NA       </td><td>15.1     </td></tr>\n",
       "\t<tr><td>-87.52503</td><td>30.37249 </td><td>1        </td><td>3        </td><td>alabama  </td><td>NA       </td><td>15.1     </td></tr>\n",
       "\t<tr><td>-87.53076</td><td>30.33239 </td><td>1        </td><td>4        </td><td>alabama  </td><td>NA       </td><td>15.1     </td></tr>\n",
       "\t<tr><td>-87.57087</td><td>30.32665 </td><td>1        </td><td>5        </td><td>alabama  </td><td>NA       </td><td>15.1     </td></tr>\n",
       "\t<tr><td>-87.58806</td><td>30.32665 </td><td>1        </td><td>6        </td><td>alabama  </td><td>NA       </td><td>15.1     </td></tr>\n",
       "</tbody>\n",
       "</table>\n"
      ],
      "text/latex": [
       "\\begin{tabular}{r|lllllll}\n",
       " long & lat & group & order & region & subregion & InfoValue\\\\\n",
       "\\hline\n",
       "\t -87.46201 & 30.38968  & 1         & 1         & alabama   & NA        & 15.1     \\\\\n",
       "\t -87.48493 & 30.37249  & 1         & 2         & alabama   & NA        & 15.1     \\\\\n",
       "\t -87.52503 & 30.37249  & 1         & 3         & alabama   & NA        & 15.1     \\\\\n",
       "\t -87.53076 & 30.33239  & 1         & 4         & alabama   & NA        & 15.1     \\\\\n",
       "\t -87.57087 & 30.32665  & 1         & 5         & alabama   & NA        & 15.1     \\\\\n",
       "\t -87.58806 & 30.32665  & 1         & 6         & alabama   & NA        & 15.1     \\\\\n",
       "\\end{tabular}\n"
      ],
      "text/markdown": [
       "\n",
       "long | lat | group | order | region | subregion | InfoValue | \n",
       "|---|---|---|---|---|---|\n",
       "| -87.46201 | 30.38968  | 1         | 1         | alabama   | NA        | 15.1      | \n",
       "| -87.48493 | 30.37249  | 1         | 2         | alabama   | NA        | 15.1      | \n",
       "| -87.52503 | 30.37249  | 1         | 3         | alabama   | NA        | 15.1      | \n",
       "| -87.53076 | 30.33239  | 1         | 4         | alabama   | NA        | 15.1      | \n",
       "| -87.57087 | 30.32665  | 1         | 5         | alabama   | NA        | 15.1      | \n",
       "| -87.58806 | 30.32665  | 1         | 6         | alabama   | NA        | 15.1      | \n",
       "\n",
       "\n"
      ],
      "text/plain": [
       "  long      lat      group order region  subregion InfoValue\n",
       "1 -87.46201 30.38968 1     1     alabama NA        15.1     \n",
       "2 -87.48493 30.37249 1     2     alabama NA        15.1     \n",
       "3 -87.52503 30.37249 1     3     alabama NA        15.1     \n",
       "4 -87.53076 30.33239 1     4     alabama NA        15.1     \n",
       "5 -87.57087 30.32665 1     5     alabama NA        15.1     \n",
       "6 -87.58806 30.32665 1     6     alabama NA        15.1     "
      ]
     },
     "metadata": {},
     "output_type": "display_data"
    }
   ],
   "source": [
    "head(state_map)"
   ]
  },
  {
   "cell_type": "markdown",
   "metadata": {
    "slideshow": {
     "slide_type": "subslide"
    }
   },
   "source": [
    "Less efficient, less clean, but still valid\n",
    "```\n",
    "  state_info <- as.data.frame(state.x77)\n",
    "  rownames(state_info) <- \n",
    "      tolower(rownames(state_info))\n",
    "  for(rw in 1:nrow(state_map)) {\n",
    "    rw_state <- state_map$region[rw]\n",
    "    state_map$InfoValue[rw] \n",
    "       <- state_info[rw_state, 'Murder' ]\n",
    "  }\n",
    "  ```\n",
    "Were all states covered? (Exercise)"
   ]
  },
  {
   "cell_type": "markdown",
   "metadata": {
    "slideshow": {
     "slide_type": "slide"
    }
   },
   "source": [
    "Make functions for repeated operations"
   ]
  },
  {
   "cell_type": "code",
   "execution_count": 28,
   "metadata": {
    "collapsed": false
   },
   "outputs": [],
   "source": [
    "AddInfoValue <- function(info_type) {\n",
    "  state_map <- map_data('state')\n",
    "  state_map[,c( 'InfoValue', 'InfoType')] <- NA\n",
    "  for(nm in rownames(state_info)) {\n",
    "    rw_indx <- state_map$region == tolower(nm)\n",
    "    state_map$InfoValue[rw_indx] <- state_info[nm,info_type]\n",
    "    state_map$InfoType[rw_indx]  <- info_type\n",
    "  }\n",
    "  state_map <- state_map[!is.na(state_map$InfoValue),]\n",
    "}"
   ]
  },
  {
   "cell_type": "code",
   "execution_count": 29,
   "metadata": {
    "collapsed": true,
    "slideshow": {
     "slide_type": "fragment"
    }
   },
   "outputs": [],
   "source": [
    "info_frame <- rbind(AddInfoValue( 'Life Exp'),\n",
    "                    AddInfoValue('HS Grad' ))"
   ]
  },
  {
   "cell_type": "code",
   "execution_count": 31,
   "metadata": {
    "collapsed": false
   },
   "outputs": [
    {
     "data": {
      "text/html": [
       "<table>\n",
       "<thead><tr><th scope=col>long</th><th scope=col>lat</th><th scope=col>group</th><th scope=col>order</th><th scope=col>region</th><th scope=col>subregion</th><th scope=col>InfoValue</th><th scope=col>InfoType</th></tr></thead>\n",
       "<tbody>\n",
       "\t<tr><td>-87.46201</td><td>30.38968 </td><td>1        </td><td>1        </td><td>alabama  </td><td>NA       </td><td>69.05    </td><td>Life Exp </td></tr>\n",
       "\t<tr><td>-87.48493</td><td>30.37249 </td><td>1        </td><td>2        </td><td>alabama  </td><td>NA       </td><td>69.05    </td><td>Life Exp </td></tr>\n",
       "\t<tr><td>-87.52503</td><td>30.37249 </td><td>1        </td><td>3        </td><td>alabama  </td><td>NA       </td><td>69.05    </td><td>Life Exp </td></tr>\n",
       "\t<tr><td>-87.53076</td><td>30.33239 </td><td>1        </td><td>4        </td><td>alabama  </td><td>NA       </td><td>69.05    </td><td>Life Exp </td></tr>\n",
       "\t<tr><td>-87.57087</td><td>30.32665 </td><td>1        </td><td>5        </td><td>alabama  </td><td>NA       </td><td>69.05    </td><td>Life Exp </td></tr>\n",
       "\t<tr><td>-87.58806</td><td>30.32665 </td><td>1        </td><td>6        </td><td>alabama  </td><td>NA       </td><td>69.05    </td><td>Life Exp </td></tr>\n",
       "</tbody>\n",
       "</table>\n"
      ],
      "text/latex": [
       "\\begin{tabular}{r|llllllll}\n",
       " long & lat & group & order & region & subregion & InfoValue & InfoType\\\\\n",
       "\\hline\n",
       "\t -87.46201 & 30.38968  & 1         & 1         & alabama   & NA        & 69.05     & Life Exp \\\\\n",
       "\t -87.48493 & 30.37249  & 1         & 2         & alabama   & NA        & 69.05     & Life Exp \\\\\n",
       "\t -87.52503 & 30.37249  & 1         & 3         & alabama   & NA        & 69.05     & Life Exp \\\\\n",
       "\t -87.53076 & 30.33239  & 1         & 4         & alabama   & NA        & 69.05     & Life Exp \\\\\n",
       "\t -87.57087 & 30.32665  & 1         & 5         & alabama   & NA        & 69.05     & Life Exp \\\\\n",
       "\t -87.58806 & 30.32665  & 1         & 6         & alabama   & NA        & 69.05     & Life Exp \\\\\n",
       "\\end{tabular}\n"
      ],
      "text/markdown": [
       "\n",
       "long | lat | group | order | region | subregion | InfoValue | InfoType | \n",
       "|---|---|---|---|---|---|\n",
       "| -87.46201 | 30.38968  | 1         | 1         | alabama   | NA        | 69.05     | Life Exp  | \n",
       "| -87.48493 | 30.37249  | 1         | 2         | alabama   | NA        | 69.05     | Life Exp  | \n",
       "| -87.52503 | 30.37249  | 1         | 3         | alabama   | NA        | 69.05     | Life Exp  | \n",
       "| -87.53076 | 30.33239  | 1         | 4         | alabama   | NA        | 69.05     | Life Exp  | \n",
       "| -87.57087 | 30.32665  | 1         | 5         | alabama   | NA        | 69.05     | Life Exp  | \n",
       "| -87.58806 | 30.32665  | 1         | 6         | alabama   | NA        | 69.05     | Life Exp  | \n",
       "\n",
       "\n"
      ],
      "text/plain": [
       "  long      lat      group order region  subregion InfoValue InfoType\n",
       "1 -87.46201 30.38968 1     1     alabama NA        69.05     Life Exp\n",
       "2 -87.48493 30.37249 1     2     alabama NA        69.05     Life Exp\n",
       "3 -87.52503 30.37249 1     3     alabama NA        69.05     Life Exp\n",
       "4 -87.53076 30.33239 1     4     alabama NA        69.05     Life Exp\n",
       "5 -87.57087 30.32665 1     5     alabama NA        69.05     Life Exp\n",
       "6 -87.58806 30.32665 1     6     alabama NA        69.05     Life Exp"
      ]
     },
     "metadata": {},
     "output_type": "display_data"
    }
   ],
   "source": [
    "head(info_frame)"
   ]
  },
  {
   "cell_type": "code",
   "execution_count": 32,
   "metadata": {
    "collapsed": true,
    "slideshow": {
     "slide_type": "slide"
    }
   },
   "outputs": [
    {
     "data": {},
     "metadata": {},
     "output_type": "display_data"
    },
    {
     "data": {
      "image/png": "[encoded data removed]",
      "text/plain": [
       "plot without title"
      ]
     },
     "metadata": {},
     "output_type": "display_data"
    }
   ],
   "source": [
    "ggplot()+geom_map(map = info_frame, map_id=info_frame$region,\n",
    "        data = info_frame, aes(fill=InfoValue)) +\n",
    "expand_limits(x = info_frame$long, y = info_frame$lat) +\n",
    "facet_grid(.~InfoType)"
   ]
  },
  {
   "cell_type": "markdown",
   "metadata": {
    "slideshow": {
     "slide_type": "slide"
    }
   },
   "source": [
    "We want to add mean latitude and longitude"
   ]
  },
  {
   "cell_type": "code",
   "execution_count": 33,
   "metadata": {
    "collapsed": true,
    "slideshow": {
     "slide_type": "subslide"
    }
   },
   "outputs": [],
   "source": [
    "AddMeanLatLong <- function() {\n",
    "  state_map  <- map_data('state')\n",
    "  state_info <- as.data.frame(state.x77)\n",
    "  state_info[,c('Lat', 'Long')] <- NA\n",
    "  for(nm in rownames(state_info)) {\n",
    "    rw_indx <- state_map$region == tolower(nm)\n",
    "    state_info[nm, 'Lat']  <- mean(state_map$lat[rw_indx])\n",
    "    state_info[nm, 'Long'] <- mean(state_map$long[rw_indx])\n",
    "  }\n",
    "  state_info <- state_info[!is.na(state_info$Lat),]\n",
    "}"
   ]
  },
  {
   "cell_type": "code",
   "execution_count": 39,
   "metadata": {
    "collapsed": true,
    "slideshow": {
     "slide_type": "subslide"
    }
   },
   "outputs": [
    {
     "data": {},
     "metadata": {},
     "output_type": "display_data"
    },
    {
     "data": {
      "image/png": "[encoded data removed]",
      "text/plain": [
       "plot without title"
      ]
     },
     "metadata": {},
     "output_type": "display_data"
    }
   ],
   "source": [
    "p <- ggplot() + geom_map(map = state_map, map_id=state_map$region,\n",
    "             data = state_map, aes(fill=InfoValue)) +\n",
    "             expand_limits(x = state_map$long, y = state_map$lat)\n",
    "info_frame <- AddMeanLatLong()\n",
    "p1 <- p + geom_point(data = info_frame, \n",
    "                     aes(x=Long,y=Lat,size=Murder),alpha=0.5)\n",
    "p1"
   ]
  },
  {
   "cell_type": "markdown",
   "metadata": {
    "slideshow": {
     "slide_type": "slide"
    }
   },
   "source": [
    "Maybe add one more function?"
   ]
  },
  {
   "cell_type": "code",
   "execution_count": 40,
   "metadata": {
    "collapsed": true,
    "slideshow": {
     "slide_type": "fragment"
    }
   },
   "outputs": [],
   "source": [
    "getMeanLatLong <- function(ip_map, state) {\n",
    "# Expects lowercase states as input\n",
    "  rw_indx <- ip_map$region == state\n",
    "     c(Lat = mean(state_map$lat[rw_indx]),\n",
    "       Long = mean(state_map$long[rw_indx]))\n",
    "}\n",
    "AddMeanLatLong <- function(ip_map) {\n",
    "  state_info <- as.data.frame(state.x77)\n",
    "  state_info[,c( 'Lat' , 'Long' )] <- NA\n",
    "  for(nm in rownames(USArrests))\n",
    "    state_info[nm, c( 'Lat' , 'Long' )] <-\n",
    "      getMeanLatLong(ip_map, tolower(nm))\n",
    "  state_info <- state_info[!is.na(state_info$Lat),]\n",
    "}"
   ]
  },
  {
   "cell_type": "markdown",
   "metadata": {
    "slideshow": {
     "slide_type": "slide"
    }
   },
   "source": [
    "### apply functions\n",
    "In the final part I asked you to replace the for loop with sapply"
   ]
  },
  {
   "cell_type": "markdown",
   "metadata": {},
   "source": [
    "```R\n",
    "my_func <- function(mf_ip) {\n",
    "# Stuff\n",
    "}\n",
    "my_arr <- rnorm(100)\n",
    "new_arr <- array(0, length(my_arr))\n",
    "for(i in 1:length(my_arr) {\n",
    "new_arr[i] <- my_func(my_arr[i]) \n",
    "# For some function my_func\n",
    "}\n",
    "```"
   ]
  },
  {
   "cell_type": "markdown",
   "metadata": {
    "slideshow": {
     "slide_type": "fragment"
    }
   },
   "source": [
    "Cleaner:\n",
    "```R\n",
    " new_arr <- sapply(my_arr, my_func)\n",
    " ```"
   ]
  },
  {
   "cell_type": "markdown",
   "metadata": {
    "slideshow": {
     "slide_type": "subslide"
    }
   },
   "source": [
    "### apply functions\n",
    "\n",
    "Note: \\*apply functions do not vectorize loops\n",
    "\n",
    "They just hide them for convenience, clarity and to avoid bugs\n",
    "\n",
    "When possible, vectorize code:\n",
    "\n",
    "Bad:\n",
    "``` R\n",
    "my_arr <- 1:10\n",
    "sapply(my_arr, sqrt)\n",
    "```\n",
    "Good:\n",
    "``` R\n",
    "my_arr <- 1:10\n",
    "sqrt(my_arr) # Cleaner and faster\n",
    "```"
   ]
  },
  {
   "cell_type": "markdown",
   "metadata": {
    "slideshow": {
     "slide_type": "subslide"
    }
   },
   "source": [
    "`lapply,sapply,vapply` etc: hard to remember which does what\n",
    "\n",
    "`plyr` package provides simpler interface"
   ]
  }
 ],
 "metadata": {
  "anaconda-cloud": {},
  "celltoolbar": "Slideshow",
  "kernelspec": {
   "display_name": "R",
   "language": "R",
   "name": "ir"
  },
  "language_info": {
   "codemirror_mode": "r",
   "file_extension": ".r",
   "mimetype": "text/x-r-source",
   "name": "R",
   "pygments_lexer": "r",
   "version": "3.3.2"
  },
  "livereveal": {
   "max-width": 1620,
   "scroll": true,
   "start_slideshow_at": "selected",
   "theme": "sky"
  }
 },
 "nbformat": 4,
 "nbformat_minor": 2
}
