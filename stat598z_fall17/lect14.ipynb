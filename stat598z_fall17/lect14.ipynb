{
 "cells": [
  {
   "cell_type": "markdown",
   "metadata": {
    "slideshow": {
     "slide_type": "slide"
    }
   },
   "source": [
    "## Lecture 14: Data carpentry with `tidyverse`\n",
    "\n",
    "### STAT598z: Intro. to computing for statistics\n",
    "\n",
    "\n",
    "***\n",
    "\n",
    "\n",
    "\n",
    "\n",
    "### Vinayak Rao\n",
    "\n",
    "#### Department of Statistics, Purdue University"
   ]
  },
  {
   "cell_type": "code",
   "execution_count": null,
   "metadata": {
    "collapsed": true,
    "slideshow": {
     "slide_type": "skip"
    }
   },
   "outputs": [],
   "source": [
    "options(repr.plot.width=5, repr.plot.height=3)"
   ]
  },
  {
   "cell_type": "markdown",
   "metadata": {
    "slideshow": {
     "slide_type": "slide"
    }
   },
   "source": [
    "We will use a dataset of movies scraped off IMDB:\n",
    "https://www.kaggle.com/deepmatrix/imdb-5000-movie-dataset\n",
    "+ Available from the class website"
   ]
  },
  {
   "cell_type": "code",
   "execution_count": null,
   "metadata": {
    "collapsed": false,
    "slideshow": {
     "slide_type": "-"
    }
   },
   "outputs": [],
   "source": [
    "movies_orig <- read.csv('~/RSRCH/DATA/movie_metadata.csv')\n",
    "movies      <- movies_orig\n",
    "# Can view this in RStudio using View(movies)\n",
    "movies[1,]"
   ]
  },
  {
   "cell_type": "code",
   "execution_count": null,
   "metadata": {
    "collapsed": false,
    "slideshow": {
     "slide_type": "slide"
    }
   },
   "outputs": [],
   "source": [
    "unique(movies$director_name)"
   ]
  },
  {
   "cell_type": "code",
   "execution_count": null,
   "metadata": {
    "collapsed": false
   },
   "outputs": [],
   "source": [
    "unique(movies$director_name[movies$imdb_score>8.5])"
   ]
  },
  {
   "cell_type": "code",
   "execution_count": null,
   "metadata": {
    "collapsed": false,
    "slideshow": {
     "slide_type": "-"
    }
   },
   "outputs": [],
   "source": [
    "(movies$movie_title[movies$imdb_score>9])"
   ]
  },
  {
   "cell_type": "code",
   "execution_count": null,
   "metadata": {
    "collapsed": false,
    "slideshow": {
     "slide_type": "slide"
    }
   },
   "outputs": [],
   "source": [
    "library('tidyverse')\n",
    "movies <- as_tibble(movies)"
   ]
  },
  {
   "cell_type": "markdown",
   "metadata": {},
   "source": [
    "Most functions that works with dataframes works with tibbles \n",
    "+ functions in `tidyverse` require tibbles\n",
    "+ additionally, tibbles have some nice conveniences "
   ]
  },
  {
   "cell_type": "code",
   "execution_count": null,
   "metadata": {
    "collapsed": false,
    "scrolled": false
   },
   "outputs": [],
   "source": [
    "my_rnd <- tibble(x=rnorm(10), y = x+1)\n",
    "print(my_rnd) # tibbles also print a bit more nicely"
   ]
  },
  {
   "cell_type": "markdown",
   "metadata": {
    "slideshow": {
     "slide_type": "slide"
    }
   },
   "source": [
    "### The 'pipe' operator `%>%`\n",
    "`tidyuniverse` gets this from package `purrr` \n",
    "+ `magrittr` offers additional functionality"
   ]
  },
  {
   "cell_type": "markdown",
   "metadata": {
    "slideshow": {
     "slide_type": "slide"
    }
   },
   "source": [
    "### A side point on infix functions\n",
    "%func_name% is syntax for infix (rather than prefix) functions:"
   ]
  },
  {
   "cell_type": "code",
   "execution_count": null,
   "metadata": {
    "collapsed": false
   },
   "outputs": [],
   "source": [
    "'%plus%' <- function(x,y) x+y\n",
    "    \n",
    "1 %plus% 2;"
   ]
  },
  {
   "cell_type": "markdown",
   "metadata": {
    "slideshow": {
     "slide_type": "subslide"
    }
   },
   "source": [
    "%>% pipes output of first function to first argument of the second\n",
    "\n",
    "Can give more readable code. E.g. consider\n"
   ]
  },
  {
   "cell_type": "code",
   "execution_count": null,
   "metadata": {
    "collapsed": false
   },
   "outputs": [],
   "source": [
    "range(\n",
    "      movies$actor_1_facebook_likes[\n",
    "        order(\n",
    "              movies$imdb_score, decreasing = T\n",
    "             )\n",
    "       ][1:10]\n",
    "     )\n",
    "# range(movies$actor_1_facebook_likes[\n",
    "#   order(movies$imdb_score, decreasing = T)][1:10])"
   ]
  },
  {
   "cell_type": "markdown",
   "metadata": {},
   "source": [
    "Have to parse code from inside to outside."
   ]
  },
  {
   "cell_type": "code",
   "execution_count": null,
   "metadata": {
    "collapsed": false,
    "slideshow": {
     "slide_type": "fragment"
    }
   },
   "outputs": [],
   "source": [
    "movies$imdb_score %>% \n",
    "  order(decreasing = T) %>% \n",
    "  movies$actor_1_facebook_likes[.] %>% \n",
    "  .[1:10] %>%\n",
    "  range"
   ]
  },
  {
   "cell_type": "markdown",
   "metadata": {
    "slideshow": {
     "slide_type": "slide"
    }
   },
   "source": [
    "By default, output of function to left of `%>%` is  the first argument of the function to the right\n",
    "\n",
    "Use `.` as placeholder if argument you are piping to is not the first"
   ]
  },
  {
   "cell_type": "code",
   "execution_count": null,
   "metadata": {
    "collapsed": false
   },
   "outputs": [],
   "source": [
    "4 %>% log(2)"
   ]
  },
  {
   "cell_type": "code",
   "execution_count": null,
   "metadata": {
    "collapsed": false
   },
   "outputs": [],
   "source": [
    "4 %>% log(2,.)"
   ]
  },
  {
   "cell_type": "markdown",
   "metadata": {
    "slideshow": {
     "slide_type": "fragment"
    }
   },
   "source": [
    "Can pipe to multiple arguments"
   ]
  },
  {
   "cell_type": "code",
   "execution_count": null,
   "metadata": {
    "collapsed": false
   },
   "outputs": [],
   "source": [
    "2 %>% log(.+6,.)"
   ]
  },
  {
   "cell_type": "markdown",
   "metadata": {
    "slideshow": {
     "slide_type": "fragment"
    }
   },
   "source": [
    "Pipes in pipes are possible (but be careful)"
   ]
  },
  {
   "cell_type": "code",
   "execution_count": null,
   "metadata": {
    "collapsed": false
   },
   "outputs": [],
   "source": [
    "2 %>% log(.+6 %>% .^2 %>% print,.)"
   ]
  },
  {
   "cell_type": "markdown",
   "metadata": {
    "slideshow": {
     "slide_type": "subslide"
    }
   },
   "source": [
    "`tiyverse` gets `%>%` from the `purrr` package\n",
    "\n",
    "The `magrittr` package provides more such functions.\n",
    "\n",
    "E.g. the T-pipe `%T>%` passes the LHS onwards \n",
    "+ useful for functions like plot where output isn't important"
   ]
  },
  {
   "cell_type": "code",
   "execution_count": null,
   "metadata": {
    "collapsed": false
   },
   "outputs": [],
   "source": [
    "library(magrittr); rnorm(100) %T>% hist  %>% mean"
   ]
  },
  {
   "cell_type": "markdown",
   "metadata": {
    "slideshow": {
     "slide_type": "skip"
    }
   },
   "source": [
    "http://www.fromthebottomoftheheap.net/2015/06/03/my-aversion-to-pipes/^\n",
    "\n",
    "https://cran.r-project.org/web/packages/magrittr/vignettes/magrittr.html\n",
    "\n",
    "https://www.r-statistics.com/2014/08/simpler-r-coding-with-pipes-the-present-and-future-of-the-magrittr-package/"
   ]
  },
  {
   "cell_type": "markdown",
   "metadata": {
    "slideshow": {
     "slide_type": "slide"
    }
   },
   "source": [
    "Our next package from `tidyverse` is `dplyr`\n",
    "\n",
    "\n",
    "+   `filter`: select observations by values (rows)\n",
    "+   `arrange`: reorder rows\n",
    "+   `select`: pick variables (columns) by their names\n",
    "+   `mutate`: create new variables from existing variables\n",
    "+   `summarise`: summarise many values\n",
    "\n",
    "The scope of each is determined by `group_by`\n",
    "\n",
    "For a more thorough overview, look at *R for Data Science* (http://r4ds.had.co.nz/transform.html#datatransformation)"
   ]
  },
  {
   "cell_type": "markdown",
   "metadata": {
    "slideshow": {
     "slide_type": "slide"
    }
   },
   "source": [
    "### The filter `filter()` function\n",
    "\n",
    "Select observations/rows based on value\n",
    "\n",
    "Cleaner alternative to indexing with logicals and `which`"
   ]
  },
  {
   "cell_type": "code",
   "execution_count": null,
   "metadata": {
    "collapsed": false,
    "slideshow": {
     "slide_type": "fragment"
    }
   },
   "outputs": [],
   "source": [
    "deniro <- filter(movies,actor_1_name == \"Robert De Niro\")\n",
    "deniro[,c('imdb_score','movie_title')]"
   ]
  },
  {
   "cell_type": "code",
   "execution_count": null,
   "metadata": {
    "collapsed": false,
    "scrolled": true,
    "slideshow": {
     "slide_type": "fragment"
    }
   },
   "outputs": [],
   "source": [
    "deniro_good <- filter(movies,actor_1_name == \"Robert De Niro\", \n",
    "                        imdb_score > 7)\n",
    "deniro_good[,c('imdb_score','movie_title')]"
   ]
  },
  {
   "cell_type": "markdown",
   "metadata": {
    "slideshow": {
     "slide_type": "subslide"
    }
   },
   "source": [
    "Multiple argument are equivalent to logical AND (`&`):\n",
    "```\n",
    " deniro_good <- filter(movies,actor_1_name == \"Robert De Niro\" & imdb_score > 7)\n",
    " ```\n",
    " Logical or's must be written using `|`"
   ]
  },
  {
   "cell_type": "code",
   "execution_count": null,
   "metadata": {
    "collapsed": false,
    "slideshow": {
     "slide_type": "fragment"
    }
   },
   "outputs": [],
   "source": [
    "dnr_pcn<-filter(movies,(actor_1_name==\"Robert De Niro\") |\n",
    "                            (actor_1_name==\"Al Pacino\"), \n",
    "                        imdb_score > 7)\n",
    "dnr_pcn[,c('actor_1_name','imdb_score','movie_title')]"
   ]
  },
  {
   "cell_type": "markdown",
   "metadata": {
    "slideshow": {
     "slide_type": "slide"
    }
   },
   "source": [
    "###  The `select()` function\n",
    "\n",
    "Unlike `filter()`, `select()` picks columns of a tibble"
   ]
  },
  {
   "cell_type": "code",
   "execution_count": null,
   "metadata": {
    "collapsed": false
   },
   "outputs": [],
   "source": [
    "select(deniro_good, movie_title, imdb_score)"
   ]
  },
  {
   "cell_type": "code",
   "execution_count": null,
   "metadata": {
    "collapsed": false,
    "slideshow": {
     "slide_type": "fragment"
    }
   },
   "outputs": [],
   "source": [
    "select(deniro_good, director_name:actor_2_name)[1:10,]"
   ]
  },
  {
   "cell_type": "markdown",
   "metadata": {
    "slideshow": {
     "slide_type": "fragment"
    }
   },
   "source": [
    "Can also use `-` to eliminate columns:"
   ]
  },
  {
   "cell_type": "code",
   "execution_count": null,
   "metadata": {
    "collapsed": false
   },
   "outputs": [],
   "source": [
    "select(deniro_good, -(director_name:actor_2_name))"
   ]
  },
  {
   "cell_type": "markdown",
   "metadata": {
    "slideshow": {
     "slide_type": "fragment"
    }
   },
   "source": [
    "Also includes convenience functions like `contains(\"actor\")` and\n",
    "`num_range(\"var\",1:3)`"
   ]
  },
  {
   "cell_type": "markdown",
   "metadata": {
    "slideshow": {
     "slide_type": "slide"
    }
   },
   "source": [
    "### The `arrange()` function\n",
    "\n",
    "Orders rows in increasing order of any chosen column\n",
    "* Additional columns can be provided to break ties\n",
    "* `desc()` can be used to sort in decreasing order\n",
    "\n",
    "Missing values always go at the end"
   ]
  },
  {
   "cell_type": "code",
   "execution_count": null,
   "metadata": {
    "collapsed": true
   },
   "outputs": [],
   "source": [
    "tmp <- arrange(movies, imdb_score)"
   ]
  },
  {
   "cell_type": "code",
   "execution_count": null,
   "metadata": {
    "collapsed": true
   },
   "outputs": [],
   "source": [
    "tmp <- arrange(movies, imdb_score, gross)"
   ]
  },
  {
   "cell_type": "code",
   "execution_count": null,
   "metadata": {
    "collapsed": true
   },
   "outputs": [],
   "source": [
    "tmp <- arrange(movies, desc(imdb_score), desc(gross))"
   ]
  },
  {
   "cell_type": "markdown",
   "metadata": {
    "slideshow": {
     "slide_type": "slide"
    }
   },
   "source": [
    "### The `mutate()` function\n",
    "\n",
    "Creates new columns at the end of current data.frame"
   ]
  },
  {
   "cell_type": "code",
   "execution_count": null,
   "metadata": {
    "collapsed": false
   },
   "outputs": [],
   "source": [
    "movies %>% \n",
    "     select(movie_title, imdb_score, gross, budget) %>%\n",
    "     mutate(succ = gross/budget) %>%\n",
    "     arrange((succ)) %>% .[1:20,]"
   ]
  },
  {
   "cell_type": "markdown",
   "metadata": {
    "slideshow": {
     "slide_type": "fragment"
    }
   },
   "source": [
    "Why are some movies making such horrific losses?"
   ]
  },
  {
   "cell_type": "markdown",
   "metadata": {
    "slideshow": {
     "slide_type": "subslide"
    }
   },
   "source": [
    "`mutate` can refer to functions just created\n",
    "\n"
   ]
  },
  {
   "cell_type": "code",
   "execution_count": null,
   "metadata": {
    "collapsed": false
   },
   "outputs": [],
   "source": [
    "movies %>% \n",
    "  select(movie_title, imdb_score, gross, budget) %>%\n",
    "  mutate(succ = gross-budget, perc= 100*succ/budget) %>%\n",
    "  distinct %>% arrange(desc(succ))"
   ]
  },
  {
   "cell_type": "markdown",
   "metadata": {
    "slideshow": {
     "slide_type": "subslide"
    }
   },
   "source": [
    "`distinct()` is a useful function to remove repeated rows\n",
    "+ can provide column names as arguments for partial repetitions\n",
    "\n",
    "`transmute()` is useful if we only care about the new column"
   ]
  },
  {
   "cell_type": "markdown",
   "metadata": {
    "slideshow": {
     "slide_type": "slide"
    }
   },
   "source": [
    "###  `summarise()` and `group_by()`\n",
    "\n",
    "Summarise collapses a dataframe to a single row:"
   ]
  },
  {
   "cell_type": "code",
   "execution_count": null,
   "metadata": {
    "collapsed": false
   },
   "outputs": [],
   "source": [
    "summarise(movies, score = mean(imdb_score))"
   ]
  },
  {
   "cell_type": "markdown",
   "metadata": {
    "slideshow": {
     "slide_type": "fragment"
    }
   },
   "source": [
    "Becomes very powerful in conjunction with `group_by()`"
   ]
  },
  {
   "cell_type": "code",
   "execution_count": null,
   "metadata": {
    "collapsed": false,
    "scrolled": false
   },
   "outputs": [],
   "source": [
    "top_dir <- movies %>% group_by(director_name) %>% \n",
    "        summarise(score = mean(imdb_score)) %>% \n",
    "        arrange(desc(score)) \n",
    "top_dir[1:15,]"
   ]
  },
  {
   "cell_type": "markdown",
   "metadata": {
    "slideshow": {
     "slide_type": "subslide"
    }
   },
   "source": [
    "`n()` is a convenient function to get number of elements"
   ]
  },
  {
   "cell_type": "code",
   "execution_count": null,
   "metadata": {
    "collapsed": false,
    "slideshow": {
     "slide_type": "-"
    }
   },
   "outputs": [],
   "source": [
    "top_dir <- movies %>% group_by(director_name) %>% \n",
    "        summarise(count=n(), score = mean(imdb_score)) %>% \n",
    "        arrange(desc(score)) %>% \n",
    "        filter(count>=5)\n",
    "top_dir"
   ]
  },
  {
   "cell_type": "code",
   "execution_count": null,
   "metadata": {
    "collapsed": true,
    "slideshow": {
     "slide_type": "subslide"
    }
   },
   "outputs": [],
   "source": [
    "yr_scr <- movies %>% group_by(title_year) %>% \n",
    "         summarise(count=n(), score = median(imdb_score), \n",
    "                              ymin = quantile(imdb_score,.1),\n",
    "                              ymax=quantile(imdb_score,.9)) %>% \n",
    "         arrange(score) %>% filter(count>=5)"
   ]
  },
  {
   "cell_type": "code",
   "execution_count": null,
   "metadata": {
    "collapsed": false,
    "slideshow": {
     "slide_type": "fragment"
    }
   },
   "outputs": [],
   "source": [
    "ggplot(yr_scr , aes(x=title_year, y = score)) + \n",
    "    geom_line() + \n",
    "    geom_errorbar(aes(ymin=ymin,ymax=ymax))"
   ]
  },
  {
   "cell_type": "markdown",
   "metadata": {
    "slideshow": {
     "slide_type": "subslide"
    }
   },
   "source": [
    "Can have nested groupings (can revert with `ungroup()`)"
   ]
  },
  {
   "cell_type": "code",
   "execution_count": null,
   "metadata": {
    "collapsed": false,
    "scrolled": true,
    "slideshow": {
     "slide_type": "-"
    }
   },
   "outputs": [],
   "source": [
    "act_dir<-movies %>% group_by(actor_1_name,director_name) %>% \n",
    "        distinct(movie_title, .keep_all = T) %>%\n",
    "        summarise(num = n(), scr = mean(imdb_score), \n",
    "                  ttl = paste(movie_title, collapse=\";\")) %>% \n",
    "        arrange(desc(scr)) %>% filter(num>2) %>% \n",
    "        select(actor_1_name,director_name,num, scr,ttl) \n",
    "act_dir[1:20,] "
   ]
  },
  {
   "cell_type": "markdown",
   "metadata": {
    "slideshow": {
     "slide_type": "slide"
    }
   },
   "source": [
    "Let's try something more complicated:\n",
    "+  Can we analyse scores/earnings across genres?\n",
    "\n",
    "Things are actually a bit more complicated:"
   ]
  },
  {
   "cell_type": "code",
   "execution_count": null,
   "metadata": {
    "collapsed": false
   },
   "outputs": [],
   "source": [
    "levels(movies$genres)"
   ]
  },
  {
   "cell_type": "code",
   "execution_count": null,
   "metadata": {
    "collapsed": false,
    "slideshow": {
     "slide_type": "fragment"
    }
   },
   "outputs": [],
   "source": [
    "gnr_type <- as.character(levels(movies_orig$genres)) %>% strsplit('\\\\|') %>%\n",
    "   unlist %>% unique\n",
    "gnr_type"
   ]
  },
  {
   "cell_type": "code",
   "execution_count": null,
   "metadata": {
    "collapsed": false,
    "slideshow": {
     "slide_type": "fragment"
    }
   },
   "outputs": [],
   "source": [
    "movies[,gnr_type] <- F\n",
    "movies$genres <- as.character(movies$genres)\n",
    "movies[29:54]"
   ]
  },
  {
   "cell_type": "code",
   "execution_count": null,
   "metadata": {
    "collapsed": false,
    "slideshow": {
     "slide_type": "subslide"
    }
   },
   "outputs": [],
   "source": [
    "for(ii in 1:nrow(movies)) { # Will look at better approaches\n",
    "  movies[ii,gnr_type] <- \n",
    "   gnr_type %in% strsplit(movies$genres[ii],\"\\\\|\")[[1]]\n",
    "}\n",
    "\n",
    "colnames(movies)[38] <- \"Sci_fi\"\n",
    "colnames(movies)[54] <- \"Game_Show\"\n",
    "colnames(movies)[53] <- \"Film_Noir\"\n",
    "colnames(movies)[51] <- \"Reality_TV\"\n",
    "gnr_type <- colnames(movies)[29:54]"
   ]
  },
  {
   "cell_type": "code",
   "execution_count": null,
   "metadata": {
    "collapsed": false,
    "slideshow": {
     "slide_type": "subslide"
    }
   },
   "outputs": [],
   "source": [
    "rslt <- lm(paste(\"imdb_score ~\", (paste(gnr_type,collapse = '+'))), movies)\n",
    "rslt"
   ]
  },
  {
   "cell_type": "code",
   "execution_count": null,
   "metadata": {
    "collapsed": false
   },
   "outputs": [],
   "source": [
    "movies$ntile <- ntile(movies$imdb_score,10)"
   ]
  },
  {
   "cell_type": "code",
   "execution_count": null,
   "metadata": {
    "collapsed": false,
    "slideshow": {
     "slide_type": "slide"
    }
   },
   "outputs": [],
   "source": [
    "gnr_frac <- movies %>% group_by(ntile) %>% select(Action:Game_Show)%>% summarise_each(funs(mean))\n",
    "gnr_frac"
   ]
  },
  {
   "cell_type": "code",
   "execution_count": null,
   "metadata": {
    "collapsed": false,
    "slideshow": {
     "slide_type": "skip"
    }
   },
   "outputs": [],
   "source": [
    "library('RColorBrewer')\n",
    "gnr_frac %>% mutate_each(funs(./sum(.)),Action:Game_Show) %>% gather('Genre','Count',Action:Game_Show) %>% ggplot() + \n",
    "  geom_line(aes(x=ntile,y=Count,color=Genre,linetype=Genre),size=1) + \n",
    "  scale_linetype_manual(values = c(rep(\"solid\", 12), rep(\"dashed\", 11),rep(\"twodash\",3))) +\n",
    "  scale_color_manual(values = c(brewer.pal(12, \"Set3\"), brewer.pal(11, \"Set3\"),\n",
    "                                brewer.pal(3,\"Set3\"))) + \n",
    "  scale_y_log10()"
   ]
  }
 ],
 "metadata": {
  "anaconda-cloud": {},
  "celltoolbar": "Slideshow",
  "kernelspec": {
   "display_name": "R",
   "language": "R",
   "name": "ir"
  },
  "language_info": {
   "codemirror_mode": "r",
   "file_extension": ".r",
   "mimetype": "text/x-r-source",
   "name": "R",
   "pygments_lexer": "r",
   "version": "3.3.2"
  },
  "livereveal": {
   "max-width": 1620,
   "scroll": true,
   "start_slideshow_at": "selected",
   "theme": "sky"
  }
 },
 "nbformat": 4,
 "nbformat_minor": 2
}
