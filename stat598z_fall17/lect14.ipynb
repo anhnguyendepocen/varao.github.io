{
 "cells": [
  {
   "cell_type": "markdown",
   "metadata": {
    "slideshow": {
     "slide_type": "slide"
    }
   },
   "source": [
    "## Lecture 14: Data carpentry with `tidyverse`\n",
    "\n",
    "### STAT598z: Intro. to computing for statistics\n",
    "\n",
    "\n",
    "***\n",
    "\n",
    "\n",
    "\n",
    "\n",
    "### Vinayak Rao\n",
    "\n",
    "#### Department of Statistics, Purdue University"
   ]
  },
  {
   "cell_type": "code",
   "execution_count": 1,
   "metadata": {
    "collapsed": true,
    "slideshow": {
     "slide_type": "skip"
    }
   },
   "outputs": [],
   "source": [
    "options(repr.plot.width=5, repr.plot.height=3)"
   ]
  },
  {
   "cell_type": "markdown",
   "metadata": {
    "slideshow": {
     "slide_type": "slide"
    }
   },
   "source": [
    "We will use a dataset of movies scraped off IMDB:\n",
    "https://www.kaggle.com/deepmatrix/imdb-5000-movie-dataset\n",
    "+ Available from the class website"
   ]
  },
  {
   "cell_type": "code",
   "execution_count": 2,
   "metadata": {
    "collapsed": false,
    "slideshow": {
     "slide_type": "-"
    }
   },
   "outputs": [
    {
     "data": {
      "text/html": [
       "<table>\n",
       "<thead><tr><th scope=col>color</th><th scope=col>director_name</th><th scope=col>num_critic_for_reviews</th><th scope=col>duration</th><th scope=col>director_facebook_likes</th><th scope=col>actor_3_facebook_likes</th><th scope=col>actor_2_name</th><th scope=col>actor_1_facebook_likes</th><th scope=col>gross</th><th scope=col>genres</th><th scope=col>⋯</th><th scope=col>num_user_for_reviews</th><th scope=col>language</th><th scope=col>country</th><th scope=col>content_rating</th><th scope=col>budget</th><th scope=col>title_year</th><th scope=col>actor_2_facebook_likes</th><th scope=col>imdb_score</th><th scope=col>aspect_ratio</th><th scope=col>movie_facebook_likes</th></tr></thead>\n",
       "<tbody>\n",
       "\t<tr><td>Color                          </td><td>James Cameron                  </td><td>723                            </td><td>178                            </td><td>0                              </td><td>855                            </td><td>Joel David Moore               </td><td>1000                           </td><td>760505847                      </td><td>Action|Adventure|Fantasy|Sci-Fi</td><td>⋯                              </td><td>3054                           </td><td>English                        </td><td>USA                            </td><td>PG-13                          </td><td>2.37e+08                       </td><td>2009                           </td><td>936                            </td><td>7.9                            </td><td>1.78                           </td><td>33000                          </td></tr>\n",
       "</tbody>\n",
       "</table>\n"
      ],
      "text/latex": [
       "\\begin{tabular}{r|llllllllllllllllllllllllllll}\n",
       " color & director\\_name & num\\_critic\\_for\\_reviews & duration & director\\_facebook\\_likes & actor\\_3\\_facebook\\_likes & actor\\_2\\_name & actor\\_1\\_facebook\\_likes & gross & genres & ⋯ & num\\_user\\_for\\_reviews & language & country & content\\_rating & budget & title\\_year & actor\\_2\\_facebook\\_likes & imdb\\_score & aspect\\_ratio & movie\\_facebook\\_likes\\\\\n",
       "\\hline\n",
       "\t Color                                                         & James Cameron                                                 & 723                                                           & 178                                                           & 0                                                             & 855                                                           & Joel David Moore                                              & 1000                                                          & 760505847                                                     & Action\\textbar{}Adventure\\textbar{}Fantasy\\textbar{}Sci-Fi & ⋯                                                             & 3054                                                          & English                                                       & USA                                                           & PG-13                                                         & 2.37e+08                                                      & 2009                                                          & 936                                                           & 7.9                                                           & 1.78                                                          & 33000                                                        \\\\\n",
       "\\end{tabular}\n"
      ],
      "text/markdown": [
       "\n",
       "color | director_name | num_critic_for_reviews | duration | director_facebook_likes | actor_3_facebook_likes | actor_2_name | actor_1_facebook_likes | gross | genres | ⋯ | num_user_for_reviews | language | country | content_rating | budget | title_year | actor_2_facebook_likes | imdb_score | aspect_ratio | movie_facebook_likes | \n",
       "|---|\n",
       "| Color                           | James Cameron                   | 723                             | 178                             | 0                               | 855                             | Joel David Moore                | 1000                            | 760505847                       | Action|Adventure|Fantasy|Sci-Fi | ⋯                               | 3054                            | English                         | USA                             | PG-13                           | 2.37e+08                        | 2009                            | 936                             | 7.9                             | 1.78                            | 33000                           | \n",
       "\n",
       "\n"
      ],
      "text/plain": [
       "  color director_name num_critic_for_reviews duration director_facebook_likes\n",
       "1 Color James Cameron 723                    178      0                      \n",
       "  actor_3_facebook_likes actor_2_name     actor_1_facebook_likes gross    \n",
       "1 855                    Joel David Moore 1000                   760505847\n",
       "  genres                          ⋯ num_user_for_reviews language country\n",
       "1 Action|Adventure|Fantasy|Sci-Fi ⋯ 3054                 English  USA    \n",
       "  content_rating budget   title_year actor_2_facebook_likes imdb_score\n",
       "1 PG-13          2.37e+08 2009       936                    7.9       \n",
       "  aspect_ratio movie_facebook_likes\n",
       "1 1.78         33000               "
      ]
     },
     "metadata": {},
     "output_type": "display_data"
    }
   ],
   "source": [
    "movies_orig <- read.csv('~/RSRCH/DATA/movie_metadata.csv')\n",
    "movies      <- movies_orig\n",
    "# Can view this in RStudio using View(movies)\n",
    "movies[1,]"
   ]
  },
  {
   "cell_type": "code",
   "execution_count": null,
   "metadata": {
    "collapsed": false,
    "slideshow": {
     "slide_type": "slide"
    }
   },
   "outputs": [],
   "source": [
    "unique(movies$director_name)"
   ]
  },
  {
   "cell_type": "code",
   "execution_count": null,
   "metadata": {
    "collapsed": false
   },
   "outputs": [],
   "source": [
    "unique(movies$director_name[movies$imdb_score>8.5])"
   ]
  },
  {
   "cell_type": "code",
   "execution_count": null,
   "metadata": {
    "collapsed": false,
    "slideshow": {
     "slide_type": "-"
    }
   },
   "outputs": [],
   "source": [
    "(movies$movie_title[movies$imdb_score>9])"
   ]
  },
  {
   "cell_type": "code",
   "execution_count": 3,
   "metadata": {
    "collapsed": true,
    "slideshow": {
     "slide_type": "slide"
    }
   },
   "outputs": [
    {
     "name": "stderr",
     "output_type": "stream",
     "text": [
      "Loading tidyverse: ggplot2\n",
      "Loading tidyverse: tibble\n",
      "Loading tidyverse: tidyr\n",
      "Loading tidyverse: readr\n",
      "Loading tidyverse: purrr\n",
      "Loading tidyverse: dplyr\n",
      "Conflicts with tidy packages ---------------------------------------------------\n",
      "filter(): dplyr, stats\n",
      "lag():    dplyr, stats\n"
     ]
    }
   ],
   "source": [
    "library('tidyverse')\n",
    "movies <- as_tibble(movies)"
   ]
  },
  {
   "cell_type": "markdown",
   "metadata": {},
   "source": [
    "Most functions that works with dataframes works with tibbles \n",
    "+ functions in `tidyverse` require tibbles\n",
    "+ additionally, tibbles have some nice conveniences "
   ]
  },
  {
   "cell_type": "code",
   "execution_count": null,
   "metadata": {
    "collapsed": false
   },
   "outputs": [],
   "source": [
    "my_rnd <- tibble(x=rnorm(10), y = x+1, z = x>0)\n",
    "print(my_rnd) # tibbles also print a bit more nicely"
   ]
  },
  {
   "cell_type": "markdown",
   "metadata": {
    "slideshow": {
     "slide_type": "slide"
    }
   },
   "source": [
    "### The 'pipe' operator `%>%`\n",
    "`tidyuniverse` gets this from package `purrr` \n",
    "+ `magrittr` offers additional functionality"
   ]
  },
  {
   "cell_type": "markdown",
   "metadata": {
    "slideshow": {
     "slide_type": "slide"
    }
   },
   "source": [
    "### A side point on infix functions\n",
    "%func_name% is syntax for infix (rather than prefix) functions:"
   ]
  },
  {
   "cell_type": "code",
   "execution_count": null,
   "metadata": {
    "collapsed": false
   },
   "outputs": [],
   "source": [
    "'%plus%' <- function(x,y) x+y\n",
    "    \n",
    "1 %plus% 2; '%plus%'(3,4)"
   ]
  },
  {
   "cell_type": "markdown",
   "metadata": {
    "slideshow": {
     "slide_type": "subslide"
    }
   },
   "source": [
    "%>% pipes output of first function to first argument of the second\n",
    "\n",
    "Can give more readable code. E.g. consider\n"
   ]
  },
  {
   "cell_type": "code",
   "execution_count": null,
   "metadata": {
    "collapsed": false
   },
   "outputs": [],
   "source": [
    "range(\n",
    "      movies$actor_1_facebook_likes[\n",
    "        order(\n",
    "              movies$imdb_score, decreasing = T\n",
    "             )\n",
    "       ][1:10]\n",
    "     )\n",
    "# range(movies$actor_1_facebook_likes[\n",
    "#   order(movies$imdb_score, decreasing = T)][1:10])"
   ]
  },
  {
   "cell_type": "markdown",
   "metadata": {},
   "source": [
    "Have to parse code from inside to outside."
   ]
  },
  {
   "cell_type": "code",
   "execution_count": null,
   "metadata": {
    "collapsed": false,
    "slideshow": {
     "slide_type": "fragment"
    }
   },
   "outputs": [],
   "source": [
    "movies$imdb_score %>% \n",
    "  order(decreasing = T) %>% \n",
    "  movies$actor_1_facebook_likes[.] %>% \n",
    "  .[1:10] %>%\n",
    "  range"
   ]
  },
  {
   "cell_type": "markdown",
   "metadata": {
    "slideshow": {
     "slide_type": "slide"
    }
   },
   "source": [
    "By default, output of function to left of `%>%` is  the first argument of the function to the right\n",
    "\n",
    "Use `.` as placeholder if argument you are piping to is not the first"
   ]
  },
  {
   "cell_type": "code",
   "execution_count": null,
   "metadata": {
    "collapsed": false
   },
   "outputs": [],
   "source": [
    "4 %>% log(2) # log(4,2)"
   ]
  },
  {
   "cell_type": "code",
   "execution_count": null,
   "metadata": {
    "collapsed": false
   },
   "outputs": [],
   "source": [
    "4 %>% log(2,.) # log(2,4)"
   ]
  },
  {
   "cell_type": "markdown",
   "metadata": {
    "slideshow": {
     "slide_type": "fragment"
    }
   },
   "source": [
    "Can pipe to multiple arguments"
   ]
  },
  {
   "cell_type": "code",
   "execution_count": null,
   "metadata": {
    "collapsed": false
   },
   "outputs": [],
   "source": [
    "2 %>% log(.+6,.) # log(8,2)"
   ]
  },
  {
   "cell_type": "markdown",
   "metadata": {
    "slideshow": {
     "slide_type": "fragment"
    }
   },
   "source": [
    "Pipes in pipes are possible (but be careful)"
   ]
  },
  {
   "cell_type": "code",
   "execution_count": null,
   "metadata": {
    "collapsed": false
   },
   "outputs": [],
   "source": [
    "2 %>% log(.+6 %>% .^2 %>% print,.); log(38,2)"
   ]
  },
  {
   "cell_type": "markdown",
   "metadata": {
    "slideshow": {
     "slide_type": "subslide"
    }
   },
   "source": [
    "`tiyverse` gets `%>%` from the `purrr` package\n",
    "\n",
    "The `magrittr` package provides more such functions.\n",
    "\n",
    "E.g. the T-pipe `%T>%` passes the LHS onwards \n",
    "+ useful for functions like plot where output isn't important"
   ]
  },
  {
   "cell_type": "code",
   "execution_count": null,
   "metadata": {
    "collapsed": false
   },
   "outputs": [],
   "source": [
    "library(magrittr); rnorm(100) %T>% hist  %>% mean"
   ]
  },
  {
   "cell_type": "markdown",
   "metadata": {
    "slideshow": {
     "slide_type": "skip"
    }
   },
   "source": [
    "http://www.fromthebottomoftheheap.net/2015/06/03/my-aversion-to-pipes/^\n",
    "\n",
    "https://cran.r-project.org/web/packages/magrittr/vignettes/magrittr.html\n",
    "\n",
    "https://www.r-statistics.com/2014/08/simpler-r-coding-with-pipes-the-present-and-future-of-the-magrittr-package/"
   ]
  },
  {
   "cell_type": "markdown",
   "metadata": {
    "slideshow": {
     "slide_type": "slide"
    }
   },
   "source": [
    "Our next package from `tidyverse` is `dplyr`\n",
    "\n",
    "\n",
    "+   `filter`: pick observations by values (rows)\n",
    "+   `arrange`: reorder rows\n",
    "+   `select`: pick variables (columns) by their names\n",
    "+   `mutate`: create new variables from existing variables\n",
    "+   `summarise`: summarise many values\n",
    "\n",
    "The scope of each is determined by `group_by`\n",
    "\n",
    "For a more thorough overview, look at *R for Data Science* (http://r4ds.had.co.nz/transform.html#datatransformation)"
   ]
  },
  {
   "cell_type": "markdown",
   "metadata": {
    "slideshow": {
     "slide_type": "slide"
    }
   },
   "source": [
    "### The filter `filter()` function\n",
    "\n",
    "Select observations/rows based on value\n",
    "\n",
    "Cleaner alternative to indexing with logicals and `which`"
   ]
  },
  {
   "cell_type": "code",
   "execution_count": null,
   "metadata": {
    "collapsed": true,
    "slideshow": {
     "slide_type": "fragment"
    }
   },
   "outputs": [],
   "source": [
    "deniro <- filter(movies,actor_1_name == \"Robert De Niro\")\n",
    "deniro[,c('imdb_score','movie_title')]"
   ]
  },
  {
   "cell_type": "code",
   "execution_count": null,
   "metadata": {
    "collapsed": false,
    "slideshow": {
     "slide_type": "fragment"
    }
   },
   "outputs": [],
   "source": [
    "deniro_good <- movies %>% \n",
    "                filter(actor_1_name == \"Robert De Niro\", \n",
    "                        imdb_score > 7)\n",
    "deniro_good[,c('imdb_score','movie_title')]"
   ]
  },
  {
   "cell_type": "markdown",
   "metadata": {
    "slideshow": {
     "slide_type": "subslide"
    }
   },
   "source": [
    "Multiple argument are equivalent to logical AND (`&`):\n",
    "```\n",
    " deniro_good <- filter(movies,actor_1_name == \"Robert De Niro\" & imdb_score > 7)\n",
    " ```\n",
    " Logical or's must be written using `|`"
   ]
  },
  {
   "cell_type": "code",
   "execution_count": null,
   "metadata": {
    "collapsed": false,
    "slideshow": {
     "slide_type": "fragment"
    }
   },
   "outputs": [],
   "source": [
    "dnr_pcn<-movies %>% \n",
    "         filter((actor_1_name==\"Robert De Niro\") |\n",
    "                            (actor_1_name==\"Al Pacino\"), \n",
    "                        imdb_score > 7)\n",
    "dnr_pcn[,c('actor_1_name','imdb_score','movie_title')]"
   ]
  },
  {
   "cell_type": "markdown",
   "metadata": {
    "slideshow": {
     "slide_type": "slide"
    }
   },
   "source": [
    "###  The `select()` function\n",
    "\n",
    "Unlike `filter()`, `select()` picks columns of a tibble"
   ]
  },
  {
   "cell_type": "code",
   "execution_count": null,
   "metadata": {
    "collapsed": true
   },
   "outputs": [],
   "source": [
    "select(deniro_good, movie_title, imdb_score)"
   ]
  },
  {
   "cell_type": "code",
   "execution_count": null,
   "metadata": {
    "collapsed": true,
    "slideshow": {
     "slide_type": "fragment"
    }
   },
   "outputs": [],
   "source": [
    "select(deniro_good, director_name:actor_2_name)[1:10,]"
   ]
  },
  {
   "cell_type": "markdown",
   "metadata": {
    "slideshow": {
     "slide_type": "fragment"
    }
   },
   "source": [
    "Can also use `-` to eliminate columns:"
   ]
  },
  {
   "cell_type": "code",
   "execution_count": null,
   "metadata": {
    "collapsed": true
   },
   "outputs": [],
   "source": [
    "select(deniro_good, -(director_name:actor_2_name))"
   ]
  },
  {
   "cell_type": "markdown",
   "metadata": {
    "slideshow": {
     "slide_type": "fragment"
    }
   },
   "source": [
    "Also includes convenience functions like `contains(\"actor\")` and\n",
    "`num_range(\"var\",1:3)`"
   ]
  },
  {
   "cell_type": "markdown",
   "metadata": {
    "slideshow": {
     "slide_type": "slide"
    }
   },
   "source": [
    "### The `arrange()` function\n",
    "\n",
    "Orders rows in increasing order of any chosen column\n",
    "* Additional columns can be provided to break ties\n",
    "* `desc()` can be used to sort in decreasing order\n",
    "\n",
    "Missing values always go at the end"
   ]
  },
  {
   "cell_type": "code",
   "execution_count": null,
   "metadata": {
    "collapsed": true
   },
   "outputs": [],
   "source": [
    "movies %>% arrange((imdb_score)) %>% \n",
    "   select(movie_title, imdb_score) %>% .[1:10,] "
   ]
  },
  {
   "cell_type": "code",
   "execution_count": null,
   "metadata": {
    "collapsed": true
   },
   "outputs": [],
   "source": []
  },
  {
   "cell_type": "code",
   "execution_count": null,
   "metadata": {
    "collapsed": true
   },
   "outputs": [],
   "source": [
    "arrange(movies, imdb_score, gross) %>% \n",
    "  select(movie_title, imdb_score, gross) %>% .[1:10,] "
   ]
  },
  {
   "cell_type": "code",
   "execution_count": null,
   "metadata": {
    "collapsed": true
   },
   "outputs": [],
   "source": [
    "tmp <- arrange(movies, desc(imdb_score), desc(gross))"
   ]
  },
  {
   "cell_type": "markdown",
   "metadata": {
    "slideshow": {
     "slide_type": "slide"
    }
   },
   "source": [
    "### The `mutate()` function\n",
    "\n",
    "Creates new columns at the end of current data.frame"
   ]
  },
  {
   "cell_type": "code",
   "execution_count": null,
   "metadata": {
    "collapsed": true
   },
   "outputs": [],
   "source": [
    "movies %>% filter(country== \"USA\") %>% \n",
    "     select(movie_title, imdb_score, gross, budget) %>%\n",
    "     mutate(succ = gross/budget) %>% \n",
    "     arrange((succ)) %>% .[1:20,]"
   ]
  },
  {
   "cell_type": "markdown",
   "metadata": {
    "slideshow": {
     "slide_type": "fragment"
    }
   },
   "source": [
    "Why are some movies making such horrific losses?"
   ]
  },
  {
   "cell_type": "markdown",
   "metadata": {
    "slideshow": {
     "slide_type": "subslide"
    }
   },
   "source": [
    "`mutate` can refer to functions just created\n",
    "\n"
   ]
  },
  {
   "cell_type": "code",
   "execution_count": null,
   "metadata": {
    "collapsed": true
   },
   "outputs": [],
   "source": [
    "movies %>% filter(country == \"USA\") %>%\n",
    "  select(movie_title, imdb_score, gross, budget) %>%\n",
    "  mutate(succ = gross-budget, perc= 100*succ/budget) %>%\n",
    "  distinct() %>% arrange((succ))"
   ]
  },
  {
   "cell_type": "markdown",
   "metadata": {
    "slideshow": {
     "slide_type": "subslide"
    }
   },
   "source": [
    "`distinct()` is a useful function to remove repeated rows\n",
    "+ can provide column names as arguments for partial repetitions\n",
    "\n",
    "`transmute()` is useful if we only care about the new column"
   ]
  },
  {
   "cell_type": "markdown",
   "metadata": {
    "slideshow": {
     "slide_type": "slide"
    }
   },
   "source": [
    "###  `summarise()` and `group_by()`\n",
    "\n",
    "Summarise collapses a dataframe to a single row:"
   ]
  },
  {
   "cell_type": "code",
   "execution_count": null,
   "metadata": {
    "collapsed": false
   },
   "outputs": [],
   "source": [
    "summarise(movies, score = mean(imdb_score))"
   ]
  },
  {
   "cell_type": "markdown",
   "metadata": {
    "slideshow": {
     "slide_type": "fragment"
    }
   },
   "source": [
    "Becomes very powerful in conjunction with `group_by()`"
   ]
  },
  {
   "cell_type": "code",
   "execution_count": null,
   "metadata": {
    "collapsed": false
   },
   "outputs": [],
   "source": [
    "top_dir <- movies %>% group_by(director_name) %>% \n",
    "        summarise(score = mean(imdb_score)) %>% \n",
    "        arrange(desc(score)) \n",
    "top_dir[1:15,]"
   ]
  },
  {
   "cell_type": "markdown",
   "metadata": {
    "slideshow": {
     "slide_type": "subslide"
    }
   },
   "source": [
    "`n()` is a convenient function to get number of elements"
   ]
  },
  {
   "cell_type": "code",
   "execution_count": null,
   "metadata": {
    "collapsed": false,
    "slideshow": {
     "slide_type": "-"
    }
   },
   "outputs": [],
   "source": [
    "top_dir <- movies %>% group_by(director_name) %>% \n",
    "        summarise(count=n(), score = mean(imdb_score)) %>% \n",
    "        arrange((score)) %>% \n",
    "        filter(count>=5)\n",
    "top_dir"
   ]
  },
  {
   "cell_type": "code",
   "execution_count": null,
   "metadata": {
    "collapsed": true,
    "slideshow": {
     "slide_type": "subslide"
    }
   },
   "outputs": [],
   "source": [
    "yr_scr <- movies %>% group_by(title_year) %>% \n",
    "         summarise(count=n(), score = median(imdb_score), \n",
    "                              ymin = quantile(imdb_score,.1),\n",
    "                              ymax=quantile(imdb_score,.9)) %>% \n",
    "         arrange(desc(score)) %>% filter(count>=5)\n",
    "yr_scr"
   ]
  },
  {
   "cell_type": "code",
   "execution_count": null,
   "metadata": {
    "collapsed": false,
    "slideshow": {
     "slide_type": "fragment"
    }
   },
   "outputs": [],
   "source": [
    "ggplot(yr_scr , aes(x=title_year, y = score)) + \n",
    "    geom_line() + \n",
    "    geom_errorbar(aes(ymin=ymin,ymax=ymax))"
   ]
  },
  {
   "cell_type": "markdown",
   "metadata": {
    "slideshow": {
     "slide_type": "subslide"
    }
   },
   "source": [
    "Can have nested groupings (can revert with `ungroup()`)"
   ]
  },
  {
   "cell_type": "code",
   "execution_count": null,
   "metadata": {
    "collapsed": true,
    "slideshow": {
     "slide_type": "-"
    }
   },
   "outputs": [],
   "source": [
    "act_dir<-movies %>% group_by(actor_1_name,director_name) %>% \n",
    "        distinct(movie_title, .keep_all = T) %>%\n",
    "        summarise(num = n(), scr = mean(gross-budget),\n",
    "                  ttl = paste(movie_title, collapse=\";\")) %>% \n",
    "        arrange(desc(scr)) %>% filter(num>2) \n",
    "act_dir[1:20,] "
   ]
  },
  {
   "cell_type": "markdown",
   "metadata": {
    "slideshow": {
     "slide_type": "slide"
    }
   },
   "source": [
    "Let's try something more complicated:\n",
    "+  Can we analyse scores/earnings across genres?\n",
    "\n",
    "Things are actually a bit more complicated:"
   ]
  },
  {
   "cell_type": "code",
   "execution_count": null,
   "metadata": {
    "collapsed": true
   },
   "outputs": [],
   "source": [
    "levels(movies$genres)"
   ]
  },
  {
   "cell_type": "code",
   "execution_count": 6,
   "metadata": {
    "collapsed": true,
    "slideshow": {
     "slide_type": "fragment"
    }
   },
   "outputs": [
    {
     "data": {
      "text/html": [
       "<ol class=list-inline>\n",
       "\t<li>'Action'</li>\n",
       "\t<li>'Adventure'</li>\n",
       "\t<li>'Animation'</li>\n",
       "\t<li>'Comedy'</li>\n",
       "\t<li>'Crime'</li>\n",
       "\t<li>'Family'</li>\n",
       "\t<li>'Fantasy'</li>\n",
       "\t<li>'Drama'</li>\n",
       "\t<li>'Thriller'</li>\n",
       "\t<li>'Sci-Fi'</li>\n",
       "\t<li>'Mystery'</li>\n",
       "\t<li>'Romance'</li>\n",
       "\t<li>'Biography'</li>\n",
       "\t<li>'History'</li>\n",
       "\t<li>'War'</li>\n",
       "\t<li>'Music'</li>\n",
       "\t<li>'Musical'</li>\n",
       "\t<li>'Western'</li>\n",
       "\t<li>'Horror'</li>\n",
       "\t<li>'Documentary'</li>\n",
       "\t<li>'Sport'</li>\n",
       "\t<li>'Short'</li>\n",
       "\t<li>'Reality-TV'</li>\n",
       "\t<li>'News'</li>\n",
       "\t<li>'Film-Noir'</li>\n",
       "\t<li>'Game-Show'</li>\n",
       "</ol>\n"
      ],
      "text/latex": [
       "\\begin{enumerate*}\n",
       "\\item 'Action'\n",
       "\\item 'Adventure'\n",
       "\\item 'Animation'\n",
       "\\item 'Comedy'\n",
       "\\item 'Crime'\n",
       "\\item 'Family'\n",
       "\\item 'Fantasy'\n",
       "\\item 'Drama'\n",
       "\\item 'Thriller'\n",
       "\\item 'Sci-Fi'\n",
       "\\item 'Mystery'\n",
       "\\item 'Romance'\n",
       "\\item 'Biography'\n",
       "\\item 'History'\n",
       "\\item 'War'\n",
       "\\item 'Music'\n",
       "\\item 'Musical'\n",
       "\\item 'Western'\n",
       "\\item 'Horror'\n",
       "\\item 'Documentary'\n",
       "\\item 'Sport'\n",
       "\\item 'Short'\n",
       "\\item 'Reality-TV'\n",
       "\\item 'News'\n",
       "\\item 'Film-Noir'\n",
       "\\item 'Game-Show'\n",
       "\\end{enumerate*}\n"
      ],
      "text/markdown": [
       "1. 'Action'\n",
       "2. 'Adventure'\n",
       "3. 'Animation'\n",
       "4. 'Comedy'\n",
       "5. 'Crime'\n",
       "6. 'Family'\n",
       "7. 'Fantasy'\n",
       "8. 'Drama'\n",
       "9. 'Thriller'\n",
       "10. 'Sci-Fi'\n",
       "11. 'Mystery'\n",
       "12. 'Romance'\n",
       "13. 'Biography'\n",
       "14. 'History'\n",
       "15. 'War'\n",
       "16. 'Music'\n",
       "17. 'Musical'\n",
       "18. 'Western'\n",
       "19. 'Horror'\n",
       "20. 'Documentary'\n",
       "21. 'Sport'\n",
       "22. 'Short'\n",
       "23. 'Reality-TV'\n",
       "24. 'News'\n",
       "25. 'Film-Noir'\n",
       "26. 'Game-Show'\n",
       "\n",
       "\n"
      ],
      "text/plain": [
       " [1] \"Action\"      \"Adventure\"   \"Animation\"   \"Comedy\"      \"Crime\"      \n",
       " [6] \"Family\"      \"Fantasy\"     \"Drama\"       \"Thriller\"    \"Sci-Fi\"     \n",
       "[11] \"Mystery\"     \"Romance\"     \"Biography\"   \"History\"     \"War\"        \n",
       "[16] \"Music\"       \"Musical\"     \"Western\"     \"Horror\"      \"Documentary\"\n",
       "[21] \"Sport\"       \"Short\"       \"Reality-TV\"  \"News\"        \"Film-Noir\"  \n",
       "[26] \"Game-Show\"  "
      ]
     },
     "metadata": {},
     "output_type": "display_data"
    }
   ],
   "source": [
    "gnr_type <- as.character(levels(movies_orig$genres)) %>% \n",
    "       strsplit('\\\\|') %>% #will see regular expressions later\n",
    "       unlist %>% unique\n",
    "gnr_type"
   ]
  },
  {
   "cell_type": "code",
   "execution_count": 7,
   "metadata": {
    "collapsed": true,
    "slideshow": {
     "slide_type": "fragment"
    }
   },
   "outputs": [
    {
     "data": {
      "text/html": [
       "<table>\n",
       "<thead><tr><th scope=col>Action</th><th scope=col>Adventure</th><th scope=col>Animation</th><th scope=col>Comedy</th><th scope=col>Crime</th><th scope=col>Family</th><th scope=col>Fantasy</th><th scope=col>Drama</th><th scope=col>Thriller</th><th scope=col>Sci-Fi</th><th scope=col>⋯</th><th scope=col>Musical</th><th scope=col>Western</th><th scope=col>Horror</th><th scope=col>Documentary</th><th scope=col>Sport</th><th scope=col>Short</th><th scope=col>Reality-TV</th><th scope=col>News</th><th scope=col>Film-Noir</th><th scope=col>Game-Show</th></tr></thead>\n",
       "<tbody>\n",
       "\t<tr><td>FALSE</td><td>FALSE</td><td>FALSE</td><td>FALSE</td><td>FALSE</td><td>FALSE</td><td>FALSE</td><td>FALSE</td><td>FALSE</td><td>FALSE</td><td>⋯    </td><td>FALSE</td><td>FALSE</td><td>FALSE</td><td>FALSE</td><td>FALSE</td><td>FALSE</td><td>FALSE</td><td>FALSE</td><td>FALSE</td><td>FALSE</td></tr>\n",
       "\t<tr><td>FALSE</td><td>FALSE</td><td>FALSE</td><td>FALSE</td><td>FALSE</td><td>FALSE</td><td>FALSE</td><td>FALSE</td><td>FALSE</td><td>FALSE</td><td>⋯    </td><td>FALSE</td><td>FALSE</td><td>FALSE</td><td>FALSE</td><td>FALSE</td><td>FALSE</td><td>FALSE</td><td>FALSE</td><td>FALSE</td><td>FALSE</td></tr>\n",
       "\t<tr><td>FALSE</td><td>FALSE</td><td>FALSE</td><td>FALSE</td><td>FALSE</td><td>FALSE</td><td>FALSE</td><td>FALSE</td><td>FALSE</td><td>FALSE</td><td>⋯    </td><td>FALSE</td><td>FALSE</td><td>FALSE</td><td>FALSE</td><td>FALSE</td><td>FALSE</td><td>FALSE</td><td>FALSE</td><td>FALSE</td><td>FALSE</td></tr>\n",
       "\t<tr><td>FALSE</td><td>FALSE</td><td>FALSE</td><td>FALSE</td><td>FALSE</td><td>FALSE</td><td>FALSE</td><td>FALSE</td><td>FALSE</td><td>FALSE</td><td>⋯    </td><td>FALSE</td><td>FALSE</td><td>FALSE</td><td>FALSE</td><td>FALSE</td><td>FALSE</td><td>FALSE</td><td>FALSE</td><td>FALSE</td><td>FALSE</td></tr>\n",
       "\t<tr><td>FALSE</td><td>FALSE</td><td>FALSE</td><td>FALSE</td><td>FALSE</td><td>FALSE</td><td>FALSE</td><td>FALSE</td><td>FALSE</td><td>FALSE</td><td>⋯    </td><td>FALSE</td><td>FALSE</td><td>FALSE</td><td>FALSE</td><td>FALSE</td><td>FALSE</td><td>FALSE</td><td>FALSE</td><td>FALSE</td><td>FALSE</td></tr>\n",
       "\t<tr><td>FALSE</td><td>FALSE</td><td>FALSE</td><td>FALSE</td><td>FALSE</td><td>FALSE</td><td>FALSE</td><td>FALSE</td><td>FALSE</td><td>FALSE</td><td>⋯    </td><td>FALSE</td><td>FALSE</td><td>FALSE</td><td>FALSE</td><td>FALSE</td><td>FALSE</td><td>FALSE</td><td>FALSE</td><td>FALSE</td><td>FALSE</td></tr>\n",
       "\t<tr><td>FALSE</td><td>FALSE</td><td>FALSE</td><td>FALSE</td><td>FALSE</td><td>FALSE</td><td>FALSE</td><td>FALSE</td><td>FALSE</td><td>FALSE</td><td>⋯    </td><td>FALSE</td><td>FALSE</td><td>FALSE</td><td>FALSE</td><td>FALSE</td><td>FALSE</td><td>FALSE</td><td>FALSE</td><td>FALSE</td><td>FALSE</td></tr>\n",
       "\t<tr><td>FALSE</td><td>FALSE</td><td>FALSE</td><td>FALSE</td><td>FALSE</td><td>FALSE</td><td>FALSE</td><td>FALSE</td><td>FALSE</td><td>FALSE</td><td>⋯    </td><td>FALSE</td><td>FALSE</td><td>FALSE</td><td>FALSE</td><td>FALSE</td><td>FALSE</td><td>FALSE</td><td>FALSE</td><td>FALSE</td><td>FALSE</td></tr>\n",
       "\t<tr><td>FALSE</td><td>FALSE</td><td>FALSE</td><td>FALSE</td><td>FALSE</td><td>FALSE</td><td>FALSE</td><td>FALSE</td><td>FALSE</td><td>FALSE</td><td>⋯    </td><td>FALSE</td><td>FALSE</td><td>FALSE</td><td>FALSE</td><td>FALSE</td><td>FALSE</td><td>FALSE</td><td>FALSE</td><td>FALSE</td><td>FALSE</td></tr>\n",
       "\t<tr><td>FALSE</td><td>FALSE</td><td>FALSE</td><td>FALSE</td><td>FALSE</td><td>FALSE</td><td>FALSE</td><td>FALSE</td><td>FALSE</td><td>FALSE</td><td>⋯    </td><td>FALSE</td><td>FALSE</td><td>FALSE</td><td>FALSE</td><td>FALSE</td><td>FALSE</td><td>FALSE</td><td>FALSE</td><td>FALSE</td><td>FALSE</td></tr>\n",
       "\t<tr><td>FALSE</td><td>FALSE</td><td>FALSE</td><td>FALSE</td><td>FALSE</td><td>FALSE</td><td>FALSE</td><td>FALSE</td><td>FALSE</td><td>FALSE</td><td>⋯    </td><td>FALSE</td><td>FALSE</td><td>FALSE</td><td>FALSE</td><td>FALSE</td><td>FALSE</td><td>FALSE</td><td>FALSE</td><td>FALSE</td><td>FALSE</td></tr>\n",
       "\t<tr><td>FALSE</td><td>FALSE</td><td>FALSE</td><td>FALSE</td><td>FALSE</td><td>FALSE</td><td>FALSE</td><td>FALSE</td><td>FALSE</td><td>FALSE</td><td>⋯    </td><td>FALSE</td><td>FALSE</td><td>FALSE</td><td>FALSE</td><td>FALSE</td><td>FALSE</td><td>FALSE</td><td>FALSE</td><td>FALSE</td><td>FALSE</td></tr>\n",
       "\t<tr><td>FALSE</td><td>FALSE</td><td>FALSE</td><td>FALSE</td><td>FALSE</td><td>FALSE</td><td>FALSE</td><td>FALSE</td><td>FALSE</td><td>FALSE</td><td>⋯    </td><td>FALSE</td><td>FALSE</td><td>FALSE</td><td>FALSE</td><td>FALSE</td><td>FALSE</td><td>FALSE</td><td>FALSE</td><td>FALSE</td><td>FALSE</td></tr>\n",
       "\t<tr><td>FALSE</td><td>FALSE</td><td>FALSE</td><td>FALSE</td><td>FALSE</td><td>FALSE</td><td>FALSE</td><td>FALSE</td><td>FALSE</td><td>FALSE</td><td>⋯    </td><td>FALSE</td><td>FALSE</td><td>FALSE</td><td>FALSE</td><td>FALSE</td><td>FALSE</td><td>FALSE</td><td>FALSE</td><td>FALSE</td><td>FALSE</td></tr>\n",
       "\t<tr><td>FALSE</td><td>FALSE</td><td>FALSE</td><td>FALSE</td><td>FALSE</td><td>FALSE</td><td>FALSE</td><td>FALSE</td><td>FALSE</td><td>FALSE</td><td>⋯    </td><td>FALSE</td><td>FALSE</td><td>FALSE</td><td>FALSE</td><td>FALSE</td><td>FALSE</td><td>FALSE</td><td>FALSE</td><td>FALSE</td><td>FALSE</td></tr>\n",
       "\t<tr><td>FALSE</td><td>FALSE</td><td>FALSE</td><td>FALSE</td><td>FALSE</td><td>FALSE</td><td>FALSE</td><td>FALSE</td><td>FALSE</td><td>FALSE</td><td>⋯    </td><td>FALSE</td><td>FALSE</td><td>FALSE</td><td>FALSE</td><td>FALSE</td><td>FALSE</td><td>FALSE</td><td>FALSE</td><td>FALSE</td><td>FALSE</td></tr>\n",
       "\t<tr><td>FALSE</td><td>FALSE</td><td>FALSE</td><td>FALSE</td><td>FALSE</td><td>FALSE</td><td>FALSE</td><td>FALSE</td><td>FALSE</td><td>FALSE</td><td>⋯    </td><td>FALSE</td><td>FALSE</td><td>FALSE</td><td>FALSE</td><td>FALSE</td><td>FALSE</td><td>FALSE</td><td>FALSE</td><td>FALSE</td><td>FALSE</td></tr>\n",
       "\t<tr><td>FALSE</td><td>FALSE</td><td>FALSE</td><td>FALSE</td><td>FALSE</td><td>FALSE</td><td>FALSE</td><td>FALSE</td><td>FALSE</td><td>FALSE</td><td>⋯    </td><td>FALSE</td><td>FALSE</td><td>FALSE</td><td>FALSE</td><td>FALSE</td><td>FALSE</td><td>FALSE</td><td>FALSE</td><td>FALSE</td><td>FALSE</td></tr>\n",
       "\t<tr><td>FALSE</td><td>FALSE</td><td>FALSE</td><td>FALSE</td><td>FALSE</td><td>FALSE</td><td>FALSE</td><td>FALSE</td><td>FALSE</td><td>FALSE</td><td>⋯    </td><td>FALSE</td><td>FALSE</td><td>FALSE</td><td>FALSE</td><td>FALSE</td><td>FALSE</td><td>FALSE</td><td>FALSE</td><td>FALSE</td><td>FALSE</td></tr>\n",
       "\t<tr><td>FALSE</td><td>FALSE</td><td>FALSE</td><td>FALSE</td><td>FALSE</td><td>FALSE</td><td>FALSE</td><td>FALSE</td><td>FALSE</td><td>FALSE</td><td>⋯    </td><td>FALSE</td><td>FALSE</td><td>FALSE</td><td>FALSE</td><td>FALSE</td><td>FALSE</td><td>FALSE</td><td>FALSE</td><td>FALSE</td><td>FALSE</td></tr>\n",
       "\t<tr><td>FALSE</td><td>FALSE</td><td>FALSE</td><td>FALSE</td><td>FALSE</td><td>FALSE</td><td>FALSE</td><td>FALSE</td><td>FALSE</td><td>FALSE</td><td>⋯    </td><td>FALSE</td><td>FALSE</td><td>FALSE</td><td>FALSE</td><td>FALSE</td><td>FALSE</td><td>FALSE</td><td>FALSE</td><td>FALSE</td><td>FALSE</td></tr>\n",
       "\t<tr><td>FALSE</td><td>FALSE</td><td>FALSE</td><td>FALSE</td><td>FALSE</td><td>FALSE</td><td>FALSE</td><td>FALSE</td><td>FALSE</td><td>FALSE</td><td>⋯    </td><td>FALSE</td><td>FALSE</td><td>FALSE</td><td>FALSE</td><td>FALSE</td><td>FALSE</td><td>FALSE</td><td>FALSE</td><td>FALSE</td><td>FALSE</td></tr>\n",
       "\t<tr><td>FALSE</td><td>FALSE</td><td>FALSE</td><td>FALSE</td><td>FALSE</td><td>FALSE</td><td>FALSE</td><td>FALSE</td><td>FALSE</td><td>FALSE</td><td>⋯    </td><td>FALSE</td><td>FALSE</td><td>FALSE</td><td>FALSE</td><td>FALSE</td><td>FALSE</td><td>FALSE</td><td>FALSE</td><td>FALSE</td><td>FALSE</td></tr>\n",
       "\t<tr><td>FALSE</td><td>FALSE</td><td>FALSE</td><td>FALSE</td><td>FALSE</td><td>FALSE</td><td>FALSE</td><td>FALSE</td><td>FALSE</td><td>FALSE</td><td>⋯    </td><td>FALSE</td><td>FALSE</td><td>FALSE</td><td>FALSE</td><td>FALSE</td><td>FALSE</td><td>FALSE</td><td>FALSE</td><td>FALSE</td><td>FALSE</td></tr>\n",
       "\t<tr><td>FALSE</td><td>FALSE</td><td>FALSE</td><td>FALSE</td><td>FALSE</td><td>FALSE</td><td>FALSE</td><td>FALSE</td><td>FALSE</td><td>FALSE</td><td>⋯    </td><td>FALSE</td><td>FALSE</td><td>FALSE</td><td>FALSE</td><td>FALSE</td><td>FALSE</td><td>FALSE</td><td>FALSE</td><td>FALSE</td><td>FALSE</td></tr>\n",
       "\t<tr><td>FALSE</td><td>FALSE</td><td>FALSE</td><td>FALSE</td><td>FALSE</td><td>FALSE</td><td>FALSE</td><td>FALSE</td><td>FALSE</td><td>FALSE</td><td>⋯    </td><td>FALSE</td><td>FALSE</td><td>FALSE</td><td>FALSE</td><td>FALSE</td><td>FALSE</td><td>FALSE</td><td>FALSE</td><td>FALSE</td><td>FALSE</td></tr>\n",
       "\t<tr><td>FALSE</td><td>FALSE</td><td>FALSE</td><td>FALSE</td><td>FALSE</td><td>FALSE</td><td>FALSE</td><td>FALSE</td><td>FALSE</td><td>FALSE</td><td>⋯    </td><td>FALSE</td><td>FALSE</td><td>FALSE</td><td>FALSE</td><td>FALSE</td><td>FALSE</td><td>FALSE</td><td>FALSE</td><td>FALSE</td><td>FALSE</td></tr>\n",
       "\t<tr><td>FALSE</td><td>FALSE</td><td>FALSE</td><td>FALSE</td><td>FALSE</td><td>FALSE</td><td>FALSE</td><td>FALSE</td><td>FALSE</td><td>FALSE</td><td>⋯    </td><td>FALSE</td><td>FALSE</td><td>FALSE</td><td>FALSE</td><td>FALSE</td><td>FALSE</td><td>FALSE</td><td>FALSE</td><td>FALSE</td><td>FALSE</td></tr>\n",
       "\t<tr><td>FALSE</td><td>FALSE</td><td>FALSE</td><td>FALSE</td><td>FALSE</td><td>FALSE</td><td>FALSE</td><td>FALSE</td><td>FALSE</td><td>FALSE</td><td>⋯    </td><td>FALSE</td><td>FALSE</td><td>FALSE</td><td>FALSE</td><td>FALSE</td><td>FALSE</td><td>FALSE</td><td>FALSE</td><td>FALSE</td><td>FALSE</td></tr>\n",
       "\t<tr><td>FALSE</td><td>FALSE</td><td>FALSE</td><td>FALSE</td><td>FALSE</td><td>FALSE</td><td>FALSE</td><td>FALSE</td><td>FALSE</td><td>FALSE</td><td>⋯    </td><td>FALSE</td><td>FALSE</td><td>FALSE</td><td>FALSE</td><td>FALSE</td><td>FALSE</td><td>FALSE</td><td>FALSE</td><td>FALSE</td><td>FALSE</td></tr>\n",
       "\t<tr><td>⋮</td><td>⋮</td><td>⋮</td><td>⋮</td><td>⋮</td><td>⋮</td><td>⋮</td><td>⋮</td><td>⋮</td><td>⋮</td><td>⋱</td><td>⋮</td><td>⋮</td><td>⋮</td><td>⋮</td><td>⋮</td><td>⋮</td><td>⋮</td><td>⋮</td><td>⋮</td><td>⋮</td></tr>\n",
       "\t<tr><td>FALSE</td><td>FALSE</td><td>FALSE</td><td>FALSE</td><td>FALSE</td><td>FALSE</td><td>FALSE</td><td>FALSE</td><td>FALSE</td><td>FALSE</td><td>⋯    </td><td>FALSE</td><td>FALSE</td><td>FALSE</td><td>FALSE</td><td>FALSE</td><td>FALSE</td><td>FALSE</td><td>FALSE</td><td>FALSE</td><td>FALSE</td></tr>\n",
       "\t<tr><td>FALSE</td><td>FALSE</td><td>FALSE</td><td>FALSE</td><td>FALSE</td><td>FALSE</td><td>FALSE</td><td>FALSE</td><td>FALSE</td><td>FALSE</td><td>⋯    </td><td>FALSE</td><td>FALSE</td><td>FALSE</td><td>FALSE</td><td>FALSE</td><td>FALSE</td><td>FALSE</td><td>FALSE</td><td>FALSE</td><td>FALSE</td></tr>\n",
       "\t<tr><td>FALSE</td><td>FALSE</td><td>FALSE</td><td>FALSE</td><td>FALSE</td><td>FALSE</td><td>FALSE</td><td>FALSE</td><td>FALSE</td><td>FALSE</td><td>⋯    </td><td>FALSE</td><td>FALSE</td><td>FALSE</td><td>FALSE</td><td>FALSE</td><td>FALSE</td><td>FALSE</td><td>FALSE</td><td>FALSE</td><td>FALSE</td></tr>\n",
       "\t<tr><td>FALSE</td><td>FALSE</td><td>FALSE</td><td>FALSE</td><td>FALSE</td><td>FALSE</td><td>FALSE</td><td>FALSE</td><td>FALSE</td><td>FALSE</td><td>⋯    </td><td>FALSE</td><td>FALSE</td><td>FALSE</td><td>FALSE</td><td>FALSE</td><td>FALSE</td><td>FALSE</td><td>FALSE</td><td>FALSE</td><td>FALSE</td></tr>\n",
       "\t<tr><td>FALSE</td><td>FALSE</td><td>FALSE</td><td>FALSE</td><td>FALSE</td><td>FALSE</td><td>FALSE</td><td>FALSE</td><td>FALSE</td><td>FALSE</td><td>⋯    </td><td>FALSE</td><td>FALSE</td><td>FALSE</td><td>FALSE</td><td>FALSE</td><td>FALSE</td><td>FALSE</td><td>FALSE</td><td>FALSE</td><td>FALSE</td></tr>\n",
       "\t<tr><td>FALSE</td><td>FALSE</td><td>FALSE</td><td>FALSE</td><td>FALSE</td><td>FALSE</td><td>FALSE</td><td>FALSE</td><td>FALSE</td><td>FALSE</td><td>⋯    </td><td>FALSE</td><td>FALSE</td><td>FALSE</td><td>FALSE</td><td>FALSE</td><td>FALSE</td><td>FALSE</td><td>FALSE</td><td>FALSE</td><td>FALSE</td></tr>\n",
       "\t<tr><td>FALSE</td><td>FALSE</td><td>FALSE</td><td>FALSE</td><td>FALSE</td><td>FALSE</td><td>FALSE</td><td>FALSE</td><td>FALSE</td><td>FALSE</td><td>⋯    </td><td>FALSE</td><td>FALSE</td><td>FALSE</td><td>FALSE</td><td>FALSE</td><td>FALSE</td><td>FALSE</td><td>FALSE</td><td>FALSE</td><td>FALSE</td></tr>\n",
       "\t<tr><td>FALSE</td><td>FALSE</td><td>FALSE</td><td>FALSE</td><td>FALSE</td><td>FALSE</td><td>FALSE</td><td>FALSE</td><td>FALSE</td><td>FALSE</td><td>⋯    </td><td>FALSE</td><td>FALSE</td><td>FALSE</td><td>FALSE</td><td>FALSE</td><td>FALSE</td><td>FALSE</td><td>FALSE</td><td>FALSE</td><td>FALSE</td></tr>\n",
       "\t<tr><td>FALSE</td><td>FALSE</td><td>FALSE</td><td>FALSE</td><td>FALSE</td><td>FALSE</td><td>FALSE</td><td>FALSE</td><td>FALSE</td><td>FALSE</td><td>⋯    </td><td>FALSE</td><td>FALSE</td><td>FALSE</td><td>FALSE</td><td>FALSE</td><td>FALSE</td><td>FALSE</td><td>FALSE</td><td>FALSE</td><td>FALSE</td></tr>\n",
       "\t<tr><td>FALSE</td><td>FALSE</td><td>FALSE</td><td>FALSE</td><td>FALSE</td><td>FALSE</td><td>FALSE</td><td>FALSE</td><td>FALSE</td><td>FALSE</td><td>⋯    </td><td>FALSE</td><td>FALSE</td><td>FALSE</td><td>FALSE</td><td>FALSE</td><td>FALSE</td><td>FALSE</td><td>FALSE</td><td>FALSE</td><td>FALSE</td></tr>\n",
       "\t<tr><td>FALSE</td><td>FALSE</td><td>FALSE</td><td>FALSE</td><td>FALSE</td><td>FALSE</td><td>FALSE</td><td>FALSE</td><td>FALSE</td><td>FALSE</td><td>⋯    </td><td>FALSE</td><td>FALSE</td><td>FALSE</td><td>FALSE</td><td>FALSE</td><td>FALSE</td><td>FALSE</td><td>FALSE</td><td>FALSE</td><td>FALSE</td></tr>\n",
       "\t<tr><td>FALSE</td><td>FALSE</td><td>FALSE</td><td>FALSE</td><td>FALSE</td><td>FALSE</td><td>FALSE</td><td>FALSE</td><td>FALSE</td><td>FALSE</td><td>⋯    </td><td>FALSE</td><td>FALSE</td><td>FALSE</td><td>FALSE</td><td>FALSE</td><td>FALSE</td><td>FALSE</td><td>FALSE</td><td>FALSE</td><td>FALSE</td></tr>\n",
       "\t<tr><td>FALSE</td><td>FALSE</td><td>FALSE</td><td>FALSE</td><td>FALSE</td><td>FALSE</td><td>FALSE</td><td>FALSE</td><td>FALSE</td><td>FALSE</td><td>⋯    </td><td>FALSE</td><td>FALSE</td><td>FALSE</td><td>FALSE</td><td>FALSE</td><td>FALSE</td><td>FALSE</td><td>FALSE</td><td>FALSE</td><td>FALSE</td></tr>\n",
       "\t<tr><td>FALSE</td><td>FALSE</td><td>FALSE</td><td>FALSE</td><td>FALSE</td><td>FALSE</td><td>FALSE</td><td>FALSE</td><td>FALSE</td><td>FALSE</td><td>⋯    </td><td>FALSE</td><td>FALSE</td><td>FALSE</td><td>FALSE</td><td>FALSE</td><td>FALSE</td><td>FALSE</td><td>FALSE</td><td>FALSE</td><td>FALSE</td></tr>\n",
       "\t<tr><td>FALSE</td><td>FALSE</td><td>FALSE</td><td>FALSE</td><td>FALSE</td><td>FALSE</td><td>FALSE</td><td>FALSE</td><td>FALSE</td><td>FALSE</td><td>⋯    </td><td>FALSE</td><td>FALSE</td><td>FALSE</td><td>FALSE</td><td>FALSE</td><td>FALSE</td><td>FALSE</td><td>FALSE</td><td>FALSE</td><td>FALSE</td></tr>\n",
       "\t<tr><td>FALSE</td><td>FALSE</td><td>FALSE</td><td>FALSE</td><td>FALSE</td><td>FALSE</td><td>FALSE</td><td>FALSE</td><td>FALSE</td><td>FALSE</td><td>⋯    </td><td>FALSE</td><td>FALSE</td><td>FALSE</td><td>FALSE</td><td>FALSE</td><td>FALSE</td><td>FALSE</td><td>FALSE</td><td>FALSE</td><td>FALSE</td></tr>\n",
       "\t<tr><td>FALSE</td><td>FALSE</td><td>FALSE</td><td>FALSE</td><td>FALSE</td><td>FALSE</td><td>FALSE</td><td>FALSE</td><td>FALSE</td><td>FALSE</td><td>⋯    </td><td>FALSE</td><td>FALSE</td><td>FALSE</td><td>FALSE</td><td>FALSE</td><td>FALSE</td><td>FALSE</td><td>FALSE</td><td>FALSE</td><td>FALSE</td></tr>\n",
       "\t<tr><td>FALSE</td><td>FALSE</td><td>FALSE</td><td>FALSE</td><td>FALSE</td><td>FALSE</td><td>FALSE</td><td>FALSE</td><td>FALSE</td><td>FALSE</td><td>⋯    </td><td>FALSE</td><td>FALSE</td><td>FALSE</td><td>FALSE</td><td>FALSE</td><td>FALSE</td><td>FALSE</td><td>FALSE</td><td>FALSE</td><td>FALSE</td></tr>\n",
       "\t<tr><td>FALSE</td><td>FALSE</td><td>FALSE</td><td>FALSE</td><td>FALSE</td><td>FALSE</td><td>FALSE</td><td>FALSE</td><td>FALSE</td><td>FALSE</td><td>⋯    </td><td>FALSE</td><td>FALSE</td><td>FALSE</td><td>FALSE</td><td>FALSE</td><td>FALSE</td><td>FALSE</td><td>FALSE</td><td>FALSE</td><td>FALSE</td></tr>\n",
       "\t<tr><td>FALSE</td><td>FALSE</td><td>FALSE</td><td>FALSE</td><td>FALSE</td><td>FALSE</td><td>FALSE</td><td>FALSE</td><td>FALSE</td><td>FALSE</td><td>⋯    </td><td>FALSE</td><td>FALSE</td><td>FALSE</td><td>FALSE</td><td>FALSE</td><td>FALSE</td><td>FALSE</td><td>FALSE</td><td>FALSE</td><td>FALSE</td></tr>\n",
       "\t<tr><td>FALSE</td><td>FALSE</td><td>FALSE</td><td>FALSE</td><td>FALSE</td><td>FALSE</td><td>FALSE</td><td>FALSE</td><td>FALSE</td><td>FALSE</td><td>⋯    </td><td>FALSE</td><td>FALSE</td><td>FALSE</td><td>FALSE</td><td>FALSE</td><td>FALSE</td><td>FALSE</td><td>FALSE</td><td>FALSE</td><td>FALSE</td></tr>\n",
       "\t<tr><td>FALSE</td><td>FALSE</td><td>FALSE</td><td>FALSE</td><td>FALSE</td><td>FALSE</td><td>FALSE</td><td>FALSE</td><td>FALSE</td><td>FALSE</td><td>⋯    </td><td>FALSE</td><td>FALSE</td><td>FALSE</td><td>FALSE</td><td>FALSE</td><td>FALSE</td><td>FALSE</td><td>FALSE</td><td>FALSE</td><td>FALSE</td></tr>\n",
       "\t<tr><td>FALSE</td><td>FALSE</td><td>FALSE</td><td>FALSE</td><td>FALSE</td><td>FALSE</td><td>FALSE</td><td>FALSE</td><td>FALSE</td><td>FALSE</td><td>⋯    </td><td>FALSE</td><td>FALSE</td><td>FALSE</td><td>FALSE</td><td>FALSE</td><td>FALSE</td><td>FALSE</td><td>FALSE</td><td>FALSE</td><td>FALSE</td></tr>\n",
       "\t<tr><td>FALSE</td><td>FALSE</td><td>FALSE</td><td>FALSE</td><td>FALSE</td><td>FALSE</td><td>FALSE</td><td>FALSE</td><td>FALSE</td><td>FALSE</td><td>⋯    </td><td>FALSE</td><td>FALSE</td><td>FALSE</td><td>FALSE</td><td>FALSE</td><td>FALSE</td><td>FALSE</td><td>FALSE</td><td>FALSE</td><td>FALSE</td></tr>\n",
       "\t<tr><td>FALSE</td><td>FALSE</td><td>FALSE</td><td>FALSE</td><td>FALSE</td><td>FALSE</td><td>FALSE</td><td>FALSE</td><td>FALSE</td><td>FALSE</td><td>⋯    </td><td>FALSE</td><td>FALSE</td><td>FALSE</td><td>FALSE</td><td>FALSE</td><td>FALSE</td><td>FALSE</td><td>FALSE</td><td>FALSE</td><td>FALSE</td></tr>\n",
       "\t<tr><td>FALSE</td><td>FALSE</td><td>FALSE</td><td>FALSE</td><td>FALSE</td><td>FALSE</td><td>FALSE</td><td>FALSE</td><td>FALSE</td><td>FALSE</td><td>⋯    </td><td>FALSE</td><td>FALSE</td><td>FALSE</td><td>FALSE</td><td>FALSE</td><td>FALSE</td><td>FALSE</td><td>FALSE</td><td>FALSE</td><td>FALSE</td></tr>\n",
       "\t<tr><td>FALSE</td><td>FALSE</td><td>FALSE</td><td>FALSE</td><td>FALSE</td><td>FALSE</td><td>FALSE</td><td>FALSE</td><td>FALSE</td><td>FALSE</td><td>⋯    </td><td>FALSE</td><td>FALSE</td><td>FALSE</td><td>FALSE</td><td>FALSE</td><td>FALSE</td><td>FALSE</td><td>FALSE</td><td>FALSE</td><td>FALSE</td></tr>\n",
       "\t<tr><td>FALSE</td><td>FALSE</td><td>FALSE</td><td>FALSE</td><td>FALSE</td><td>FALSE</td><td>FALSE</td><td>FALSE</td><td>FALSE</td><td>FALSE</td><td>⋯    </td><td>FALSE</td><td>FALSE</td><td>FALSE</td><td>FALSE</td><td>FALSE</td><td>FALSE</td><td>FALSE</td><td>FALSE</td><td>FALSE</td><td>FALSE</td></tr>\n",
       "\t<tr><td>FALSE</td><td>FALSE</td><td>FALSE</td><td>FALSE</td><td>FALSE</td><td>FALSE</td><td>FALSE</td><td>FALSE</td><td>FALSE</td><td>FALSE</td><td>⋯    </td><td>FALSE</td><td>FALSE</td><td>FALSE</td><td>FALSE</td><td>FALSE</td><td>FALSE</td><td>FALSE</td><td>FALSE</td><td>FALSE</td><td>FALSE</td></tr>\n",
       "\t<tr><td>FALSE</td><td>FALSE</td><td>FALSE</td><td>FALSE</td><td>FALSE</td><td>FALSE</td><td>FALSE</td><td>FALSE</td><td>FALSE</td><td>FALSE</td><td>⋯    </td><td>FALSE</td><td>FALSE</td><td>FALSE</td><td>FALSE</td><td>FALSE</td><td>FALSE</td><td>FALSE</td><td>FALSE</td><td>FALSE</td><td>FALSE</td></tr>\n",
       "</tbody>\n",
       "</table>\n"
      ],
      "text/latex": [
       "\\begin{tabular}{r|llllllllllllllllllllllllll}\n",
       " Action & Adventure & Animation & Comedy & Crime & Family & Fantasy & Drama & Thriller & Sci-Fi & ⋯ & Musical & Western & Horror & Documentary & Sport & Short & Reality-TV & News & Film-Noir & Game-Show\\\\\n",
       "\\hline\n",
       "\t FALSE & FALSE & FALSE & FALSE & FALSE & FALSE & FALSE & FALSE & FALSE & FALSE & ⋯     & FALSE & FALSE & FALSE & FALSE & FALSE & FALSE & FALSE & FALSE & FALSE & FALSE\\\\\n",
       "\t FALSE & FALSE & FALSE & FALSE & FALSE & FALSE & FALSE & FALSE & FALSE & FALSE & ⋯     & FALSE & FALSE & FALSE & FALSE & FALSE & FALSE & FALSE & FALSE & FALSE & FALSE\\\\\n",
       "\t FALSE & FALSE & FALSE & FALSE & FALSE & FALSE & FALSE & FALSE & FALSE & FALSE & ⋯     & FALSE & FALSE & FALSE & FALSE & FALSE & FALSE & FALSE & FALSE & FALSE & FALSE\\\\\n",
       "\t FALSE & FALSE & FALSE & FALSE & FALSE & FALSE & FALSE & FALSE & FALSE & FALSE & ⋯     & FALSE & FALSE & FALSE & FALSE & FALSE & FALSE & FALSE & FALSE & FALSE & FALSE\\\\\n",
       "\t FALSE & FALSE & FALSE & FALSE & FALSE & FALSE & FALSE & FALSE & FALSE & FALSE & ⋯     & FALSE & FALSE & FALSE & FALSE & FALSE & FALSE & FALSE & FALSE & FALSE & FALSE\\\\\n",
       "\t FALSE & FALSE & FALSE & FALSE & FALSE & FALSE & FALSE & FALSE & FALSE & FALSE & ⋯     & FALSE & FALSE & FALSE & FALSE & FALSE & FALSE & FALSE & FALSE & FALSE & FALSE\\\\\n",
       "\t FALSE & FALSE & FALSE & FALSE & FALSE & FALSE & FALSE & FALSE & FALSE & FALSE & ⋯     & FALSE & FALSE & FALSE & FALSE & FALSE & FALSE & FALSE & FALSE & FALSE & FALSE\\\\\n",
       "\t FALSE & FALSE & FALSE & FALSE & FALSE & FALSE & FALSE & FALSE & FALSE & FALSE & ⋯     & FALSE & FALSE & FALSE & FALSE & FALSE & FALSE & FALSE & FALSE & FALSE & FALSE\\\\\n",
       "\t FALSE & FALSE & FALSE & FALSE & FALSE & FALSE & FALSE & FALSE & FALSE & FALSE & ⋯     & FALSE & FALSE & FALSE & FALSE & FALSE & FALSE & FALSE & FALSE & FALSE & FALSE\\\\\n",
       "\t FALSE & FALSE & FALSE & FALSE & FALSE & FALSE & FALSE & FALSE & FALSE & FALSE & ⋯     & FALSE & FALSE & FALSE & FALSE & FALSE & FALSE & FALSE & FALSE & FALSE & FALSE\\\\\n",
       "\t FALSE & FALSE & FALSE & FALSE & FALSE & FALSE & FALSE & FALSE & FALSE & FALSE & ⋯     & FALSE & FALSE & FALSE & FALSE & FALSE & FALSE & FALSE & FALSE & FALSE & FALSE\\\\\n",
       "\t FALSE & FALSE & FALSE & FALSE & FALSE & FALSE & FALSE & FALSE & FALSE & FALSE & ⋯     & FALSE & FALSE & FALSE & FALSE & FALSE & FALSE & FALSE & FALSE & FALSE & FALSE\\\\\n",
       "\t FALSE & FALSE & FALSE & FALSE & FALSE & FALSE & FALSE & FALSE & FALSE & FALSE & ⋯     & FALSE & FALSE & FALSE & FALSE & FALSE & FALSE & FALSE & FALSE & FALSE & FALSE\\\\\n",
       "\t FALSE & FALSE & FALSE & FALSE & FALSE & FALSE & FALSE & FALSE & FALSE & FALSE & ⋯     & FALSE & FALSE & FALSE & FALSE & FALSE & FALSE & FALSE & FALSE & FALSE & FALSE\\\\\n",
       "\t FALSE & FALSE & FALSE & FALSE & FALSE & FALSE & FALSE & FALSE & FALSE & FALSE & ⋯     & FALSE & FALSE & FALSE & FALSE & FALSE & FALSE & FALSE & FALSE & FALSE & FALSE\\\\\n",
       "\t FALSE & FALSE & FALSE & FALSE & FALSE & FALSE & FALSE & FALSE & FALSE & FALSE & ⋯     & FALSE & FALSE & FALSE & FALSE & FALSE & FALSE & FALSE & FALSE & FALSE & FALSE\\\\\n",
       "\t FALSE & FALSE & FALSE & FALSE & FALSE & FALSE & FALSE & FALSE & FALSE & FALSE & ⋯     & FALSE & FALSE & FALSE & FALSE & FALSE & FALSE & FALSE & FALSE & FALSE & FALSE\\\\\n",
       "\t FALSE & FALSE & FALSE & FALSE & FALSE & FALSE & FALSE & FALSE & FALSE & FALSE & ⋯     & FALSE & FALSE & FALSE & FALSE & FALSE & FALSE & FALSE & FALSE & FALSE & FALSE\\\\\n",
       "\t FALSE & FALSE & FALSE & FALSE & FALSE & FALSE & FALSE & FALSE & FALSE & FALSE & ⋯     & FALSE & FALSE & FALSE & FALSE & FALSE & FALSE & FALSE & FALSE & FALSE & FALSE\\\\\n",
       "\t FALSE & FALSE & FALSE & FALSE & FALSE & FALSE & FALSE & FALSE & FALSE & FALSE & ⋯     & FALSE & FALSE & FALSE & FALSE & FALSE & FALSE & FALSE & FALSE & FALSE & FALSE\\\\\n",
       "\t FALSE & FALSE & FALSE & FALSE & FALSE & FALSE & FALSE & FALSE & FALSE & FALSE & ⋯     & FALSE & FALSE & FALSE & FALSE & FALSE & FALSE & FALSE & FALSE & FALSE & FALSE\\\\\n",
       "\t FALSE & FALSE & FALSE & FALSE & FALSE & FALSE & FALSE & FALSE & FALSE & FALSE & ⋯     & FALSE & FALSE & FALSE & FALSE & FALSE & FALSE & FALSE & FALSE & FALSE & FALSE\\\\\n",
       "\t FALSE & FALSE & FALSE & FALSE & FALSE & FALSE & FALSE & FALSE & FALSE & FALSE & ⋯     & FALSE & FALSE & FALSE & FALSE & FALSE & FALSE & FALSE & FALSE & FALSE & FALSE\\\\\n",
       "\t FALSE & FALSE & FALSE & FALSE & FALSE & FALSE & FALSE & FALSE & FALSE & FALSE & ⋯     & FALSE & FALSE & FALSE & FALSE & FALSE & FALSE & FALSE & FALSE & FALSE & FALSE\\\\\n",
       "\t FALSE & FALSE & FALSE & FALSE & FALSE & FALSE & FALSE & FALSE & FALSE & FALSE & ⋯     & FALSE & FALSE & FALSE & FALSE & FALSE & FALSE & FALSE & FALSE & FALSE & FALSE\\\\\n",
       "\t FALSE & FALSE & FALSE & FALSE & FALSE & FALSE & FALSE & FALSE & FALSE & FALSE & ⋯     & FALSE & FALSE & FALSE & FALSE & FALSE & FALSE & FALSE & FALSE & FALSE & FALSE\\\\\n",
       "\t FALSE & FALSE & FALSE & FALSE & FALSE & FALSE & FALSE & FALSE & FALSE & FALSE & ⋯     & FALSE & FALSE & FALSE & FALSE & FALSE & FALSE & FALSE & FALSE & FALSE & FALSE\\\\\n",
       "\t FALSE & FALSE & FALSE & FALSE & FALSE & FALSE & FALSE & FALSE & FALSE & FALSE & ⋯     & FALSE & FALSE & FALSE & FALSE & FALSE & FALSE & FALSE & FALSE & FALSE & FALSE\\\\\n",
       "\t FALSE & FALSE & FALSE & FALSE & FALSE & FALSE & FALSE & FALSE & FALSE & FALSE & ⋯     & FALSE & FALSE & FALSE & FALSE & FALSE & FALSE & FALSE & FALSE & FALSE & FALSE\\\\\n",
       "\t FALSE & FALSE & FALSE & FALSE & FALSE & FALSE & FALSE & FALSE & FALSE & FALSE & ⋯     & FALSE & FALSE & FALSE & FALSE & FALSE & FALSE & FALSE & FALSE & FALSE & FALSE\\\\\n",
       "\t ⋮ & ⋮ & ⋮ & ⋮ & ⋮ & ⋮ & ⋮ & ⋮ & ⋮ & ⋮ & ⋱ & ⋮ & ⋮ & ⋮ & ⋮ & ⋮ & ⋮ & ⋮ & ⋮ & ⋮ & ⋮\\\\\n",
       "\t FALSE & FALSE & FALSE & FALSE & FALSE & FALSE & FALSE & FALSE & FALSE & FALSE & ⋯     & FALSE & FALSE & FALSE & FALSE & FALSE & FALSE & FALSE & FALSE & FALSE & FALSE\\\\\n",
       "\t FALSE & FALSE & FALSE & FALSE & FALSE & FALSE & FALSE & FALSE & FALSE & FALSE & ⋯     & FALSE & FALSE & FALSE & FALSE & FALSE & FALSE & FALSE & FALSE & FALSE & FALSE\\\\\n",
       "\t FALSE & FALSE & FALSE & FALSE & FALSE & FALSE & FALSE & FALSE & FALSE & FALSE & ⋯     & FALSE & FALSE & FALSE & FALSE & FALSE & FALSE & FALSE & FALSE & FALSE & FALSE\\\\\n",
       "\t FALSE & FALSE & FALSE & FALSE & FALSE & FALSE & FALSE & FALSE & FALSE & FALSE & ⋯     & FALSE & FALSE & FALSE & FALSE & FALSE & FALSE & FALSE & FALSE & FALSE & FALSE\\\\\n",
       "\t FALSE & FALSE & FALSE & FALSE & FALSE & FALSE & FALSE & FALSE & FALSE & FALSE & ⋯     & FALSE & FALSE & FALSE & FALSE & FALSE & FALSE & FALSE & FALSE & FALSE & FALSE\\\\\n",
       "\t FALSE & FALSE & FALSE & FALSE & FALSE & FALSE & FALSE & FALSE & FALSE & FALSE & ⋯     & FALSE & FALSE & FALSE & FALSE & FALSE & FALSE & FALSE & FALSE & FALSE & FALSE\\\\\n",
       "\t FALSE & FALSE & FALSE & FALSE & FALSE & FALSE & FALSE & FALSE & FALSE & FALSE & ⋯     & FALSE & FALSE & FALSE & FALSE & FALSE & FALSE & FALSE & FALSE & FALSE & FALSE\\\\\n",
       "\t FALSE & FALSE & FALSE & FALSE & FALSE & FALSE & FALSE & FALSE & FALSE & FALSE & ⋯     & FALSE & FALSE & FALSE & FALSE & FALSE & FALSE & FALSE & FALSE & FALSE & FALSE\\\\\n",
       "\t FALSE & FALSE & FALSE & FALSE & FALSE & FALSE & FALSE & FALSE & FALSE & FALSE & ⋯     & FALSE & FALSE & FALSE & FALSE & FALSE & FALSE & FALSE & FALSE & FALSE & FALSE\\\\\n",
       "\t FALSE & FALSE & FALSE & FALSE & FALSE & FALSE & FALSE & FALSE & FALSE & FALSE & ⋯     & FALSE & FALSE & FALSE & FALSE & FALSE & FALSE & FALSE & FALSE & FALSE & FALSE\\\\\n",
       "\t FALSE & FALSE & FALSE & FALSE & FALSE & FALSE & FALSE & FALSE & FALSE & FALSE & ⋯     & FALSE & FALSE & FALSE & FALSE & FALSE & FALSE & FALSE & FALSE & FALSE & FALSE\\\\\n",
       "\t FALSE & FALSE & FALSE & FALSE & FALSE & FALSE & FALSE & FALSE & FALSE & FALSE & ⋯     & FALSE & FALSE & FALSE & FALSE & FALSE & FALSE & FALSE & FALSE & FALSE & FALSE\\\\\n",
       "\t FALSE & FALSE & FALSE & FALSE & FALSE & FALSE & FALSE & FALSE & FALSE & FALSE & ⋯     & FALSE & FALSE & FALSE & FALSE & FALSE & FALSE & FALSE & FALSE & FALSE & FALSE\\\\\n",
       "\t FALSE & FALSE & FALSE & FALSE & FALSE & FALSE & FALSE & FALSE & FALSE & FALSE & ⋯     & FALSE & FALSE & FALSE & FALSE & FALSE & FALSE & FALSE & FALSE & FALSE & FALSE\\\\\n",
       "\t FALSE & FALSE & FALSE & FALSE & FALSE & FALSE & FALSE & FALSE & FALSE & FALSE & ⋯     & FALSE & FALSE & FALSE & FALSE & FALSE & FALSE & FALSE & FALSE & FALSE & FALSE\\\\\n",
       "\t FALSE & FALSE & FALSE & FALSE & FALSE & FALSE & FALSE & FALSE & FALSE & FALSE & ⋯     & FALSE & FALSE & FALSE & FALSE & FALSE & FALSE & FALSE & FALSE & FALSE & FALSE\\\\\n",
       "\t FALSE & FALSE & FALSE & FALSE & FALSE & FALSE & FALSE & FALSE & FALSE & FALSE & ⋯     & FALSE & FALSE & FALSE & FALSE & FALSE & FALSE & FALSE & FALSE & FALSE & FALSE\\\\\n",
       "\t FALSE & FALSE & FALSE & FALSE & FALSE & FALSE & FALSE & FALSE & FALSE & FALSE & ⋯     & FALSE & FALSE & FALSE & FALSE & FALSE & FALSE & FALSE & FALSE & FALSE & FALSE\\\\\n",
       "\t FALSE & FALSE & FALSE & FALSE & FALSE & FALSE & FALSE & FALSE & FALSE & FALSE & ⋯     & FALSE & FALSE & FALSE & FALSE & FALSE & FALSE & FALSE & FALSE & FALSE & FALSE\\\\\n",
       "\t FALSE & FALSE & FALSE & FALSE & FALSE & FALSE & FALSE & FALSE & FALSE & FALSE & ⋯     & FALSE & FALSE & FALSE & FALSE & FALSE & FALSE & FALSE & FALSE & FALSE & FALSE\\\\\n",
       "\t FALSE & FALSE & FALSE & FALSE & FALSE & FALSE & FALSE & FALSE & FALSE & FALSE & ⋯     & FALSE & FALSE & FALSE & FALSE & FALSE & FALSE & FALSE & FALSE & FALSE & FALSE\\\\\n",
       "\t FALSE & FALSE & FALSE & FALSE & FALSE & FALSE & FALSE & FALSE & FALSE & FALSE & ⋯     & FALSE & FALSE & FALSE & FALSE & FALSE & FALSE & FALSE & FALSE & FALSE & FALSE\\\\\n",
       "\t FALSE & FALSE & FALSE & FALSE & FALSE & FALSE & FALSE & FALSE & FALSE & FALSE & ⋯     & FALSE & FALSE & FALSE & FALSE & FALSE & FALSE & FALSE & FALSE & FALSE & FALSE\\\\\n",
       "\t FALSE & FALSE & FALSE & FALSE & FALSE & FALSE & FALSE & FALSE & FALSE & FALSE & ⋯     & FALSE & FALSE & FALSE & FALSE & FALSE & FALSE & FALSE & FALSE & FALSE & FALSE\\\\\n",
       "\t FALSE & FALSE & FALSE & FALSE & FALSE & FALSE & FALSE & FALSE & FALSE & FALSE & ⋯     & FALSE & FALSE & FALSE & FALSE & FALSE & FALSE & FALSE & FALSE & FALSE & FALSE\\\\\n",
       "\t FALSE & FALSE & FALSE & FALSE & FALSE & FALSE & FALSE & FALSE & FALSE & FALSE & ⋯     & FALSE & FALSE & FALSE & FALSE & FALSE & FALSE & FALSE & FALSE & FALSE & FALSE\\\\\n",
       "\t FALSE & FALSE & FALSE & FALSE & FALSE & FALSE & FALSE & FALSE & FALSE & FALSE & ⋯     & FALSE & FALSE & FALSE & FALSE & FALSE & FALSE & FALSE & FALSE & FALSE & FALSE\\\\\n",
       "\t FALSE & FALSE & FALSE & FALSE & FALSE & FALSE & FALSE & FALSE & FALSE & FALSE & ⋯     & FALSE & FALSE & FALSE & FALSE & FALSE & FALSE & FALSE & FALSE & FALSE & FALSE\\\\\n",
       "\t FALSE & FALSE & FALSE & FALSE & FALSE & FALSE & FALSE & FALSE & FALSE & FALSE & ⋯     & FALSE & FALSE & FALSE & FALSE & FALSE & FALSE & FALSE & FALSE & FALSE & FALSE\\\\\n",
       "\t FALSE & FALSE & FALSE & FALSE & FALSE & FALSE & FALSE & FALSE & FALSE & FALSE & ⋯     & FALSE & FALSE & FALSE & FALSE & FALSE & FALSE & FALSE & FALSE & FALSE & FALSE\\\\\n",
       "\\end{tabular}\n"
      ],
      "text/markdown": [
       "\n",
       "Action | Adventure | Animation | Comedy | Crime | Family | Fantasy | Drama | Thriller | Sci-Fi | ⋯ | Musical | Western | Horror | Documentary | Sport | Short | Reality-TV | News | Film-Noir | Game-Show | \n",
       "|---|---|---|---|---|---|---|---|---|---|---|---|---|---|---|---|---|---|---|---|---|---|---|---|---|---|---|---|---|---|---|---|---|---|---|---|---|---|---|---|---|---|---|---|---|---|---|---|---|---|---|---|---|---|---|---|---|---|---|---|---|\n",
       "| FALSE | FALSE | FALSE | FALSE | FALSE | FALSE | FALSE | FALSE | FALSE | FALSE | ⋯     | FALSE | FALSE | FALSE | FALSE | FALSE | FALSE | FALSE | FALSE | FALSE | FALSE | \n",
       "| FALSE | FALSE | FALSE | FALSE | FALSE | FALSE | FALSE | FALSE | FALSE | FALSE | ⋯     | FALSE | FALSE | FALSE | FALSE | FALSE | FALSE | FALSE | FALSE | FALSE | FALSE | \n",
       "| FALSE | FALSE | FALSE | FALSE | FALSE | FALSE | FALSE | FALSE | FALSE | FALSE | ⋯     | FALSE | FALSE | FALSE | FALSE | FALSE | FALSE | FALSE | FALSE | FALSE | FALSE | \n",
       "| FALSE | FALSE | FALSE | FALSE | FALSE | FALSE | FALSE | FALSE | FALSE | FALSE | ⋯     | FALSE | FALSE | FALSE | FALSE | FALSE | FALSE | FALSE | FALSE | FALSE | FALSE | \n",
       "| FALSE | FALSE | FALSE | FALSE | FALSE | FALSE | FALSE | FALSE | FALSE | FALSE | ⋯     | FALSE | FALSE | FALSE | FALSE | FALSE | FALSE | FALSE | FALSE | FALSE | FALSE | \n",
       "| FALSE | FALSE | FALSE | FALSE | FALSE | FALSE | FALSE | FALSE | FALSE | FALSE | ⋯     | FALSE | FALSE | FALSE | FALSE | FALSE | FALSE | FALSE | FALSE | FALSE | FALSE | \n",
       "| FALSE | FALSE | FALSE | FALSE | FALSE | FALSE | FALSE | FALSE | FALSE | FALSE | ⋯     | FALSE | FALSE | FALSE | FALSE | FALSE | FALSE | FALSE | FALSE | FALSE | FALSE | \n",
       "| FALSE | FALSE | FALSE | FALSE | FALSE | FALSE | FALSE | FALSE | FALSE | FALSE | ⋯     | FALSE | FALSE | FALSE | FALSE | FALSE | FALSE | FALSE | FALSE | FALSE | FALSE | \n",
       "| FALSE | FALSE | FALSE | FALSE | FALSE | FALSE | FALSE | FALSE | FALSE | FALSE | ⋯     | FALSE | FALSE | FALSE | FALSE | FALSE | FALSE | FALSE | FALSE | FALSE | FALSE | \n",
       "| FALSE | FALSE | FALSE | FALSE | FALSE | FALSE | FALSE | FALSE | FALSE | FALSE | ⋯     | FALSE | FALSE | FALSE | FALSE | FALSE | FALSE | FALSE | FALSE | FALSE | FALSE | \n",
       "| FALSE | FALSE | FALSE | FALSE | FALSE | FALSE | FALSE | FALSE | FALSE | FALSE | ⋯     | FALSE | FALSE | FALSE | FALSE | FALSE | FALSE | FALSE | FALSE | FALSE | FALSE | \n",
       "| FALSE | FALSE | FALSE | FALSE | FALSE | FALSE | FALSE | FALSE | FALSE | FALSE | ⋯     | FALSE | FALSE | FALSE | FALSE | FALSE | FALSE | FALSE | FALSE | FALSE | FALSE | \n",
       "| FALSE | FALSE | FALSE | FALSE | FALSE | FALSE | FALSE | FALSE | FALSE | FALSE | ⋯     | FALSE | FALSE | FALSE | FALSE | FALSE | FALSE | FALSE | FALSE | FALSE | FALSE | \n",
       "| FALSE | FALSE | FALSE | FALSE | FALSE | FALSE | FALSE | FALSE | FALSE | FALSE | ⋯     | FALSE | FALSE | FALSE | FALSE | FALSE | FALSE | FALSE | FALSE | FALSE | FALSE | \n",
       "| FALSE | FALSE | FALSE | FALSE | FALSE | FALSE | FALSE | FALSE | FALSE | FALSE | ⋯     | FALSE | FALSE | FALSE | FALSE | FALSE | FALSE | FALSE | FALSE | FALSE | FALSE | \n",
       "| FALSE | FALSE | FALSE | FALSE | FALSE | FALSE | FALSE | FALSE | FALSE | FALSE | ⋯     | FALSE | FALSE | FALSE | FALSE | FALSE | FALSE | FALSE | FALSE | FALSE | FALSE | \n",
       "| FALSE | FALSE | FALSE | FALSE | FALSE | FALSE | FALSE | FALSE | FALSE | FALSE | ⋯     | FALSE | FALSE | FALSE | FALSE | FALSE | FALSE | FALSE | FALSE | FALSE | FALSE | \n",
       "| FALSE | FALSE | FALSE | FALSE | FALSE | FALSE | FALSE | FALSE | FALSE | FALSE | ⋯     | FALSE | FALSE | FALSE | FALSE | FALSE | FALSE | FALSE | FALSE | FALSE | FALSE | \n",
       "| FALSE | FALSE | FALSE | FALSE | FALSE | FALSE | FALSE | FALSE | FALSE | FALSE | ⋯     | FALSE | FALSE | FALSE | FALSE | FALSE | FALSE | FALSE | FALSE | FALSE | FALSE | \n",
       "| FALSE | FALSE | FALSE | FALSE | FALSE | FALSE | FALSE | FALSE | FALSE | FALSE | ⋯     | FALSE | FALSE | FALSE | FALSE | FALSE | FALSE | FALSE | FALSE | FALSE | FALSE | \n",
       "| FALSE | FALSE | FALSE | FALSE | FALSE | FALSE | FALSE | FALSE | FALSE | FALSE | ⋯     | FALSE | FALSE | FALSE | FALSE | FALSE | FALSE | FALSE | FALSE | FALSE | FALSE | \n",
       "| FALSE | FALSE | FALSE | FALSE | FALSE | FALSE | FALSE | FALSE | FALSE | FALSE | ⋯     | FALSE | FALSE | FALSE | FALSE | FALSE | FALSE | FALSE | FALSE | FALSE | FALSE | \n",
       "| FALSE | FALSE | FALSE | FALSE | FALSE | FALSE | FALSE | FALSE | FALSE | FALSE | ⋯     | FALSE | FALSE | FALSE | FALSE | FALSE | FALSE | FALSE | FALSE | FALSE | FALSE | \n",
       "| FALSE | FALSE | FALSE | FALSE | FALSE | FALSE | FALSE | FALSE | FALSE | FALSE | ⋯     | FALSE | FALSE | FALSE | FALSE | FALSE | FALSE | FALSE | FALSE | FALSE | FALSE | \n",
       "| FALSE | FALSE | FALSE | FALSE | FALSE | FALSE | FALSE | FALSE | FALSE | FALSE | ⋯     | FALSE | FALSE | FALSE | FALSE | FALSE | FALSE | FALSE | FALSE | FALSE | FALSE | \n",
       "| FALSE | FALSE | FALSE | FALSE | FALSE | FALSE | FALSE | FALSE | FALSE | FALSE | ⋯     | FALSE | FALSE | FALSE | FALSE | FALSE | FALSE | FALSE | FALSE | FALSE | FALSE | \n",
       "| FALSE | FALSE | FALSE | FALSE | FALSE | FALSE | FALSE | FALSE | FALSE | FALSE | ⋯     | FALSE | FALSE | FALSE | FALSE | FALSE | FALSE | FALSE | FALSE | FALSE | FALSE | \n",
       "| FALSE | FALSE | FALSE | FALSE | FALSE | FALSE | FALSE | FALSE | FALSE | FALSE | ⋯     | FALSE | FALSE | FALSE | FALSE | FALSE | FALSE | FALSE | FALSE | FALSE | FALSE | \n",
       "| FALSE | FALSE | FALSE | FALSE | FALSE | FALSE | FALSE | FALSE | FALSE | FALSE | ⋯     | FALSE | FALSE | FALSE | FALSE | FALSE | FALSE | FALSE | FALSE | FALSE | FALSE | \n",
       "| FALSE | FALSE | FALSE | FALSE | FALSE | FALSE | FALSE | FALSE | FALSE | FALSE | ⋯     | FALSE | FALSE | FALSE | FALSE | FALSE | FALSE | FALSE | FALSE | FALSE | FALSE | \n",
       "| ⋮ | ⋮ | ⋮ | ⋮ | ⋮ | ⋮ | ⋮ | ⋮ | ⋮ | ⋮ | ⋱ | ⋮ | ⋮ | ⋮ | ⋮ | ⋮ | ⋮ | ⋮ | ⋮ | ⋮ | ⋮ | \n",
       "| FALSE | FALSE | FALSE | FALSE | FALSE | FALSE | FALSE | FALSE | FALSE | FALSE | ⋯     | FALSE | FALSE | FALSE | FALSE | FALSE | FALSE | FALSE | FALSE | FALSE | FALSE | \n",
       "| FALSE | FALSE | FALSE | FALSE | FALSE | FALSE | FALSE | FALSE | FALSE | FALSE | ⋯     | FALSE | FALSE | FALSE | FALSE | FALSE | FALSE | FALSE | FALSE | FALSE | FALSE | \n",
       "| FALSE | FALSE | FALSE | FALSE | FALSE | FALSE | FALSE | FALSE | FALSE | FALSE | ⋯     | FALSE | FALSE | FALSE | FALSE | FALSE | FALSE | FALSE | FALSE | FALSE | FALSE | \n",
       "| FALSE | FALSE | FALSE | FALSE | FALSE | FALSE | FALSE | FALSE | FALSE | FALSE | ⋯     | FALSE | FALSE | FALSE | FALSE | FALSE | FALSE | FALSE | FALSE | FALSE | FALSE | \n",
       "| FALSE | FALSE | FALSE | FALSE | FALSE | FALSE | FALSE | FALSE | FALSE | FALSE | ⋯     | FALSE | FALSE | FALSE | FALSE | FALSE | FALSE | FALSE | FALSE | FALSE | FALSE | \n",
       "| FALSE | FALSE | FALSE | FALSE | FALSE | FALSE | FALSE | FALSE | FALSE | FALSE | ⋯     | FALSE | FALSE | FALSE | FALSE | FALSE | FALSE | FALSE | FALSE | FALSE | FALSE | \n",
       "| FALSE | FALSE | FALSE | FALSE | FALSE | FALSE | FALSE | FALSE | FALSE | FALSE | ⋯     | FALSE | FALSE | FALSE | FALSE | FALSE | FALSE | FALSE | FALSE | FALSE | FALSE | \n",
       "| FALSE | FALSE | FALSE | FALSE | FALSE | FALSE | FALSE | FALSE | FALSE | FALSE | ⋯     | FALSE | FALSE | FALSE | FALSE | FALSE | FALSE | FALSE | FALSE | FALSE | FALSE | \n",
       "| FALSE | FALSE | FALSE | FALSE | FALSE | FALSE | FALSE | FALSE | FALSE | FALSE | ⋯     | FALSE | FALSE | FALSE | FALSE | FALSE | FALSE | FALSE | FALSE | FALSE | FALSE | \n",
       "| FALSE | FALSE | FALSE | FALSE | FALSE | FALSE | FALSE | FALSE | FALSE | FALSE | ⋯     | FALSE | FALSE | FALSE | FALSE | FALSE | FALSE | FALSE | FALSE | FALSE | FALSE | \n",
       "| FALSE | FALSE | FALSE | FALSE | FALSE | FALSE | FALSE | FALSE | FALSE | FALSE | ⋯     | FALSE | FALSE | FALSE | FALSE | FALSE | FALSE | FALSE | FALSE | FALSE | FALSE | \n",
       "| FALSE | FALSE | FALSE | FALSE | FALSE | FALSE | FALSE | FALSE | FALSE | FALSE | ⋯     | FALSE | FALSE | FALSE | FALSE | FALSE | FALSE | FALSE | FALSE | FALSE | FALSE | \n",
       "| FALSE | FALSE | FALSE | FALSE | FALSE | FALSE | FALSE | FALSE | FALSE | FALSE | ⋯     | FALSE | FALSE | FALSE | FALSE | FALSE | FALSE | FALSE | FALSE | FALSE | FALSE | \n",
       "| FALSE | FALSE | FALSE | FALSE | FALSE | FALSE | FALSE | FALSE | FALSE | FALSE | ⋯     | FALSE | FALSE | FALSE | FALSE | FALSE | FALSE | FALSE | FALSE | FALSE | FALSE | \n",
       "| FALSE | FALSE | FALSE | FALSE | FALSE | FALSE | FALSE | FALSE | FALSE | FALSE | ⋯     | FALSE | FALSE | FALSE | FALSE | FALSE | FALSE | FALSE | FALSE | FALSE | FALSE | \n",
       "| FALSE | FALSE | FALSE | FALSE | FALSE | FALSE | FALSE | FALSE | FALSE | FALSE | ⋯     | FALSE | FALSE | FALSE | FALSE | FALSE | FALSE | FALSE | FALSE | FALSE | FALSE | \n",
       "| FALSE | FALSE | FALSE | FALSE | FALSE | FALSE | FALSE | FALSE | FALSE | FALSE | ⋯     | FALSE | FALSE | FALSE | FALSE | FALSE | FALSE | FALSE | FALSE | FALSE | FALSE | \n",
       "| FALSE | FALSE | FALSE | FALSE | FALSE | FALSE | FALSE | FALSE | FALSE | FALSE | ⋯     | FALSE | FALSE | FALSE | FALSE | FALSE | FALSE | FALSE | FALSE | FALSE | FALSE | \n",
       "| FALSE | FALSE | FALSE | FALSE | FALSE | FALSE | FALSE | FALSE | FALSE | FALSE | ⋯     | FALSE | FALSE | FALSE | FALSE | FALSE | FALSE | FALSE | FALSE | FALSE | FALSE | \n",
       "| FALSE | FALSE | FALSE | FALSE | FALSE | FALSE | FALSE | FALSE | FALSE | FALSE | ⋯     | FALSE | FALSE | FALSE | FALSE | FALSE | FALSE | FALSE | FALSE | FALSE | FALSE | \n",
       "| FALSE | FALSE | FALSE | FALSE | FALSE | FALSE | FALSE | FALSE | FALSE | FALSE | ⋯     | FALSE | FALSE | FALSE | FALSE | FALSE | FALSE | FALSE | FALSE | FALSE | FALSE | \n",
       "| FALSE | FALSE | FALSE | FALSE | FALSE | FALSE | FALSE | FALSE | FALSE | FALSE | ⋯     | FALSE | FALSE | FALSE | FALSE | FALSE | FALSE | FALSE | FALSE | FALSE | FALSE | \n",
       "| FALSE | FALSE | FALSE | FALSE | FALSE | FALSE | FALSE | FALSE | FALSE | FALSE | ⋯     | FALSE | FALSE | FALSE | FALSE | FALSE | FALSE | FALSE | FALSE | FALSE | FALSE | \n",
       "| FALSE | FALSE | FALSE | FALSE | FALSE | FALSE | FALSE | FALSE | FALSE | FALSE | ⋯     | FALSE | FALSE | FALSE | FALSE | FALSE | FALSE | FALSE | FALSE | FALSE | FALSE | \n",
       "| FALSE | FALSE | FALSE | FALSE | FALSE | FALSE | FALSE | FALSE | FALSE | FALSE | ⋯     | FALSE | FALSE | FALSE | FALSE | FALSE | FALSE | FALSE | FALSE | FALSE | FALSE | \n",
       "| FALSE | FALSE | FALSE | FALSE | FALSE | FALSE | FALSE | FALSE | FALSE | FALSE | ⋯     | FALSE | FALSE | FALSE | FALSE | FALSE | FALSE | FALSE | FALSE | FALSE | FALSE | \n",
       "| FALSE | FALSE | FALSE | FALSE | FALSE | FALSE | FALSE | FALSE | FALSE | FALSE | ⋯     | FALSE | FALSE | FALSE | FALSE | FALSE | FALSE | FALSE | FALSE | FALSE | FALSE | \n",
       "| FALSE | FALSE | FALSE | FALSE | FALSE | FALSE | FALSE | FALSE | FALSE | FALSE | ⋯     | FALSE | FALSE | FALSE | FALSE | FALSE | FALSE | FALSE | FALSE | FALSE | FALSE | \n",
       "| FALSE | FALSE | FALSE | FALSE | FALSE | FALSE | FALSE | FALSE | FALSE | FALSE | ⋯     | FALSE | FALSE | FALSE | FALSE | FALSE | FALSE | FALSE | FALSE | FALSE | FALSE | \n",
       "| FALSE | FALSE | FALSE | FALSE | FALSE | FALSE | FALSE | FALSE | FALSE | FALSE | ⋯     | FALSE | FALSE | FALSE | FALSE | FALSE | FALSE | FALSE | FALSE | FALSE | FALSE | \n",
       "\n",
       "\n"
      ],
      "text/plain": [
       "     Action Adventure Animation Comedy Crime Family Fantasy Drama Thriller\n",
       "1    FALSE  FALSE     FALSE     FALSE  FALSE FALSE  FALSE   FALSE FALSE   \n",
       "2    FALSE  FALSE     FALSE     FALSE  FALSE FALSE  FALSE   FALSE FALSE   \n",
       "3    FALSE  FALSE     FALSE     FALSE  FALSE FALSE  FALSE   FALSE FALSE   \n",
       "4    FALSE  FALSE     FALSE     FALSE  FALSE FALSE  FALSE   FALSE FALSE   \n",
       "5    FALSE  FALSE     FALSE     FALSE  FALSE FALSE  FALSE   FALSE FALSE   \n",
       "6    FALSE  FALSE     FALSE     FALSE  FALSE FALSE  FALSE   FALSE FALSE   \n",
       "7    FALSE  FALSE     FALSE     FALSE  FALSE FALSE  FALSE   FALSE FALSE   \n",
       "8    FALSE  FALSE     FALSE     FALSE  FALSE FALSE  FALSE   FALSE FALSE   \n",
       "9    FALSE  FALSE     FALSE     FALSE  FALSE FALSE  FALSE   FALSE FALSE   \n",
       "10   FALSE  FALSE     FALSE     FALSE  FALSE FALSE  FALSE   FALSE FALSE   \n",
       "11   FALSE  FALSE     FALSE     FALSE  FALSE FALSE  FALSE   FALSE FALSE   \n",
       "12   FALSE  FALSE     FALSE     FALSE  FALSE FALSE  FALSE   FALSE FALSE   \n",
       "13   FALSE  FALSE     FALSE     FALSE  FALSE FALSE  FALSE   FALSE FALSE   \n",
       "14   FALSE  FALSE     FALSE     FALSE  FALSE FALSE  FALSE   FALSE FALSE   \n",
       "15   FALSE  FALSE     FALSE     FALSE  FALSE FALSE  FALSE   FALSE FALSE   \n",
       "16   FALSE  FALSE     FALSE     FALSE  FALSE FALSE  FALSE   FALSE FALSE   \n",
       "17   FALSE  FALSE     FALSE     FALSE  FALSE FALSE  FALSE   FALSE FALSE   \n",
       "18   FALSE  FALSE     FALSE     FALSE  FALSE FALSE  FALSE   FALSE FALSE   \n",
       "19   FALSE  FALSE     FALSE     FALSE  FALSE FALSE  FALSE   FALSE FALSE   \n",
       "20   FALSE  FALSE     FALSE     FALSE  FALSE FALSE  FALSE   FALSE FALSE   \n",
       "21   FALSE  FALSE     FALSE     FALSE  FALSE FALSE  FALSE   FALSE FALSE   \n",
       "22   FALSE  FALSE     FALSE     FALSE  FALSE FALSE  FALSE   FALSE FALSE   \n",
       "23   FALSE  FALSE     FALSE     FALSE  FALSE FALSE  FALSE   FALSE FALSE   \n",
       "24   FALSE  FALSE     FALSE     FALSE  FALSE FALSE  FALSE   FALSE FALSE   \n",
       "25   FALSE  FALSE     FALSE     FALSE  FALSE FALSE  FALSE   FALSE FALSE   \n",
       "26   FALSE  FALSE     FALSE     FALSE  FALSE FALSE  FALSE   FALSE FALSE   \n",
       "27   FALSE  FALSE     FALSE     FALSE  FALSE FALSE  FALSE   FALSE FALSE   \n",
       "28   FALSE  FALSE     FALSE     FALSE  FALSE FALSE  FALSE   FALSE FALSE   \n",
       "29   FALSE  FALSE     FALSE     FALSE  FALSE FALSE  FALSE   FALSE FALSE   \n",
       "30   FALSE  FALSE     FALSE     FALSE  FALSE FALSE  FALSE   FALSE FALSE   \n",
       "⋮    ⋮      ⋮         ⋮         ⋮      ⋮     ⋮      ⋮       ⋮     ⋮       \n",
       "5014 FALSE  FALSE     FALSE     FALSE  FALSE FALSE  FALSE   FALSE FALSE   \n",
       "5015 FALSE  FALSE     FALSE     FALSE  FALSE FALSE  FALSE   FALSE FALSE   \n",
       "5016 FALSE  FALSE     FALSE     FALSE  FALSE FALSE  FALSE   FALSE FALSE   \n",
       "5017 FALSE  FALSE     FALSE     FALSE  FALSE FALSE  FALSE   FALSE FALSE   \n",
       "5018 FALSE  FALSE     FALSE     FALSE  FALSE FALSE  FALSE   FALSE FALSE   \n",
       "5019 FALSE  FALSE     FALSE     FALSE  FALSE FALSE  FALSE   FALSE FALSE   \n",
       "5020 FALSE  FALSE     FALSE     FALSE  FALSE FALSE  FALSE   FALSE FALSE   \n",
       "5021 FALSE  FALSE     FALSE     FALSE  FALSE FALSE  FALSE   FALSE FALSE   \n",
       "5022 FALSE  FALSE     FALSE     FALSE  FALSE FALSE  FALSE   FALSE FALSE   \n",
       "5023 FALSE  FALSE     FALSE     FALSE  FALSE FALSE  FALSE   FALSE FALSE   \n",
       "5024 FALSE  FALSE     FALSE     FALSE  FALSE FALSE  FALSE   FALSE FALSE   \n",
       "5025 FALSE  FALSE     FALSE     FALSE  FALSE FALSE  FALSE   FALSE FALSE   \n",
       "5026 FALSE  FALSE     FALSE     FALSE  FALSE FALSE  FALSE   FALSE FALSE   \n",
       "5027 FALSE  FALSE     FALSE     FALSE  FALSE FALSE  FALSE   FALSE FALSE   \n",
       "5028 FALSE  FALSE     FALSE     FALSE  FALSE FALSE  FALSE   FALSE FALSE   \n",
       "5029 FALSE  FALSE     FALSE     FALSE  FALSE FALSE  FALSE   FALSE FALSE   \n",
       "5030 FALSE  FALSE     FALSE     FALSE  FALSE FALSE  FALSE   FALSE FALSE   \n",
       "5031 FALSE  FALSE     FALSE     FALSE  FALSE FALSE  FALSE   FALSE FALSE   \n",
       "5032 FALSE  FALSE     FALSE     FALSE  FALSE FALSE  FALSE   FALSE FALSE   \n",
       "5033 FALSE  FALSE     FALSE     FALSE  FALSE FALSE  FALSE   FALSE FALSE   \n",
       "5034 FALSE  FALSE     FALSE     FALSE  FALSE FALSE  FALSE   FALSE FALSE   \n",
       "5035 FALSE  FALSE     FALSE     FALSE  FALSE FALSE  FALSE   FALSE FALSE   \n",
       "5036 FALSE  FALSE     FALSE     FALSE  FALSE FALSE  FALSE   FALSE FALSE   \n",
       "5037 FALSE  FALSE     FALSE     FALSE  FALSE FALSE  FALSE   FALSE FALSE   \n",
       "5038 FALSE  FALSE     FALSE     FALSE  FALSE FALSE  FALSE   FALSE FALSE   \n",
       "5039 FALSE  FALSE     FALSE     FALSE  FALSE FALSE  FALSE   FALSE FALSE   \n",
       "5040 FALSE  FALSE     FALSE     FALSE  FALSE FALSE  FALSE   FALSE FALSE   \n",
       "5041 FALSE  FALSE     FALSE     FALSE  FALSE FALSE  FALSE   FALSE FALSE   \n",
       "5042 FALSE  FALSE     FALSE     FALSE  FALSE FALSE  FALSE   FALSE FALSE   \n",
       "5043 FALSE  FALSE     FALSE     FALSE  FALSE FALSE  FALSE   FALSE FALSE   \n",
       "     Sci-Fi ⋯ Musical Western Horror Documentary Sport Short Reality-TV News \n",
       "1    FALSE  ⋯ FALSE   FALSE   FALSE  FALSE       FALSE FALSE FALSE      FALSE\n",
       "2    FALSE  ⋯ FALSE   FALSE   FALSE  FALSE       FALSE FALSE FALSE      FALSE\n",
       "3    FALSE  ⋯ FALSE   FALSE   FALSE  FALSE       FALSE FALSE FALSE      FALSE\n",
       "4    FALSE  ⋯ FALSE   FALSE   FALSE  FALSE       FALSE FALSE FALSE      FALSE\n",
       "5    FALSE  ⋯ FALSE   FALSE   FALSE  FALSE       FALSE FALSE FALSE      FALSE\n",
       "6    FALSE  ⋯ FALSE   FALSE   FALSE  FALSE       FALSE FALSE FALSE      FALSE\n",
       "7    FALSE  ⋯ FALSE   FALSE   FALSE  FALSE       FALSE FALSE FALSE      FALSE\n",
       "8    FALSE  ⋯ FALSE   FALSE   FALSE  FALSE       FALSE FALSE FALSE      FALSE\n",
       "9    FALSE  ⋯ FALSE   FALSE   FALSE  FALSE       FALSE FALSE FALSE      FALSE\n",
       "10   FALSE  ⋯ FALSE   FALSE   FALSE  FALSE       FALSE FALSE FALSE      FALSE\n",
       "11   FALSE  ⋯ FALSE   FALSE   FALSE  FALSE       FALSE FALSE FALSE      FALSE\n",
       "12   FALSE  ⋯ FALSE   FALSE   FALSE  FALSE       FALSE FALSE FALSE      FALSE\n",
       "13   FALSE  ⋯ FALSE   FALSE   FALSE  FALSE       FALSE FALSE FALSE      FALSE\n",
       "14   FALSE  ⋯ FALSE   FALSE   FALSE  FALSE       FALSE FALSE FALSE      FALSE\n",
       "15   FALSE  ⋯ FALSE   FALSE   FALSE  FALSE       FALSE FALSE FALSE      FALSE\n",
       "16   FALSE  ⋯ FALSE   FALSE   FALSE  FALSE       FALSE FALSE FALSE      FALSE\n",
       "17   FALSE  ⋯ FALSE   FALSE   FALSE  FALSE       FALSE FALSE FALSE      FALSE\n",
       "18   FALSE  ⋯ FALSE   FALSE   FALSE  FALSE       FALSE FALSE FALSE      FALSE\n",
       "19   FALSE  ⋯ FALSE   FALSE   FALSE  FALSE       FALSE FALSE FALSE      FALSE\n",
       "20   FALSE  ⋯ FALSE   FALSE   FALSE  FALSE       FALSE FALSE FALSE      FALSE\n",
       "21   FALSE  ⋯ FALSE   FALSE   FALSE  FALSE       FALSE FALSE FALSE      FALSE\n",
       "22   FALSE  ⋯ FALSE   FALSE   FALSE  FALSE       FALSE FALSE FALSE      FALSE\n",
       "23   FALSE  ⋯ FALSE   FALSE   FALSE  FALSE       FALSE FALSE FALSE      FALSE\n",
       "24   FALSE  ⋯ FALSE   FALSE   FALSE  FALSE       FALSE FALSE FALSE      FALSE\n",
       "25   FALSE  ⋯ FALSE   FALSE   FALSE  FALSE       FALSE FALSE FALSE      FALSE\n",
       "26   FALSE  ⋯ FALSE   FALSE   FALSE  FALSE       FALSE FALSE FALSE      FALSE\n",
       "27   FALSE  ⋯ FALSE   FALSE   FALSE  FALSE       FALSE FALSE FALSE      FALSE\n",
       "28   FALSE  ⋯ FALSE   FALSE   FALSE  FALSE       FALSE FALSE FALSE      FALSE\n",
       "29   FALSE  ⋯ FALSE   FALSE   FALSE  FALSE       FALSE FALSE FALSE      FALSE\n",
       "30   FALSE  ⋯ FALSE   FALSE   FALSE  FALSE       FALSE FALSE FALSE      FALSE\n",
       "⋮    ⋮      ⋱ ⋮       ⋮       ⋮      ⋮           ⋮     ⋮     ⋮          ⋮    \n",
       "5014 FALSE  ⋯ FALSE   FALSE   FALSE  FALSE       FALSE FALSE FALSE      FALSE\n",
       "5015 FALSE  ⋯ FALSE   FALSE   FALSE  FALSE       FALSE FALSE FALSE      FALSE\n",
       "5016 FALSE  ⋯ FALSE   FALSE   FALSE  FALSE       FALSE FALSE FALSE      FALSE\n",
       "5017 FALSE  ⋯ FALSE   FALSE   FALSE  FALSE       FALSE FALSE FALSE      FALSE\n",
       "5018 FALSE  ⋯ FALSE   FALSE   FALSE  FALSE       FALSE FALSE FALSE      FALSE\n",
       "5019 FALSE  ⋯ FALSE   FALSE   FALSE  FALSE       FALSE FALSE FALSE      FALSE\n",
       "5020 FALSE  ⋯ FALSE   FALSE   FALSE  FALSE       FALSE FALSE FALSE      FALSE\n",
       "5021 FALSE  ⋯ FALSE   FALSE   FALSE  FALSE       FALSE FALSE FALSE      FALSE\n",
       "5022 FALSE  ⋯ FALSE   FALSE   FALSE  FALSE       FALSE FALSE FALSE      FALSE\n",
       "5023 FALSE  ⋯ FALSE   FALSE   FALSE  FALSE       FALSE FALSE FALSE      FALSE\n",
       "5024 FALSE  ⋯ FALSE   FALSE   FALSE  FALSE       FALSE FALSE FALSE      FALSE\n",
       "5025 FALSE  ⋯ FALSE   FALSE   FALSE  FALSE       FALSE FALSE FALSE      FALSE\n",
       "5026 FALSE  ⋯ FALSE   FALSE   FALSE  FALSE       FALSE FALSE FALSE      FALSE\n",
       "5027 FALSE  ⋯ FALSE   FALSE   FALSE  FALSE       FALSE FALSE FALSE      FALSE\n",
       "5028 FALSE  ⋯ FALSE   FALSE   FALSE  FALSE       FALSE FALSE FALSE      FALSE\n",
       "5029 FALSE  ⋯ FALSE   FALSE   FALSE  FALSE       FALSE FALSE FALSE      FALSE\n",
       "5030 FALSE  ⋯ FALSE   FALSE   FALSE  FALSE       FALSE FALSE FALSE      FALSE\n",
       "5031 FALSE  ⋯ FALSE   FALSE   FALSE  FALSE       FALSE FALSE FALSE      FALSE\n",
       "5032 FALSE  ⋯ FALSE   FALSE   FALSE  FALSE       FALSE FALSE FALSE      FALSE\n",
       "5033 FALSE  ⋯ FALSE   FALSE   FALSE  FALSE       FALSE FALSE FALSE      FALSE\n",
       "5034 FALSE  ⋯ FALSE   FALSE   FALSE  FALSE       FALSE FALSE FALSE      FALSE\n",
       "5035 FALSE  ⋯ FALSE   FALSE   FALSE  FALSE       FALSE FALSE FALSE      FALSE\n",
       "5036 FALSE  ⋯ FALSE   FALSE   FALSE  FALSE       FALSE FALSE FALSE      FALSE\n",
       "5037 FALSE  ⋯ FALSE   FALSE   FALSE  FALSE       FALSE FALSE FALSE      FALSE\n",
       "5038 FALSE  ⋯ FALSE   FALSE   FALSE  FALSE       FALSE FALSE FALSE      FALSE\n",
       "5039 FALSE  ⋯ FALSE   FALSE   FALSE  FALSE       FALSE FALSE FALSE      FALSE\n",
       "5040 FALSE  ⋯ FALSE   FALSE   FALSE  FALSE       FALSE FALSE FALSE      FALSE\n",
       "5041 FALSE  ⋯ FALSE   FALSE   FALSE  FALSE       FALSE FALSE FALSE      FALSE\n",
       "5042 FALSE  ⋯ FALSE   FALSE   FALSE  FALSE       FALSE FALSE FALSE      FALSE\n",
       "5043 FALSE  ⋯ FALSE   FALSE   FALSE  FALSE       FALSE FALSE FALSE      FALSE\n",
       "     Film-Noir Game-Show\n",
       "1    FALSE     FALSE    \n",
       "2    FALSE     FALSE    \n",
       "3    FALSE     FALSE    \n",
       "4    FALSE     FALSE    \n",
       "5    FALSE     FALSE    \n",
       "6    FALSE     FALSE    \n",
       "7    FALSE     FALSE    \n",
       "8    FALSE     FALSE    \n",
       "9    FALSE     FALSE    \n",
       "10   FALSE     FALSE    \n",
       "11   FALSE     FALSE    \n",
       "12   FALSE     FALSE    \n",
       "13   FALSE     FALSE    \n",
       "14   FALSE     FALSE    \n",
       "15   FALSE     FALSE    \n",
       "16   FALSE     FALSE    \n",
       "17   FALSE     FALSE    \n",
       "18   FALSE     FALSE    \n",
       "19   FALSE     FALSE    \n",
       "20   FALSE     FALSE    \n",
       "21   FALSE     FALSE    \n",
       "22   FALSE     FALSE    \n",
       "23   FALSE     FALSE    \n",
       "24   FALSE     FALSE    \n",
       "25   FALSE     FALSE    \n",
       "26   FALSE     FALSE    \n",
       "27   FALSE     FALSE    \n",
       "28   FALSE     FALSE    \n",
       "29   FALSE     FALSE    \n",
       "30   FALSE     FALSE    \n",
       "⋮    ⋮         ⋮        \n",
       "5014 FALSE     FALSE    \n",
       "5015 FALSE     FALSE    \n",
       "5016 FALSE     FALSE    \n",
       "5017 FALSE     FALSE    \n",
       "5018 FALSE     FALSE    \n",
       "5019 FALSE     FALSE    \n",
       "5020 FALSE     FALSE    \n",
       "5021 FALSE     FALSE    \n",
       "5022 FALSE     FALSE    \n",
       "5023 FALSE     FALSE    \n",
       "5024 FALSE     FALSE    \n",
       "5025 FALSE     FALSE    \n",
       "5026 FALSE     FALSE    \n",
       "5027 FALSE     FALSE    \n",
       "5028 FALSE     FALSE    \n",
       "5029 FALSE     FALSE    \n",
       "5030 FALSE     FALSE    \n",
       "5031 FALSE     FALSE    \n",
       "5032 FALSE     FALSE    \n",
       "5033 FALSE     FALSE    \n",
       "5034 FALSE     FALSE    \n",
       "5035 FALSE     FALSE    \n",
       "5036 FALSE     FALSE    \n",
       "5037 FALSE     FALSE    \n",
       "5038 FALSE     FALSE    \n",
       "5039 FALSE     FALSE    \n",
       "5040 FALSE     FALSE    \n",
       "5041 FALSE     FALSE    \n",
       "5042 FALSE     FALSE    \n",
       "5043 FALSE     FALSE    "
      ]
     },
     "metadata": {},
     "output_type": "display_data"
    }
   ],
   "source": [
    "movies[,gnr_type] <- F\n",
    "movies$genres <- as.character(movies$genres)\n",
    "movies[29:54]"
   ]
  },
  {
   "cell_type": "code",
   "execution_count": 9,
   "metadata": {
    "collapsed": false,
    "slideshow": {
     "slide_type": "subslide"
    }
   },
   "outputs": [],
   "source": [
    "for(ii in 1:nrow(movies)) { # Will look at better approaches\n",
    "  movies[ii,gnr_type] <- \n",
    "   gnr_type %in% strsplit(movies$genres[ii],\"\\\\|\")[[1]]\n",
    "}\n",
    "\n",
    "colnames(movies)[38] <- \"Sci_fi\"\n",
    "colnames(movies)[51] <- \"Reality_TV\"\n",
    "colnames(movies)[53] <- \"Film_Noir\"\n",
    "colnames(movies)[54] <- \"Game_Show\"\n",
    "gnr_type <- colnames(movies)[29:54]"
   ]
  },
  {
   "cell_type": "code",
   "execution_count": 10,
   "metadata": {
    "collapsed": true,
    "slideshow": {
     "slide_type": "subslide"
    }
   },
   "outputs": [
    {
     "data": {
      "text/plain": [
       "\n",
       "Call:\n",
       "lm(formula = paste(\"imdb_score ~\", (paste(gnr_type, collapse = \"+\"))), \n",
       "    data = movies)\n",
       "\n",
       "Coefficients:\n",
       "    (Intercept)       ActionTRUE    AdventureTRUE    AnimationTRUE  \n",
       "        6.34887         -0.22870          0.17333          0.51413  \n",
       "     ComedyTRUE        CrimeTRUE       FamilyTRUE      FantasyTRUE  \n",
       "       -0.30408          0.19231         -0.32114          0.07070  \n",
       "      DramaTRUE     ThrillerTRUE       Sci_fiTRUE      MysteryTRUE  \n",
       "        0.50364         -0.23289          0.09841          0.14813  \n",
       "    RomanceTRUE    BiographyTRUE      HistoryTRUE          WarTRUE  \n",
       "       -0.07519          0.30742          0.08223          0.27006  \n",
       "      MusicTRUE      MusicalTRUE      WesternTRUE       HorrorTRUE  \n",
       "       -0.22144          0.07295          0.08353         -0.48746  \n",
       "DocumentaryTRUE        SportTRUE        ShortTRUE   Reality_TVTRUE  \n",
       "        0.76481         -0.02755          0.16924          0.12677  \n",
       "       NewsTRUE    Film_NoirTRUE    Game_ShowTRUE  \n",
       "        0.16026          0.94627         -3.50044  \n"
      ]
     },
     "metadata": {},
     "output_type": "display_data"
    }
   ],
   "source": [
    "rslt <- lm(paste(\"imdb_score ~\", \n",
    "            (paste(gnr_type,collapse = '+'))), movies)\n",
    "rslt"
   ]
  },
  {
   "cell_type": "code",
   "execution_count": 11,
   "metadata": {
    "collapsed": false
   },
   "outputs": [],
   "source": [
    "movies$ntile <- ntile(movies$imdb_score,10)"
   ]
  },
  {
   "cell_type": "markdown",
   "metadata": {
    "slideshow": {
     "slide_type": "slide"
    }
   },
   "source": [
    "`summarise_each` let's one summarize multiple columns easily"
   ]
  },
  {
   "cell_type": "code",
   "execution_count": 12,
   "metadata": {
    "collapsed": false,
    "scrolled": true,
    "slideshow": {
     "slide_type": "-"
    }
   },
   "outputs": [
    {
     "name": "stderr",
     "output_type": "stream",
     "text": [
      "Adding missing grouping variables: `ntile`\n"
     ]
    },
    {
     "data": {
      "text/html": [
       "<table>\n",
       "<thead><tr><th scope=col>ntile</th><th scope=col>Action</th><th scope=col>Adventure</th><th scope=col>Animation</th><th scope=col>Comedy</th><th scope=col>Crime</th><th scope=col>Family</th><th scope=col>Fantasy</th><th scope=col>Drama</th><th scope=col>Thriller</th><th scope=col>⋯</th><th scope=col>Musical</th><th scope=col>Western</th><th scope=col>Horror</th><th scope=col>Documentary</th><th scope=col>Sport</th><th scope=col>Short</th><th scope=col>Reality_TV</th><th scope=col>News</th><th scope=col>Film_Noir</th><th scope=col>Game_Show</th></tr></thead>\n",
       "<tbody>\n",
       "\t<tr><td> 1         </td><td>0.2752475  </td><td>0.1960396  </td><td>0.04752475 </td><td>0.4495050  </td><td>0.1089109  </td><td>0.15247525 </td><td>0.15445545 </td><td>0.2396040  </td><td>0.3089109  </td><td>⋯          </td><td>0.02970297 </td><td>0.01584158 </td><td>0.24356436 </td><td>0.007920792</td><td>0.02178218 </td><td>0.000000000</td><td>0.001980198</td><td>0.000000000</td><td>0.000000000</td><td>0.001980198</td></tr>\n",
       "\t<tr><td> 2         </td><td>0.2698413  </td><td>0.1785714  </td><td>0.04166667 </td><td>0.5198413  </td><td>0.1488095  </td><td>0.14682540 </td><td>0.15674603 </td><td>0.2976190  </td><td>0.2956349  </td><td>⋯          </td><td>0.01785714 </td><td>0.01190476 </td><td>0.19444444 </td><td>0.013888889</td><td>0.02777778 </td><td>0.001984127</td><td>0.000000000</td><td>0.000000000</td><td>0.000000000</td><td>0.000000000</td></tr>\n",
       "\t<tr><td> 3         </td><td>0.3095238  </td><td>0.2182540  </td><td>0.04166667 </td><td>0.4345238  </td><td>0.1626984  </td><td>0.11904762 </td><td>0.13888889 </td><td>0.4047619  </td><td>0.3333333  </td><td>⋯          </td><td>0.02380952 </td><td>0.01388889 </td><td>0.15476190 </td><td>0.001984127</td><td>0.02579365 </td><td>0.000000000</td><td>0.000000000</td><td>0.000000000</td><td>0.000000000</td><td>0.000000000</td></tr>\n",
       "\t<tr><td> 4         </td><td>0.3029703  </td><td>0.1841584  </td><td>0.03762376 </td><td>0.4415842  </td><td>0.2376238  </td><td>0.10693069 </td><td>0.12475248 </td><td>0.4336634  </td><td>0.3524752  </td><td>⋯          </td><td>0.01584158 </td><td>0.01584158 </td><td>0.14059406 </td><td>0.003960396</td><td>0.03762376 </td><td>0.001980198</td><td>0.000000000</td><td>0.000000000</td><td>0.000000000</td><td>0.000000000</td></tr>\n",
       "\t<tr><td> 5         </td><td>0.2380952  </td><td>0.1646825  </td><td>0.03968254 </td><td>0.3948413  </td><td>0.2023810  </td><td>0.08730159 </td><td>0.09523810 </td><td>0.5257937  </td><td>0.3293651  </td><td>⋯          </td><td>0.02380952 </td><td>0.02380952 </td><td>0.08730159 </td><td>0.003968254</td><td>0.03174603 </td><td>0.001984127</td><td>0.000000000</td><td>0.000000000</td><td>0.000000000</td><td>0.000000000</td></tr>\n",
       "\t<tr><td> 6         </td><td>0.2281746  </td><td>0.1884921  </td><td>0.05555556 </td><td>0.3611111  </td><td>0.2023810  </td><td>0.10714286 </td><td>0.13293651 </td><td>0.5753968  </td><td>0.3035714  </td><td>⋯          </td><td>0.02380952 </td><td>0.02380952 </td><td>0.07936508 </td><td>0.015873016</td><td>0.03769841 </td><td>0.000000000</td><td>0.001984127</td><td>0.000000000</td><td>0.000000000</td><td>0.000000000</td></tr>\n",
       "\t<tr><td> 7         </td><td>0.2079208  </td><td>0.1801980  </td><td>0.06138614 </td><td>0.3544554  </td><td>0.1425743  </td><td>0.10099010 </td><td>0.10297030 </td><td>0.6178218  </td><td>0.2534653  </td><td>⋯          </td><td>0.03564356 </td><td>0.01188119 </td><td>0.07326733 </td><td>0.025742574</td><td>0.04752475 </td><td>0.001980198</td><td>0.000000000</td><td>0.000000000</td><td>0.000000000</td><td>0.000000000</td></tr>\n",
       "\t<tr><td> 8         </td><td>0.1488095  </td><td>0.1607143  </td><td>0.04761905 </td><td>0.3333333  </td><td>0.1805556  </td><td>0.08928571 </td><td>0.08333333 </td><td>0.6765873  </td><td>0.2023810  </td><td>⋯          </td><td>0.02380952 </td><td>0.02380952 </td><td>0.04960317 </td><td>0.033730159</td><td>0.05753968 </td><td>0.001984127</td><td>0.000000000</td><td>0.001984127</td><td>0.003968254</td><td>0.000000000</td></tr>\n",
       "\t<tr><td> 9         </td><td>0.1269841  </td><td>0.1448413  </td><td>0.03373016 </td><td>0.2281746  </td><td>0.1765873  </td><td>0.07341270 </td><td>0.10912698 </td><td>0.6964286  </td><td>0.2162698  </td><td>⋯          </td><td>0.03769841 </td><td>0.01984127 </td><td>0.05357143 </td><td>0.073412698</td><td>0.03968254 </td><td>0.000000000</td><td>0.000000000</td><td>0.001984127</td><td>0.003968254</td><td>0.000000000</td></tr>\n",
       "\t<tr><td>10         </td><td>0.1785714  </td><td>0.2142857  </td><td>0.07341270 </td><td>0.1944444  </td><td>0.2003968  </td><td>0.09920635 </td><td>0.11111111 </td><td>0.6765873  </td><td>0.2023810  </td><td>⋯          </td><td>0.02976190 </td><td>0.03174603 </td><td>0.04365079 </td><td>0.059523810</td><td>0.03373016 </td><td>0.000000000</td><td>0.000000000</td><td>0.001984127</td><td>0.003968254</td><td>0.000000000</td></tr>\n",
       "</tbody>\n",
       "</table>\n"
      ],
      "text/latex": [
       "\\begin{tabular}{r|lllllllllllllllllllllllllll}\n",
       " ntile & Action & Adventure & Animation & Comedy & Crime & Family & Fantasy & Drama & Thriller & ⋯ & Musical & Western & Horror & Documentary & Sport & Short & Reality\\_TV & News & Film\\_Noir & Game\\_Show\\\\\n",
       "\\hline\n",
       "\t  1          & 0.2752475   & 0.1960396   & 0.04752475  & 0.4495050   & 0.1089109   & 0.15247525  & 0.15445545  & 0.2396040   & 0.3089109   & ⋯           & 0.02970297  & 0.01584158  & 0.24356436  & 0.007920792 & 0.02178218  & 0.000000000 & 0.001980198 & 0.000000000 & 0.000000000 & 0.001980198\\\\\n",
       "\t  2          & 0.2698413   & 0.1785714   & 0.04166667  & 0.5198413   & 0.1488095   & 0.14682540  & 0.15674603  & 0.2976190   & 0.2956349   & ⋯           & 0.01785714  & 0.01190476  & 0.19444444  & 0.013888889 & 0.02777778  & 0.001984127 & 0.000000000 & 0.000000000 & 0.000000000 & 0.000000000\\\\\n",
       "\t  3          & 0.3095238   & 0.2182540   & 0.04166667  & 0.4345238   & 0.1626984   & 0.11904762  & 0.13888889  & 0.4047619   & 0.3333333   & ⋯           & 0.02380952  & 0.01388889  & 0.15476190  & 0.001984127 & 0.02579365  & 0.000000000 & 0.000000000 & 0.000000000 & 0.000000000 & 0.000000000\\\\\n",
       "\t  4          & 0.3029703   & 0.1841584   & 0.03762376  & 0.4415842   & 0.2376238   & 0.10693069  & 0.12475248  & 0.4336634   & 0.3524752   & ⋯           & 0.01584158  & 0.01584158  & 0.14059406  & 0.003960396 & 0.03762376  & 0.001980198 & 0.000000000 & 0.000000000 & 0.000000000 & 0.000000000\\\\\n",
       "\t  5          & 0.2380952   & 0.1646825   & 0.03968254  & 0.3948413   & 0.2023810   & 0.08730159  & 0.09523810  & 0.5257937   & 0.3293651   & ⋯           & 0.02380952  & 0.02380952  & 0.08730159  & 0.003968254 & 0.03174603  & 0.001984127 & 0.000000000 & 0.000000000 & 0.000000000 & 0.000000000\\\\\n",
       "\t  6          & 0.2281746   & 0.1884921   & 0.05555556  & 0.3611111   & 0.2023810   & 0.10714286  & 0.13293651  & 0.5753968   & 0.3035714   & ⋯           & 0.02380952  & 0.02380952  & 0.07936508  & 0.015873016 & 0.03769841  & 0.000000000 & 0.001984127 & 0.000000000 & 0.000000000 & 0.000000000\\\\\n",
       "\t  7          & 0.2079208   & 0.1801980   & 0.06138614  & 0.3544554   & 0.1425743   & 0.10099010  & 0.10297030  & 0.6178218   & 0.2534653   & ⋯           & 0.03564356  & 0.01188119  & 0.07326733  & 0.025742574 & 0.04752475  & 0.001980198 & 0.000000000 & 0.000000000 & 0.000000000 & 0.000000000\\\\\n",
       "\t  8          & 0.1488095   & 0.1607143   & 0.04761905  & 0.3333333   & 0.1805556   & 0.08928571  & 0.08333333  & 0.6765873   & 0.2023810   & ⋯           & 0.02380952  & 0.02380952  & 0.04960317  & 0.033730159 & 0.05753968  & 0.001984127 & 0.000000000 & 0.001984127 & 0.003968254 & 0.000000000\\\\\n",
       "\t  9          & 0.1269841   & 0.1448413   & 0.03373016  & 0.2281746   & 0.1765873   & 0.07341270  & 0.10912698  & 0.6964286   & 0.2162698   & ⋯           & 0.03769841  & 0.01984127  & 0.05357143  & 0.073412698 & 0.03968254  & 0.000000000 & 0.000000000 & 0.001984127 & 0.003968254 & 0.000000000\\\\\n",
       "\t 10          & 0.1785714   & 0.2142857   & 0.07341270  & 0.1944444   & 0.2003968   & 0.09920635  & 0.11111111  & 0.6765873   & 0.2023810   & ⋯           & 0.02976190  & 0.03174603  & 0.04365079  & 0.059523810 & 0.03373016  & 0.000000000 & 0.000000000 & 0.001984127 & 0.003968254 & 0.000000000\\\\\n",
       "\\end{tabular}\n"
      ],
      "text/markdown": [
       "\n",
       "ntile | Action | Adventure | Animation | Comedy | Crime | Family | Fantasy | Drama | Thriller | ⋯ | Musical | Western | Horror | Documentary | Sport | Short | Reality_TV | News | Film_Noir | Game_Show | \n",
       "|---|---|---|---|---|---|---|---|---|---|\n",
       "|  1          | 0.2752475   | 0.1960396   | 0.04752475  | 0.4495050   | 0.1089109   | 0.15247525  | 0.15445545  | 0.2396040   | 0.3089109   | ⋯           | 0.02970297  | 0.01584158  | 0.24356436  | 0.007920792 | 0.02178218  | 0.000000000 | 0.001980198 | 0.000000000 | 0.000000000 | 0.001980198 | \n",
       "|  2          | 0.2698413   | 0.1785714   | 0.04166667  | 0.5198413   | 0.1488095   | 0.14682540  | 0.15674603  | 0.2976190   | 0.2956349   | ⋯           | 0.01785714  | 0.01190476  | 0.19444444  | 0.013888889 | 0.02777778  | 0.001984127 | 0.000000000 | 0.000000000 | 0.000000000 | 0.000000000 | \n",
       "|  3          | 0.3095238   | 0.2182540   | 0.04166667  | 0.4345238   | 0.1626984   | 0.11904762  | 0.13888889  | 0.4047619   | 0.3333333   | ⋯           | 0.02380952  | 0.01388889  | 0.15476190  | 0.001984127 | 0.02579365  | 0.000000000 | 0.000000000 | 0.000000000 | 0.000000000 | 0.000000000 | \n",
       "|  4          | 0.3029703   | 0.1841584   | 0.03762376  | 0.4415842   | 0.2376238   | 0.10693069  | 0.12475248  | 0.4336634   | 0.3524752   | ⋯           | 0.01584158  | 0.01584158  | 0.14059406  | 0.003960396 | 0.03762376  | 0.001980198 | 0.000000000 | 0.000000000 | 0.000000000 | 0.000000000 | \n",
       "|  5          | 0.2380952   | 0.1646825   | 0.03968254  | 0.3948413   | 0.2023810   | 0.08730159  | 0.09523810  | 0.5257937   | 0.3293651   | ⋯           | 0.02380952  | 0.02380952  | 0.08730159  | 0.003968254 | 0.03174603  | 0.001984127 | 0.000000000 | 0.000000000 | 0.000000000 | 0.000000000 | \n",
       "|  6          | 0.2281746   | 0.1884921   | 0.05555556  | 0.3611111   | 0.2023810   | 0.10714286  | 0.13293651  | 0.5753968   | 0.3035714   | ⋯           | 0.02380952  | 0.02380952  | 0.07936508  | 0.015873016 | 0.03769841  | 0.000000000 | 0.001984127 | 0.000000000 | 0.000000000 | 0.000000000 | \n",
       "|  7          | 0.2079208   | 0.1801980   | 0.06138614  | 0.3544554   | 0.1425743   | 0.10099010  | 0.10297030  | 0.6178218   | 0.2534653   | ⋯           | 0.03564356  | 0.01188119  | 0.07326733  | 0.025742574 | 0.04752475  | 0.001980198 | 0.000000000 | 0.000000000 | 0.000000000 | 0.000000000 | \n",
       "|  8          | 0.1488095   | 0.1607143   | 0.04761905  | 0.3333333   | 0.1805556   | 0.08928571  | 0.08333333  | 0.6765873   | 0.2023810   | ⋯           | 0.02380952  | 0.02380952  | 0.04960317  | 0.033730159 | 0.05753968  | 0.001984127 | 0.000000000 | 0.001984127 | 0.003968254 | 0.000000000 | \n",
       "|  9          | 0.1269841   | 0.1448413   | 0.03373016  | 0.2281746   | 0.1765873   | 0.07341270  | 0.10912698  | 0.6964286   | 0.2162698   | ⋯           | 0.03769841  | 0.01984127  | 0.05357143  | 0.073412698 | 0.03968254  | 0.000000000 | 0.000000000 | 0.001984127 | 0.003968254 | 0.000000000 | \n",
       "| 10          | 0.1785714   | 0.2142857   | 0.07341270  | 0.1944444   | 0.2003968   | 0.09920635  | 0.11111111  | 0.6765873   | 0.2023810   | ⋯           | 0.02976190  | 0.03174603  | 0.04365079  | 0.059523810 | 0.03373016  | 0.000000000 | 0.000000000 | 0.001984127 | 0.003968254 | 0.000000000 | \n",
       "\n",
       "\n"
      ],
      "text/plain": [
       "   ntile Action    Adventure Animation  Comedy    Crime     Family    \n",
       "1   1    0.2752475 0.1960396 0.04752475 0.4495050 0.1089109 0.15247525\n",
       "2   2    0.2698413 0.1785714 0.04166667 0.5198413 0.1488095 0.14682540\n",
       "3   3    0.3095238 0.2182540 0.04166667 0.4345238 0.1626984 0.11904762\n",
       "4   4    0.3029703 0.1841584 0.03762376 0.4415842 0.2376238 0.10693069\n",
       "5   5    0.2380952 0.1646825 0.03968254 0.3948413 0.2023810 0.08730159\n",
       "6   6    0.2281746 0.1884921 0.05555556 0.3611111 0.2023810 0.10714286\n",
       "7   7    0.2079208 0.1801980 0.06138614 0.3544554 0.1425743 0.10099010\n",
       "8   8    0.1488095 0.1607143 0.04761905 0.3333333 0.1805556 0.08928571\n",
       "9   9    0.1269841 0.1448413 0.03373016 0.2281746 0.1765873 0.07341270\n",
       "10 10    0.1785714 0.2142857 0.07341270 0.1944444 0.2003968 0.09920635\n",
       "   Fantasy    Drama     Thriller  ⋯ Musical    Western    Horror    \n",
       "1  0.15445545 0.2396040 0.3089109 ⋯ 0.02970297 0.01584158 0.24356436\n",
       "2  0.15674603 0.2976190 0.2956349 ⋯ 0.01785714 0.01190476 0.19444444\n",
       "3  0.13888889 0.4047619 0.3333333 ⋯ 0.02380952 0.01388889 0.15476190\n",
       "4  0.12475248 0.4336634 0.3524752 ⋯ 0.01584158 0.01584158 0.14059406\n",
       "5  0.09523810 0.5257937 0.3293651 ⋯ 0.02380952 0.02380952 0.08730159\n",
       "6  0.13293651 0.5753968 0.3035714 ⋯ 0.02380952 0.02380952 0.07936508\n",
       "7  0.10297030 0.6178218 0.2534653 ⋯ 0.03564356 0.01188119 0.07326733\n",
       "8  0.08333333 0.6765873 0.2023810 ⋯ 0.02380952 0.02380952 0.04960317\n",
       "9  0.10912698 0.6964286 0.2162698 ⋯ 0.03769841 0.01984127 0.05357143\n",
       "10 0.11111111 0.6765873 0.2023810 ⋯ 0.02976190 0.03174603 0.04365079\n",
       "   Documentary Sport      Short       Reality_TV  News        Film_Noir  \n",
       "1  0.007920792 0.02178218 0.000000000 0.001980198 0.000000000 0.000000000\n",
       "2  0.013888889 0.02777778 0.001984127 0.000000000 0.000000000 0.000000000\n",
       "3  0.001984127 0.02579365 0.000000000 0.000000000 0.000000000 0.000000000\n",
       "4  0.003960396 0.03762376 0.001980198 0.000000000 0.000000000 0.000000000\n",
       "5  0.003968254 0.03174603 0.001984127 0.000000000 0.000000000 0.000000000\n",
       "6  0.015873016 0.03769841 0.000000000 0.001984127 0.000000000 0.000000000\n",
       "7  0.025742574 0.04752475 0.001980198 0.000000000 0.000000000 0.000000000\n",
       "8  0.033730159 0.05753968 0.001984127 0.000000000 0.001984127 0.003968254\n",
       "9  0.073412698 0.03968254 0.000000000 0.000000000 0.001984127 0.003968254\n",
       "10 0.059523810 0.03373016 0.000000000 0.000000000 0.001984127 0.003968254\n",
       "   Game_Show  \n",
       "1  0.001980198\n",
       "2  0.000000000\n",
       "3  0.000000000\n",
       "4  0.000000000\n",
       "5  0.000000000\n",
       "6  0.000000000\n",
       "7  0.000000000\n",
       "8  0.000000000\n",
       "9  0.000000000\n",
       "10 0.000000000"
      ]
     },
     "metadata": {},
     "output_type": "display_data"
    }
   ],
   "source": [
    "gnr_frac <- movies %>% group_by(ntile) %>% \n",
    "                       select(Action:Game_Show)%>% \n",
    "                       summarise_each(funs(mean))\n",
    "gnr_frac"
   ]
  },
  {
   "cell_type": "code",
   "execution_count": 13,
   "metadata": {
    "collapsed": false,
    "scrolled": true,
    "slideshow": {
     "slide_type": "subslide"
    }
   },
   "outputs": [
    {
     "name": "stderr",
     "output_type": "stream",
     "text": [
      "Warning message:\n",
      "“Transformation introduced infinite values in continuous y-axis”"
     ]
    },
    {
     "data": {},
     "metadata": {},
     "output_type": "display_data"
    },
    {
     "data": {
      "image/png": "[encoded data removed]",
      "text/plain": [
       "plot without title"
      ]
     },
     "metadata": {},
     "output_type": "display_data"
    }
   ],
   "source": [
    "library('RColorBrewer')\n",
    "gnr_frac %>% \n",
    "  gather('Genre','Count',Action:Game_Show) %>% ggplot() + \n",
    "  geom_line(aes(x=ntile,y=Count,color=Genre,linetype=Genre),\n",
    "             size=1) + \n",
    "  scale_linetype_manual(values=c(rep(\"solid\", 12),rep(\"dashed\",11),\n",
    "                                 rep(\"twodash\",3))) +\n",
    "  scale_color_manual(values=c(brewer.pal(12,\"Set3\"),\n",
    "            brewer.pal(11,\"Set3\"), brewer.pal(3,\"Set3\"))) + \n",
    "  scale_y_log10()"
   ]
  },
  {
   "cell_type": "markdown",
   "metadata": {
    "slideshow": {
     "slide_type": "slide"
    }
   },
   "source": [
    "`mutate_each` allows you to transform multiple columns"
   ]
  },
  {
   "cell_type": "code",
   "execution_count": null,
   "metadata": {
    "collapsed": false,
    "scrolled": true,
    "slideshow": {
     "slide_type": "-"
    }
   },
   "outputs": [],
   "source": [
    "gnr_frac %>% mutate_each(funs(./sum(.)),Action:Game_Show) "
   ]
  },
  {
   "cell_type": "markdown",
   "metadata": {
    "slideshow": {
     "slide_type": "slide"
    }
   },
   "source": [
    "### Generating tidy data\n",
    "\n",
    "The `gather' function, allows you to combine multiple columns into 2 coloumns.\n",
    "+ turns wide data into tall data\n",
    "\n",
    "Tall data is useful for  e.g. `ggplot`"
   ]
  },
  {
   "cell_type": "code",
   "execution_count": 14,
   "metadata": {
    "collapsed": true
   },
   "outputs": [
    {
     "name": "stdout",
     "output_type": "stream",
     "text": [
      "# A tibble: 10 × 8\n",
      "   Population Income Illiteracy `Life Exp` Murder `HS Grad` Frost   Area\n",
      "        <dbl>  <dbl>      <dbl>      <dbl>  <dbl>     <dbl> <dbl>  <dbl>\n",
      "1        3615   3624        2.1      69.05   15.1      41.3    20  50708\n",
      "2         365   6315        1.5      69.31   11.3      66.7   152 566432\n",
      "3        2212   4530        1.8      70.55    7.8      58.1    15 113417\n",
      "4        2110   3378        1.9      70.66   10.1      39.9    65  51945\n",
      "5       21198   5114        1.1      71.71   10.3      62.6    20 156361\n",
      "6        2541   4884        0.7      72.06    6.8      63.9   166 103766\n",
      "7        3100   5348        1.1      72.48    3.1      56.0   139   4862\n",
      "8         579   4809        0.9      70.06    6.2      54.6   103   1982\n",
      "9        8277   4815        1.3      70.66   10.7      52.6    11  54090\n",
      "10       4931   4091        2.0      68.54   13.9      40.6    60  58073\n"
     ]
    }
   ],
   "source": [
    "state_info <- as_tibble(state.x77)\n",
    "print(state_info[1:10,])"
   ]
  },
  {
   "cell_type": "code",
   "execution_count": 15,
   "metadata": {
    "collapsed": false,
    "slideshow": {
     "slide_type": "subslide"
    }
   },
   "outputs": [
    {
     "name": "stderr",
     "output_type": "stream",
     "text": [
      "`geom_smooth()` using method = 'loess'\n"
     ]
    },
    {
     "data": {},
     "metadata": {},
     "output_type": "display_data"
    },
    {
     "data": {
      "image/png": "[encoded data removed]",
      "text/plain": [
       "plot without title"
      ]
     },
     "metadata": {},
     "output_type": "display_data"
    }
   ],
   "source": [
    "state_tall <- state_info %>% \n",
    "  gather(Illiteracy:`HS Grad`, key='InfoType',value='InfoValue')\n",
    "  ggplot(state_tall) + \n",
    "   geom_smooth(aes(x=Income, y=InfoValue,color=InfoType))"
   ]
  },
  {
   "cell_type": "code",
   "execution_count": 16,
   "metadata": {
    "collapsed": false,
    "slideshow": {
     "slide_type": "subslide"
    }
   },
   "outputs": [
    {
     "name": "stderr",
     "output_type": "stream",
     "text": [
      "`geom_smooth()` using method = 'gam'\n",
      "Warning message:\n",
      "“Removed 876 rows containing non-finite values (stat_smooth).”"
     ]
    },
    {
     "data": {},
     "metadata": {},
     "output_type": "display_data"
    },
    {
     "data": {
      "image/png": "[encoded data removed]",
      "text/plain": [
       "plot without title"
      ]
     },
     "metadata": {},
     "output_type": "display_data"
    }
   ],
   "source": [
    "movies %>% filter(country==\"USA\") %>% \n",
    "     select(title_year, budget, gross)  %>% \n",
    "    gather(budget,gross, key = 'type', value='amt') %>% \n",
    "      ggplot + geom_smooth(aes(x=title_year,y=log10(amt), \n",
    "                               group=type, color=type)) +\n",
    "      facet_wrap(~type)"
   ]
  },
  {
   "cell_type": "code",
   "execution_count": 18,
   "metadata": {
    "collapsed": false,
    "scrolled": true,
    "slideshow": {
     "slide_type": "slide"
    }
   },
   "outputs": [
    {
     "name": "stderr",
     "output_type": "stream",
     "text": [
      "`geom_smooth()` using method = 'gam'\n",
      "Warning message:\n",
      "“Removed 694 rows containing non-finite values (stat_smooth).”"
     ]
    },
    {
     "data": {},
     "metadata": {},
     "output_type": "display_data"
    },
    {
     "data": {
      "image/png": "[encoded data removed]",
      "text/plain": [
       "plot without title"
      ]
     },
     "metadata": {},
     "output_type": "display_data"
    }
   ],
   "source": [
    "movies %>% filter(country==\"USA\") %>% \n",
    "    select(title_year, budget, Action:Musical)  %>% \n",
    "    gather(Action:Musical, key = 'type', value='amt') %>% \n",
    "    filter(amt==TRUE) %>%  \n",
    "      ggplot + geom_smooth(aes(x=title_year,y=log10(budget), \n",
    "                               group=type, color=type),se=F)"
   ]
  },
  {
   "cell_type": "markdown",
   "metadata": {
    "slideshow": {
     "slide_type": "slide"
    }
   },
   "source": [
    "`spread()` does the opposite\n",
    "+ turns a tall  data.frame into a wide one\n",
    "\n",
    "Wide data is useful for e.g. `lm`"
   ]
  },
  {
   "cell_type": "code",
   "execution_count": 19,
   "metadata": {
    "collapsed": false
   },
   "outputs": [
    {
     "data": {
      "text/html": [
       "<table>\n",
       "<thead><tr><th scope=col>Population</th><th scope=col>Income</th><th scope=col>Frost</th><th scope=col>Area</th><th scope=col>HS Grad</th><th scope=col>Illiteracy</th><th scope=col>Life Exp</th><th scope=col>Murder</th></tr></thead>\n",
       "<tbody>\n",
       "\t<tr><td>  365 </td><td>6315  </td><td>152   </td><td>566432</td><td>66.7  </td><td>1.5   </td><td>69.31 </td><td>11.3  </td></tr>\n",
       "\t<tr><td>  376 </td><td>4566  </td><td>173   </td><td> 97203</td><td>62.9  </td><td>0.6   </td><td>70.29 </td><td> 6.9  </td></tr>\n",
       "\t<tr><td>  472 </td><td>3907  </td><td>168   </td><td>  9267</td><td>57.1  </td><td>0.6   </td><td>71.64 </td><td> 5.5  </td></tr>\n",
       "\t<tr><td>  579 </td><td>4809  </td><td>103   </td><td>  1982</td><td>54.6  </td><td>0.9   </td><td>70.06 </td><td> 6.2  </td></tr>\n",
       "\t<tr><td>  590 </td><td>5149  </td><td>188   </td><td>109889</td><td>65.2  </td><td>0.5   </td><td>69.03 </td><td>11.5  </td></tr>\n",
       "\t<tr><td>  637 </td><td>5087  </td><td>186   </td><td> 69273</td><td>50.3  </td><td>0.8   </td><td>72.78 </td><td> 1.4  </td></tr>\n",
       "\t<tr><td>  681 </td><td>4167  </td><td>172   </td><td> 75955</td><td>53.3  </td><td>0.5   </td><td>72.08 </td><td> 1.7  </td></tr>\n",
       "\t<tr><td>  746 </td><td>4347  </td><td>155   </td><td>145587</td><td>59.2  </td><td>0.6   </td><td>70.56 </td><td> 5.0  </td></tr>\n",
       "\t<tr><td>  812 </td><td>4281  </td><td>174   </td><td>  9027</td><td>57.6  </td><td>0.7   </td><td>71.23 </td><td> 3.3  </td></tr>\n",
       "\t<tr><td>  813 </td><td>4119  </td><td>126   </td><td> 82677</td><td>59.5  </td><td>0.6   </td><td>71.87 </td><td> 5.3  </td></tr>\n",
       "\t<tr><td>  868 </td><td>4963  </td><td>  0   </td><td>  6425</td><td>61.9  </td><td>1.9   </td><td>73.60 </td><td> 6.2  </td></tr>\n",
       "\t<tr><td>  931 </td><td>4558  </td><td>127   </td><td>  1049</td><td>46.4  </td><td>1.3   </td><td>71.90 </td><td> 2.4  </td></tr>\n",
       "\t<tr><td> 1058 </td><td>3694  </td><td>161   </td><td> 30920</td><td>54.7  </td><td>0.7   </td><td>70.39 </td><td> 2.7  </td></tr>\n",
       "\t<tr><td> 1144 </td><td>3601  </td><td>120   </td><td>121412</td><td>55.2  </td><td>2.2   </td><td>70.32 </td><td> 9.7  </td></tr>\n",
       "\t<tr><td> 1203 </td><td>4022  </td><td>137   </td><td> 82096</td><td>67.3  </td><td>0.6   </td><td>72.90 </td><td> 4.5  </td></tr>\n",
       "\t<tr><td> 1544 </td><td>4508  </td><td>139   </td><td> 76483</td><td>59.3  </td><td>0.6   </td><td>72.60 </td><td> 2.9  </td></tr>\n",
       "\t<tr><td> 1799 </td><td>3617  </td><td>100   </td><td> 24070</td><td>41.6  </td><td>1.4   </td><td>69.48 </td><td> 6.7  </td></tr>\n",
       "\t<tr><td> 2110 </td><td>3378  </td><td> 65   </td><td> 51945</td><td>39.9  </td><td>1.9   </td><td>70.66 </td><td>10.1  </td></tr>\n",
       "\t<tr><td> 2212 </td><td>4530  </td><td> 15   </td><td>113417</td><td>58.1  </td><td>1.8   </td><td>70.55 </td><td> 7.8  </td></tr>\n",
       "\t<tr><td> 2280 </td><td>4669  </td><td>114   </td><td> 81787</td><td>59.9  </td><td>0.6   </td><td>72.58 </td><td> 4.5  </td></tr>\n",
       "\t<tr><td> 2284 </td><td>4660  </td><td> 44   </td><td> 96184</td><td>60.0  </td><td>0.6   </td><td>72.13 </td><td> 4.2  </td></tr>\n",
       "\t<tr><td> 2341 </td><td>3098  </td><td> 50   </td><td> 47296</td><td>41.0  </td><td>2.4   </td><td>68.09 </td><td>12.5  </td></tr>\n",
       "\t<tr><td> 2541 </td><td>4884  </td><td>166   </td><td>103766</td><td>63.9  </td><td>0.7   </td><td>72.06 </td><td> 6.8  </td></tr>\n",
       "\t<tr><td> 2715 </td><td>3983  </td><td> 82   </td><td> 68782</td><td>51.6  </td><td>1.1   </td><td>71.42 </td><td> 6.4  </td></tr>\n",
       "\t<tr><td> 2816 </td><td>3635  </td><td> 65   </td><td> 30225</td><td>37.8  </td><td>2.3   </td><td>67.96 </td><td>11.6  </td></tr>\n",
       "\t<tr><td> 2861 </td><td>4628  </td><td>140   </td><td> 55941</td><td>59.0  </td><td>0.5   </td><td>72.56 </td><td> 2.3  </td></tr>\n",
       "\t<tr><td> 3100 </td><td>5348  </td><td>139   </td><td>  4862</td><td>56.0  </td><td>1.1   </td><td>72.48 </td><td> 3.1  </td></tr>\n",
       "\t<tr><td> 3387 </td><td>3712  </td><td> 95   </td><td> 39650</td><td>38.5  </td><td>1.6   </td><td>70.10 </td><td>10.6  </td></tr>\n",
       "\t<tr><td> 3559 </td><td>4864  </td><td> 32   </td><td> 66570</td><td>63.5  </td><td>0.6   </td><td>71.72 </td><td> 4.3  </td></tr>\n",
       "\t<tr><td> 3615 </td><td>3624  </td><td> 20   </td><td> 50708</td><td>41.3  </td><td>2.1   </td><td>69.05 </td><td>15.1  </td></tr>\n",
       "\t<tr><td> 3806 </td><td>3545  </td><td> 12   </td><td> 44930</td><td>42.2  </td><td>2.8   </td><td>68.76 </td><td>13.2  </td></tr>\n",
       "\t<tr><td> 3921 </td><td>4675  </td><td>160   </td><td> 79289</td><td>57.6  </td><td>0.6   </td><td>72.96 </td><td> 2.3  </td></tr>\n",
       "\t<tr><td> 4122 </td><td>5299  </td><td>101   </td><td>  9891</td><td>52.3  </td><td>0.9   </td><td>70.22 </td><td> 8.5  </td></tr>\n",
       "\t<tr><td> 4173 </td><td>3821  </td><td> 70   </td><td> 41328</td><td>41.8  </td><td>1.7   </td><td>70.11 </td><td>11.0  </td></tr>\n",
       "\t<tr><td> 4589 </td><td>4468  </td><td>149   </td><td> 54464</td><td>54.5  </td><td>0.7   </td><td>72.48 </td><td> 3.0  </td></tr>\n",
       "\t<tr><td> 4767 </td><td>4254  </td><td>108   </td><td> 68995</td><td>48.8  </td><td>0.8   </td><td>70.69 </td><td> 9.3  </td></tr>\n",
       "\t<tr><td> 4931 </td><td>4091  </td><td> 60   </td><td> 58073</td><td>40.6  </td><td>2.0   </td><td>68.54 </td><td>13.9  </td></tr>\n",
       "\t<tr><td> 4981 </td><td>4701  </td><td> 85   </td><td> 39780</td><td>47.8  </td><td>1.4   </td><td>70.08 </td><td> 9.5  </td></tr>\n",
       "\t<tr><td> 5313 </td><td>4458  </td><td>122   </td><td> 36097</td><td>52.9  </td><td>0.7   </td><td>70.88 </td><td> 7.1  </td></tr>\n",
       "\t<tr><td> 5441 </td><td>3875  </td><td> 80   </td><td> 48798</td><td>38.5  </td><td>1.8   </td><td>69.21 </td><td>11.1  </td></tr>\n",
       "\t<tr><td> 5814 </td><td>4755  </td><td>103   </td><td>  7826</td><td>58.5  </td><td>1.1   </td><td>71.83 </td><td> 3.3  </td></tr>\n",
       "\t<tr><td> 7333 </td><td>5237  </td><td>115   </td><td>  7521</td><td>52.5  </td><td>1.1   </td><td>70.93 </td><td> 5.2  </td></tr>\n",
       "\t<tr><td> 8277 </td><td>4815  </td><td> 11   </td><td> 54090</td><td>52.6  </td><td>1.3   </td><td>70.66 </td><td>10.7  </td></tr>\n",
       "\t<tr><td> 9111 </td><td>4751  </td><td>125   </td><td> 56817</td><td>52.8  </td><td>0.9   </td><td>70.63 </td><td>11.1  </td></tr>\n",
       "\t<tr><td>10735 </td><td>4561  </td><td>124   </td><td> 40975</td><td>53.2  </td><td>0.8   </td><td>70.82 </td><td> 7.4  </td></tr>\n",
       "\t<tr><td>11197 </td><td>5107  </td><td>127   </td><td> 55748</td><td>52.6  </td><td>0.9   </td><td>70.14 </td><td>10.3  </td></tr>\n",
       "\t<tr><td>11860 </td><td>4449  </td><td>126   </td><td> 44966</td><td>50.2  </td><td>1.0   </td><td>70.43 </td><td> 6.1  </td></tr>\n",
       "\t<tr><td>12237 </td><td>4188  </td><td> 35   </td><td>262134</td><td>47.4  </td><td>2.2   </td><td>70.90 </td><td>12.2  </td></tr>\n",
       "\t<tr><td>18076 </td><td>4903  </td><td> 82   </td><td> 47831</td><td>52.7  </td><td>1.4   </td><td>70.55 </td><td>10.9  </td></tr>\n",
       "\t<tr><td>21198 </td><td>5114  </td><td> 20   </td><td>156361</td><td>62.6  </td><td>1.1   </td><td>71.71 </td><td>10.3  </td></tr>\n",
       "</tbody>\n",
       "</table>\n"
      ],
      "text/latex": [
       "\\begin{tabular}{r|llllllll}\n",
       " Population & Income & Frost & Area & HS Grad & Illiteracy & Life Exp & Murder\\\\\n",
       "\\hline\n",
       "\t   365  & 6315   & 152    & 566432 & 66.7   & 1.5    & 69.31  & 11.3  \\\\\n",
       "\t   376  & 4566   & 173    &  97203 & 62.9   & 0.6    & 70.29  &  6.9  \\\\\n",
       "\t   472  & 3907   & 168    &   9267 & 57.1   & 0.6    & 71.64  &  5.5  \\\\\n",
       "\t   579  & 4809   & 103    &   1982 & 54.6   & 0.9    & 70.06  &  6.2  \\\\\n",
       "\t   590  & 5149   & 188    & 109889 & 65.2   & 0.5    & 69.03  & 11.5  \\\\\n",
       "\t   637  & 5087   & 186    &  69273 & 50.3   & 0.8    & 72.78  &  1.4  \\\\\n",
       "\t   681  & 4167   & 172    &  75955 & 53.3   & 0.5    & 72.08  &  1.7  \\\\\n",
       "\t   746  & 4347   & 155    & 145587 & 59.2   & 0.6    & 70.56  &  5.0  \\\\\n",
       "\t   812  & 4281   & 174    &   9027 & 57.6   & 0.7    & 71.23  &  3.3  \\\\\n",
       "\t   813  & 4119   & 126    &  82677 & 59.5   & 0.6    & 71.87  &  5.3  \\\\\n",
       "\t   868  & 4963   &   0    &   6425 & 61.9   & 1.9    & 73.60  &  6.2  \\\\\n",
       "\t   931  & 4558   & 127    &   1049 & 46.4   & 1.3    & 71.90  &  2.4  \\\\\n",
       "\t  1058  & 3694   & 161    &  30920 & 54.7   & 0.7    & 70.39  &  2.7  \\\\\n",
       "\t  1144  & 3601   & 120    & 121412 & 55.2   & 2.2    & 70.32  &  9.7  \\\\\n",
       "\t  1203  & 4022   & 137    &  82096 & 67.3   & 0.6    & 72.90  &  4.5  \\\\\n",
       "\t  1544  & 4508   & 139    &  76483 & 59.3   & 0.6    & 72.60  &  2.9  \\\\\n",
       "\t  1799  & 3617   & 100    &  24070 & 41.6   & 1.4    & 69.48  &  6.7  \\\\\n",
       "\t  2110  & 3378   &  65    &  51945 & 39.9   & 1.9    & 70.66  & 10.1  \\\\\n",
       "\t  2212  & 4530   &  15    & 113417 & 58.1   & 1.8    & 70.55  &  7.8  \\\\\n",
       "\t  2280  & 4669   & 114    &  81787 & 59.9   & 0.6    & 72.58  &  4.5  \\\\\n",
       "\t  2284  & 4660   &  44    &  96184 & 60.0   & 0.6    & 72.13  &  4.2  \\\\\n",
       "\t  2341  & 3098   &  50    &  47296 & 41.0   & 2.4    & 68.09  & 12.5  \\\\\n",
       "\t  2541  & 4884   & 166    & 103766 & 63.9   & 0.7    & 72.06  &  6.8  \\\\\n",
       "\t  2715  & 3983   &  82    &  68782 & 51.6   & 1.1    & 71.42  &  6.4  \\\\\n",
       "\t  2816  & 3635   &  65    &  30225 & 37.8   & 2.3    & 67.96  & 11.6  \\\\\n",
       "\t  2861  & 4628   & 140    &  55941 & 59.0   & 0.5    & 72.56  &  2.3  \\\\\n",
       "\t  3100  & 5348   & 139    &   4862 & 56.0   & 1.1    & 72.48  &  3.1  \\\\\n",
       "\t  3387  & 3712   &  95    &  39650 & 38.5   & 1.6    & 70.10  & 10.6  \\\\\n",
       "\t  3559  & 4864   &  32    &  66570 & 63.5   & 0.6    & 71.72  &  4.3  \\\\\n",
       "\t  3615  & 3624   &  20    &  50708 & 41.3   & 2.1    & 69.05  & 15.1  \\\\\n",
       "\t  3806  & 3545   &  12    &  44930 & 42.2   & 2.8    & 68.76  & 13.2  \\\\\n",
       "\t  3921  & 4675   & 160    &  79289 & 57.6   & 0.6    & 72.96  &  2.3  \\\\\n",
       "\t  4122  & 5299   & 101    &   9891 & 52.3   & 0.9    & 70.22  &  8.5  \\\\\n",
       "\t  4173  & 3821   &  70    &  41328 & 41.8   & 1.7    & 70.11  & 11.0  \\\\\n",
       "\t  4589  & 4468   & 149    &  54464 & 54.5   & 0.7    & 72.48  &  3.0  \\\\\n",
       "\t  4767  & 4254   & 108    &  68995 & 48.8   & 0.8    & 70.69  &  9.3  \\\\\n",
       "\t  4931  & 4091   &  60    &  58073 & 40.6   & 2.0    & 68.54  & 13.9  \\\\\n",
       "\t  4981  & 4701   &  85    &  39780 & 47.8   & 1.4    & 70.08  &  9.5  \\\\\n",
       "\t  5313  & 4458   & 122    &  36097 & 52.9   & 0.7    & 70.88  &  7.1  \\\\\n",
       "\t  5441  & 3875   &  80    &  48798 & 38.5   & 1.8    & 69.21  & 11.1  \\\\\n",
       "\t  5814  & 4755   & 103    &   7826 & 58.5   & 1.1    & 71.83  &  3.3  \\\\\n",
       "\t  7333  & 5237   & 115    &   7521 & 52.5   & 1.1    & 70.93  &  5.2  \\\\\n",
       "\t  8277  & 4815   &  11    &  54090 & 52.6   & 1.3    & 70.66  & 10.7  \\\\\n",
       "\t  9111  & 4751   & 125    &  56817 & 52.8   & 0.9    & 70.63  & 11.1  \\\\\n",
       "\t 10735  & 4561   & 124    &  40975 & 53.2   & 0.8    & 70.82  &  7.4  \\\\\n",
       "\t 11197  & 5107   & 127    &  55748 & 52.6   & 0.9    & 70.14  & 10.3  \\\\\n",
       "\t 11860  & 4449   & 126    &  44966 & 50.2   & 1.0    & 70.43  &  6.1  \\\\\n",
       "\t 12237  & 4188   &  35    & 262134 & 47.4   & 2.2    & 70.90  & 12.2  \\\\\n",
       "\t 18076  & 4903   &  82    &  47831 & 52.7   & 1.4    & 70.55  & 10.9  \\\\\n",
       "\t 21198  & 5114   &  20    & 156361 & 62.6   & 1.1    & 71.71  & 10.3  \\\\\n",
       "\\end{tabular}\n"
      ],
      "text/markdown": [
       "\n",
       "Population | Income | Frost | Area | HS Grad | Illiteracy | Life Exp | Murder | \n",
       "|---|---|---|---|---|---|---|---|---|---|---|---|---|---|---|---|---|---|---|---|---|---|---|---|---|---|---|---|---|---|---|---|---|---|---|---|---|---|---|---|---|---|---|---|---|---|---|---|---|---|\n",
       "|   365  | 6315   | 152    | 566432 | 66.7   | 1.5    | 69.31  | 11.3   | \n",
       "|   376  | 4566   | 173    |  97203 | 62.9   | 0.6    | 70.29  |  6.9   | \n",
       "|   472  | 3907   | 168    |   9267 | 57.1   | 0.6    | 71.64  |  5.5   | \n",
       "|   579  | 4809   | 103    |   1982 | 54.6   | 0.9    | 70.06  |  6.2   | \n",
       "|   590  | 5149   | 188    | 109889 | 65.2   | 0.5    | 69.03  | 11.5   | \n",
       "|   637  | 5087   | 186    |  69273 | 50.3   | 0.8    | 72.78  |  1.4   | \n",
       "|   681  | 4167   | 172    |  75955 | 53.3   | 0.5    | 72.08  |  1.7   | \n",
       "|   746  | 4347   | 155    | 145587 | 59.2   | 0.6    | 70.56  |  5.0   | \n",
       "|   812  | 4281   | 174    |   9027 | 57.6   | 0.7    | 71.23  |  3.3   | \n",
       "|   813  | 4119   | 126    |  82677 | 59.5   | 0.6    | 71.87  |  5.3   | \n",
       "|   868  | 4963   |   0    |   6425 | 61.9   | 1.9    | 73.60  |  6.2   | \n",
       "|   931  | 4558   | 127    |   1049 | 46.4   | 1.3    | 71.90  |  2.4   | \n",
       "|  1058  | 3694   | 161    |  30920 | 54.7   | 0.7    | 70.39  |  2.7   | \n",
       "|  1144  | 3601   | 120    | 121412 | 55.2   | 2.2    | 70.32  |  9.7   | \n",
       "|  1203  | 4022   | 137    |  82096 | 67.3   | 0.6    | 72.90  |  4.5   | \n",
       "|  1544  | 4508   | 139    |  76483 | 59.3   | 0.6    | 72.60  |  2.9   | \n",
       "|  1799  | 3617   | 100    |  24070 | 41.6   | 1.4    | 69.48  |  6.7   | \n",
       "|  2110  | 3378   |  65    |  51945 | 39.9   | 1.9    | 70.66  | 10.1   | \n",
       "|  2212  | 4530   |  15    | 113417 | 58.1   | 1.8    | 70.55  |  7.8   | \n",
       "|  2280  | 4669   | 114    |  81787 | 59.9   | 0.6    | 72.58  |  4.5   | \n",
       "|  2284  | 4660   |  44    |  96184 | 60.0   | 0.6    | 72.13  |  4.2   | \n",
       "|  2341  | 3098   |  50    |  47296 | 41.0   | 2.4    | 68.09  | 12.5   | \n",
       "|  2541  | 4884   | 166    | 103766 | 63.9   | 0.7    | 72.06  |  6.8   | \n",
       "|  2715  | 3983   |  82    |  68782 | 51.6   | 1.1    | 71.42  |  6.4   | \n",
       "|  2816  | 3635   |  65    |  30225 | 37.8   | 2.3    | 67.96  | 11.6   | \n",
       "|  2861  | 4628   | 140    |  55941 | 59.0   | 0.5    | 72.56  |  2.3   | \n",
       "|  3100  | 5348   | 139    |   4862 | 56.0   | 1.1    | 72.48  |  3.1   | \n",
       "|  3387  | 3712   |  95    |  39650 | 38.5   | 1.6    | 70.10  | 10.6   | \n",
       "|  3559  | 4864   |  32    |  66570 | 63.5   | 0.6    | 71.72  |  4.3   | \n",
       "|  3615  | 3624   |  20    |  50708 | 41.3   | 2.1    | 69.05  | 15.1   | \n",
       "|  3806  | 3545   |  12    |  44930 | 42.2   | 2.8    | 68.76  | 13.2   | \n",
       "|  3921  | 4675   | 160    |  79289 | 57.6   | 0.6    | 72.96  |  2.3   | \n",
       "|  4122  | 5299   | 101    |   9891 | 52.3   | 0.9    | 70.22  |  8.5   | \n",
       "|  4173  | 3821   |  70    |  41328 | 41.8   | 1.7    | 70.11  | 11.0   | \n",
       "|  4589  | 4468   | 149    |  54464 | 54.5   | 0.7    | 72.48  |  3.0   | \n",
       "|  4767  | 4254   | 108    |  68995 | 48.8   | 0.8    | 70.69  |  9.3   | \n",
       "|  4931  | 4091   |  60    |  58073 | 40.6   | 2.0    | 68.54  | 13.9   | \n",
       "|  4981  | 4701   |  85    |  39780 | 47.8   | 1.4    | 70.08  |  9.5   | \n",
       "|  5313  | 4458   | 122    |  36097 | 52.9   | 0.7    | 70.88  |  7.1   | \n",
       "|  5441  | 3875   |  80    |  48798 | 38.5   | 1.8    | 69.21  | 11.1   | \n",
       "|  5814  | 4755   | 103    |   7826 | 58.5   | 1.1    | 71.83  |  3.3   | \n",
       "|  7333  | 5237   | 115    |   7521 | 52.5   | 1.1    | 70.93  |  5.2   | \n",
       "|  8277  | 4815   |  11    |  54090 | 52.6   | 1.3    | 70.66  | 10.7   | \n",
       "|  9111  | 4751   | 125    |  56817 | 52.8   | 0.9    | 70.63  | 11.1   | \n",
       "| 10735  | 4561   | 124    |  40975 | 53.2   | 0.8    | 70.82  |  7.4   | \n",
       "| 11197  | 5107   | 127    |  55748 | 52.6   | 0.9    | 70.14  | 10.3   | \n",
       "| 11860  | 4449   | 126    |  44966 | 50.2   | 1.0    | 70.43  |  6.1   | \n",
       "| 12237  | 4188   |  35    | 262134 | 47.4   | 2.2    | 70.90  | 12.2   | \n",
       "| 18076  | 4903   |  82    |  47831 | 52.7   | 1.4    | 70.55  | 10.9   | \n",
       "| 21198  | 5114   |  20    | 156361 | 62.6   | 1.1    | 71.71  | 10.3   | \n",
       "\n",
       "\n"
      ],
      "text/plain": [
       "   Population Income Frost Area   HS Grad Illiteracy Life Exp Murder\n",
       "1    365      6315   152   566432 66.7    1.5        69.31    11.3  \n",
       "2    376      4566   173    97203 62.9    0.6        70.29     6.9  \n",
       "3    472      3907   168     9267 57.1    0.6        71.64     5.5  \n",
       "4    579      4809   103     1982 54.6    0.9        70.06     6.2  \n",
       "5    590      5149   188   109889 65.2    0.5        69.03    11.5  \n",
       "6    637      5087   186    69273 50.3    0.8        72.78     1.4  \n",
       "7    681      4167   172    75955 53.3    0.5        72.08     1.7  \n",
       "8    746      4347   155   145587 59.2    0.6        70.56     5.0  \n",
       "9    812      4281   174     9027 57.6    0.7        71.23     3.3  \n",
       "10   813      4119   126    82677 59.5    0.6        71.87     5.3  \n",
       "11   868      4963     0     6425 61.9    1.9        73.60     6.2  \n",
       "12   931      4558   127     1049 46.4    1.3        71.90     2.4  \n",
       "13  1058      3694   161    30920 54.7    0.7        70.39     2.7  \n",
       "14  1144      3601   120   121412 55.2    2.2        70.32     9.7  \n",
       "15  1203      4022   137    82096 67.3    0.6        72.90     4.5  \n",
       "16  1544      4508   139    76483 59.3    0.6        72.60     2.9  \n",
       "17  1799      3617   100    24070 41.6    1.4        69.48     6.7  \n",
       "18  2110      3378    65    51945 39.9    1.9        70.66    10.1  \n",
       "19  2212      4530    15   113417 58.1    1.8        70.55     7.8  \n",
       "20  2280      4669   114    81787 59.9    0.6        72.58     4.5  \n",
       "21  2284      4660    44    96184 60.0    0.6        72.13     4.2  \n",
       "22  2341      3098    50    47296 41.0    2.4        68.09    12.5  \n",
       "23  2541      4884   166   103766 63.9    0.7        72.06     6.8  \n",
       "24  2715      3983    82    68782 51.6    1.1        71.42     6.4  \n",
       "25  2816      3635    65    30225 37.8    2.3        67.96    11.6  \n",
       "26  2861      4628   140    55941 59.0    0.5        72.56     2.3  \n",
       "27  3100      5348   139     4862 56.0    1.1        72.48     3.1  \n",
       "28  3387      3712    95    39650 38.5    1.6        70.10    10.6  \n",
       "29  3559      4864    32    66570 63.5    0.6        71.72     4.3  \n",
       "30  3615      3624    20    50708 41.3    2.1        69.05    15.1  \n",
       "31  3806      3545    12    44930 42.2    2.8        68.76    13.2  \n",
       "32  3921      4675   160    79289 57.6    0.6        72.96     2.3  \n",
       "33  4122      5299   101     9891 52.3    0.9        70.22     8.5  \n",
       "34  4173      3821    70    41328 41.8    1.7        70.11    11.0  \n",
       "35  4589      4468   149    54464 54.5    0.7        72.48     3.0  \n",
       "36  4767      4254   108    68995 48.8    0.8        70.69     9.3  \n",
       "37  4931      4091    60    58073 40.6    2.0        68.54    13.9  \n",
       "38  4981      4701    85    39780 47.8    1.4        70.08     9.5  \n",
       "39  5313      4458   122    36097 52.9    0.7        70.88     7.1  \n",
       "40  5441      3875    80    48798 38.5    1.8        69.21    11.1  \n",
       "41  5814      4755   103     7826 58.5    1.1        71.83     3.3  \n",
       "42  7333      5237   115     7521 52.5    1.1        70.93     5.2  \n",
       "43  8277      4815    11    54090 52.6    1.3        70.66    10.7  \n",
       "44  9111      4751   125    56817 52.8    0.9        70.63    11.1  \n",
       "45 10735      4561   124    40975 53.2    0.8        70.82     7.4  \n",
       "46 11197      5107   127    55748 52.6    0.9        70.14    10.3  \n",
       "47 11860      4449   126    44966 50.2    1.0        70.43     6.1  \n",
       "48 12237      4188    35   262134 47.4    2.2        70.90    12.2  \n",
       "49 18076      4903    82    47831 52.7    1.4        70.55    10.9  \n",
       "50 21198      5114    20   156361 62.6    1.1        71.71    10.3  "
      ]
     },
     "metadata": {},
     "output_type": "display_data"
    }
   ],
   "source": [
    "spread(state_tall, key = InfoType, value=InfoValue)"
   ]
  },
  {
   "cell_type": "code",
   "execution_count": 20,
   "metadata": {
    "collapsed": false,
    "slideshow": {
     "slide_type": "subslide"
    }
   },
   "outputs": [
    {
     "data": {
      "text/html": [
       "<table>\n",
       "<thead><tr><th scope=col>name</th><th scope=col>year</th><th scope=col>semester</th><th scope=col>gpa</th></tr></thead>\n",
       "<tbody>\n",
       "\t<tr><td>Alice </td><td>2015  </td><td>Spring</td><td>3.2   </td></tr>\n",
       "\t<tr><td>Alice </td><td>2015  </td><td>Fall  </td><td>3.9   </td></tr>\n",
       "\t<tr><td>Alice </td><td>2016  </td><td>Spring</td><td>3.1   </td></tr>\n",
       "\t<tr><td>Alice </td><td>2016  </td><td>Fall  </td><td>3.6   </td></tr>\n",
       "\t<tr><td>Bob   </td><td>2015  </td><td>Spring</td><td>3.1   </td></tr>\n",
       "\t<tr><td>Bob   </td><td>2015  </td><td>Fall  </td><td>3.9   </td></tr>\n",
       "\t<tr><td>Bob   </td><td>2016  </td><td>Spring</td><td>3.3   </td></tr>\n",
       "\t<tr><td>Bob   </td><td>2016  </td><td>Fall  </td><td>3.3   </td></tr>\n",
       "</tbody>\n",
       "</table>\n"
      ],
      "text/latex": [
       "\\begin{tabular}{r|llll}\n",
       " name & year & semester & gpa\\\\\n",
       "\\hline\n",
       "\t Alice  & 2015   & Spring & 3.2   \\\\\n",
       "\t Alice  & 2015   & Fall   & 3.9   \\\\\n",
       "\t Alice  & 2016   & Spring & 3.1   \\\\\n",
       "\t Alice  & 2016   & Fall   & 3.6   \\\\\n",
       "\t Bob    & 2015   & Spring & 3.1   \\\\\n",
       "\t Bob    & 2015   & Fall   & 3.9   \\\\\n",
       "\t Bob    & 2016   & Spring & 3.3   \\\\\n",
       "\t Bob    & 2016   & Fall   & 3.3   \\\\\n",
       "\\end{tabular}\n"
      ],
      "text/markdown": [
       "\n",
       "name | year | semester | gpa | \n",
       "|---|---|---|---|---|---|---|---|\n",
       "| Alice  | 2015   | Spring | 3.2    | \n",
       "| Alice  | 2015   | Fall   | 3.9    | \n",
       "| Alice  | 2016   | Spring | 3.1    | \n",
       "| Alice  | 2016   | Fall   | 3.6    | \n",
       "| Bob    | 2015   | Spring | 3.1    | \n",
       "| Bob    | 2015   | Fall   | 3.9    | \n",
       "| Bob    | 2016   | Spring | 3.3    | \n",
       "| Bob    | 2016   | Fall   | 3.3    | \n",
       "\n",
       "\n"
      ],
      "text/plain": [
       "  name  year semester gpa\n",
       "1 Alice 2015 Spring   3.2\n",
       "2 Alice 2015 Fall     3.9\n",
       "3 Alice 2016 Spring   3.1\n",
       "4 Alice 2016 Fall     3.6\n",
       "5 Bob   2015 Spring   3.1\n",
       "6 Bob   2015 Fall     3.9\n",
       "7 Bob   2016 Spring   3.3\n",
       "8 Bob   2016 Fall     3.3"
      ]
     },
     "metadata": {},
     "output_type": "display_data"
    }
   ],
   "source": [
    "stdnt <- tibble(\n",
    "  name      = rep(c(\"Alice\", \"Bob\"), each=4),\n",
    "  year      = c(2015, 2015, 2016, 2016, 2015, 2015, 2016, 2016),\n",
    "  semester  = c(\"Spring\",\"Fall\",\"Spring\",\"Fall\", \"Spring\",\"Fall\",\"Spring\",\"Fall\"),\n",
    "  gpa = c(3.2, 3.9, 3.1, 3.6, 3.1, 3.9, 3.3, 3.3)\n",
    "  )\n",
    "stdnt"
   ]
  },
  {
   "cell_type": "code",
   "execution_count": 21,
   "metadata": {
    "collapsed": false
   },
   "outputs": [
    {
     "data": {
      "text/html": [
       "<table>\n",
       "<thead><tr><th scope=col>name</th><th scope=col>year</th><th scope=col>Fall</th><th scope=col>Spring</th></tr></thead>\n",
       "<tbody>\n",
       "\t<tr><td>Alice</td><td>2015 </td><td>3.9  </td><td>3.2  </td></tr>\n",
       "\t<tr><td>Alice</td><td>2016 </td><td>3.6  </td><td>3.1  </td></tr>\n",
       "\t<tr><td>Bob  </td><td>2015 </td><td>3.9  </td><td>3.1  </td></tr>\n",
       "\t<tr><td>Bob  </td><td>2016 </td><td>3.3  </td><td>3.3  </td></tr>\n",
       "</tbody>\n",
       "</table>\n"
      ],
      "text/latex": [
       "\\begin{tabular}{r|llll}\n",
       " name & year & Fall & Spring\\\\\n",
       "\\hline\n",
       "\t Alice & 2015  & 3.9   & 3.2  \\\\\n",
       "\t Alice & 2016  & 3.6   & 3.1  \\\\\n",
       "\t Bob   & 2015  & 3.9   & 3.1  \\\\\n",
       "\t Bob   & 2016  & 3.3   & 3.3  \\\\\n",
       "\\end{tabular}\n"
      ],
      "text/markdown": [
       "\n",
       "name | year | Fall | Spring | \n",
       "|---|---|---|---|\n",
       "| Alice | 2015  | 3.9   | 3.2   | \n",
       "| Alice | 2016  | 3.6   | 3.1   | \n",
       "| Bob   | 2015  | 3.9   | 3.1   | \n",
       "| Bob   | 2016  | 3.3   | 3.3   | \n",
       "\n",
       "\n"
      ],
      "text/plain": [
       "  name  year Fall Spring\n",
       "1 Alice 2015 3.9  3.2   \n",
       "2 Alice 2016 3.6  3.1   \n",
       "3 Bob   2015 3.9  3.1   \n",
       "4 Bob   2016 3.3  3.3   "
      ]
     },
     "metadata": {},
     "output_type": "display_data"
    }
   ],
   "source": [
    "stdnt %>% spread(key=semester, value=gpa)"
   ]
  },
  {
   "cell_type": "markdown",
   "metadata": {
    "slideshow": {
     "slide_type": "subslide"
    }
   },
   "source": [
    "What if there are missing/extra values?"
   ]
  },
  {
   "cell_type": "markdown",
   "metadata": {},
   "source": [
    "`melt()` and `dcast()` from package `reshape` are slightly more powerful\n",
    "+ however, `tidyr` with `splyr` should meet all your needs"
   ]
  },
  {
   "cell_type": "markdown",
   "metadata": {
    "slideshow": {
     "slide_type": "subslide"
    }
   },
   "source": [
    "Another useful pair of functions in `separate()` and `unite()`"
   ]
  },
  {
   "cell_type": "code",
   "execution_count": 22,
   "metadata": {
    "collapsed": false
   },
   "outputs": [
    {
     "name": "stderr",
     "output_type": "stream",
     "text": [
      "Warning message:\n",
      "“Too many values at 398 locations: 53, 140, 141, 169, 180, 198, 225, 234, 242, 268, 306, 334, 349, 380, 381, 384, 388, 395, 402, 431, ...”Warning message:\n",
      "“Too few values at 118 locations: 45, 178, 227, 261, 314, 361, 405, 460, 480, 538, 544, 594, 646, 675, 685, 686, 758, 817, 827, 834, ...”"
     ]
    }
   ],
   "source": [
    "tmp <- movies %>% separate(director_name,c(\"First\",\"Last\"), \n",
    "                           sep=\" \")"
   ]
  },
  {
   "cell_type": "markdown",
   "metadata": {
    "slideshow": {
     "slide_type": "subslide"
    }
   },
   "source": [
    "Can control what to do with missing/extra elements:"
   ]
  },
  {
   "cell_type": "markdown",
   "metadata": {
    "collapsed": true
   },
   "source": [
    "tmp <- movies %>% separate(director_name,c(\"First\",\"Last\"), sep=\" \", extra=\"merge\", fill=\"left\")"
   ]
  },
  {
   "cell_type": "markdown",
   "metadata": {
    "slideshow": {
     "slide_type": "fragment"
    }
   },
   "source": [
    "Regular expressions will allow more expressivity"
   ]
  },
  {
   "cell_type": "markdown",
   "metadata": {
    "slideshow": {
     "slide_type": "subslide"
    }
   },
   "source": [
    "`unite()` does the opposite"
   ]
  },
  {
   "cell_type": "code",
   "execution_count": null,
   "metadata": {
    "collapsed": false
   },
   "outputs": [],
   "source": [
    "tmp <- unite(stdnt, yr_sm, year, semester)"
   ]
  },
  {
   "cell_type": "code",
   "execution_count": null,
   "metadata": {
    "collapsed": false
   },
   "outputs": [],
   "source": [
    "spread(tmp, key=yr_sm, value=gpa)"
   ]
  }
 ],
 "metadata": {
  "anaconda-cloud": {},
  "celltoolbar": "Slideshow",
  "kernelspec": {
   "display_name": "R",
   "language": "R",
   "name": "ir"
  },
  "language_info": {
   "codemirror_mode": "r",
   "file_extension": ".r",
   "mimetype": "text/x-r-source",
   "name": "R",
   "pygments_lexer": "r",
   "version": "3.3.2"
  },
  "livereveal": {
   "max-width": 1620,
   "scroll": true,
   "start_slideshow_at": "selected",
   "theme": "sky"
  }
 },
 "nbformat": 4,
 "nbformat_minor": 2
}
