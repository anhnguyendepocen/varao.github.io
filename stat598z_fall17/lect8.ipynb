{
 "cells": [
  {
   "cell_type": "markdown",
   "metadata": {
    "slideshow": {
     "slide_type": "slide"
    }
   },
   "source": [
    "## Lecture 8: The grammar of graphics\n",
    "\n",
    "### STAT598z: Intro. to computing for statistics\n",
    "\n",
    "\n",
    "***\n",
    "\n",
    "\n",
    "\n",
    "\n",
    "### Vinayak Rao\n",
    "\n",
    "#### Department of Statistics, Purdue University"
   ]
  },
  {
   "cell_type": "code",
   "execution_count": null,
   "metadata": {
    "collapsed": true,
    "slideshow": {
     "slide_type": "skip"
    }
   },
   "outputs": [],
   "source": [
    "options(repr.plot.width=4, repr.plot.height=3)"
   ]
  },
  {
   "cell_type": "markdown",
   "metadata": {
    "slideshow": {
     "slide_type": "slide"
    }
   },
   "source": [
    "## Grammar?\n",
    "\n",
    "A set of rules describing how to compose a 'vocabulary' into permissible 'sentences'\n",
    "\n",
    "The R language has its own grammar"
   ]
  },
  {
   "cell_type": "markdown",
   "metadata": {
    "slideshow": {
     "slide_type": "fragment"
    }
   },
   "source": [
    "\"Grammar of Graphics\" is an abstraction describing how to\n",
    "create rich and informative plots\n",
    "\n",
    "*'The Grammar of Graphics'*, Leland Wilkinson\n",
    "\n",
    "Embodied in the ggplot package for R\n",
    "\n",
    "*'A Layered Grammar of Graphics'*, Hadlay Wickham, Journal of\n",
    "Computational and Graphical Statistics, 2010"
   ]
  },
  {
   "cell_type": "markdown",
   "metadata": {
    "slideshow": {
     "slide_type": "slide"
    }
   },
   "source": [
    "R’s base graphics supports some plotting commands\n",
    "\n",
    "E.g. `plot()`, `hist()`, `barplot()`\n",
    "\n",
    "Extending these standard graphics to custom plots is tedious\n",
    "\n",
    "`ggplot` is much more flexible, and pretty"
   ]
  },
  {
   "cell_type": "markdown",
   "metadata": {
    "slideshow": {
     "slide_type": "fragment"
    }
   },
   "source": [
    "Install like you’d install any other package:"
   ]
  },
  {
   "cell_type": "markdown",
   "metadata": {
    "slideshow": {
     "slide_type": "-"
    }
   },
   "source": [
    "```R\n",
    "install.packages('ggplot2')\n",
    "library(ggplot2)\n",
    "```"
   ]
  },
  {
   "cell_type": "markdown",
   "metadata": {
    "slideshow": {
     "slide_type": "slide"
    }
   },
   "source": [
    "### Why a grammar?\n",
    "View different graphs as sharing common structure\n",
    "\n",
    "Grammar of graphics breaks everything down into a set of\n",
    "components and rules relating them,"
   ]
  },
  {
   "cell_type": "markdown",
   "metadata": {
    "slideshow": {
     "slide_type": "fragment"
    }
   },
   "source": [
    "This abstraction avoids\n",
    "+ limiting yourself to what standard canned packages do\n",
    "+ hacking through the graphics rendering engine"
   ]
  },
  {
   "cell_type": "markdown",
   "metadata": {
    "slideshow": {
     "slide_type": "slide"
    }
   },
   "source": [
    "The components of a graphic are orthogonal:\n",
    "+ changing one shouldn’t break the others\n",
    "+ different settings of components are valid (if not sensible)\n",
    "+ You can build complexity by adding more layers"
   ]
  },
  {
   "cell_type": "markdown",
   "metadata": {
    "slideshow": {
     "slide_type": "fragment"
    }
   },
   "source": [
    "The grammar represents what we do with the data\n",
    "+ Plotting is part of understanding rich datasets\n",
    "+ Having understood the structure of a graph, we might ask: what if we do this instead of that?"
   ]
  },
  {
   "cell_type": "markdown",
   "metadata": {
    "slideshow": {
     "slide_type": "slide"
    }
   },
   "source": [
    "### `ggplot`: R implementation of GoG\n",
    "\n",
    "Components of ggplot ’s grammar of graphics:\n",
    "\n",
    "One or more layers:\n",
    "+ Data and aesthetic mappings\n",
    "+ A statistical transformation\n",
    "+ A geometric object\n",
    "+ Position adjustments\n",
    "+  A scale for each aesthetic\n",
    "+  A coordinate system\n",
    "+  A facet specification"
   ]
  },
  {
   "cell_type": "markdown",
   "metadata": {
    "slideshow": {
     "slide_type": "slide"
    }
   },
   "source": [
    "###  Plotting in base R"
   ]
  },
  {
   "cell_type": "code",
   "execution_count": null,
   "metadata": {
    "collapsed": false,
    "slideshow": {
     "slide_type": "-"
    }
   },
   "outputs": [],
   "source": [
    "library('ggplot2') \n",
    "str(diamonds)  # diamonds is a dataset from ggplot"
   ]
  },
  {
   "cell_type": "code",
   "execution_count": null,
   "metadata": {
    "collapsed": true,
    "slideshow": {
     "slide_type": "-"
    }
   },
   "outputs": [],
   "source": [
    "plot(diamonds$carat, diamonds$price)"
   ]
  },
  {
   "cell_type": "code",
   "execution_count": null,
   "metadata": {
    "collapsed": true,
    "slideshow": {
     "slide_type": "fragment"
    }
   },
   "outputs": [],
   "source": [
    "diamonds_orig <- diamonds;\n",
    "diamonds <- diamonds_orig[sample(50000,10000),]"
   ]
  },
  {
   "cell_type": "code",
   "execution_count": null,
   "metadata": {
    "collapsed": true,
    "slideshow": {
     "slide_type": "fragment"
    }
   },
   "outputs": [],
   "source": [
    "ggplot() +\n",
    "  layer(\n",
    "    data = diamonds,\n",
    "    mapping = aes(x = carat, y = price),\n",
    "    geom = \"point\", stat = \"identity\",\n",
    "    position = \"identity\" ) +\n",
    "  scale_y_continuous() + scale_x_continuous() +\n",
    "  coord_cartesian() "
   ]
  },
  {
   "cell_type": "markdown",
   "metadata": {
    "slideshow": {
     "slide_type": "subslide"
    }
   },
   "source": [
    "Of course, ggplot has intelligent defaults:"
   ]
  },
  {
   "cell_type": "code",
   "execution_count": null,
   "metadata": {
    "collapsed": false
   },
   "outputs": [],
   "source": [
    "ggplot(diamonds, aes(carat, price)) + geom_point()"
   ]
  },
  {
   "cell_type": "markdown",
   "metadata": {
    "collapsed": true,
    "slideshow": {
     "slide_type": "fragment"
    }
   },
   "source": [
    "There’s also further abbreviations via `qplot` \n",
    "\n",
    "(I find this confusing)"
   ]
  },
  {
   "cell_type": "markdown",
   "metadata": {
    "slideshow": {
     "slide_type": "subslide"
    }
   },
   "source": [
    "## Layers\n",
    "ggplot produces an object that is rendered into a plot\n",
    "\n",
    "This object consists of a number of layers\n",
    "\n",
    "Each layer can get own inputs or share arguments to ggplot()"
   ]
  },
  {
   "cell_type": "markdown",
   "metadata": {
    "slideshow": {
     "slide_type": "subslide"
    }
   },
   "source": [
    "Add another layer to previous plot:"
   ]
  },
  {
   "cell_type": "code",
   "execution_count": null,
   "metadata": {
    "collapsed": true,
    "slideshow": {
     "slide_type": "-"
    }
   },
   "outputs": [],
   "source": [
    "ggplot(diamonds, aes(x=carat, y = price)) + geom_point() +\n",
    "geom_smooth()"
   ]
  },
  {
   "cell_type": "markdown",
   "metadata": {
    "slideshow": {
     "slide_type": "slide"
    }
   },
   "source": [
    "## Different layers and their components \n",
    "---"
   ]
  },
  {
   "cell_type": "markdown",
   "metadata": {
    "slideshow": {
     "slide_type": "subslide"
    }
   },
   "source": [
    "### Data and aesthetic mappings:\n",
    "+ `ggplot` requies a dataframe as input\n",
    "+ this layer maps columns of input to aspects like x,y-coordinate, size, color etc\n",
    "+ `reshape2` and `tidyr` packages useful to get data in the right format"
   ]
  },
  {
   "cell_type": "code",
   "execution_count": null,
   "metadata": {
    "collapsed": true,
    "slideshow": {
     "slide_type": "subslide"
    }
   },
   "outputs": [],
   "source": [
    "mix2norm <- data.frame(x = c(rnorm(1000),rnorm(1000,3)),\n",
    "                 grp = as.factor(rep(c(1,2),each=1000)))"
   ]
  },
  {
   "cell_type": "code",
   "execution_count": null,
   "metadata": {
    "collapsed": false,
    "slideshow": {
     "slide_type": "fragment"
    }
   },
   "outputs": [],
   "source": [
    "ggplot(mix2norm, aes(x=x, color = grp)) +\n",
    "    geom_density(adjust=1/2)"
   ]
  },
  {
   "cell_type": "markdown",
   "metadata": {
    "slideshow": {
     "slide_type": "slide"
    }
   },
   "source": [
    "### A statistical transformation\n",
    "\n",
    "A summarization of the raw input\n",
    "\n",
    "Example: binning, smoothing, boxplot, identity\n",
    "\n",
    "Default: often identity (but see previous)\n",
    "\n",
    "Specified via `stat`\n"
   ]
  },
  {
   "cell_type": "code",
   "execution_count": null,
   "metadata": {
    "collapsed": false,
    "slideshow": {
     "slide_type": "subslide"
    }
   },
   "outputs": [],
   "source": [
    "ggplot(mix2norm, aes(x=x, color = grp, fill= grp)) +\n",
    "geom_density(alpha=.4, adjust=1/2, size=2, stat=\"bin\")"
   ]
  },
  {
   "cell_type": "code",
   "execution_count": null,
   "metadata": {
    "collapsed": false,
    "slideshow": {
     "slide_type": "subslide"
    }
   },
   "outputs": [],
   "source": [
    "ggplot(mix2norm, aes(x=x, color = grp, fill= grp)) +\n",
    "geom_density(alpha=.4, adjust=1/2, size=2, stat=\"bin\") +\n",
    "scale_color_manual(values = c(\"1\" = \"magenta\", \"2\"=\"blue\"))"
   ]
  },
  {
   "cell_type": "markdown",
   "metadata": {
    "collapsed": false,
    "slideshow": {
     "slide_type": "subslide"
    }
   },
   "source": [
    "### A geometric object\n",
    "The type of plot created\n",
    "\n",
    "Specified via `geom`\n",
    "According to dimensionality:\n",
    "+ 0-dim point, text\n",
    "+ 1-dim line\n",
    "+ 2-dim polygon, interval\n",
    "`geom_density` uses `ribbon`\n",
    "\n",
    "Others include `geom_hist`, `geom_bar`, `geom_contour`, `geom_line`"
   ]
  },
  {
   "cell_type": "markdown",
   "metadata": {
    "slideshow": {
     "slide_type": "subslide"
    }
   },
   "source": [
    "Can specify only geometry and not statistical transformation"
   ]
  },
  {
   "cell_type": "code",
   "execution_count": null,
   "metadata": {
    "collapsed": false
   },
   "outputs": [],
   "source": [
    "ggplot(mix2norm, aes(x=x, color = grp)) +\n",
    "geom_density(adjust=1/2)"
   ]
  },
  {
   "cell_type": "markdown",
   "metadata": {
    "slideshow": {
     "slide_type": "subslide"
    }
   },
   "source": [
    "Can change only statistical transformation but not geometry"
   ]
  },
  {
   "cell_type": "code",
   "execution_count": null,
   "metadata": {
    "collapsed": false,
    "slideshow": {
     "slide_type": "-"
    }
   },
   "outputs": [],
   "source": [
    "ggplot(mix2norm, aes(x=x, color = grp)) +\n",
    "stat_density(adjust=1/2)"
   ]
  },
  {
   "cell_type": "markdown",
   "metadata": {
    "slideshow": {
     "slide_type": "fragment"
    }
   },
   "source": [
    "Why does this look different? What are the defaults for\n",
    "`position` and `geometry`?"
   ]
  },
  {
   "cell_type": "markdown",
   "metadata": {
    "slideshow": {
     "slide_type": "slide"
    }
   },
   "source": [
    "### Position\n",
    "How different parts of a layer are positioned \n",
    "+  identity, dodge, jitter etc."
   ]
  },
  {
   "cell_type": "code",
   "execution_count": null,
   "metadata": {
    "collapsed": false,
    "slideshow": {
     "slide_type": "subslide"
    }
   },
   "outputs": [],
   "source": [
    "ggplot(mix2norm, aes(x=x, color = grp)) +\n",
    "  stat_density(adjust=1/2, size=2, position = \"identity\",\n",
    "  geom = \"line\")"
   ]
  },
  {
   "cell_type": "markdown",
   "metadata": {
    "slideshow": {
     "slide_type": "slide"
    }
   },
   "source": [
    "### Scaling\n",
    "How each input value maps to the specified aesthetic\n",
    "\n",
    "+ Specified via `scale`\n",
    "\n",
    "Continuous, logarithmic, values to shapes, what limits, what\n",
    "labels, what marks"
   ]
  },
  {
   "cell_type": "code",
   "execution_count": null,
   "metadata": {
    "collapsed": false,
    "slideshow": {
     "slide_type": "subslide"
    }
   },
   "outputs": [],
   "source": [
    "ggplot(mix2norm, aes(x=x, color = grp)) +\n",
    "  stat_density(adjust=1/2, size=2, position = \"identity\",\n",
    "  geom = \"line\") + scale_y_log10(limits = c(1e-5,1))"
   ]
  },
  {
   "cell_type": "markdown",
   "metadata": {
    "slideshow": {
     "slide_type": "slide"
    }
   },
   "source": [
    "### Coordinates\n",
    "How positions of things are mapped to positions on the screen.\n",
    "\n",
    "Different coordinates can affect the shape of geometric objects\n",
    "\n",
    "Cartesian, polar, map-projection"
   ]
  },
  {
   "cell_type": "code",
   "execution_count": null,
   "metadata": {
    "collapsed": false,
    "slideshow": {
     "slide_type": "subslide"
    }
   },
   "outputs": [],
   "source": [
    "ggplot(mix2norm, aes(x=x, color = grp)) +\n",
    "  stat_density(adjust=1/2, size=2, position = \"identity\",\n",
    "  geom = \"line\") + coord_polar()"
   ]
  },
  {
   "cell_type": "markdown",
   "metadata": {
    "slideshow": {
     "slide_type": "slide"
    }
   },
   "source": [
    "### Facets\n",
    "Allows arranging different graphs in a grid/panel"
   ]
  },
  {
   "cell_type": "code",
   "execution_count": null,
   "metadata": {
    "collapsed": false
   },
   "outputs": [],
   "source": [
    "ggplot(mix2norm, aes(x=x, color = grp)) +\n",
    "  stat_density(adjust=1/2, size=2, position = \"identity\",\n",
    "  geom = \"line\") + facet_grid(grp~.)"
   ]
  },
  {
   "cell_type": "markdown",
   "metadata": {
    "slideshow": {
     "slide_type": "slide"
    }
   },
   "source": [
    "### More examples"
   ]
  },
  {
   "cell_type": "code",
   "execution_count": null,
   "metadata": {
    "collapsed": false,
    "slideshow": {
     "slide_type": "fragment"
    }
   },
   "outputs": [],
   "source": [
    "ggplot(diamonds, aes(x=carat, y = price,colour=cut)) +\n",
    "  geom_point() +  \n",
    "  geom_line(stat= \"smooth\", method=\"loess\", \n",
    "            size=1, alpha= 0.7)"
   ]
  },
  {
   "cell_type": "code",
   "execution_count": null,
   "metadata": {
    "collapsed": false,
    "slideshow": {
     "slide_type": "subslide"
    }
   },
   "outputs": [],
   "source": [
    "ggplot(diamonds, aes(x=carat, y = price,colour=cut)) +\n",
    "geom_point() +\n",
    "geom_line(stat= \"smooth\", method=lm, size=1, alpha= 0.7) +\n",
    "scale_x_log10()+ scale_y_log10()"
   ]
  },
  {
   "cell_type": "code",
   "execution_count": null,
   "metadata": {
    "collapsed": false,
    "slideshow": {
     "slide_type": "subslide"
    }
   },
   "outputs": [],
   "source": [
    "ggplot(diamonds, aes(x=carat, fill=cut)) +\n",
    "geom_histogram(alpha=0.7, binwidth=.4, color=\"black\",\n",
    "position=\"dodge\") + xlim(0,2)"
   ]
  },
  {
   "cell_type": "markdown",
   "metadata": {
    "slideshow": {
     "slide_type": "slide"
    }
   },
   "source": [
    "\n",
    "+ <font size=4px>\n",
    "“Probably the best statistical graphic ever drawn, this map by Charles Joseph Minard portrays the losses suffered by Napoleon’s army in the Russian campaign of 1812. Beginning at the Polish-Russian border, the thick band shows the size of the army at each position. The path of Napoleon’s retreat from Moscow in the bitterly cold winter is depicted by the dark lower band, which is tied to temperature and time scales.”\n",
    "Edward Tufte, http://www.edwardtufte.com/tufte/posters </font>"
   ]
  },
  {
   "cell_type": "markdown",
   "metadata": {},
   "source": [
    "![Alt text](./figures/napmarch_orig.png)"
   ]
  },
  {
   "cell_type": "code",
   "execution_count": null,
   "metadata": {
    "collapsed": true,
    "slideshow": {
     "slide_type": "skip"
    }
   },
   "outputs": [],
   "source": []
  },
  {
   "cell_type": "markdown",
   "metadata": {
    "slideshow": {
     "slide_type": "subslide"
    }
   },
   "source": [
    "First read the data:"
   ]
  },
  {
   "cell_type": "code",
   "execution_count": null,
   "metadata": {
    "collapsed": true
   },
   "outputs": [],
   "source": [
    "troops <- read.table(\"Data/minard-troops.txt\", header=T)\n",
    "cities <- read.table(\"Data/minard-cities.txt\", header=T)\n",
    "#  options(repr.plot.width=10, repr.plot.height=3)"
   ]
  },
  {
   "cell_type": "code",
   "execution_count": null,
   "metadata": {
    "collapsed": false,
    "slideshow": {
     "slide_type": "subslide"
    }
   },
   "outputs": [],
   "source": [
    "plot_troops <- ggplot(troops, aes(long, lat)) +\n",
    "  geom_path(aes(size = survivors, colour = direction,\n",
    "  group = group)); "
   ]
  },
  {
   "cell_type": "code",
   "execution_count": null,
   "metadata": {
    "collapsed": false,
    "slideshow": {
     "slide_type": "subslide"
    }
   },
   "outputs": [],
   "source": [
    "plot_both <- plot_troops +\n",
    "    geom_text(data = cities, aes(label = city), size = 3)\n",
    "plot_both"
   ]
  },
  {
   "cell_type": "code",
   "execution_count": null,
   "metadata": {
    "collapsed": false,
    "slideshow": {
     "slide_type": "subslide"
    }
   },
   "outputs": [],
   "source": [
    "plot_polished <- plot_both + scale_size(\n",
    "   breaks = c(1, 2, 3) * 10^5, labels = (c(1, 2, 3) * 10^5)) +\n",
    "   scale_colour_manual(values = c(\"grey50\",\"red\")) +\n",
    "   xlab(NULL) + ylab(NULL) \n",
    "plot_polished"
   ]
  },
  {
   "cell_type": "markdown",
   "metadata": {
    "slideshow": {
     "slide_type": "slide"
    }
   },
   "source": [
    "Income dataset: http://www-bcf.usc.edu/~gareth/ISL/data.html"
   ]
  },
  {
   "cell_type": "code",
   "execution_count": null,
   "metadata": {
    "collapsed": true
   },
   "outputs": [],
   "source": [
    "DataIncm<-read.table(\"Data/Income2.csv\",header=TRUE,sep=\",\")"
   ]
  },
  {
   "cell_type": "code",
   "execution_count": null,
   "metadata": {
    "collapsed": true,
    "slideshow": {
     "slide_type": "fragment"
    }
   },
   "outputs": [],
   "source": [
    "plt1 <- ggplot(DataIncm, aes(x=Education, y = Income)) +\n",
    "          geom_point(size=2, color=\"blue\") +\n",
    "          theme(text=element_text(size=15)); plt1"
   ]
  },
  {
   "cell_type": "code",
   "execution_count": null,
   "metadata": {
    "collapsed": true,
    "slideshow": {
     "slide_type": "subslide"
    }
   },
   "outputs": [],
   "source": [
    "plt1 <- ggplot(DataIncm, aes(x=Seniority, y = Income)) +\n",
    "          geom_point(size=2, color=\"blue\") +\n",
    "          theme(text=element_text(size=15)); plt1"
   ]
  },
  {
   "cell_type": "markdown",
   "metadata": {
    "slideshow": {
     "slide_type": "subslide"
    }
   },
   "source": [
    "`ggplot` doesn’t support 3d plotting, but:"
   ]
  },
  {
   "cell_type": "code",
   "execution_count": null,
   "metadata": {
    "collapsed": true,
    "slideshow": {
     "slide_type": "-"
    }
   },
   "outputs": [],
   "source": [
    "plt1 <- ggplot(DataIncm, aes(x=Seniority, y = Income)) +\n",
    "          geom_point(size=2, color=\"blue\") +\n",
    "          theme(text=element_text(size=15)); plt1"
   ]
  },
  {
   "cell_type": "code",
   "execution_count": null,
   "metadata": {
    "collapsed": false,
    "slideshow": {
     "slide_type": "subslide"
    }
   },
   "outputs": [],
   "source": [
    "ggplot(DataIncm, aes(x=Education, y=Seniority, color=Income)) +\n",
    "geom_point(size=2) + theme(text=element_text(size=10)) +\n",
    "scale_color_continuous(low=\"blue\", high=\"orange\") "
   ]
  },
  {
   "cell_type": "markdown",
   "metadata": {
    "slideshow": {
     "slide_type": "slide"
    }
   },
   "source": [
    "### Further reading\n",
    "\n",
    "*‘A Layered Grammar of Graphics’*, Hadlay Wickham, Journal of\n",
    "Computational and Graphical Statistics, 2010\n",
    "\n",
    "ggplot documentation: http://docs.ggplot2.org/current/\n",
    "\n",
    "Search ‘ggplot’ on Google Images for inspiration\n",
    "\n",
    "Play around to make your own figures"
   ]
  }
 ],
 "metadata": {
  "anaconda-cloud": {},
  "celltoolbar": "Slideshow",
  "kernelspec": {
   "display_name": "R",
   "language": "R",
   "name": "ir"
  },
  "language_info": {
   "codemirror_mode": "r",
   "file_extension": ".r",
   "mimetype": "text/x-r-source",
   "name": "R",
   "pygments_lexer": "r",
   "version": "3.3.2"
  },
  "livereveal": {
   "max-width": 1620,
   "scroll": true,
   "start_slideshow_at": "selected",
   "theme": "sky"
  }
 },
 "nbformat": 4,
 "nbformat_minor": 2
}
