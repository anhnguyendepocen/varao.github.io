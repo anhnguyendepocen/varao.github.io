{
 "cells": [
  {
   "cell_type": "markdown",
   "metadata": {
    "slideshow": {
     "slide_type": "slide"
    }
   },
   "source": [
    "## Lecture 18: Regular expressions in R\n",
    "\n",
    "### STAT598z: Intro. to computing for statistics\n",
    "\n",
    "\n",
    "***\n",
    "\n",
    "\n",
    "\n",
    "\n",
    "### Vinayak Rao\n",
    "\n",
    "#### Department of Statistics, Purdue University"
   ]
  },
  {
   "cell_type": "code",
   "execution_count": 1,
   "metadata": {
    "collapsed": true,
    "slideshow": {
     "slide_type": "skip"
    }
   },
   "outputs": [],
   "source": [
    "options(repr.plot.width=5, repr.plot.height=3)"
   ]
  },
  {
   "cell_type": "markdown",
   "metadata": {
    "slideshow": {
     "slide_type": "slide"
    }
   },
   "source": [
    "We have seen the `print` function:"
   ]
  },
  {
   "cell_type": "code",
   "execution_count": 48,
   "metadata": {
    "collapsed": true
   },
   "outputs": [
    {
     "name": "stdout",
     "output_type": "stream",
     "text": [
      "[1] 1\n",
      "[[1]]\n",
      "[1] \"Hello\"\n",
      "\n",
      "[[2]]\n",
      "[1] TRUE\n",
      "\n",
      "[[3]]\n",
      "[1] 1 2 3\n",
      "\n"
     ]
    }
   ],
   "source": [
    "x <- 1\n",
    "print(x)\n",
    "y <- list('Hello', TRUE, c(1,2,3))\n",
    "print(y)"
   ]
  },
  {
   "cell_type": "markdown",
   "metadata": {
    "slideshow": {
     "slide_type": "fragment"
    }
   },
   "source": [
    "print is a *generic* function:\n",
    "+ looks at class of input and calls appropriate function"
   ]
  },
  {
   "cell_type": "code",
   "execution_count": 51,
   "metadata": {
    "collapsed": true,
    "slideshow": {
     "slide_type": "skip"
    }
   },
   "outputs": [
    {
     "name": "stdout",
     "output_type": "stream",
     "text": [
      "  x y\n",
      "1 1 3\n",
      "2 2 4\n"
     ]
    }
   ],
   "source": [
    "my_df <- data.frame(x = c(1,2), y = c(3,4))\n",
    "print(my_df)"
   ]
  },
  {
   "cell_type": "code",
   "execution_count": 52,
   "metadata": {
    "collapsed": true,
    "slideshow": {
     "slide_type": "skip"
    }
   },
   "outputs": [
    {
     "name": "stdout",
     "output_type": "stream",
     "text": [
      "$x\n",
      "[1] 1 2\n",
      "\n",
      "$y\n",
      "[1] 3 4\n",
      "\n",
      "attr(,\"class\")\n",
      "[1] \"data.frame\"\n"
     ]
    }
   ],
   "source": [
    "print.default(my_df)"
   ]
  },
  {
   "cell_type": "code",
   "execution_count": 53,
   "metadata": {
    "collapsed": true,
    "slideshow": {
     "slide_type": "skip"
    }
   },
   "outputs": [
    {
     "name": "stdout",
     "output_type": "stream",
     "text": [
      "  x y\n",
      "1 1 3\n",
      "2 2 4\n"
     ]
    }
   ],
   "source": [
    "print.data.frame(my_df)"
   ]
  },
  {
   "cell_type": "code",
   "execution_count": 54,
   "metadata": {
    "collapsed": true,
    "slideshow": {
     "slide_type": "skip"
    }
   },
   "outputs": [
    {
     "name": "stdout",
     "output_type": "stream",
     "text": [
      "  x y\n",
      "1 1 3\n",
      "2 2 4\n"
     ]
    }
   ],
   "source": [
    "class(df) <- NULL\n",
    "print(my_df)"
   ]
  },
  {
   "cell_type": "markdown",
   "metadata": {
    "collapsed": false,
    "slideshow": {
     "slide_type": "slide"
    }
   },
   "source": [
    "### `print` and `cat`\n",
    "\n",
    "`print` can only print its first term"
   ]
  },
  {
   "cell_type": "code",
   "execution_count": 56,
   "metadata": {
    "collapsed": true
   },
   "outputs": [
    {
     "name": "stderr",
     "output_type": "stream",
     "text": [
      "Warning message in print.default(\"Right now it is\", date()):\n",
      "“NAs introduced by coercion”"
     ]
    },
    {
     "ename": "ERROR",
     "evalue": "Error in print.default(\"Right now it is\", date()): invalid 'digits' argument\n",
     "output_type": "error",
     "traceback": [
      "Error in print.default(\"Right now it is\", date()): invalid 'digits' argument\nTraceback:\n",
      "1. print(\"Right now it is\", date())",
      "2. print.default(\"Right now it is\", date())"
     ]
    }
   ],
   "source": [
    "print('Right now it is', date())"
   ]
  },
  {
   "cell_type": "markdown",
   "metadata": {
    "collapsed": true,
    "slideshow": {
     "slide_type": "fragment"
    }
   },
   "source": [
    "For this we need the cat (concatenate) function"
   ]
  },
  {
   "cell_type": "code",
   "execution_count": 3,
   "metadata": {
    "collapsed": false,
    "slideshow": {
     "slide_type": "-"
    }
   },
   "outputs": [
    {
     "name": "stdout",
     "output_type": "stream",
     "text": [
      "Right now it is Mon Mar 27 21:39:50 2017"
     ]
    }
   ],
   "source": [
    "cat('Right now it is', date())"
   ]
  },
  {
   "cell_type": "markdown",
   "metadata": {
    "slideshow": {
     "slide_type": "subslide"
    }
   },
   "source": [
    "```\n",
    "cat(..., file = '' , sep = ' ' , fill = FALSE, labels = NULL,\n",
    "     append = FALSE)\n",
    "```"
   ]
  },
  {
   "cell_type": "markdown",
   "metadata": {},
   "source": [
    "`…`: Inputs that R concatenates to print\n",
    "\n",
    "`sep`: What to append after each input (default is space)\n",
    "\n",
    "`file`: Destination file (default is stdout)"
   ]
  },
  {
   "cell_type": "markdown",
   "metadata": {
    "slideshow": {
     "slide_type": "fragment"
    }
   },
   "source": [
    "Use `paste()` to store the concatenated output (a string)"
   ]
  },
  {
   "cell_type": "code",
   "execution_count": 58,
   "metadata": {
    "collapsed": true,
    "slideshow": {
     "slide_type": "subslide"
    }
   },
   "outputs": [
    {
     "name": "stdout",
     "output_type": "stream",
     "text": [
      "1 2 3 4 5"
     ]
    }
   ],
   "source": [
    "cat(1:5)"
   ]
  },
  {
   "cell_type": "code",
   "execution_count": 59,
   "metadata": {
    "collapsed": true
   },
   "outputs": [
    {
     "name": "stdout",
     "output_type": "stream",
     "text": [
      "1,2,3,4,5"
     ]
    }
   ],
   "source": [
    "cat(1:5,sep= ',' )"
   ]
  },
  {
   "cell_type": "code",
   "execution_count": 60,
   "metadata": {
    "collapsed": true
   },
   "outputs": [
    {
     "name": "stdout",
     "output_type": "stream",
     "text": [
      "1\n",
      "2\n",
      "3\n",
      "4\n",
      "5\n"
     ]
    }
   ],
   "source": [
    "cat(1:5,sep= '\\n' )"
   ]
  },
  {
   "cell_type": "code",
   "execution_count": 61,
   "metadata": {
    "collapsed": true
   },
   "outputs": [
    {
     "name": "stdout",
     "output_type": "stream",
     "text": [
      "[,1,2,3,4,5,]"
     ]
    }
   ],
   "source": [
    "cat('[' ,1:5, ']' ,sep=(',' ))"
   ]
  },
  {
   "cell_type": "code",
   "execution_count": 62,
   "metadata": {
    "collapsed": true
   },
   "outputs": [
    {
     "name": "stdout",
     "output_type": "stream",
     "text": [
      "[1,2,3,4,5]"
     ]
    }
   ],
   "source": [
    "cat('[',1:5, ']' ,sep=c('', rep(',' ,4), '' ))"
   ]
  },
  {
   "cell_type": "code",
   "execution_count": 63,
   "metadata": {
    "collapsed": true
   },
   "outputs": [],
   "source": [
    "cat('Hello','World','New para',sep='\\n',file='new_file.txt')"
   ]
  },
  {
   "cell_type": "code",
   "execution_count": 64,
   "metadata": {
    "collapsed": false,
    "slideshow": {
     "slide_type": "-"
    }
   },
   "outputs": [],
   "source": [
    "my_cmd <- paste('[' ,1:5, ']',sep=c('', rep(',' ,4),''))"
   ]
  },
  {
   "cell_type": "markdown",
   "metadata": {
    "slideshow": {
     "slide_type": "slide"
    }
   },
   "source": [
    "R needs a newline at end of string (not RStudio )\n",
    "Section 8.1.22 in *The R Inferno*, Patrick Burns:\n",
    "+ `print` outputs all characters in the string\n",
    "+ `cat` outputs what the string represents\n",
    "\n",
    "Compare:"
   ]
  },
  {
   "cell_type": "code",
   "execution_count": 15,
   "metadata": {
    "collapsed": false,
    "slideshow": {
     "slide_type": "fragment"
    }
   },
   "outputs": [
    {
     "name": "stdout",
     "output_type": "stream",
     "text": [
      "[1] \"Hello\\n\"\n"
     ]
    }
   ],
   "source": [
    "print('Hello\\n') "
   ]
  },
  {
   "cell_type": "code",
   "execution_count": 16,
   "metadata": {
    "collapsed": false,
    "slideshow": {
     "slide_type": "fragment"
    }
   },
   "outputs": [
    {
     "name": "stdout",
     "output_type": "stream",
     "text": [
      "Hello\n"
     ]
    }
   ],
   "source": [
    "cat('Hello\\n')"
   ]
  },
  {
   "cell_type": "markdown",
   "metadata": {
    "slideshow": {
     "slide_type": "fragment"
    }
   },
   "source": [
    "+ ‘\\’ escapes the following character (indicating it is special)"
   ]
  },
  {
   "cell_type": "markdown",
   "metadata": {
    "slideshow": {
     "slide_type": "subslide"
    }
   },
   "source": [
    "What if we want to output ‘\\n’ using cat ?"
   ]
  },
  {
   "cell_type": "markdown",
   "metadata": {
    "slideshow": {
     "slide_type": "fragment"
    }
   },
   "source": [
    "Escape `\\` with another `\\`"
   ]
  },
  {
   "cell_type": "code",
   "execution_count": 65,
   "metadata": {
    "collapsed": false,
    "slideshow": {
     "slide_type": "-"
    }
   },
   "outputs": [
    {
     "name": "stdout",
     "output_type": "stream",
     "text": [
      "Hello\\n"
     ]
    }
   ],
   "source": [
    "cat('Hello\\\\n')"
   ]
  },
  {
   "cell_type": "markdown",
   "metadata": {
    "collapsed": false,
    "slideshow": {
     "slide_type": "slide"
    }
   },
   "source": [
    "**Regular expression**: representation of a collection of strings\n",
    "\n",
    "Useful for searching and replacing patterns in strings\n",
    "\n",
    "Composed of a grammar to build complicated patterns of\n",
    "strings\n",
    "\n",
    "R has functions, which coupled with regular expressions allow\n",
    "powerful string manipulation\n",
    "\n",
    "`E.g. grep, grepl, regexpr, gregexpr, sub, gsub`"
   ]
  },
  {
   "cell_type": "markdown",
   "metadata": {
    "slideshow": {
     "slide_type": "slide"
    }
   },
   "source": [
    "### Matching simple patterns"
   ]
  },
  {
   "cell_type": "code",
   "execution_count": 17,
   "metadata": {
    "collapsed": true
   },
   "outputs": [
    {
     "data": {
      "text/html": [
       "<ol class=list-inline>\n",
       "\t<li>2</li>\n",
       "\t<li>3</li>\n",
       "</ol>\n"
      ],
      "text/latex": [
       "\\begin{enumerate*}\n",
       "\\item 2\n",
       "\\item 3\n",
       "\\end{enumerate*}\n"
      ],
      "text/markdown": [
       "1. 2\n",
       "2. 3\n",
       "\n",
       "\n"
      ],
      "text/plain": [
       "[1] 2 3"
      ]
     },
     "metadata": {},
     "output_type": "display_data"
    }
   ],
   "source": [
    "cities <- c('lafayette', 'indianapolis' , 'cincinnati')\n",
    "grep('in', cities)"
   ]
  },
  {
   "cell_type": "code",
   "execution_count": 66,
   "metadata": {
    "collapsed": true
   },
   "outputs": [
    {
     "data": {
      "text/html": [
       "<ol class=list-inline>\n",
       "\t<li>FALSE</li>\n",
       "\t<li>TRUE</li>\n",
       "\t<li>TRUE</li>\n",
       "</ol>\n"
      ],
      "text/latex": [
       "\\begin{enumerate*}\n",
       "\\item FALSE\n",
       "\\item TRUE\n",
       "\\item TRUE\n",
       "\\end{enumerate*}\n"
      ],
      "text/markdown": [
       "1. FALSE\n",
       "2. TRUE\n",
       "3. TRUE\n",
       "\n",
       "\n"
      ],
      "text/plain": [
       "[1] FALSE  TRUE  TRUE"
      ]
     },
     "metadata": {},
     "output_type": "display_data"
    }
   ],
   "source": [
    "grepl('in', cities)"
   ]
  },
  {
   "cell_type": "markdown",
   "metadata": {
    "collapsed": false,
    "slideshow": {
     "slide_type": "fragment"
    }
   },
   "source": [
    "Usage:  \n",
    "``` grep(pattern, x, ignore.case = FALSE,  perl = FALSE, value = FALSE) ```"
   ]
  },
  {
   "cell_type": "code",
   "execution_count": 67,
   "metadata": {
    "collapsed": false
   },
   "outputs": [
    {
     "data": {
      "text/html": [
       "<ol class=list-inline>\n",
       "\t<li>'indianapolis'</li>\n",
       "\t<li>'cincinnati'</li>\n",
       "</ol>\n"
      ],
      "text/latex": [
       "\\begin{enumerate*}\n",
       "\\item 'indianapolis'\n",
       "\\item 'cincinnati'\n",
       "\\end{enumerate*}\n"
      ],
      "text/markdown": [
       "1. 'indianapolis'\n",
       "2. 'cincinnati'\n",
       "\n",
       "\n"
      ],
      "text/plain": [
       "[1] \"indianapolis\" \"cincinnati\"  "
      ]
     },
     "metadata": {},
     "output_type": "display_data"
    }
   ],
   "source": [
    "grep('in',cities,value=TRUE) #Return values instead of indices"
   ]
  },
  {
   "cell_type": "markdown",
   "metadata": {
    "slideshow": {
     "slide_type": "subslide"
    }
   },
   "source": [
    "Where in each element did the match occur?"
   ]
  },
  {
   "cell_type": "code",
   "execution_count": 68,
   "metadata": {
    "collapsed": false
   },
   "outputs": [
    {
     "data": {
      "text/html": [
       "<ol class=list-inline>\n",
       "\t<li>-1</li>\n",
       "\t<li>1</li>\n",
       "\t<li>2</li>\n",
       "</ol>\n"
      ],
      "text/latex": [
       "\\begin{enumerate*}\n",
       "\\item -1\n",
       "\\item 1\n",
       "\\item 2\n",
       "\\end{enumerate*}\n"
      ],
      "text/markdown": [
       "1. -1\n",
       "2. 1\n",
       "3. 2\n",
       "\n",
       "\n"
      ],
      "text/plain": [
       "[1] -1  1  2\n",
       "attr(,\"match.length\")\n",
       "[1] -1  2  2\n",
       "attr(,\"useBytes\")\n",
       "[1] TRUE"
      ]
     },
     "metadata": {},
     "output_type": "display_data"
    }
   ],
   "source": [
    "regexpr('in', cities)"
   ]
  },
  {
   "cell_type": "markdown",
   "metadata": {
    "slideshow": {
     "slide_type": "fragment"
    }
   },
   "source": [
    "What if more than one match occured?"
   ]
  },
  {
   "cell_type": "code",
   "execution_count": 69,
   "metadata": {
    "collapsed": false,
    "slideshow": {
     "slide_type": "-"
    }
   },
   "outputs": [
    {
     "data": {
      "text/html": [
       "<ol>\n",
       "\t<li>-1</li>\n",
       "\t<li>1</li>\n",
       "\t<li><ol class=list-inline>\n",
       "\t<li>2</li>\n",
       "\t<li>5</li>\n",
       "</ol>\n",
       "</li>\n",
       "</ol>\n"
      ],
      "text/latex": [
       "\\begin{enumerate}\n",
       "\\item -1\n",
       "\\item 1\n",
       "\\item \\begin{enumerate*}\n",
       "\\item 2\n",
       "\\item 5\n",
       "\\end{enumerate*}\n",
       "\n",
       "\\end{enumerate}\n"
      ],
      "text/markdown": [
       "1. -1\n",
       "2. 1\n",
       "3. 1. 2\n",
       "2. 5\n",
       "\n",
       "\n",
       "\n",
       "\n",
       "\n"
      ],
      "text/plain": [
       "[[1]]\n",
       "[1] -1\n",
       "attr(,\"match.length\")\n",
       "[1] -1\n",
       "attr(,\"useBytes\")\n",
       "[1] TRUE\n",
       "\n",
       "[[2]]\n",
       "[1] 1\n",
       "attr(,\"match.length\")\n",
       "[1] 2\n",
       "attr(,\"useBytes\")\n",
       "[1] TRUE\n",
       "\n",
       "[[3]]\n",
       "[1] 2 5\n",
       "attr(,\"match.length\")\n",
       "[1] 2 2\n",
       "attr(,\"useBytes\")\n",
       "[1] TRUE\n"
      ]
     },
     "metadata": {},
     "output_type": "display_data"
    }
   ],
   "source": [
    "gregexpr('in', cities)"
   ]
  },
  {
   "cell_type": "markdown",
   "metadata": {
    "slideshow": {
     "slide_type": "slide"
    }
   },
   "source": [
    "What if we want to match\n",
    "+ any letter followed by ’n’?\n",
    "+ any vowel followed by ’n’?\n",
    "+ two letters followed by ’n’?\n",
    "+ any number of letters followed by ’n’?"
   ]
  },
  {
   "cell_type": "markdown",
   "metadata": {
    "collapsed": false,
    "slideshow": {
     "slide_type": "subslide"
    }
   },
   "source": [
    "### Regular expressions!\n",
    "+ allow us to match much more complicated patterns\n",
    "+ build patterns from a simple vocabulary and grammar\n",
    "\n",
    "R supports two ﬂavors of regular expressions, we will always\n",
    "use perl (set option `perl = TRUE` )"
   ]
  },
  {
   "cell_type": "markdown",
   "metadata": {
    "slideshow": {
     "slide_type": "slide"
    }
   },
   "source": [
    "'`.`' (period) represents any character except empty string '`””`'"
   ]
  },
  {
   "cell_type": "code",
   "execution_count": 71,
   "metadata": {
    "collapsed": false
   },
   "outputs": [],
   "source": [
    "vec<-c('ct','at', 'cat', 'cart', 'dog', 'rat', 'carert', 'bet')"
   ]
  },
  {
   "cell_type": "code",
   "execution_count": 72,
   "metadata": {
    "collapsed": false
   },
   "outputs": [
    {
     "data": {
      "text/html": [
       "<ol class=list-inline>\n",
       "\t<li>3</li>\n",
       "\t<li>6</li>\n",
       "</ol>\n"
      ],
      "text/latex": [
       "\\begin{enumerate*}\n",
       "\\item 3\n",
       "\\item 6\n",
       "\\end{enumerate*}\n"
      ],
      "text/markdown": [
       "1. 3\n",
       "2. 6\n",
       "\n",
       "\n"
      ],
      "text/plain": [
       "[1] 3 6"
      ]
     },
     "metadata": {},
     "output_type": "display_data"
    }
   ],
   "source": [
    "grep('.at', vec, perl = TRUE)"
   ]
  },
  {
   "cell_type": "code",
   "execution_count": 73,
   "metadata": {
    "collapsed": false
   },
   "outputs": [
    {
     "data": {
      "text/html": [
       "<ol class=list-inline>\n",
       "\t<li>3</li>\n",
       "\t<li>4</li>\n",
       "\t<li>6</li>\n",
       "\t<li>7</li>\n",
       "\t<li>8</li>\n",
       "</ol>\n"
      ],
      "text/latex": [
       "\\begin{enumerate*}\n",
       "\\item 3\n",
       "\\item 4\n",
       "\\item 6\n",
       "\\item 7\n",
       "\\item 8\n",
       "\\end{enumerate*}\n"
      ],
      "text/markdown": [
       "1. 3\n",
       "2. 4\n",
       "3. 6\n",
       "4. 7\n",
       "5. 8\n",
       "\n",
       "\n"
      ],
      "text/plain": [
       "[1] 3 4 6 7 8"
      ]
     },
     "metadata": {},
     "output_type": "display_data"
    }
   ],
   "source": [
    "grep('..t', vec, perl = TRUE)"
   ]
  },
  {
   "cell_type": "markdown",
   "metadata": {
    "slideshow": {
     "slide_type": "subslide"
    }
   },
   "source": [
    "`+` represents one or more occurrences"
   ]
  },
  {
   "cell_type": "code",
   "execution_count": 74,
   "metadata": {
    "collapsed": false
   },
   "outputs": [
    {
     "data": {
      "text/html": [
       "<ol class=list-inline>\n",
       "\t<li>3</li>\n",
       "\t<li>4</li>\n",
       "\t<li>7</li>\n",
       "</ol>\n"
      ],
      "text/latex": [
       "\\begin{enumerate*}\n",
       "\\item 3\n",
       "\\item 4\n",
       "\\item 7\n",
       "\\end{enumerate*}\n"
      ],
      "text/markdown": [
       "1. 3\n",
       "2. 4\n",
       "3. 7\n",
       "\n",
       "\n"
      ],
      "text/plain": [
       "[1] 3 4 7"
      ]
     },
     "metadata": {},
     "output_type": "display_data"
    }
   ],
   "source": [
    "grep( 'c.+t', vec, perl = TRUE)"
   ]
  },
  {
   "cell_type": "markdown",
   "metadata": {
    "slideshow": {
     "slide_type": "fragment"
    }
   },
   "source": [
    "`*` represents zero or more occurrences"
   ]
  },
  {
   "cell_type": "code",
   "execution_count": 75,
   "metadata": {
    "collapsed": false
   },
   "outputs": [
    {
     "data": {
      "text/html": [
       "<ol class=list-inline>\n",
       "\t<li>1</li>\n",
       "\t<li>3</li>\n",
       "\t<li>4</li>\n",
       "\t<li>7</li>\n",
       "</ol>\n"
      ],
      "text/latex": [
       "\\begin{enumerate*}\n",
       "\\item 1\n",
       "\\item 3\n",
       "\\item 4\n",
       "\\item 7\n",
       "\\end{enumerate*}\n"
      ],
      "text/markdown": [
       "1. 1\n",
       "2. 3\n",
       "3. 4\n",
       "4. 7\n",
       "\n",
       "\n"
      ],
      "text/plain": [
       "[1] 1 3 4 7"
      ]
     },
     "metadata": {},
     "output_type": "display_data"
    }
   ],
   "source": [
    "grep('c.*t', vec, perl = TRUE)"
   ]
  },
  {
   "cell_type": "markdown",
   "metadata": {
    "slideshow": {
     "slide_type": "subslide"
    }
   },
   "source": [
    "Group terms with parentheses ’(’ and ’)’"
   ]
  },
  {
   "cell_type": "code",
   "execution_count": 76,
   "metadata": {
    "collapsed": false
   },
   "outputs": [
    {
     "data": {
      "text/html": [
       "<ol class=list-inline>\n",
       "\t<li>4</li>\n",
       "\t<li>7</li>\n",
       "</ol>\n"
      ],
      "text/latex": [
       "\\begin{enumerate*}\n",
       "\\item 4\n",
       "\\item 7\n",
       "\\end{enumerate*}\n"
      ],
      "text/markdown": [
       "1. 4\n",
       "2. 7\n",
       "\n",
       "\n"
      ],
      "text/plain": [
       "[1] 4 7"
      ]
     },
     "metadata": {},
     "output_type": "display_data"
    }
   ],
   "source": [
    "grep('c(.r)+t', vec, perl = TRUE)"
   ]
  },
  {
   "cell_type": "code",
   "execution_count": 78,
   "metadata": {
    "collapsed": false,
    "slideshow": {
     "slide_type": "fragment"
    }
   },
   "outputs": [
    {
     "data": {
      "text/html": [
       "<ol class=list-inline>\n",
       "\t<li>1</li>\n",
       "\t<li>4</li>\n",
       "\t<li>7</li>\n",
       "</ol>\n"
      ],
      "text/latex": [
       "\\begin{enumerate*}\n",
       "\\item 1\n",
       "\\item 4\n",
       "\\item 7\n",
       "\\end{enumerate*}\n"
      ],
      "text/markdown": [
       "1. 1\n",
       "2. 4\n",
       "3. 7\n",
       "\n",
       "\n"
      ],
      "text/plain": [
       "[1] 1 4 7"
      ]
     },
     "metadata": {},
     "output_type": "display_data"
    }
   ],
   "source": [
    "grep('c(.r)*t', vec, perl = TRUE)"
   ]
  },
  {
   "cell_type": "markdown",
   "metadata": {
    "slideshow": {
     "slide_type": "slide"
    }
   },
   "source": [
    "‘`.`’ ‘`,`’ ‘`+`’ ‘`*`’ are all metacharacters"
   ]
  },
  {
   "cell_type": "markdown",
   "metadata": {
    "slideshow": {
     "slide_type": "fragment"
    }
   },
   "source": [
    "Other useful ones include:\n",
    "\n",
    "+ ˆ and $ (start and end of line)"
   ]
  },
  {
   "cell_type": "code",
   "execution_count": 79,
   "metadata": {
    "collapsed": false
   },
   "outputs": [
    {
     "data": {
      "text/html": [
       "<ol class=list-inline>\n",
       "\t<li>4</li>\n",
       "\t<li>7</li>\n",
       "</ol>\n"
      ],
      "text/latex": [
       "\\begin{enumerate*}\n",
       "\\item 4\n",
       "\\item 7\n",
       "\\end{enumerate*}\n"
      ],
      "text/markdown": [
       "1. 4\n",
       "2. 7\n",
       "\n",
       "\n"
      ],
      "text/plain": [
       "[1] 4 7"
      ]
     },
     "metadata": {},
     "output_type": "display_data"
    }
   ],
   "source": [
    "grep('r.$', vec, perl = TRUE)"
   ]
  },
  {
   "cell_type": "markdown",
   "metadata": {
    "slideshow": {
     "slide_type": "fragment"
    }
   },
   "source": [
    "| ( logical OR )"
   ]
  },
  {
   "cell_type": "code",
   "execution_count": 80,
   "metadata": {
    "collapsed": false
   },
   "outputs": [
    {
     "data": {
      "text/html": [
       "<ol class=list-inline>\n",
       "\t<li>3</li>\n",
       "\t<li>4</li>\n",
       "</ol>\n"
      ],
      "text/latex": [
       "\\begin{enumerate*}\n",
       "\\item 3\n",
       "\\item 4\n",
       "\\end{enumerate*}\n"
      ],
      "text/markdown": [
       "1. 3\n",
       "2. 4\n",
       "\n",
       "\n"
      ],
      "text/plain": [
       "[1] 3 4"
      ]
     },
     "metadata": {},
     "output_type": "display_data"
    }
   ],
   "source": [
    "grep('(c.t)|(c.rt)', vec, perl = TRUE)"
   ]
  },
  {
   "cell_type": "markdown",
   "metadata": {
    "slideshow": {
     "slide_type": "slide"
    }
   },
   "source": [
    "`[` and `]` ( create special character classes)\n",
    "\n",
    "`[a-z]`: lowercase letters\n",
    "\n",
    "`[a-zA-Z]`:  any letter\n",
    "\n",
    "`[0-9]`: any number\n",
    "\n",
    "`[aeiou]`: any vowel\n",
    "\n",
    "`[0-7ivx]`: any of 0 to 7, i, v, and x"
   ]
  },
  {
   "cell_type": "markdown",
   "metadata": {
    "collapsed": false,
    "slideshow": {
     "slide_type": "fragment"
    }
   },
   "source": [
    "Inside a character class `ˆ` means \"anything except the following\n",
    "characters\". E.g.\n",
    "\n",
    "`[ˆ0-9]`: anything except a digit"
   ]
  },
  {
   "cell_type": "markdown",
   "metadata": {
    "slideshow": {
     "slide_type": "slide"
    }
   },
   "source": [
    "What if we want to match metacharacters like `.` or `+`?"
   ]
  },
  {
   "cell_type": "code",
   "execution_count": 82,
   "metadata": {
    "collapsed": true
   },
   "outputs": [
    {
     "data": {
      "text/html": [
       "<ol class=list-inline>\n",
       "\t<li>2</li>\n",
       "\t<li>7</li>\n",
       "</ol>\n"
      ],
      "text/latex": [
       "\\begin{enumerate*}\n",
       "\\item 2\n",
       "\\item 7\n",
       "\\end{enumerate*}\n"
      ],
      "text/markdown": [
       "1. 2\n",
       "2. 7\n",
       "\n",
       "\n"
      ],
      "text/plain": [
       "[1] 2 7"
      ]
     },
     "metadata": {},
     "output_type": "display_data"
    }
   ],
   "source": [
    "vec <- c('ct', 'cat', 'caat', 'caart', 'caaaat', 'caaraat', \n",
    "         'c.t')\n",
    "grep('c.t', vec, perl = TRUE) #Is this what we want?"
   ]
  },
  {
   "cell_type": "markdown",
   "metadata": {
    "slideshow": {
     "slide_type": "fragment"
    }
   },
   "source": [
    "Escape them with `\\`\n",
    "\n",
    "WARNING: a single `\\` doesn’t work. Why?"
   ]
  },
  {
   "cell_type": "code",
   "execution_count": 83,
   "metadata": {
    "collapsed": true
   },
   "outputs": [
    {
     "ename": "ERROR",
     "evalue": "Error: '\\.' is an unrecognized escape in character string starting \"'c\\.\"\n",
     "output_type": "error",
     "traceback": [
      "Error: '\\.' is an unrecognized escape in character string starting \"'c\\.\"\nTraceback:\n"
     ]
    }
   ],
   "source": [
    "cat('c\\.t')"
   ]
  },
  {
   "cell_type": "markdown",
   "metadata": {
    "slideshow": {
     "slide_type": "subslide"
    }
   },
   "source": [
    "R thinks `\\.` is a special character like `\\n`. \n",
    "\n",
    "Use two \\'s"
   ]
  },
  {
   "cell_type": "code",
   "execution_count": 84,
   "metadata": {
    "collapsed": false
   },
   "outputs": [
    {
     "name": "stdout",
     "output_type": "stream",
     "text": [
      "c\\.t"
     ]
    }
   ],
   "source": [
    "cat('c\\\\.t')"
   ]
  },
  {
   "cell_type": "code",
   "execution_count": 85,
   "metadata": {
    "collapsed": true
   },
   "outputs": [
    {
     "ename": "ERROR",
     "evalue": "Error: '\\.' is an unrecognized escape in character string starting \"'c\\.\"\n",
     "output_type": "error",
     "traceback": [
      "Error: '\\.' is an unrecognized escape in character string starting \"'c\\.\"\nTraceback:\n"
     ]
    }
   ],
   "source": [
    "grep('c\\.t', vec, perl = TRUE)"
   ]
  },
  {
   "cell_type": "code",
   "execution_count": 86,
   "metadata": {
    "collapsed": false
   },
   "outputs": [
    {
     "data": {
      "text/html": [
       "7"
      ],
      "text/latex": [
       "7"
      ],
      "text/markdown": [
       "7"
      ],
      "text/plain": [
       "[1] 7"
      ]
     },
     "metadata": {},
     "output_type": "display_data"
    }
   ],
   "source": [
    "grep('c\\\\.t', vec, perl = TRUE)"
   ]
  },
  {
   "cell_type": "markdown",
   "metadata": {
    "slideshow": {
     "slide_type": "subslide"
    }
   },
   "source": [
    "To match a `\\`, our pattern must represent `\\\\`"
   ]
  },
  {
   "cell_type": "code",
   "execution_count": 88,
   "metadata": {
    "collapsed": false,
    "slideshow": {
     "slide_type": "fragment"
    }
   },
   "outputs": [
    {
     "data": {
      "text/html": [
       "1"
      ],
      "text/latex": [
       "1"
      ],
      "text/markdown": [
       "1"
      ],
      "text/plain": [
       "[1] 1"
      ]
     },
     "metadata": {},
     "output_type": "display_data"
    }
   ],
   "source": [
    "my_var <- '\\n'\n",
    "grep('\\\\n', my_var)"
   ]
  },
  {
   "cell_type": "code",
   "execution_count": 90,
   "metadata": {
    "collapsed": false,
    "slideshow": {
     "slide_type": "fragment"
    }
   },
   "outputs": [
    {
     "data": {
      "text/html": [
       "1"
      ],
      "text/latex": [
       "1"
      ],
      "text/markdown": [
       "1"
      ],
      "text/plain": [
       "[1] 1"
      ]
     },
     "metadata": {},
     "output_type": "display_data"
    }
   ],
   "source": [
    "my_var <- ('\\\\')\n",
    "grep('\\\\\\\\', my_var)"
   ]
  },
  {
   "cell_type": "markdown",
   "metadata": {
    "slideshow": {
     "slide_type": "slide"
    }
   },
   "source": [
    "### Search and replace\n",
    "The `sub` function allows search and replacement:"
   ]
  },
  {
   "cell_type": "code",
   "execution_count": 91,
   "metadata": {
    "collapsed": false
   },
   "outputs": [
    {
     "data": {
      "text/html": [
       "<ol class=list-inline>\n",
       "\t<li>'ct'</li>\n",
       "\t<li>'cat'</li>\n",
       "\t<li>'cat'</li>\n",
       "\t<li>'cart'</li>\n",
       "\t<li>'cat'</li>\n",
       "\t<li>'caraat'</li>\n",
       "\t<li>'c.t'</li>\n",
       "</ol>\n"
      ],
      "text/latex": [
       "\\begin{enumerate*}\n",
       "\\item 'ct'\n",
       "\\item 'cat'\n",
       "\\item 'cat'\n",
       "\\item 'cart'\n",
       "\\item 'cat'\n",
       "\\item 'caraat'\n",
       "\\item 'c.t'\n",
       "\\end{enumerate*}\n"
      ],
      "text/markdown": [
       "1. 'ct'\n",
       "2. 'cat'\n",
       "3. 'cat'\n",
       "4. 'cart'\n",
       "5. 'cat'\n",
       "6. 'caraat'\n",
       "7. 'c.t'\n",
       "\n",
       "\n"
      ],
      "text/plain": [
       "[1] \"ct\"     \"cat\"    \"cat\"    \"cart\"   \"cat\"    \"caraat\" \"c.t\"   "
      ]
     },
     "metadata": {},
     "output_type": "display_data"
    }
   ],
   "source": [
    "vec <-c('ct','cat','caat','caart','caaaat','caaraat','c.t')\n",
    "sub('a+', 'a', vec, perl = TRUE)"
   ]
  },
  {
   "cell_type": "markdown",
   "metadata": {
    "slideshow": {
     "slide_type": "fragment"
    }
   },
   "source": [
    "`sub` replaces only ﬁrst match, `gsub` replaces all"
   ]
  },
  {
   "cell_type": "markdown",
   "metadata": {
    "slideshow": {
     "slide_type": "fragment"
    }
   },
   "source": [
    "Use backreferences \\1, \\2 etc to refer to ﬁrst, second group etc"
   ]
  },
  {
   "cell_type": "code",
   "execution_count": 92,
   "metadata": {
    "collapsed": false
   },
   "outputs": [
    {
     "data": {
      "text/html": [
       "<ol class=list-inline>\n",
       "\t<li>'ct'</li>\n",
       "\t<li>'cat'</li>\n",
       "\t<li>'caat'</li>\n",
       "\t<li>'caart'</li>\n",
       "\t<li>'caaaat'</li>\n",
       "\t<li>'cbaabrcaact'</li>\n",
       "\t<li>'c.t'</li>\n",
       "</ol>\n"
      ],
      "text/latex": [
       "\\begin{enumerate*}\n",
       "\\item 'ct'\n",
       "\\item 'cat'\n",
       "\\item 'caat'\n",
       "\\item 'caart'\n",
       "\\item 'caaaat'\n",
       "\\item 'cbaabrcaact'\n",
       "\\item 'c.t'\n",
       "\\end{enumerate*}\n"
      ],
      "text/markdown": [
       "1. 'ct'\n",
       "2. 'cat'\n",
       "3. 'caat'\n",
       "4. 'caart'\n",
       "5. 'caaaat'\n",
       "6. 'cbaabrcaact'\n",
       "7. 'c.t'\n",
       "\n",
       "\n"
      ],
      "text/plain": [
       "[1] \"ct\"          \"cat\"         \"caat\"        \"caart\"       \"caaaat\"     \n",
       "[6] \"cbaabrcaact\" \"c.t\"        "
      ]
     },
     "metadata": {},
     "output_type": "display_data"
    }
   ],
   "source": [
    "gsub('(a+)r(a+)', 'b\\\\1brc\\\\2c', vec, perl = TRUE)"
   ]
  },
  {
   "cell_type": "markdown",
   "metadata": {
    "slideshow": {
     "slide_type": "subslide"
    }
   },
   "source": [
    "\n",
    "Use \\U, \\L, \\E to make following backreferences upper or lower case or leave unchanged respectively"
   ]
  },
  {
   "cell_type": "code",
   "execution_count": 45,
   "metadata": {
    "collapsed": false
   },
   "outputs": [
    {
     "data": {
      "text/html": [
       "<ol class=list-inline>\n",
       "\t<li>'ct'</li>\n",
       "\t<li>'cat'</li>\n",
       "\t<li>'caat'</li>\n",
       "\t<li>'caart'</li>\n",
       "\t<li>'caaaat'</li>\n",
       "\t<li>'cAArAAt'</li>\n",
       "\t<li>'c.t'</li>\n",
       "</ol>\n"
      ],
      "text/latex": [
       "\\begin{enumerate*}\n",
       "\\item 'ct'\n",
       "\\item 'cat'\n",
       "\\item 'caat'\n",
       "\\item 'caart'\n",
       "\\item 'caaaat'\n",
       "\\item 'cAArAAt'\n",
       "\\item 'c.t'\n",
       "\\end{enumerate*}\n"
      ],
      "text/markdown": [
       "1. 'ct'\n",
       "2. 'cat'\n",
       "3. 'caat'\n",
       "4. 'caart'\n",
       "5. 'caaaat'\n",
       "6. 'cAArAAt'\n",
       "7. 'c.t'\n",
       "\n",
       "\n"
      ],
      "text/plain": [
       "[1] \"ct\"      \"cat\"     \"caat\"    \"caart\"   \"caaaat\"  \"cAArAAt\" \"c.t\"    "
      ]
     },
     "metadata": {},
     "output_type": "display_data"
    }
   ],
   "source": [
    "gsub('(a+)r(a+)', '\\\\U\\\\1r\\\\2', vec, perl = TRUE)"
   ]
  },
  {
   "cell_type": "code",
   "execution_count": 47,
   "metadata": {
    "collapsed": false
   },
   "outputs": [
    {
     "data": {
      "text/html": [
       "<ol class=list-inline>\n",
       "\t<li>'ct'</li>\n",
       "\t<li>'cat'</li>\n",
       "\t<li>'caat'</li>\n",
       "\t<li>'caart'</li>\n",
       "\t<li>'caaaat'</li>\n",
       "\t<li>'cAAraat'</li>\n",
       "\t<li>'c.t'</li>\n",
       "</ol>\n"
      ],
      "text/latex": [
       "\\begin{enumerate*}\n",
       "\\item 'ct'\n",
       "\\item 'cat'\n",
       "\\item 'caat'\n",
       "\\item 'caart'\n",
       "\\item 'caaaat'\n",
       "\\item 'cAAraat'\n",
       "\\item 'c.t'\n",
       "\\end{enumerate*}\n"
      ],
      "text/markdown": [
       "1. 'ct'\n",
       "2. 'cat'\n",
       "3. 'caat'\n",
       "4. 'caart'\n",
       "5. 'caaaat'\n",
       "6. 'cAAraat'\n",
       "7. 'c.t'\n",
       "\n",
       "\n"
      ],
      "text/plain": [
       "[1] \"ct\"      \"cat\"     \"caat\"    \"caart\"   \"caaaat\"  \"cAAraat\" \"c.t\"    "
      ]
     },
     "metadata": {},
     "output_type": "display_data"
    }
   ],
   "source": [
    "gsub('(a+)r(a+)', '\\\\U\\\\1r\\\\E\\\\2', vec, perl = TRUE)"
   ]
  }
 ],
 "metadata": {
  "anaconda-cloud": {},
  "celltoolbar": "Slideshow",
  "kernelspec": {
   "display_name": "R",
   "language": "R",
   "name": "ir"
  },
  "language_info": {
   "codemirror_mode": "r",
   "file_extension": ".r",
   "mimetype": "text/x-r-source",
   "name": "R",
   "pygments_lexer": "r",
   "version": "3.3.2"
  },
  "livereveal": {
   "max-width": 1620,
   "scroll": true,
   "start_slideshow_at": "selected",
   "theme": "sky"
  }
 },
 "nbformat": 4,
 "nbformat_minor": 2
}
