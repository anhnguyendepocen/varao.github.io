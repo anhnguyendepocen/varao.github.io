{
 "cells": [
  {
   "cell_type": "markdown",
   "metadata": {
    "slideshow": {
     "slide_type": "slide"
    }
   },
   "source": [
    "## Lecture 20: Interactive plots with ggvis\n",
    "\n",
    "### STAT598z: Intro. to computing for statistics\n",
    "\n",
    "***\n",
    "\n",
    "\n",
    "\n",
    "### Vinayak Rao\n",
    "\n",
    "#### Department of Statistics, Purdue University"
   ]
  },
  {
   "cell_type": "code",
   "execution_count": null,
   "metadata": {
    "collapsed": true,
    "slideshow": {
     "slide_type": "skip"
    }
   },
   "outputs": [],
   "source": [
    "options(repr.plot.width=5, repr.plot.height=3)"
   ]
  },
  {
   "cell_type": "markdown",
   "metadata": {
    "slideshow": {
     "slide_type": "slide"
    }
   },
   "source": [
    "`ggvis` is a simple way to get interactive plots\n",
    "\n",
    "+ provides a simpler interface to shiny\n",
    "+ is still experimental"
   ]
  },
  {
   "cell_type": "markdown",
   "metadata": {
    "slideshow": {
     "slide_type": "subslide"
    }
   },
   "source": [
    "Like `ggplot` this expects  a dataframe/tibble as an input\n",
    "\n",
    "Some differences:\n",
    "+  add layes using `%>%` instead of `+`\n",
    "+ instead of `aes(color=group)`, write `color = ~group`\n",
    "+ we still write `color=clr_val`\n",
    "+  aesthetics have different names: \n",
    "  + `color` becomes `stroke`\n",
    "  + `alpha` becomes `opacity`"
   ]
  },
  {
   "cell_type": "code",
   "execution_count": null,
   "metadata": {
    "collapsed": true,
    "slideshow": {
     "slide_type": "slide"
    }
   },
   "outputs": [],
   "source": [
    "library('tidyverse')\n",
    "library('ggvis')\n",
    "load('~/RSRCH/DATA/EconData/data/HomeValues.RData')\n",
    "HomeValues$qtr <- as.double(HomeValues$qtr)"
   ]
  },
  {
   "cell_type": "code",
   "execution_count": null,
   "metadata": {
    "collapsed": true,
    "slideshow": {
     "slide_type": "fragment"
    }
   },
   "outputs": [],
   "source": [
    "plt<- ggvis(HomeValues,x=~qtr,y=~Home.Value,stroke=~State) %>% \n",
    "        layer_lines() "
   ]
  },
  {
   "cell_type": "code",
   "execution_count": null,
   "metadata": {
    "collapsed": true,
    "slideshow": {
     "slide_type": "fragment"
    }
   },
   "outputs": [],
   "source": [
    "plt <- plt %>% hide_legend('stroke')"
   ]
  },
  {
   "cell_type": "code",
   "execution_count": null,
   "metadata": {
    "collapsed": false,
    "slideshow": {
     "slide_type": "fragment"
    }
   },
   "outputs": [],
   "source": [
    "plt %>%  layer_points()"
   ]
  },
  {
   "cell_type": "code",
   "execution_count": null,
   "metadata": {
    "collapsed": false,
    "slideshow": {
     "slide_type": "fragment"
    }
   },
   "outputs": [],
   "source": [
    "plt %>%  layer_points(size=1, fillOpacity=.1) # Bug!"
   ]
  },
  {
   "cell_type": "markdown",
   "metadata": {
    "slideshow": {
     "slide_type": "subslide"
    }
   },
   "source": [
    "`ggvis` uses both `=` and `:=` for assignments\n",
    "\n",
    "Use `=` to map a variable to a property\n",
    "  + Then use `~` to refer to a column of a dataframe\n",
    "\n",
    "Use `:=` when we set a property based on a *value*"
   ]
  },
  {
   "cell_type": "code",
   "execution_count": null,
   "metadata": {
    "collapsed": true,
    "slideshow": {
     "slide_type": "fragment"
    }
   },
   "outputs": [],
   "source": [
    "plt %>%  layer_points(size:=1, fillOpacity:=.1) "
   ]
  },
  {
   "cell_type": "markdown",
   "metadata": {
    "slideshow": {
     "slide_type": "fragment"
    }
   },
   "source": [
    "In the end, set properties using `=~ column` or `:= value`"
   ]
  },
  {
   "cell_type": "markdown",
   "metadata": {
    "slideshow": {
     "slide_type": "slide"
    }
   },
   "source": [
    "So why use `ggvis` instead of `ggplot`?\n",
    "+ Interactive plots!"
   ]
  },
  {
   "cell_type": "code",
   "execution_count": null,
   "metadata": {
    "collapsed": true,
    "slideshow": {
     "slide_type": "fragment"
    }
   },
   "outputs": [],
   "source": [
    "plt %>% layer_points(size:=input_slider(.1,50,1), \n",
    "                     fill =~ State, fillOpacity:=.5) %>% \n",
    "         hide_legend('fill')"
   ]
  },
  {
   "cell_type": "code",
   "execution_count": null,
   "metadata": {
    "collapsed": true,
    "slideshow": {
     "slide_type": "subslide"
    }
   },
   "outputs": [],
   "source": [
    "plt  %>%  add_tooltip(function(x) \n",
    "           {paste(x$State,\":\",x$Home.Value)},'hover')"
   ]
  },
  {
   "cell_type": "markdown",
   "metadata": {},
   "source": [
    "`add_tooltip` needs a function to read value and return a string\n",
    "+ we used an *anonymous function* to print `State`,`Value`"
   ]
  },
  {
   "cell_type": "markdown",
   "metadata": {
    "slideshow": {
     "slide_type": "fragment"
    }
   },
   "source": [
    "For lines, `add_tooltip` only prints first value (http://stackoverflow.com/questions/28540504/mouse-hover-in-layer-lines-ggvis-r)\n",
    "+ add `layer_points()` for all values"
   ]
  },
  {
   "cell_type": "code",
   "execution_count": null,
   "metadata": {
    "collapsed": false,
    "slideshow": {
     "slide_type": "fragment"
    }
   },
   "outputs": [],
   "source": [
    "plt  %>% layer_points(size:=input_slider(0,5))%>% \n",
    "        hide_legend('stroke')"
   ]
  },
  {
   "cell_type": "code",
   "execution_count": null,
   "metadata": {
    "collapsed": true
   },
   "outputs": [],
   "source": [
    "plt  %>%  add_tooltip(function(x) \n",
    "                {paste(x$State,\":\",x$Home.Value)},'hover')"
   ]
  },
  {
   "cell_type": "code",
   "execution_count": null,
   "metadata": {
    "collapsed": true,
    "slideshow": {
     "slide_type": "subslide"
    }
   },
   "outputs": [],
   "source": [
    "plt <-ggvis(HomeValues x=~qtr,y=~Home.Value,stroke=~State) %>% \n",
    "        layer_smooths(span:=input_slider(0,5)) %>% \n",
    "        hide_legend('stroke')"
   ]
  },
  {
   "cell_type": "markdown",
   "metadata": {
    "collapsed": false,
    "slideshow": {
     "slide_type": "fragment"
    }
   },
   "source": [
    "Error because `ggvis` doesn't do grouping for you (unlike `ggplot`)"
   ]
  },
  {
   "cell_type": "code",
   "execution_count": null,
   "metadata": {
    "collapsed": false,
    "slideshow": {
     "slide_type": "fragment"
    }
   },
   "outputs": [],
   "source": [
    "plt <- HomeValues %>% group_by(State) %>% \n",
    "       ggvis(x=~qtr,y=~Home.Value, stroke=~State) %>% \n",
    "        layer_smooths(span=input_slider(0,2,step=.1)) %>% \n",
    "        hide_legend('stroke')"
   ]
  },
  {
   "cell_type": "markdown",
   "metadata": {
    "collapsed": true,
    "slideshow": {
     "slide_type": "slide"
    }
   },
   "source": [
    "  "
   ]
  },
  {
   "cell_type": "code",
   "execution_count": null,
   "metadata": {
    "collapsed": false,
    "slideshow": {
     "slide_type": "-"
    }
   },
   "outputs": [],
   "source": [
    "ggvis(HomeValues) %>% layer_histograms(x=~Home.Value)"
   ]
  },
  {
   "cell_type": "code",
   "execution_count": null,
   "metadata": {
    "collapsed": false,
    "slideshow": {
     "slide_type": "fragment"
    }
   },
   "outputs": [],
   "source": [
    "ggvis(HomeValues) %>% \n",
    "  layer_histograms(x=~Home.Value, \n",
    "                   width=input_slider(min=1000,max=100000))"
   ]
  },
  {
   "cell_type": "code",
   "execution_count": null,
   "metadata": {
    "collapsed": false,
    "slideshow": {
     "slide_type": "fragment"
    }
   },
   "outputs": [],
   "source": [
    "ggvis(HomeValues) %>% \n",
    "  layer_histograms(x=~Home.Value, fill.hover:='red',\n",
    "                   width=input_slider(min=10^3,max=10^5))"
   ]
  },
  {
   "cell_type": "code",
   "execution_count": null,
   "metadata": {
    "collapsed": true,
    "slideshow": {
     "slide_type": "subslide"
    }
   },
   "outputs": [],
   "source": [
    "plt<- ggvis(HomeValues,x=~qtr,y=~Home.Value,stroke=~State) %>% \n",
    "        layer_lines(stroke.hover:='black') %>% hide_legend('stroke')\n",
    "plt %>%  add_tooltip(function(x) \n",
    "             {paste(x$State,\":\",x$Home.Value)},'hover')"
   ]
  },
  {
   "cell_type": "code",
   "execution_count": null,
   "metadata": {
    "collapsed": true,
    "slideshow": {
     "slide_type": "slide"
    }
   },
   "outputs": [],
   "source": [
    "plt <- HomeValues %>% group_by(State) %>%  \n",
    "        ggvis(x=~qtr,y=~Home.Value, stroke=~State) %>% \n",
    "       filter(State %in% eval(input_select(choices = \n",
    "                        unique(as.character(HomeValues$State)), \n",
    "                 multiple=TRUE, label='States list'))) %>% \n",
    "                   layer_lines(strokeWidth:=2)"
   ]
  },
  {
   "cell_type": "markdown",
   "metadata": {
    "collapsed": true
   },
   "source": [
    "Note the `eval`, this is because of we are calling `input_select` inside `filter` "
   ]
  },
  {
   "cell_type": "code",
   "execution_count": null,
   "metadata": {
    "collapsed": true,
    "slideshow": {
     "slide_type": "slide"
    }
   },
   "outputs": [],
   "source": [
    "#https://r2014-mtp.sciencesconf.org/file/92631\n",
    "dat <- data.frame(time=1:10, value=runif(10))\n",
    "\n",
    "# Create a reactive that returns a data frame, adding a new\n",
    "# row every 2 seconds\n",
    "ddat <- reactive({\n",
    "  invalidateLater(2000, NULL)\n",
    "  dat$time <<- c(dat$time[-2], dat$time[length(dat$time)] + 1)\n",
    "  dat$value <<- c(dat$value[-1], runif(1))\n",
    "  dat\n",
    "})\n",
    "\n",
    "ddat %>% ggvis(x = ~time, y = ~value, key := ~time) %>%\n",
    "  layer_points() %>% layer_paths()"
   ]
  },
  {
   "cell_type": "code",
   "execution_count": null,
   "metadata": {
    "collapsed": true,
    "slideshow": {
     "slide_type": "slide"
    }
   },
   "outputs": [],
   "source": [
    "library('ggplot2');library('maps')\n",
    "\n",
    "my_state_map <- map_data('state');\n",
    "my_state_map$region <- tolower(my_state_map$region)\n",
    "get_ab <- function(x)  state.abb[x ==tolower(state.name)]\n",
    "\n",
    "get_house_pr <- function(st,yr) {\n",
    "         HomeValues[HomeValues$State==st & \n",
    "                    HomeValues$qtr==yr,2] }\n",
    "\n",
    "state.name[51] <- \"district of columbia\"\n",
    "state.abb[51] <- \"DC\"\n",
    "\n",
    "my_state_map$region <- purrr::map_chr(my_state_map$region, \n",
    "                                      get_ab)\n",
    "get_yr_pr <- function(yr) {\n",
    "  pr <- my_state_map$pr \n",
    "  for(st in state.abb) {\n",
    "    psn  <- my_state_map$region == st\n",
    "    pr[psn]  <- get_house_pr(st,floor(yr))\n",
    "  }\n",
    "  pr; }"
   ]
  },
  {
   "cell_type": "code",
   "execution_count": null,
   "metadata": {
    "collapsed": false,
    "slideshow": {
     "slide_type": "subslide"
    }
   },
   "outputs": [],
   "source": [
    "yr <- 1976\n",
    "stmp <- reactive({invalidateLater(2000,NULL)\n",
    "     my_state_map$pr <- get_yr_pr(yr)\n",
    "     yr <<- yr + 4; if(yr>=2013) yr <<- 1976\n",
    "     print(yr)\n",
    "     my_state_map })\n",
    "\n",
    "stmp %>%  ggvis(~long, ~lat,fill=~pr)  %>% \n",
    "     group_by(region) %>%\n",
    "     layer_paths(strokeOpacity := 0.5, \n",
    "                strokeWidth := 0.5) %>%\n",
    "     hide_axis(\"x\") %>% hide_axis(\"y\") %>%\n",
    "     set_options(width=960, height=600, keep_aspect=TRUE) %>% \n",
    "                  hide_legend('fill') %>%  \n",
    "                  add_tooltip(function(x) {\n",
    "                      paste(x$region)},'hover')"
   ]
  }
 ],
 "metadata": {
  "anaconda-cloud": {},
  "celltoolbar": "Slideshow",
  "kernelspec": {
   "display_name": "R",
   "language": "R",
   "name": "ir"
  },
  "language_info": {
   "codemirror_mode": "r",
   "file_extension": ".r",
   "mimetype": "text/x-r-source",
   "name": "R",
   "pygments_lexer": "r",
   "version": "3.3.2"
  },
  "livereveal": {
   "max-width": 1620,
   "scroll": true,
   "start_slideshow_at": "selected",
   "theme": "sky"
  }
 },
 "nbformat": 4,
 "nbformat_minor": 2
}
