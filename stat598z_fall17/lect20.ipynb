{
 "cells": [
  {
   "cell_type": "markdown",
   "metadata": {
    "slideshow": {
     "slide_type": "slide"
    }
   },
   "source": [
    "## Lecture 20: Interactive plots with ggvis\n",
    "\n",
    "### STAT598z: Intro. to computing for statistics\n",
    "\n",
    "\n",
    "***\n",
    "\n",
    "\n",
    "\n",
    "\n",
    "### Vinayak Rao\n",
    "\n",
    "#### Department of Statistics, Purdue University"
   ]
  },
  {
   "cell_type": "code",
   "execution_count": null,
   "metadata": {
    "collapsed": true,
    "slideshow": {
     "slide_type": "skip"
    }
   },
   "outputs": [],
   "source": [
    "options(repr.plot.width=5, repr.plot.height=3)"
   ]
  },
  {
   "cell_type": "markdown",
   "metadata": {
    "slideshow": {
     "slide_type": "slide"
    }
   },
   "source": [
    "`ggvis` is a simple way to get interactive plots\n",
    "\n",
    "+ provides a simpler interfact to shiny\n",
    "+ is still experimental\n",
    "\n",
    "Some aesthetics also have different names:\n",
    "+ `color` becomes `stroke`"
   ]
  },
  {
   "cell_type": "markdown",
   "metadata": {
    "slideshow": {
     "slide_type": "subslide"
    }
   },
   "source": [
    "Like `ggplot` this expects  a dataframe/tibble as an input\n",
    "\n",
    "Some differences:\n",
    "+  add layes using `%>%` instead of `+`\n",
    "+ instead of `aes(color=group)`, write `color = ~group`\n",
    "+ we still write `color=clr_val`\n",
    "+  aesthetics have different names, e.g. `color` becomes `stroke`"
   ]
  },
  {
   "cell_type": "code",
   "execution_count": 59,
   "metadata": {
    "collapsed": false,
    "slideshow": {
     "slide_type": "slide"
    }
   },
   "outputs": [],
   "source": [
    "library('tidyverse')\n",
    "library('ggvis')\n",
    "load('~/RSRCH/DATA/EconData/data/HomeValues.RData')"
   ]
  },
  {
   "cell_type": "code",
   "execution_count": 62,
   "metadata": {
    "collapsed": false,
    "slideshow": {
     "slide_type": "fragment"
    }
   },
   "outputs": [],
   "source": [
    "plt <-ggvis(HomeValues,x=~qtr,y=~Home.Value,stroke=~State) %>% \n",
    "        layer_lines() "
   ]
  },
  {
   "cell_type": "code",
   "execution_count": 63,
   "metadata": {
    "collapsed": true,
    "slideshow": {
     "slide_type": "fragment"
    }
   },
   "outputs": [],
   "source": [
    "plt <- plt %>% hide_legend('stroke')"
   ]
  },
  {
   "cell_type": "code",
   "execution_count": 34,
   "metadata": {
    "collapsed": false,
    "slideshow": {
     "slide_type": "fragment"
    }
   },
   "outputs": [
    {
     "data": {},
     "metadata": {},
     "output_type": "display_data"
    }
   ],
   "source": [
    "plt %>%  layer_points()"
   ]
  },
  {
   "cell_type": "code",
   "execution_count": 43,
   "metadata": {
    "collapsed": false,
    "slideshow": {
     "slide_type": "fragment"
    }
   },
   "outputs": [
    {
     "data": {},
     "metadata": {},
     "output_type": "display_data"
    }
   ],
   "source": [
    "plt %>%  layer_points(size=1, fillOpacity=.1) # Bug!"
   ]
  },
  {
   "cell_type": "markdown",
   "metadata": {
    "slideshow": {
     "slide_type": "subslide"
    }
   },
   "source": [
    "`ggvis` uses both `=` and `:=` for assignments\n",
    "\n",
    "Use `:=` when we expect a variable rather than a constant\n",
    "+ Use ':=' for quantities like size, color  etc\n",
    "+ Use '=' for  for quantities like `binwidth`, `opacity` etc"
   ]
  },
  {
   "cell_type": "code",
   "execution_count": 44,
   "metadata": {
    "collapsed": false,
    "slideshow": {
     "slide_type": "fragment"
    }
   },
   "outputs": [
    {
     "data": {},
     "metadata": {},
     "output_type": "display_data"
    }
   ],
   "source": [
    "plt %>%  layer_points(size:=1, fillOpacity=.1) "
   ]
  },
  {
   "cell_type": "markdown",
   "metadata": {
    "slideshow": {
     "slide_type": "slide"
    }
   },
   "source": [
    "So why use `ggvis` instead of `ggplot`?\n",
    "+ Interactive plots!"
   ]
  },
  {
   "cell_type": "code",
   "execution_count": 64,
   "metadata": {
    "collapsed": false,
    "slideshow": {
     "slide_type": "fragment"
    }
   },
   "outputs": [
    {
     "data": {},
     "metadata": {},
     "output_type": "display_data"
    }
   ],
   "source": [
    "plt  %>%  add_tooltip(function(x) {paste(x$State,\":\",x$Home.Value)},'hover')"
   ]
  },
  {
   "cell_type": "markdown",
   "metadata": {},
   "source": [
    "Note: an *anonymous function* to print\n",
    "State and Value"
   ]
  },
  {
   "cell_type": "code",
   "execution_count": 65,
   "metadata": {
    "collapsed": false,
    "slideshow": {
     "slide_type": "subslide"
    }
   },
   "outputs": [],
   "source": [
    "plt <-ggvis(HomeValues,x=~qtr,y=~Home.Value,stroke=~State) %>% \n",
    "     layer_lines() %>% layer_points(size:=input_slider(0,5))%>% \n",
    "        hide_legend('stroke')"
   ]
  },
  {
   "cell_type": "code",
   "execution_count": null,
   "metadata": {
    "collapsed": true
   },
   "outputs": [],
   "source": [
    "plt  %>%  add_tooltip(function(x) \n",
    "                {paste(x$State,\":\",x$Home.Value)},'hover')"
   ]
  },
  {
   "cell_type": "code",
   "execution_count": 66,
   "metadata": {
    "collapsed": true,
    "slideshow": {
     "slide_type": "subslide"
    }
   },
   "outputs": [
    {
     "ename": "ERROR",
     "evalue": "Error in eval(expr, envir, enclos): object 'State' not found\n",
     "output_type": "error",
     "traceback": [
      "Error in eval(expr, envir, enclos): object 'State' not found\nTraceback:\n",
      "1. ggvis(HomeValues, x = ~qtr, y = ~Home.Value, stroke = ~State) %>% \n .     layer_smooths(`:=`(span, input_slider(0, 5))) %>% hide_legend(\"stroke\")",
      "2. withVisible(eval(quote(`_fseq`(`_lhs`)), env, env))",
      "3. eval(quote(`_fseq`(`_lhs`)), env, env)",
      "4. eval(expr, envir, enclos)",
      "5. `_fseq`(`_lhs`)",
      "6. freduce(value, `_function_list`)",
      "7. function_list[[i]](value)",
      "8. layer_smooths(., `:=`(span, input_slider(0, 5)))",
      "9. layer_model_predictions(vis, ..., model = \"loess\", formula = formula, \n .     model_args = list(span = span), se = se)",
      "10. layer_f(vis, pipeline)",
      "11. fun(vis)",
      "12. emit_paths(x, props$stroke)",
      "13. add_mark(vis, \"line\", props)",
      "14. register_scales_from_props(vis, cur_props(vis))",
      "15. add_scale_from_prop(vis, props[[i]])",
      "16. vector_type(shiny::isolate(prop_value(prop, data())))",
      "17. shiny::isolate(prop_value(prop, data()))",
      "18. ..stacktraceoff..(ctx$run(function() {\n  .     ..stacktraceon..(expr)\n  . }))",
      "19. ctx$run(function() {\n  .     ..stacktraceon..(expr)\n  . })",
      "20. withReactiveDomain(.domain, {\n  .     env <- .getReactiveEnvironment()\n  .     .graphEnterContext(id)\n  .     on.exit(.graphExitContext(id), add = TRUE)\n  .     env$runWith(self, func)\n  . })",
      "21. env$runWith(self, func)",
      "22. contextFunc()",
      "23. ..stacktraceon..(expr)",
      "24. prop_value(prop, data())",
      "25. prop_value.prop_variable(prop, data())",
      "26. eval(value(x$value), envir = data, enclos = x$env)",
      "27. eval(expr, envir, enclos)"
     ]
    }
   ],
   "source": [
    "plt <-ggvis(HomeValues x=~qtr,y=~Home.Value,stroke=~State) %>% \n",
    "        layer_smooths(span:=input_slider(0,5)) %>% \n",
    "        hide_legend('stroke')"
   ]
  },
  {
   "cell_type": "markdown",
   "metadata": {
    "collapsed": false,
    "slideshow": {
     "slide_type": "fragment"
    }
   },
   "source": [
    "Error because `ggvis` doesn't do grouping for you (unlike `ggplot`)"
   ]
  },
  {
   "cell_type": "code",
   "execution_count": 69,
   "metadata": {
    "collapsed": false,
    "slideshow": {
     "slide_type": "fragment"
    }
   },
   "outputs": [],
   "source": [
    "plt <- HomeValues %>% group_by(State) %>% ggvis(x=~qtr,y=~Home.Value, stroke=~State) %>% \n",
    "        layer_smooths(span=input_slider(0,5)) %>% \n",
    "        hide_legend('stroke')"
   ]
  },
  {
   "cell_type": "markdown",
   "metadata": {
    "collapsed": true,
    "slideshow": {
     "slide_type": "slide"
    }
   },
   "source": [
    "  "
   ]
  },
  {
   "cell_type": "code",
   "execution_count": 70,
   "metadata": {
    "collapsed": false,
    "slideshow": {
     "slide_type": "-"
    }
   },
   "outputs": [
    {
     "name": "stderr",
     "output_type": "stream",
     "text": [
      "Guessing width = 50000 # range / 18\n"
     ]
    },
    {
     "data": {},
     "metadata": {},
     "output_type": "display_data"
    }
   ],
   "source": [
    "ggvis(HomeValues) %>% layer_histograms(x=~Home.Value)"
   ]
  },
  {
   "cell_type": "code",
   "execution_count": 5,
   "metadata": {
    "collapsed": false,
    "slideshow": {
     "slide_type": "fragment"
    }
   },
   "outputs": [
    {
     "name": "stdout",
     "output_type": "stream",
     "text": [
      "1 2 3 4 5"
     ]
    }
   ],
   "source": [
    "ggvis(HomeValues) %>% \n",
    "  layer_histograms(x=~Home.Value, \n",
    "                   width=input_slider(min=1000,max=100000))"
   ]
  },
  {
   "cell_type": "code",
   "execution_count": 1,
   "metadata": {
    "collapsed": true,
    "slideshow": {
     "slide_type": "slide"
    }
   },
   "outputs": [
    {
     "ename": "ERROR",
     "evalue": "Error in eval(expr, envir, enclos): could not find function \"%>%\"\n",
     "output_type": "error",
     "traceback": [
      "Error in eval(expr, envir, enclos): could not find function \"%>%\"\nTraceback:\n"
     ]
    }
   ],
   "source": [
    "plt <- HomeValues %>% group_by(State) %>%  \n",
    "        ggvis(x=~qtr,y=~Home.Value, stroke=~State) %>% \n",
    "       filter(State %in% eval(input_select(choices = \n",
    "                        unique(as.character(HomeValues$State)), \n",
    "                 multiple=TRUE, label='States list'))) %>% \n",
    "                   layer_lines(strokeWidth:=2)"
   ]
  },
  {
   "cell_type": "markdown",
   "metadata": {
    "collapsed": true
   },
   "source": [
    "Note the `eval`, this is because of we are calling `input_select` inside `filter` "
   ]
  },
  {
   "cell_type": "code",
   "execution_count": 58,
   "metadata": {
    "collapsed": true,
    "slideshow": {
     "slide_type": "slide"
    }
   },
   "outputs": [
    {
     "ename": "ERROR",
     "evalue": "Error in vector_type.default(shiny::isolate(prop_value(prop, data()))): Unknown variable type: yearqtr\n",
     "output_type": "error",
     "traceback": [
      "Error in vector_type.default(shiny::isolate(prop_value(prop, data()))): Unknown variable type: yearqtr\nTraceback:\n",
      "1. ggvis(HomeValues %>% group_by(State), x = ~qtr, y = ~Home.Value) %>% \n .     filter(State %in% eval(input_select(choices = unique(as.character(HomeValues$State)), \n .         multiple = TRUE, label = \"States list\"))) %>% layer_lines(stroke = ~State, \n .     `:=`(strokeWidth, 2))",
      "2. withVisible(eval(quote(`_fseq`(`_lhs`)), env, env))",
      "3. eval(quote(`_fseq`(`_lhs`)), env, env)",
      "4. eval(expr, envir, enclos)",
      "5. `_fseq`(`_lhs`)",
      "6. freduce(value, `_function_list`)",
      "7. withVisible(function_list[[k]](value))",
      "8. function_list[[k]](value)",
      "9. layer_lines(., stroke = ~State, `:=`(strokeWidth, 2))",
      "10. layer_f(vis, function(x) {\n  .     x <- auto_group(x, exclude = c(\"x\", \"y\"))\n  .     x <- dplyr::arrange_(x, x_var)\n  .     emit_paths(x, props(...))\n  . })",
      "11. fun(vis)",
      "12. emit_paths(x, props(...))",
      "13. add_mark(vis, \"line\", props)",
      "14. register_scales_from_props(vis, cur_props(vis))",
      "15. add_scale_from_prop(vis, props[[i]])",
      "16. vector_type(shiny::isolate(prop_value(prop, data())))",
      "17. vector_type.default(shiny::isolate(prop_value(prop, data())))",
      "18. stop(\"Unknown variable type: \", paste0(class(x), collapse = \"/\"))"
     ]
    }
   ],
   "source": [
    "state_map <- map_data('state');\n",
    "my_state_map <- state_map\n",
    "my_state_map$region <- tolower(state_map$region)\n",
    "get_ab <- function(x)  state.abb[x ==tolower(state.name)]\n",
    "    \n",
    "state.name[51] <- \"district of columbia\"\n",
    "state.abb[51] <- \"DC\"\n",
    "    \n",
    " my_state_map %>% \n",
    "  ggvis(~long, ~lat,fill=~input_slider(1,100,map= function(x) {x/1000}))  %>% \n",
    "  group_by(region) %>%\n",
    "   layer_paths(strokeOpacity := 0.5, \n",
    "                                      strokeWidth := 0.5) %>%\n",
    "  hide_axis(\"x\") %>% hide_axis(\"y\") %>%\n",
    "  set_options(width=960, height=600, keep_aspect=TRUE)\n"
   ]
  }
 ],
 "metadata": {
  "anaconda-cloud": {},
  "celltoolbar": "Slideshow",
  "kernelspec": {
   "display_name": "R",
   "language": "R",
   "name": "ir"
  },
  "language_info": {
   "codemirror_mode": "r",
   "file_extension": ".r",
   "mimetype": "text/x-r-source",
   "name": "R",
   "pygments_lexer": "r",
   "version": "3.3.2"
  },
  "livereveal": {
   "max-width": 1620,
   "scroll": true,
   "start_slideshow_at": "selected",
   "theme": "sky"
  }
 },
 "nbformat": 4,
 "nbformat_minor": 2
}
